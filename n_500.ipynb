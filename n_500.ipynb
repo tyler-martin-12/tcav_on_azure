{
 "cells": [
  {
   "cell_type": "code",
   "execution_count": 1,
   "metadata": {},
   "outputs": [
    {
     "name": "stderr",
     "output_type": "stream",
     "text": [
      "Using TensorFlow backend.\n"
     ]
    }
   ],
   "source": [
    "import os\n",
    "os.environ['KERAS_BACKEND'] = 'tensorflow'\n",
    "from tensorflow import keras\n",
    "from keras.applications.inception_v3 import InceptionV3\n",
    "from keras.applications.inception_v3 import decode_predictions\n",
    "from keras.models import Model, load_model\n",
    "import keras.backend as K\n",
    "\n",
    "import model as tcav_model\n",
    "import tcav as tcav\n",
    "import utils as utils\n",
    "import activation_generator as act_gen\n",
    "import tensorflow as tf\n",
    "import utils_plot as utils_plot\n",
    "import cav as cav\n",
    "\n",
    "from sklearn.metrics.pairwise import cosine_similarity\n",
    "import numpy as np\n",
    "from numpy.linalg import norm\n",
    "\n",
    "import pickle\n",
    "\n",
    "from os import listdir\n",
    "from os.path import isfile, join\n",
    "import operator\n",
    "from PIL import Image\n",
    "from keras.preprocessing import image\n",
    "\n",
    "import os\n",
    "import math\n",
    "\n",
    "import PIL.Image\n",
    "from sklearn.metrics import pairwise\n",
    "import matplotlib.pyplot as plt\n",
    "from keras.applications.inception_v3 import preprocess_input\n",
    "\n",
    "from sklearn import linear_model\n",
    "from sklearn import metrics\n",
    "from sklearn.model_selection import train_test_split\n",
    "from scipy.stats import multivariate_normal\n",
    "from sklearn.mixture import GaussianMixture\n",
    "\n",
    "import warnings\n",
    "warnings.filterwarnings(\"ignore\", category=DeprecationWarning)\n",
    "warnings.filterwarnings(\"ignore\", category=FutureWarning)\n",
    "\n",
    "import pandas as pd\n",
    "from scipy import stats\n",
    "\n",
    "import tensorflow\n"
   ]
  },
  {
   "cell_type": "code",
   "execution_count": 2,
   "metadata": {},
   "outputs": [
    {
     "name": "stderr",
     "output_type": "stream",
     "text": [
      "/Users/tyler/anaconda3/lib/python3.6/site-packages/keras/engine/saving.py:292: UserWarning: No training configuration found in save file: the model was *not* compiled. Compile it manually.\n",
      "  warnings.warn('No training configuration found in save file: '\n"
     ]
    }
   ],
   "source": [
    "K.set_learning_phase(0)\n",
    "model = load_model('v3_model.h5')"
   ]
  },
  {
   "cell_type": "code",
   "execution_count": 3,
   "metadata": {},
   "outputs": [],
   "source": [
    "sess = K.get_session()\n",
    "\n",
    "endpoints_v3 = dict(\n",
    "    input=model.inputs[0].name,\n",
    "    input_tensor=model.inputs[0],\n",
    "    logit=model.outputs[0].name,\n",
    "    prediction=model.outputs[0].name,\n",
    "    prediction_tensor=model.outputs[0],)\n",
    "\n",
    "tf.logging.set_verbosity(0)\n",
    "\n",
    "working_dir = '/Users/tyler/Desktop/dissertation/programming/tcav_on_azure'\n",
    "\n",
    "label_path = os.path.join(working_dir,'labels.txt')\n",
    "\n",
    "mymodel = tcav_model.KerasModelWrapper(sess, \n",
    "        label_path, [299, 299, 3], endpoints_v3, \n",
    "        'InceptionV3_public', (-1, 1))"
   ]
  },
  {
   "cell_type": "code",
   "execution_count": 4,
   "metadata": {},
   "outputs": [],
   "source": [
    "from sklearn.decomposition import SparsePCA\n",
    "from sklearn.decomposition import PCA"
   ]
  },
  {
   "cell_type": "markdown",
   "metadata": {},
   "source": [
    "## Classify Class Acts for TCAV score"
   ]
  },
  {
   "cell_type": "code",
   "execution_count": 298,
   "metadata": {},
   "outputs": [],
   "source": [
    "layer = 'mixed9'\n",
    "\n",
    "my_class = 'lots_of_zebras'\n",
    "concept_p,concept_n = 'striped_sub_1','N_0'\n",
    "acts_p,_ = get_acts_for_concept(concept_p,layer)\n",
    "acts_n,_ = get_acts_for_concept(concept_n,layer)\n",
    "acts_n = a\n",
    "#acts_class_flat,acts_class = get_acts_for_concept(my_class,layer)\n",
    "\n",
    "x = np.concatenate((acts_p,acts_n))\n",
    "y = np.concatenate((np.zeros(50),np.ones(500)))\n",
    "idx_array = np.arange(550)\n",
    "\n",
    "x_train, x_test, y_train, y_test, idx_train, idx_test = train_test_split(x, y, idx_array, test_size=0.33, stratify=y,random_state=2)\n",
    "\n"
   ]
  },
  {
   "cell_type": "code",
   "execution_count": 299,
   "metadata": {},
   "outputs": [],
   "source": [
    "cav_2_seeds = np.empty((100,cav_1.shape[0]))\n",
    "for seed in range(100):\n",
    "    cav_2_seeds[seed] = make_orig_cav_seed(x_train,y_train,seed)\n",
    "cav_2 = cav_2_seeds.mean(axis=0)"
   ]
  },
  {
   "cell_type": "code",
   "execution_count": 300,
   "metadata": {},
   "outputs": [],
   "source": [
    "seed = 1\n",
    "## class 1 = random with 500 elements\n",
    "## class 0 = p_c with 50 elements\n",
    "lm = linear_model.SGDClassifier(alpha=.1,random_state=seed,class_weight={1:10})\n",
    "lm.fit(x_train, y_train)\n",
    "this_cav = -lm.coef_[0]"
   ]
  },
  {
   "cell_type": "code",
   "execution_count": null,
   "metadata": {},
   "outputs": [],
   "source": []
  },
  {
   "cell_type": "code",
   "execution_count": 301,
   "metadata": {},
   "outputs": [],
   "source": [
    "L1_cav,mu_p,mu_n = make_L1_cav_and_means(x_train,y_train)"
   ]
  },
  {
   "cell_type": "code",
   "execution_count": 302,
   "metadata": {},
   "outputs": [],
   "source": [
    "this_cav = L1_cav"
   ]
  },
  {
   "cell_type": "code",
   "execution_count": 303,
   "metadata": {},
   "outputs": [
    {
     "name": "stdout",
     "output_type": "stream",
     "text": [
      "1.0\n"
     ]
    }
   ],
   "source": [
    "y_pred = lm.predict(x_test)\n",
    "acc = metrics.accuracy_score(y_test,y_pred)\n",
    "print(acc)"
   ]
  },
  {
   "cell_type": "code",
   "execution_count": 304,
   "metadata": {},
   "outputs": [
    {
     "data": {
      "text/plain": [
       "array([[-4.0184022 ],\n",
       "       [-0.68417462]])"
      ]
     },
     "execution_count": 304,
     "metadata": {},
     "output_type": "execute_result"
    }
   ],
   "source": [
    "pca_c = pickle.load(open('pca_9_striped_1.pkl','rb'))\n",
    "\n",
    "np.dot(pca_c,np.expand_dims(mu_p,axis=1))"
   ]
  },
  {
   "cell_type": "code",
   "execution_count": 319,
   "metadata": {},
   "outputs": [],
   "source": [
    "x_train_p_list,x_train_n_list =[],[]\n",
    "for idx,a in enumerate(x_train):\n",
    "    if y_train[idx] == 1:\n",
    "        x_train_p_list.append(a)\n",
    "    else:\n",
    "        x_train_n_list.append(a)\n",
    "\n",
    "x_train_p, x_train_n = np.array(x_train_p_list),np.array(x_train_n_list)\n",
    "\n",
    "mu_p = (x_train_p).mean(axis=0)\n",
    "mu_n = (x_train_n).mean(axis=0)\n",
    "#mu_p = np.median(x_train_p,axis=0)\n",
    "#mu_n = np.median(x_train_n,axis=0)"
   ]
  },
  {
   "cell_type": "code",
   "execution_count": 320,
   "metadata": {},
   "outputs": [],
   "source": [
    "this_cav = -mu_p + mu_n"
   ]
  },
  {
   "cell_type": "code",
   "execution_count": 321,
   "metadata": {},
   "outputs": [
    {
     "data": {
      "text/plain": [
       "5.376579172294603"
      ]
     },
     "execution_count": 321,
     "metadata": {},
     "output_type": "execute_result"
    }
   ],
   "source": [
    "mu_p.max()"
   ]
  },
  {
   "cell_type": "code",
   "execution_count": 313,
   "metadata": {},
   "outputs": [
    {
     "data": {
      "text/plain": [
       "array([0.01596917, 0.02344795, 0.03958502, ..., 0.01245946, 0.02543129,\n",
       "       0.02277299])"
      ]
     },
     "execution_count": 313,
     "metadata": {},
     "output_type": "execute_result"
    }
   ],
   "source": [
    "np.linalg.norm(x_train_p,2,axis = 0) / x_train_p.shape[0]"
   ]
  },
  {
   "cell_type": "code",
   "execution_count": 314,
   "metadata": {},
   "outputs": [],
   "source": [
    "#this_cav,mu_p,mu_n = make_L1_cav_and_means(x_train,y_train)"
   ]
  },
  {
   "cell_type": "code",
   "execution_count": 315,
   "metadata": {},
   "outputs": [],
   "source": [
    "mu_p_L = get_L1(x_train_p)\n",
    "mu_n_L = get_L1(x_train_n)"
   ]
  },
  {
   "cell_type": "code",
   "execution_count": 316,
   "metadata": {},
   "outputs": [],
   "source": [
    "this_cav = -mu_p + mu_n"
   ]
  },
  {
   "cell_type": "code",
   "execution_count": 317,
   "metadata": {},
   "outputs": [
    {
     "data": {
      "text/plain": [
       "array([0., 0., 0., ..., 0., 0., 0.])"
      ]
     },
     "execution_count": 317,
     "metadata": {},
     "output_type": "execute_result"
    }
   ],
   "source": [
    "mu_n"
   ]
  },
  {
   "cell_type": "markdown",
   "metadata": {},
   "source": [
    "## Get class acts"
   ]
  },
  {
   "cell_type": "code",
   "execution_count": 232,
   "metadata": {},
   "outputs": [],
   "source": [
    "#this_cav =cav_2"
   ]
  },
  {
   "cell_type": "code",
   "execution_count": 233,
   "metadata": {},
   "outputs": [],
   "source": [
    "#a_train"
   ]
  },
  {
   "cell_type": "code",
   "execution_count": 323,
   "metadata": {},
   "outputs": [
    {
     "data": {
      "image/png": "[encoded data removed]",
      "text/plain": [
       "<Figure size 360x360 with 1 Axes>"
      ]
     },
     "metadata": {
      "needs_background": "light"
     },
     "output_type": "display_data"
    }
   ],
   "source": [
    "pca_c = pickle.load(open('pca_9_striped_1.pkl','rb'))\n",
    "#pca_c = pickle.load(open('spca_comps.pkl','rb'))\n",
    "#pca = PCA(n_components=2)\n",
    "#pca.fit(x_train)\n",
    "#pca_c = pca.components_\n",
    "\n",
    "light_blue, light_red = '#b3b8fb', '#f6889f'\n",
    "\n",
    "train_embed = np.dot(pca_c, x_train.T)\n",
    "test_embed = np.dot(pca_c, x_test.T)\n",
    "c_train = ['red' if y == 0 else 'blue' for y in y_train]\n",
    "c_test = ['red' if y == 0 else 'blue' for y in y_test]\n",
    "a_train = [.7 if y == 0 else .1 for y in y_train]\n",
    "a_test = [.7 if y == 0 else .1 for y in y_test]\n",
    "\n",
    "fig = plt.figure(figsize=[5,5])\n",
    "\n",
    "plt.scatter(train_embed[0], train_embed[1], color = c_train, alpha = .1, edgecolor='black' )\n",
    "plt.scatter(test_embed[0], test_embed[1], color = c_test, alpha = .1, linewidth=0 )\n",
    "\n",
    "\n",
    "#_,_ = plt.xticks([], []),plt.yticks([], [])\n",
    "_,_ = plt.xlabel('component 1'),plt.ylabel('component 2')\n",
    "\n",
    "plt.xlim([-40,40])\n",
    "plt.ylim([-40,40])\n",
    "\n",
    "#plt.xlim([-8000,-1000])\n",
    "#plt.ylim([1250,8250])\n",
    "\n",
    "#x1,x2 = -7000,7250\n",
    "#radius = 750\n",
    "\n",
    "x1,x2 = -30,30\n",
    "radius = 8\n",
    "\n",
    "ax = plt.gca()\n",
    "circ = plt.Circle((x1,x2), radius=radius, edgecolor='black', facecolor='white',zorder=4,alpha=.8)\n",
    "#el = plt.Ellipse(\n",
    "#ax.add_artist(Ellipse((x1,x2), radius*2, radius*2*(100/80),edgecolor='black', facecolor='white',zorder=4,alpha=.8))\n",
    "ax.add_patch(circ)\n",
    "\n",
    "mu_p0,mu_p1 =  np.dot(pca_c,mu_p.T)\n",
    "mu_n0,mu_n1 =  np.dot(pca_c,mu_n.T)\n",
    "\n",
    "plt.scatter(mu_p0, mu_p1, color = 'white', alpha = .7,linewidths=2,s=50,edgecolor='k')\n",
    "plt.scatter(mu_n0, mu_n1, color = 'white', alpha = .7,linewidths=2,s=50,edgecolor='k')\n",
    "\n",
    "c0,c1 =  np.dot(pca_c,this_cav)\n",
    "b = lm.intercept_\n",
    "x_ = np.linspace(-10000,100,100)\n",
    "y_ = (-c0/c1)*x_-b/c1\n",
    "plt.plot(x_, y_, 'k')\n",
    "\n",
    "arrow_start = [x1,x2]\n",
    "cav_norm = vec_norm(np.array([c0,c1])) * radius\n",
    "#cav_norm = [0,8]\n",
    "#my_arrow = plt.arrow(arrow_start[0], arrow_start[1], cav_norm[0], cav_norm[1],width=40,length_includes_head=True,head_width=200,fc='k', ec=None, alpha = 1,zorder=5)\n",
    "my_arrow = plt.arrow(arrow_start[0], arrow_start[1], cav_norm[0], cav_norm[1],width=.5,length_includes_head=True,head_width=2,fc='k', ec=None, alpha = 1,zorder=5)\n",
    "a0 = ax.add_patch(my_arrow)\n",
    "\n",
    "#plt.tight_layout()\n",
    "plt.savefig('new_figs/tmp.png',dpi=400,bbox_inches='tight')\n"
   ]
  },
  {
   "cell_type": "code",
   "execution_count": null,
   "metadata": {},
   "outputs": [],
   "source": []
  },
  {
   "cell_type": "code",
   "execution_count": 196,
   "metadata": {},
   "outputs": [
    {
     "ename": "NameError",
     "evalue": "name 'preds' is not defined",
     "output_type": "error",
     "traceback": [
      "\u001b[0;31m---------------------------------------------------------------------------\u001b[0m",
      "\u001b[0;31mNameError\u001b[0m                                 Traceback (most recent call last)",
      "\u001b[0;32m<ipython-input-196-c7e71b812734>\u001b[0m in \u001b[0;36m<module>\u001b[0;34m\u001b[0m\n\u001b[1;32m     18\u001b[0m \u001b[0mclass_embed\u001b[0m \u001b[0;34m=\u001b[0m \u001b[0mnp\u001b[0m\u001b[0;34m.\u001b[0m\u001b[0mdot\u001b[0m\u001b[0;34m(\u001b[0m\u001b[0mpca_c\u001b[0m\u001b[0;34m,\u001b[0m \u001b[0macts_class_flat\u001b[0m\u001b[0;34m.\u001b[0m\u001b[0mT\u001b[0m\u001b[0;34m)\u001b[0m\u001b[0;34m\u001b[0m\u001b[0;34m\u001b[0m\u001b[0m\n\u001b[1;32m     19\u001b[0m \u001b[0;34m\u001b[0m\u001b[0m\n\u001b[0;32m---> 20\u001b[0;31m \u001b[0mc_pred\u001b[0m \u001b[0;34m=\u001b[0m \u001b[0;34m[\u001b[0m\u001b[0;34m'red'\u001b[0m \u001b[0;32mif\u001b[0m \u001b[0my\u001b[0m \u001b[0;34m==\u001b[0m \u001b[0;36m0\u001b[0m \u001b[0;32melse\u001b[0m \u001b[0;34m'blue'\u001b[0m \u001b[0;32mfor\u001b[0m \u001b[0my\u001b[0m \u001b[0;32min\u001b[0m \u001b[0mpreds\u001b[0m\u001b[0;34m]\u001b[0m\u001b[0;34m\u001b[0m\u001b[0;34m\u001b[0m\u001b[0m\n\u001b[0m\u001b[1;32m     21\u001b[0m \u001b[0;34m\u001b[0m\u001b[0m\n\u001b[1;32m     22\u001b[0m \u001b[0mplt\u001b[0m\u001b[0;34m.\u001b[0m\u001b[0mscatter\u001b[0m\u001b[0;34m(\u001b[0m\u001b[0mclass_embed\u001b[0m\u001b[0;34m[\u001b[0m\u001b[0;36m0\u001b[0m\u001b[0;34m]\u001b[0m\u001b[0;34m,\u001b[0m \u001b[0mclass_embed\u001b[0m\u001b[0;34m[\u001b[0m\u001b[0;36m1\u001b[0m\u001b[0;34m]\u001b[0m\u001b[0;34m,\u001b[0m \u001b[0mcolor\u001b[0m \u001b[0;34m=\u001b[0m \u001b[0mc_pred\u001b[0m\u001b[0;34m,\u001b[0m \u001b[0malpha\u001b[0m\u001b[0;34m=\u001b[0m\u001b[0;36m.6\u001b[0m\u001b[0;34m,\u001b[0m\u001b[0mlinewidth\u001b[0m\u001b[0;34m=\u001b[0m\u001b[0;36m0\u001b[0m\u001b[0;34m)\u001b[0m\u001b[0;34m\u001b[0m\u001b[0;34m\u001b[0m\u001b[0m\n",
      "\u001b[0;31mNameError\u001b[0m: name 'preds' is not defined"
     ]
    },
    {
     "data": {
      "image/png": "[encoded data removed]",
      "text/plain": [
       "<Figure size 360x360 with 1 Axes>"
      ]
     },
     "metadata": {
      "needs_background": "light"
     },
     "output_type": "display_data"
    }
   ],
   "source": [
    "pca_c = pickle.load(open('spca_comps.pkl','rb'))\n",
    "#pca = PCA(n_components=2)\n",
    "#pca.fit(x_train)\n",
    "#pca_c = pca.components_\n",
    "\n",
    "light_blue, light_red = '#b3b8fb', '#f6889f'\n",
    "\n",
    "train_embed = np.dot(pca_c, x_train.T)\n",
    "test_embed = np.dot(pca_c, x_test.T)\n",
    "c_train = ['red' if y == 0 else 'blue' for y in y_train]\n",
    "c_test = ['red' if y == 0 else 'blue' for y in y_test]\n",
    "\n",
    "fig = plt.figure(figsize=[5,5])\n",
    "\n",
    "plt.scatter(train_embed[0], train_embed[1], color = c_train, alpha = .1, edgecolor='black' )\n",
    "plt.scatter(test_embed[0], test_embed[1], color = c_test, alpha = .1, linewidth=0 )\n",
    "\n",
    "class_embed = np.dot(pca_c, acts_class_flat.T)\n",
    "\n",
    "c_pred = ['red' if y == 0 else 'blue' for y in preds]\n",
    "\n",
    "plt.scatter(class_embed[0], class_embed[1], color = c_pred, alpha=.6,linewidth=0)\n",
    "\n",
    "#plus_idx = 4\n",
    "#plt.scatter(class_embed[0][plus_idx], class_embed[1][plus_idx], color = 'black', alpha=1,marker='+',s=40)\n",
    "\n",
    "#_,_ = plt.xticks([], []),plt.yticks([], [])\n",
    "_,_ = plt.xlabel('component 1'),plt.ylabel('component 2')\n",
    "\n",
    "plt.xlim([-8000,-1000])\n",
    "plt.ylim([1250,8250])\n",
    "\n",
    "c0,c1 =  np.dot(pca_c,svc.coef_[0])\n",
    "b = svc.intercept_\n",
    "x_ = np.linspace(-10000,0,100)\n",
    "y_ = (-c0/c1)*x_-b/c1\n",
    "#plt.plot(x_, y_, 'k',alpha=.1)\n",
    "\n",
    "plt.savefig('new_figs/tmp.png',dpi=400,bbox_inches='tight')\n"
   ]
  },
  {
   "cell_type": "code",
   "execution_count": null,
   "metadata": {},
   "outputs": [],
   "source": []
  },
  {
   "cell_type": "markdown",
   "metadata": {},
   "source": [
    "## Find specific points"
   ]
  },
  {
   "cell_type": "code",
   "execution_count": 206,
   "metadata": {},
   "outputs": [
    {
     "data": {
      "text/plain": [
       "75"
      ]
     },
     "execution_count": 206,
     "metadata": {},
     "output_type": "execute_result"
    }
   ],
   "source": [
    "class_embed[1].argmin()"
   ]
  },
  {
   "cell_type": "code",
   "execution_count": 207,
   "metadata": {},
   "outputs": [
    {
     "data": {
      "text/plain": [
       "74"
      ]
     },
     "execution_count": 207,
     "metadata": {},
     "output_type": "execute_result"
    }
   ],
   "source": [
    "class_embed[0].argmin()"
   ]
  },
  {
   "cell_type": "code",
   "execution_count": 208,
   "metadata": {},
   "outputs": [
    {
     "data": {
      "text/plain": [
       "140"
      ]
     },
     "execution_count": 208,
     "metadata": {},
     "output_type": "execute_result"
    }
   ],
   "source": [
    "class_embed[1].argmax()"
   ]
  },
  {
   "cell_type": "code",
   "execution_count": null,
   "metadata": {},
   "outputs": [],
   "source": []
  },
  {
   "cell_type": "code",
   "execution_count": 269,
   "metadata": {},
   "outputs": [
    {
     "data": {
      "text/plain": [
       "(335, 131072)"
      ]
     },
     "execution_count": 269,
     "metadata": {},
     "output_type": "execute_result"
    }
   ],
   "source": [
    "x_train_p.shape"
   ]
  },
  {
   "cell_type": "code",
   "execution_count": 291,
   "metadata": {},
   "outputs": [],
   "source": [
    "mu_p = (x_train_p).mean(axis=0)\n",
    "std_p = (x_train_p).std(axis=0)"
   ]
  },
  {
   "cell_type": "code",
   "execution_count": 292,
   "metadata": {},
   "outputs": [
    {
     "data": {
      "text/plain": [
       "<function ndarray.mean>"
      ]
     },
     "execution_count": 292,
     "metadata": {},
     "output_type": "execute_result"
    }
   ],
   "source": [
    "mu_p.mean"
   ]
  },
  {
   "cell_type": "code",
   "execution_count": 293,
   "metadata": {},
   "outputs": [],
   "source": [
    "## random class stats"
   ]
  },
  {
   "cell_type": "code",
   "execution_count": 275,
   "metadata": {},
   "outputs": [
    {
     "data": {
      "text/plain": [
       "array([0.07815824, 0.13389687, 0.39449383, ..., 0.09563563, 0.23213073,\n",
       "       0.15298827])"
      ]
     },
     "execution_count": 275,
     "metadata": {},
     "output_type": "execute_result"
    }
   ],
   "source": [
    "mu_p"
   ]
  },
  {
   "cell_type": "code",
   "execution_count": 297,
   "metadata": {},
   "outputs": [
    {
     "data": {
      "text/plain": [
       "array([0.26518987, 0.37472649, 0.63212332, ..., 0.23078818, 0.39856017,\n",
       "       0.36169381])"
      ]
     },
     "execution_count": 297,
     "metadata": {},
     "output_type": "execute_result"
    }
   ],
   "source": [
    "std_p"
   ]
  },
  {
   "cell_type": "code",
   "execution_count": 272,
   "metadata": {},
   "outputs": [],
   "source": [
    "#acts_n"
   ]
  },
  {
   "cell_type": "code",
   "execution_count": 294,
   "metadata": {},
   "outputs": [],
   "source": [
    "a = np.random.normal(loc=mu_p,scale=std_p,size=(500,131072))"
   ]
  },
  {
   "cell_type": "code",
   "execution_count": 295,
   "metadata": {},
   "outputs": [
    {
     "data": {
      "text/plain": [
       "0.07632578587388758"
      ]
     },
     "execution_count": 295,
     "metadata": {},
     "output_type": "execute_result"
    }
   ],
   "source": [
    "a[:,0].mean()"
   ]
  },
  {
   "cell_type": "code",
   "execution_count": 296,
   "metadata": {},
   "outputs": [
    {
     "data": {
      "text/plain": [
       "0.2908802717889004"
      ]
     },
     "execution_count": 296,
     "metadata": {},
     "output_type": "execute_result"
    }
   ],
   "source": [
    "a[:,0].std()"
   ]
  },
  {
   "cell_type": "code",
   "execution_count": 405,
   "metadata": {},
   "outputs": [],
   "source": [
    "n_50 = {}\n",
    "for i in range(20):\n",
    "    n = 'random500_' + str(i)\n",
    "    acts,_ = get_acts_for_concept(n,'mixed9')\n",
    "    n_50[n] = acts.mean(axis=0)"
   ]
  },
  {
   "cell_type": "code",
   "execution_count": 356,
   "metadata": {},
   "outputs": [],
   "source": [
    "n_500 = {}\n",
    "for i in range(10):\n",
    "    n = 'N_' + str(i)\n",
    "    acts,_ = get_acts_for_concept(n,'mixed9')\n",
    "    n_500[n] = acts.mean(axis=0)"
   ]
  },
  {
   "cell_type": "code",
   "execution_count": 339,
   "metadata": {},
   "outputs": [],
   "source": [
    "acts_0,_ = get_acts_for_concept('random500_0','mixed9')\n",
    "acts_1,_ = get_acts_for_concept('random500_1','mixed9')\n",
    "acts_2,_ = get_acts_for_concept('random500_2','mixed9')"
   ]
  },
  {
   "cell_type": "code",
   "execution_count": 325,
   "metadata": {},
   "outputs": [],
   "source": [
    "acts_N_0,_ = get_acts_for_concept('N_0','mixed9')\n",
    "acts_N_1,_ = get_acts_for_concept('N_1','mixed9')\n",
    "acts_N_2,_ = get_acts_for_concept('N_2','mixed9')"
   ]
  },
  {
   "cell_type": "code",
   "execution_count": 340,
   "metadata": {},
   "outputs": [],
   "source": [
    "mean_0 = acts_0.mean(axis=0)\n",
    "mean_1 = acts_1.mean(axis=0)\n",
    "mean_2 = acts_2.mean(axis=0)\n",
    "\n",
    "mean_N_0 = acts_N_0.mean(axis=0)\n",
    "mean_N_1 = acts_N_1.mean(axis=0)\n",
    "mean_N_2 = acts_N_2.mean(axis=0)"
   ]
  },
  {
   "cell_type": "code",
   "execution_count": 344,
   "metadata": {},
   "outputs": [
    {
     "data": {
      "text/plain": [
       "11.448120065347236"
      ]
     },
     "execution_count": 344,
     "metadata": {},
     "output_type": "execute_result"
    }
   ],
   "source": [
    "euclidean_distance(mean_0,mean_N_2)"
   ]
  },
  {
   "cell_type": "code",
   "execution_count": 384,
   "metadata": {},
   "outputs": [
    {
     "data": {
      "text/plain": [
       "(131072,)"
      ]
     },
     "execution_count": 384,
     "metadata": {},
     "output_type": "execute_result"
    }
   ],
   "source": [
    "n_500['N_0'].shape"
   ]
  },
  {
   "cell_type": "code",
   "execution_count": 387,
   "metadata": {},
   "outputs": [],
   "source": [
    "final = np.zeros((10,131072))\n",
    "\n",
    "for idx,each in enumerate(n_500):\n",
    "    final[idx] = n_500[each]"
   ]
  },
  {
   "cell_type": "code",
   "execution_count": 392,
   "metadata": {},
   "outputs": [],
   "source": [
    "final_mean = final.mean(axis=0)"
   ]
  },
  {
   "cell_type": "code",
   "execution_count": 410,
   "metadata": {},
   "outputs": [
    {
     "name": "stdout",
     "output_type": "stream",
     "text": [
      "0 3.2973289713402605\n",
      "1 3.2666051024918956\n",
      "2 3.283117522872938\n",
      "3 3.3233891985491146\n",
      "4 3.3145726888184206\n",
      "5 3.2265881997066277\n",
      "6 3.2952196864807557\n",
      "7 3.2387876749076034\n",
      "8 3.3555327997787185\n",
      "9 3.2712393992232878\n"
     ]
    }
   ],
   "source": [
    "for idx,each in enumerate(n_500):\n",
    "    print(idx,euclidean_distance(n_500[each],final_mean))"
   ]
  },
  {
   "cell_type": "code",
   "execution_count": null,
   "metadata": {},
   "outputs": [],
   "source": []
  },
  {
   "cell_type": "code",
   "execution_count": 407,
   "metadata": {},
   "outputs": [
    {
     "data": {
      "text/plain": [
       "'random500_19'"
      ]
     },
     "execution_count": 407,
     "metadata": {},
     "output_type": "execute_result"
    }
   ],
   "source": [
    "each"
   ]
  },
  {
   "cell_type": "code",
   "execution_count": null,
   "metadata": {},
   "outputs": [],
   "source": []
  },
  {
   "cell_type": "code",
   "execution_count": 409,
   "metadata": {},
   "outputs": [
    {
     "data": {
      "image/png": "[encoded data removed]",
      "text/plain": [
       "<Figure size 360x360 with 1 Axes>"
      ]
     },
     "metadata": {
      "needs_background": "light"
     },
     "output_type": "display_data"
    }
   ],
   "source": [
    "plt.rc('text', usetex=False)\n",
    "\n",
    "pca_c = pickle.load(open('pca_9_striped_1.pkl','rb'))\n",
    "\n",
    "fig = plt.figure(figsize=[5,5])\n",
    "\n",
    "#_,_ = plt.xticks([], []),plt.yticks([], [])\n",
    "_,_ = plt.xlabel('component 1'),plt.ylabel('component 2')\n",
    "\n",
    "#plt.xlim([10,20])\n",
    "#plt.ylim([-10,0])\n",
    "\n",
    "for idx,each in enumerate(n_50):\n",
    "    mean = n_50[each]\n",
    "    a,b =  np.dot(pca_c,mean.T)\n",
    "    if idx == 0:\n",
    "        plt.scatter(a, b, color = 'green', alpha = .4,linewidths=0,s=50,edgecolor='k',label='$|N|=50$')\n",
    "    else:\n",
    "        plt.scatter(a, b, color = 'green', alpha = .4,linewidths=0,s=50,edgecolor='k')\n",
    "for idx,each in enumerate(n_500):\n",
    "    mean = n_500[each]\n",
    "    a,b =  np.dot(pca_c,mean.T)\n",
    "    if idx == 0:\n",
    "        plt.scatter(a, b, color = 'purple', alpha = .4,linewidths=0,s=50,edgecolor='k',label='$|N|=500$')\n",
    "    else:\n",
    "        plt.scatter(a, b, color = 'purple', alpha = .4,linewidths=0,s=50,edgecolor='k')\n",
    "        \n",
    "a,b =  np.dot(pca_c,final_mean.T)\n",
    "plt.scatter(a, b, color = 'white', alpha = .7,linewidths=2,s=50,edgecolor='k')\n",
    "        \n",
    "plt.rc('text', usetex=True)\n",
    "plt.legend()\n",
    "\n",
    "#plt.tight_layout()\n",
    "plt.savefig('new_figs/tmp.png',dpi=400,bbox_inches='tight')\n"
   ]
  },
  {
   "cell_type": "code",
   "execution_count": null,
   "metadata": {},
   "outputs": [],
   "source": []
  },
  {
   "cell_type": "code",
   "execution_count": null,
   "metadata": {},
   "outputs": [],
   "source": []
  },
  {
   "cell_type": "code",
   "execution_count": null,
   "metadata": {},
   "outputs": [],
   "source": []
  },
  {
   "cell_type": "code",
   "execution_count": null,
   "metadata": {},
   "outputs": [],
   "source": []
  },
  {
   "cell_type": "code",
   "execution_count": null,
   "metadata": {},
   "outputs": [],
   "source": []
  },
  {
   "cell_type": "code",
   "execution_count": 128,
   "metadata": {},
   "outputs": [],
   "source": [
    "## With new example"
   ]
  },
  {
   "cell_type": "code",
   "execution_count": 219,
   "metadata": {},
   "outputs": [],
   "source": [
    "layer = 'mixed9'\n",
    "\n",
    "my_class = 'lots_of_zebras'\n",
    "concept_p,concept_n = 'striped_plus','random500_0'\n",
    "acts_p,_ = get_acts_for_concept(concept_p,layer)\n",
    "acts_n,_ = get_acts_for_concept(concept_n,layer)\n",
    "acts_class_flat,acts_class = get_acts_for_concept(my_class,layer)\n",
    "\n",
    "x = np.concatenate((acts_p,acts_n))\n",
    "y = np.concatenate((np.zeros(50),np.ones(50)))\n",
    "idx_array = np.arange(100)\n",
    "\n",
    "x_train, x_test, y_train, y_test, idx_train, idx_test = train_test_split(x, y, idx_array, test_size=0.33, stratify=y,random_state=2)\n",
    "\n"
   ]
  },
  {
   "cell_type": "code",
   "execution_count": 220,
   "metadata": {},
   "outputs": [],
   "source": [
    "my_class = 'zebra'\n",
    "svc = SVC(kernel = 'linear',probability=True)\n",
    "svc.fit(x_train, y_train)\n",
    "\n",
    "cav_1 = -svc.coef_[0]\n",
    "score_1 = comp_tcav(my_class,cav_1,acts_class,layer)"
   ]
  },
  {
   "cell_type": "code",
   "execution_count": 222,
   "metadata": {},
   "outputs": [
    {
     "data": {
      "text/plain": [
       "0.68"
      ]
     },
     "execution_count": 222,
     "metadata": {},
     "output_type": "execute_result"
    }
   ],
   "source": [
    "score_1"
   ]
  },
  {
   "cell_type": "code",
   "execution_count": 223,
   "metadata": {},
   "outputs": [
    {
     "name": "stdout",
     "output_type": "stream",
     "text": [
      "1.0\n"
     ]
    }
   ],
   "source": [
    "y_pred = svc.predict(x_test)\n",
    "acc = metrics.accuracy_score(y_test,y_pred)\n",
    "print(acc)"
   ]
  },
  {
   "cell_type": "code",
   "execution_count": 224,
   "metadata": {},
   "outputs": [
    {
     "data": {
      "text/plain": [
       "0.9066666666666666"
      ]
     },
     "execution_count": 224,
     "metadata": {},
     "output_type": "execute_result"
    }
   ],
   "source": [
    "preds = svc.predict(acts_class_flat)\n",
    "(preds.shape[0] - preds.sum()) / preds.shape[0]"
   ]
  },
  {
   "cell_type": "code",
   "execution_count": 247,
   "metadata": {},
   "outputs": [
    {
     "data": {
      "text/plain": [
       "14.0"
      ]
     },
     "execution_count": 247,
     "metadata": {},
     "output_type": "execute_result"
    }
   ],
   "source": [
    "preds.sum()"
   ]
  },
  {
   "cell_type": "code",
   "execution_count": 225,
   "metadata": {},
   "outputs": [
    {
     "data": {
      "text/plain": [
       "(0.9933257837873589, 0.042544487584775165)"
      ]
     },
     "execution_count": 225,
     "metadata": {},
     "output_type": "execute_result"
    }
   ],
   "source": [
    "p0 = svc.predict_proba(acts_class_flat)[:,0]\n",
    "p0.max(),p0.min()"
   ]
  },
  {
   "cell_type": "code",
   "execution_count": null,
   "metadata": {},
   "outputs": [],
   "source": []
  },
  {
   "cell_type": "code",
   "execution_count": 243,
   "metadata": {},
   "outputs": [
    {
     "data": {
      "image/png": "[encoded data removed]",
      "text/plain": [
       "<Figure size 360x360 with 1 Axes>"
      ]
     },
     "metadata": {
      "needs_background": "light"
     },
     "output_type": "display_data"
    }
   ],
   "source": [
    "pca_c = pickle.load(open('spca_comps.pkl','rb'))\n",
    "#pca = PCA(n_components=2)\n",
    "#pca.fit(x_train)\n",
    "#pca_c = pca.components_\n",
    "\n",
    "light_blue, light_red = '#b3b8fb', '#f6889f'\n",
    "\n",
    "train_embed = np.dot(pca_c, x_train.T)\n",
    "test_embed = np.dot(pca_c, x_test.T)\n",
    "c_train = ['red' if y == 0 else 'blue' for y in y_train]\n",
    "c_test = ['red' if y == 0 else 'blue' for y in y_test]\n",
    "\n",
    "fig = plt.figure(figsize=[5,5])\n",
    "\n",
    "plt.scatter(train_embed[0], train_embed[1], color = c_train, alpha = .1, edgecolor='black' )\n",
    "plt.scatter(test_embed[0], test_embed[1], color = c_test, alpha = .1, linewidth=0 )\n",
    "\n",
    "class_embed = np.dot(pca_c, acts_class_flat.T)\n",
    "\n",
    "c_pred = ['red' if y == 0 else 'blue' for y in preds]\n",
    "\n",
    "#plt.scatter(class_embed[0], class_embed[1], color = c_pred, alpha=.6,linewidth=0)\n",
    "\n",
    "#plt.scatter(class_embed[0][74], class_embed[1][74], color = 'k', alpha=.6,linewidth=2,marker='+',s=100)\n",
    "\n",
    "\n",
    "#plus_idx = 4\n",
    "\n",
    "#_,_ = plt.xticks([], []),plt.yticks([], [])\n",
    "_,_ = plt.xlabel('component 1'),plt.ylabel('component 2')\n",
    "\n",
    "plt.xlim([-8000,-1000])\n",
    "plt.ylim([1250,8250])\n",
    "\n",
    "c0,c1 =  np.dot(pca_c,svc.coef_[0])\n",
    "b = svc.intercept_\n",
    "x_ = np.linspace(-10000,0,100)\n",
    "y_ = (-c0/c1)*x_-b/c1\n",
    "plt.plot(x_, y_, 'k',alpha=.1)\n",
    "\n",
    "plt.savefig('new_figs/tmp.png',dpi=400)"
   ]
  },
  {
   "cell_type": "code",
   "execution_count": null,
   "metadata": {},
   "outputs": [],
   "source": []
  },
  {
   "cell_type": "code",
   "execution_count": null,
   "metadata": {},
   "outputs": [],
   "source": []
  },
  {
   "cell_type": "code",
   "execution_count": null,
   "metadata": {},
   "outputs": [],
   "source": []
  },
  {
   "cell_type": "code",
   "execution_count": null,
   "metadata": {},
   "outputs": [],
   "source": []
  },
  {
   "cell_type": "code",
   "execution_count": null,
   "metadata": {},
   "outputs": [],
   "source": []
  },
  {
   "cell_type": "code",
   "execution_count": null,
   "metadata": {},
   "outputs": [],
   "source": []
  },
  {
   "cell_type": "code",
   "execution_count": 246,
   "metadata": {},
   "outputs": [
    {
     "data": {
      "image/png": "[encoded data removed]",
      "text/plain": [
       "<Figure size 360x360 with 1 Axes>"
      ]
     },
     "metadata": {
      "needs_background": "light"
     },
     "output_type": "display_data"
    }
   ],
   "source": [
    "pca_c = pickle.load(open('spca_comps.pkl','rb'))\n",
    "#pca = PCA(n_components=2)\n",
    "#pca.fit(x_train)\n",
    "#pca_c = pca.components_\n",
    "\n",
    "light_blue, light_red = '#b3b8fb', '#f6889f'\n",
    "\n",
    "train_embed = np.dot(pca_c, x_train.T)\n",
    "test_embed = np.dot(pca_c, x_test.T)\n",
    "c_train = ['red' if y == 0 else 'blue' for y in y_train]\n",
    "c_test = ['red' if y == 0 else 'blue' for y in y_test]\n",
    "\n",
    "fig = plt.figure(figsize=[5,5])\n",
    "\n",
    "plt.scatter(train_embed[0], train_embed[1], color = c_train, alpha = .7, edgecolor='black' )\n",
    "plt.scatter(test_embed[0], test_embed[1], color = c_test, alpha = .7, linewidth=0 )\n",
    "\n",
    "\n",
    "#_,_ = plt.xticks([], []),plt.yticks([], [])\n",
    "_,_ = plt.xlabel('component 1'),plt.ylabel('component 2')\n",
    "\n",
    "plt.xlim([-8000,-1000])\n",
    "plt.ylim([1250,8250])\n",
    "\n",
    "x1,x2 = -7000,7250\n",
    "ax = plt.gca()\n",
    "radius = 750\n",
    "circ = plt.Circle((x1,x2), radius=radius, edgecolor='black', facecolor='white',zorder=4,alpha=.8)\n",
    "#el = plt.Ellipse(\n",
    "#ax.add_artist(Ellipse((x1,x2), radius*2, radius*2*(100/80),edgecolor='black', facecolor='white',zorder=4,alpha=.8))\n",
    "ax.add_patch(circ)\n",
    "\n",
    "c0,c1 =  np.dot(pca_c,-svc.coef_[0])\n",
    "b = svc.intercept_\n",
    "x_ = np.linspace(-10000,10,100)\n",
    "y_ = (-c0/c1)*x_-b/c1\n",
    "plt.plot(x_, y_, 'k')\n",
    "\n",
    "arrow_start = [x1,x2]\n",
    "cav_norm = vec_norm(np.array([c0,c1])) * radius\n",
    "#cav_norm = [0,8]\n",
    "my_arrow = plt.arrow(arrow_start[0], arrow_start[1], cav_norm[0], cav_norm[1],width=40,length_includes_head=True,head_width=200,fc='k', ec=None, alpha = 1,zorder=5)\n",
    "a0 = ax.add_patch(my_arrow)\n",
    "\n",
    "\n",
    "plt.savefig('new_figs/tmp.png',dpi=400,bbox_inches='tight')\n"
   ]
  },
  {
   "cell_type": "code",
   "execution_count": null,
   "metadata": {},
   "outputs": [],
   "source": []
  },
  {
   "cell_type": "code",
   "execution_count": null,
   "metadata": {},
   "outputs": [],
   "source": []
  },
  {
   "cell_type": "code",
   "execution_count": null,
   "metadata": {},
   "outputs": [],
   "source": []
  },
  {
   "cell_type": "code",
   "execution_count": null,
   "metadata": {},
   "outputs": [],
   "source": []
  },
  {
   "cell_type": "code",
   "execution_count": 67,
   "metadata": {},
   "outputs": [
    {
     "data": {
      "text/plain": [
       "(131072,)"
      ]
     },
     "execution_count": 67,
     "metadata": {},
     "output_type": "execute_result"
    }
   ],
   "source": [
    "this_cav.shape"
   ]
  },
  {
   "cell_type": "code",
   "execution_count": null,
   "metadata": {},
   "outputs": [],
   "source": []
  },
  {
   "cell_type": "code",
   "execution_count": 6,
   "metadata": {},
   "outputs": [],
   "source": [
    "def comp_tcav(target_class,this_cav,class_acts,bottleneck_name):\n",
    "    count = 0\n",
    "    class_id = mymodel.label_to_id(target_class)\n",
    "\n",
    "    for i in range(len(class_acts)):\n",
    "        act_at_idx = np.expand_dims(class_acts[i], 0)\n",
    "        if get_dir(act_at_idx,class_id,this_cav,bottleneck_name):\n",
    "            count += 1\n",
    "    score = float(count) / float(len(class_acts))\n",
    "    return score\n",
    "\n",
    " \n",
    "\n",
    "def get_dir(acts, class_id, this_cav, bottleneck_name):\n",
    "    grads = sess.run(mymodel.bottlenecks_gradients[bottleneck_name], \n",
    "                 {mymodel.bottlenecks_tensors[bottleneck_name]: acts,\n",
    "                 mymodel.y_input: [class_id]})\n",
    "                     \n",
    "    grad = np.reshape(grads, -1)\n",
    "    dot_prod = np.dot(grad, this_cav)\n",
    "\n",
    "    return dot_prod < 0\n",
    "\n",
    "def get_magnitude_list(target_class,this_cav,class_acts,bottleneck_name):\n",
    "    class_id = mymodel.label_to_id(target_class)\n",
    "    magnitude_list = []\n",
    "    for i in range(len(class_acts)):\n",
    "        act_at_idx = np.expand_dims(class_acts[i], 0)\n",
    "        this_mag = get_magnitude(act_at_idx,class_id,this_cav,bottleneck_name)\n",
    "        magnitude_list.append(this_mag)\n",
    "    return np.array(magnitude_list)\n",
    "\n",
    "\n",
    "def get_magnitude(acts, class_id, this_cav, bottleneck_name):\n",
    "    grads = sess.run(mymodel.bottlenecks_gradients[bottleneck_name], \n",
    "                 {mymodel.bottlenecks_tensors[bottleneck_name]: acts,\n",
    "                 mymodel.y_input: [class_id]})\n",
    "                     \n",
    "    grad = np.reshape(grads, -1)\n",
    "    dot_prod = np.dot(grad, this_cav)\n",
    "\n",
    "    return dot_prod\n",
    "\n",
    "def get_magnitude_and_grad(acts, class_id, this_cav, bottleneck_name):\n",
    "    grads = sess.run(mymodel.bottlenecks_gradients[bottleneck_name], \n",
    "                 {mymodel.bottlenecks_tensors[bottleneck_name]: acts,\n",
    "                 mymodel.y_input: [class_id]})\n",
    "                     \n",
    "    grad = np.reshape(grads, -1)\n",
    "    dot_prod = np.dot(grad, this_cav)\n",
    "\n",
    "    return dot_prod,grad"
   ]
  },
  {
   "cell_type": "code",
   "execution_count": 7,
   "metadata": {},
   "outputs": [],
   "source": [
    "## define functions\n",
    "pca_components = pickle.load(open('pca/pca_components_mixed9.pkl', 'rb'))\n",
    "\n",
    "def get_dir_from_pert(pred_1):\n",
    "    a = 0\n",
    "    pred_2 = second_part_model.get_predictions(pred_1)\n",
    "    decoded = decode_predictions(pred_2, top=1000)\n",
    "    p1 = get_p(decoded,'zebra')\n",
    "\n",
    "    a = .01\n",
    "    to_concept = 'striped_sub_1'\n",
    "    pred_1_pert = this_cav.perturb_act(pred_1,to_concept,alpha = a)\n",
    "    pred_2 = second_part_model.get_predictions(pred_1_pert)\n",
    "    decoded = decode_predictions(pred_2, top=1000)\n",
    "    p2 = get_p(decoded,'zebra')\n",
    "\n",
    "    return (p2-p1) / a\n",
    "\n",
    "def get_p(decoded,class_name):\n",
    "    for d in decoded[0]:\n",
    "        if d[1] ==class_name:\n",
    "            z = d[2]\n",
    "    if z:\n",
    "        return z\n",
    "\n",
    "\n",
    "def vector_norm(vec):\n",
    "    norm_const = math.sqrt(vec[0]*vec[0] + vec[1]*vec[1])\n",
    "    return vec / norm_const\n",
    "\n",
    "def vec_norm(vec):\n",
    "    return  vec / np.linalg.norm(vec)\n",
    "\n",
    "## CAV distance\n",
    "def euclidean_distance(a,b):\n",
    "    return np.linalg.norm(a-b)\n",
    "\n",
    "def cosine_similarity(v1,v2):\n",
    "    # compute cosine similarity of v1 to v2: (v1 dot v2)/{||v1||*||v2||)\n",
    "    sumxx, sumxy, sumyy = 0, 0, 0\n",
    "    for i in range(len(v1)):\n",
    "        x = v1[i]; y = v2[i]\n",
    "        sumxx += x*x\n",
    "        sumyy += y*y\n",
    "        sumxy += x*y\n",
    "    return sumxy / math.sqrt(sumxx*sumyy)\n",
    "\n",
    "def files_from_dir(a_dir):\n",
    "    onlyfiles = [f for f in os.listdir(a_dir) if os.path.isfile(os.path.join(a_dir, f))]\n",
    "    return onlyfiles\n",
    "\n",
    "def files_from_dir_ext(a_dir,ext):\n",
    "    onlyfiles = [f for f in os.listdir(a_dir) if os.path.isfile(os.path.join(a_dir, f))]\n",
    "    this_ext = [e for e in onlyfiles if ext in e.lower()]\n",
    "    return this_ext\n",
    "\n",
    "def prep2(filename):\n",
    "    shape=(299, 299)\n",
    "    img = np.array(PIL.Image.open(open(filename, 'rb')).convert('RGB').resize(shape, PIL.Image.BILINEAR))\n",
    "    # Normalize pixel values to between 0 and 1.\n",
    "    img = np.float32(img) / 255.0\n",
    "    if not (len(img.shape) == 3 and img.shape[2] == 3):\n",
    "        return None\n",
    "    else:\n",
    "        return img\n",
    "\n",
    "this_img = np.expand_dims(prep2('concepts/random500_0/ILSVRC2012_val_00001172.JPEG'),axis=0)\n",
    "    \n",
    "layer_dict = dict([(layer.name, layer) for layer in model.layers])\n",
    "sess = K.get_session()\n",
    "\n",
    "layer_name = 'mixed9'\n",
    "\n",
    "these_acts = layer_dict[layer_name].output\n",
    "get_acts_func = K.function([model.input],[these_acts])\n",
    "\n",
    "#name_ph = K.placeholder(dtype='string')\n",
    "#these_acts_for_layer = layer_dict[name_ph].output\n",
    "#get_acts_for_layer_func = K.function([name_ph,model.input],[these_acts_for_layer])\n",
    "\n",
    "def get_acts(input_img):\n",
    "    outs = get_acts_func([input_img])\n",
    "    acts_value = outs[0]\n",
    "    return acts_value.reshape(-1)\n",
    "\n",
    "def get_acts_for_layer(layer_name,input_img):\n",
    "    acts_value = layer_dict[layer_name].output\n",
    "    outs = get_acts_for_layer_func([layer_name,input_img])\n",
    "    acts_value = outs[0]\n",
    "    return acts_value.reshape(-1)\n",
    "\n",
    "\n",
    "acts_mixed0_f = K.function([model.input],[layer_dict['mixed0'].output])\n",
    "acts_mixed1_f = K.function([model.input],[layer_dict['mixed1'].output])\n",
    "acts_mixed2_f = K.function([model.input],[layer_dict['mixed2'].output])\n",
    "acts_mixed3_f = K.function([model.input],[layer_dict['mixed3'].output])\n",
    "acts_mixed4_f = K.function([model.input],[layer_dict['mixed4'].output])\n",
    "acts_mixed5_f = K.function([model.input],[layer_dict['mixed5'].output])\n",
    "acts_mixed6_f = K.function([model.input],[layer_dict['mixed6'].output])\n",
    "acts_mixed7_f = K.function([model.input],[layer_dict['mixed7'].output])\n",
    "acts_mixed8_f = K.function([model.input],[layer_dict['mixed8'].output])\n",
    "acts_mixed9_f = K.function([model.input],[layer_dict['mixed9'].output])\n",
    "acts_mixed10_f = K.function([model.input],[layer_dict['mixed10'].output])\n",
    "\n",
    "def get_acts_for_layer_new(layer_name,input_img):\n",
    "    acts = None\n",
    "    if layer_name=='mixed0':\n",
    "        acts = acts_mixed0_f([input_img])[0]\n",
    "    if layer_name=='mixed1':\n",
    "        acts = acts_mixed1_f([input_img])[0]\n",
    "    if layer_name=='mixed2':\n",
    "        acts = acts_mixed2_f([input_img])[0]\n",
    "    if layer_name=='mixed3':\n",
    "        acts = acts_mixed3_f([input_img])[0]\n",
    "    if layer_name=='mixed4':\n",
    "        acts = acts_mixed4_f([input_img])[0]\n",
    "    if layer_name=='mixed5':\n",
    "        acts = acts_mixed5_f([input_img])[0]\n",
    "    if layer_name=='mixed6':\n",
    "        acts = acts_mixed6_f([input_img])[0]\n",
    "    if layer_name=='mixed7':\n",
    "        acts = acts_mixed7_f([input_img])[0]\n",
    "    if layer_name=='mixed8':\n",
    "        acts = acts_mixed8_f([input_img])[0]\n",
    "    if layer_name=='mixed9':\n",
    "        acts = acts_mixed9_f([input_img])[0]\n",
    "    if layer_name=='mixed10':\n",
    "        acts = acts_mixed10_f([input_img])[0]\n",
    "    \n",
    "    return acts\n",
    "\n",
    "\n",
    "bn_names = ['mixed0','mixed1','mixed2','mixed3','mixed4','mixed5','mixed6','mixed7','mixed8','mixed9','mixed10']\n",
    "\n",
    "size_dict = {}\n",
    "for bn in bn_names:\n",
    "    acts_orig = get_acts_for_layer_new(bn,this_img)\n",
    "    size_dict[bn] = acts_orig.reshape(-1).shape[0]\n",
    "    \n",
    "size_dict_orig = {}\n",
    "for bn in bn_names:\n",
    "    acts_orig = get_acts_for_layer_new(bn,this_img)\n",
    "    size_dict_orig[bn] = acts_orig.shape"
   ]
  },
  {
   "cell_type": "code",
   "execution_count": 204,
   "metadata": {},
   "outputs": [],
   "source": [
    "## get activations for concept, layer\n",
    "\n",
    "\n",
    "def get_acts_for_concept(concept,layer):\n",
    "    concept_dir = os.path.join(working_dir,'concepts/'+concept)\n",
    "    image_list = files_from_dir_ext(concept_dir,'jp')\n",
    "    image_list.sort()\n",
    "\n",
    "    act_path = os.path.join(working_dir,'final_acts/' + concept + '-' + layer + '.pkl')\n",
    "\n",
    "    n = size_dict[layer]\n",
    "    nn = size_dict_orig[layer]\n",
    "\n",
    "    try:\n",
    "        this_dict = pickle.load(open(act_path, 'rb'))\n",
    "    except:\n",
    "        this_dict = {}\n",
    "        \n",
    "    #print(nn)\n",
    "    \n",
    "    acts_ran = np.zeros((len(image_list),n))\n",
    "    orig = np.zeros((len(image_list),nn[1],nn[2],nn[3]))\n",
    "    \n",
    "    for idx,image_path in enumerate(image_list):\n",
    "        if image_path not in this_dict:\n",
    "            img = prep2(os.path.join(concept_dir,image_path))\n",
    "            this_img = np.expand_dims(img, axis=0)\n",
    "            acts_orig = get_acts_for_layer_new(layer,this_img)\n",
    "            acts_ran[idx] = acts_orig.reshape(-1)\n",
    "            orig[idx] = acts_orig\n",
    "            this_dict[image_path] = (acts_orig.reshape(-1),acts_orig)\n",
    "        else:\n",
    "            acts_ran[idx],orig[idx] = this_dict[image_path]\n",
    "            #print('acts already exist')\n",
    "\n",
    "    pickle.dump(this_dict,open(act_path, 'wb'))\n",
    "    \n",
    "    return acts_ran,orig\n",
    "\n",
    "\n",
    "def make_orig_cav(x_train,y_train):\n",
    "    lm = linear_model.SGDClassifier(alpha=.1)\n",
    "    lm.fit(x_train, y_train)\n",
    "    this_cav = -lm.coef_[0]\n",
    "    return this_cav\n",
    "\n",
    "def make_orig_cav_seed(x_train,y_train,seed):\n",
    "    lm = linear_model.SGDClassifier(alpha=.1,random_state=seed)\n",
    "    lm.fit(x_train, y_train)\n",
    "    this_cav = -lm.coef_[0]\n",
    "    return this_cav\n",
    "\n",
    "def make_L1_cav(x_train,y_train):\n",
    "    x_train_p_list,x_train_n_list =[],[]\n",
    "    for idx,a in enumerate(x_train):\n",
    "        if y_train[idx] == 0:\n",
    "            x_train_p_list.append(a)\n",
    "        else:\n",
    "            x_train_n_list.append(a)\n",
    "\n",
    "    x_train_p, x_train_n = np.array(x_train_p_list),np.array(x_train_n_list)\n",
    "    L1_cav = get_L1(x_train_p) - get_L1(x_train_n)\n",
    "    return L1_cav\n",
    "\n",
    "def make_centroid_cav(x_train,y_train):\n",
    "    x_train_p_list,x_train_n_list =[],[]\n",
    "    for idx,a in enumerate(x_train):\n",
    "        if y_train[idx] == 0:\n",
    "            x_train_p_list.append(a)\n",
    "        else:\n",
    "            x_train_n_list.append(a)\n",
    "\n",
    "    x_train_p, x_train_n = np.array(x_train_p_list),np.array(x_train_n_list)\n",
    "    centroid_cav = x_train_p.mean(axis=1) - x_train_n.mean(axis=1)\n",
    "    return centroid_cav\n",
    "\n",
    "def make_L1_cav_and_means(x_train,y_train):\n",
    "    x_train_p_list,x_train_n_list =[],[]\n",
    "    for idx,a in enumerate(x_train):\n",
    "        if y_train[idx] == 0:\n",
    "            x_train_p_list.append(a)\n",
    "        else:\n",
    "            x_train_n_list.append(a)\n",
    "\n",
    "    x_train_p, x_train_n = np.array(x_train_p_list),np.array(x_train_n_list)\n",
    "    mu_p = get_L1(x_train_p)\n",
    "    mu_n = get_L1(x_train_n)\n",
    "    L1_cav = mu_p - mu_n\n",
    "    return L1_cav,mu_p,mu_n\n",
    "\n",
    "def get_L1(act_for_L1):\n",
    "    return np.linalg.norm(act_for_L1,2,axis = 0) / act_for_L1.shape[0]"
   ]
  },
  {
   "cell_type": "code",
   "execution_count": null,
   "metadata": {},
   "outputs": [],
   "source": []
  }
 ],
 "metadata": {
  "kernelspec": {
   "display_name": "Python 3",
   "language": "python",
   "name": "python3"
  },
  "language_info": {
   "codemirror_mode": {
    "name": "ipython",
    "version": 3
   },
   "file_extension": ".py",
   "mimetype": "text/x-python",
   "name": "python",
   "nbconvert_exporter": "python",
   "pygments_lexer": "ipython3",
   "version": "3.6.8"
  }
 },
 "nbformat": 4,
 "nbformat_minor": 2
}
