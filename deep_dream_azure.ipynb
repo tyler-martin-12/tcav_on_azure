{
 "cells": [
  {
   "cell_type": "markdown",
   "metadata": {},
   "source": [
    "#python deep_dream.py path_to_your_base_image.jpg prefix_for_results\n",
    "#python deep_dream.py img/mypic.jpg results/dream\n",
    "\n",
    "#from __future__ import print_function\n",
    "\n",
    "\n",
    "from tensorflow import keras\n",
    "\n",
    "import numpy as np\n",
    "import argparse\n",
    "\n",
    "from keras.applications import inception_v3\n",
    "from keras import backend as K\n",
    "from keras.preprocessing import image\n",
    "\n",
    "\n",
    "from keras.applications.inception_v3 import preprocess_input\n",
    "from keras.applications.inception_v3 import decode_predictions\n",
    "from keras.models import Model, load_model\n",
    "\n",
    "import os\n",
    "os.environ['KERAS_BACKEND'] = 'tensorflow'"
   ]
  },
  {
   "cell_type": "code",
   "execution_count": 1,
   "metadata": {},
   "outputs": [
    {
     "name": "stderr",
     "output_type": "stream",
     "text": [
      "Using TensorFlow backend.\n"
     ]
    }
   ],
   "source": [
    "import os\n",
    "os.environ['KERAS_BACKEND'] = 'tensorflow'\n",
    "from tensorflow import keras\n",
    "from keras.applications import inception_v3\n",
    "from keras.applications.inception_v3 import decode_predictions\n",
    "from keras.models import Model, load_model\n",
    "import keras.backend as K\n",
    "from keras.preprocessing.image import load_img, img_to_array\n",
    "\n",
    "\n",
    "from sklearn.metrics.pairwise import cosine_similarity\n",
    "import numpy as np\n",
    "from numpy.linalg import norm\n",
    "import scipy\n",
    "\n",
    "import pickle\n",
    "\n",
    "from os import listdir\n",
    "from os.path import isfile, join\n",
    "import operator\n",
    "from PIL import Image\n",
    "from keras.preprocessing import image\n",
    "\n",
    "import os\n",
    "import math\n",
    "\n",
    "import PIL.Image\n",
    "from sklearn.metrics import pairwise\n",
    "import matplotlib.pyplot as plt\n",
    "from keras.applications.inception_v3 import preprocess_input\n",
    "\n",
    "from sklearn import linear_model\n",
    "from sklearn import metrics\n",
    "from sklearn.model_selection import train_test_split\n",
    "\n",
    "import warnings\n",
    "warnings.filterwarnings(\"ignore\", category=DeprecationWarning)\n",
    "warnings.filterwarnings(\"ignore\", category=FutureWarning)\n",
    "\n",
    "import pandas as pd\n",
    "from scipy import stats\n",
    "\n",
    "import tensorflow as tf\n"
   ]
  },
  {
   "cell_type": "code",
   "execution_count": 2,
   "metadata": {},
   "outputs": [
    {
     "data": {
      "text/plain": [
       "'tensorflow'"
      ]
     },
     "execution_count": 2,
     "metadata": {},
     "output_type": "execute_result"
    }
   ],
   "source": [
    "K.backend()"
   ]
  },
  {
   "cell_type": "code",
   "execution_count": 3,
   "metadata": {},
   "outputs": [
    {
     "name": "stdout",
     "output_type": "stream",
     "text": [
      "Model loaded.\n"
     ]
    }
   ],
   "source": [
    "K.set_learning_phase(0)\n",
    "\n",
    "model = inception_v3.InceptionV3(weights='imagenet',include_top=False)\n",
    "dream = model.input\n",
    "print('Model loaded.')"
   ]
  },
  {
   "cell_type": "code",
   "execution_count": 22,
   "metadata": {},
   "outputs": [
    {
     "data": {
      "text/plain": [
       "\"\\nconcept = 'striped_sub_1'\\nlayer_names = ['mixed0','mixed1','mixed2','mixed3','mixed4','mixed5','mixed6','mixed7','mixed8','mixed9','mixed10']\\nlayer_names = ['mixed6']\\nfor layer_name in layer_names:\\n    subpath = concept + '-random500_0-' + layer_name\\n    cav_path = 'cav_dir/' + subpath + '-linear-0.1.pkl'\\n    path = os.path.join(working_dir, cav_path)\\n    this_cav = cav.CAV.load_cav(path)\\n    cav_dict[layer_name] = this_cav.cavs[0]\\n\""
      ]
     },
     "execution_count": 22,
     "metadata": {},
     "output_type": "execute_result"
    }
   ],
   "source": [
    "import os\n",
    "import cav\n",
    "working_dir = '/Users/tyler/Desktop/dissertation/programming/tcav_on_azure'\n",
    "\n",
    "concept = 'horizontal'\n",
    "cav_dict = {}\n",
    "layer_names = ['mixed0','mixed1','mixed2','mixed3','mixed4','mixed5','mixed6','mixed7','mixed8','mixed9','mixed10']\n",
    "#layer_names = ['mixed0']\n",
    "for layer_name in layer_names:\n",
    "    subpath = concept + '-random500_0-' + layer_name\n",
    "    cav_path = 'cav_dir/' + subpath + '-linear-0.1.pkl'\n",
    "    path = os.path.join(working_dir, cav_path)\n",
    "    this_cav = cav.CAV.load_cav(path)\n",
    "    cav_dict[layer_name] = this_cav.cavs[0]\n",
    "    \n",
    "'''\n",
    "concept = 'striped_sub_1'\n",
    "layer_names = ['mixed0','mixed1','mixed2','mixed3','mixed4','mixed5','mixed6','mixed7','mixed8','mixed9','mixed10']\n",
    "layer_names = ['mixed6']\n",
    "for layer_name in layer_names:\n",
    "    subpath = concept + '-random500_0-' + layer_name\n",
    "    cav_path = 'cav_dir/' + subpath + '-linear-0.1.pkl'\n",
    "    path = os.path.join(working_dir, cav_path)\n",
    "    this_cav = cav.CAV.load_cav(path)\n",
    "    cav_dict[layer_name] = this_cav.cavs[0]\n",
    "'''"
   ]
  },
  {
   "cell_type": "code",
   "execution_count": 65,
   "metadata": {},
   "outputs": [],
   "source": [
    "concept_p = 'grassland_sub_3'\n",
    "concept_n = 'N_0'\n",
    "target_class = 'zebra'\n",
    "split_seed = 1\n",
    "\n",
    "#cav_dict = {}\n",
    "\n",
    "replace_these = ['mixed7','mixed8','mixed9','mixed10']\n",
    "\n",
    "for layer in replace_these:\n",
    "    acts_p,_ = get_acts_for_concept(concept_p,layer)\n",
    "    acts_n,_ = get_acts_for_concept(concept_n,layer)\n",
    "    #_,acts_class = get_acts_for_concept(target_class,layer)\n",
    "\n",
    "    x = np.concatenate((acts_p,acts_n))\n",
    "    y = np.concatenate((np.zeros(500),np.ones(500)))\n",
    "\n",
    "    x_train, x_test, y_train, y_test = train_test_split(x, y, test_size=0.33, stratify=y,random_state=split_seed)\n",
    "\n",
    "    x_train_p_list,x_train_n_list =[],[]\n",
    "    for idx,a in enumerate(x_train):\n",
    "        if y_train[idx] == 0:\n",
    "            x_train_p_list.append(a)\n",
    "        else:\n",
    "            x_train_n_list.append(a)\n",
    "\n",
    "    x_train_p, x_train_n = np.array(x_train_p_list),np.array(x_train_n_list)\n",
    "\n",
    "    mu_p = (x_train_p).mean(axis=0)\n",
    "    mu_n = (x_train_n).mean(axis=0)\n",
    "    cav_params = mu_p - mu_n\n",
    "    cav_dict[layer] = cav_params"
   ]
  },
  {
   "cell_type": "code",
   "execution_count": 24,
   "metadata": {},
   "outputs": [],
   "source": [
    "#for layer in layer_names:\n",
    "#    if layer not in cav_dict:\n",
    "#        cav_dict[layer] = ''"
   ]
  },
  {
   "cell_type": "code",
   "execution_count": 66,
   "metadata": {},
   "outputs": [],
   "source": [
    "step = 0.02  # Gradient ascent step size\n",
    "num_octave = 4  # Number of scales at which to run gradient ascent\n",
    "octave_scale = 1.4  # Size ratio between scales\n",
    "iterations = 30  # Number of ascent steps per scale\n",
    "max_loss = 100000000000\n",
    "\n",
    "\n",
    "#result_prefix = '/home/tyler/Desktop/tcav_on_azure/results/test'\n",
    "\n",
    "size_dict = {'mixed0': 313600,'mixed1': 352800,'mixed2': 352800,'mixed3': 221952,'mixed4': 221952,'mixed5': 221952,'mixed6': 221952,'mixed7': 221952,'mixed8': 81920,'mixed9': 131072,'mixed10': 131072}\n",
    "\n",
    "settings = {\n",
    "    'features': {\n",
    "        #'mixed0': 0,#/313600,\n",
    "        #'mixed1': 1,#/352800,\n",
    "        #'mixed2': 0,#/352800,\n",
    "        #'mixed3': 0,#/221952,\n",
    "        #'mixed4': 0,#/221952,\n",
    "        #'mixed5': 0,#/221952,\n",
    "        #'mixed6': 0,#/221952,\n",
    "        'mixed7': 1,#/221952,\n",
    "        'mixed8': 1,#/81920,\n",
    "        'mixed9': 1,#/131072,\n",
    "        'mixed10': 1#/131072\n",
    "    },}"
   ]
  },
  {
   "cell_type": "code",
   "execution_count": 67,
   "metadata": {},
   "outputs": [],
   "source": [
    "#cav_dict['mixed9'] = pickle.load(open('mu_great_dane_9','rb'))\n",
    "#cav_dict['mixed8'] = pickle.load(open('mu_great_dane_8','rb'))\n",
    "#cav_dict['mixed7'] = pickle.load(open('mu_great_dane_7','rb'))\n",
    "#cav_dict['mixed6'] = pickle.load(open('mu_great_dane_6','rb'))"
   ]
  },
  {
   "cell_type": "code",
   "execution_count": null,
   "metadata": {},
   "outputs": [],
   "source": []
  },
  {
   "cell_type": "code",
   "execution_count": 68,
   "metadata": {},
   "outputs": [
    {
     "name": "stdout",
     "output_type": "stream",
     "text": [
      "?\n",
      "221952 mixed7\n",
      "Tensor(\"strided_slice_19:0\", shape=(), dtype=int32)\n",
      "layer_cav shape is (?, 1)\n",
      "acts shape is (1, ?)\n",
      "?\n",
      "81920 mixed8\n",
      "Tensor(\"strided_slice_20:0\", shape=(), dtype=int32)\n",
      "layer_cav shape is (?, 1)\n",
      "acts shape is (1, ?)\n",
      "?\n",
      "131072 mixed9\n",
      "Tensor(\"strided_slice_21:0\", shape=(), dtype=int32)\n",
      "layer_cav shape is (?, 1)\n",
      "acts shape is (1, ?)\n",
      "?\n",
      "131072 mixed10\n",
      "Tensor(\"strided_slice_22:0\", shape=(), dtype=int32)\n",
      "layer_cav shape is (?, 1)\n",
      "acts shape is (1, ?)\n"
     ]
    }
   ],
   "source": [
    "layer_dict = dict([(layer.name, layer) for layer in model.layers])\n",
    "\n",
    "sess = K.get_session()\n",
    "\n",
    "loss_2 = K.variable(0.)\n",
    "for layer_name in settings['features']:\n",
    "    coeff = settings['features'][layer_name]\n",
    "    \n",
    "    assert layer_name in layer_dict.keys(), 'Layer ' + layer_name + ' not found in model.'\n",
    "\n",
    "    coeff = settings['features'][layer_name]\n",
    "    acts = layer_dict[layer_name].output\n",
    "    flat_acts = K.flatten(acts)\n",
    "    \n",
    "    len_of_acts = flat_acts.shape[0]\n",
    "    print(len_of_acts)\n",
    "    \n",
    "    layer_cav = K.variable(cav_dict[layer_name].reshape(-1,1))\n",
    "    #layer_cav_slice = K.slice(layer_cav,0,flat_acts.shape[0])\n",
    "    n = layer_cav.shape[0]\n",
    "    print(n, layer_name)\n",
    "    n_tensor = K.constant(n.value/1000)\n",
    "    \n",
    "    features_shape = tf.shape(flat_acts)\n",
    "    H = features_shape[0]\n",
    "    #W = features_shape[2]\n",
    "\n",
    "    #layer_cav_slice = K.reshape(layer_cav, shape=[H,1])\n",
    "    print(H)\n",
    "    layer_cav_slice = K.slice(layer_cav,(0,0),(H,1))\n",
    "\n",
    "    flat_acts_slice = K.reshape(flat_acts, shape=[1,H])\n",
    "    \n",
    "    \n",
    "    print('layer_cav shape is ' + str(layer_cav_slice.shape))\n",
    "    print('acts shape is ' + str(flat_acts_slice.shape))\n",
    "    \n",
    "    #loss_2 += coeff * K.dot(K.reshape(acts,(1,n)),layer_cav)\n",
    "    \n",
    "    #scaling = K.prod(K.cast(K.shape(acts), 'float32'))\n",
    "    \n",
    "    loss_2 += coeff * K.dot(flat_acts_slice,layer_cav_slice) #/ scaling\n",
    "    \n",
    "    #loss_2 += coeff * eu_distance(acts,layer_cav)\n",
    "    #loss_2 -= K.sum(K.abs(K.reshape(acts,(n,1))-layer_cav),axis=0,keepdims=False)\n",
    "    #loss_2 += cosine_distance((flat_acts,layer_cav))\n",
    "    #loss_2 += K.dot(K.reshape(acts,(1,n)),layer_cav) / n_tensor\n",
    "\n",
    "    #print(loss_2.shape)\n",
    "\n",
    "#loss_2 += 1000 * K.sum(K.square(model.input)) / (3 * 299 * 299)\n",
    "\n",
    "#loss_2 -= 1 * K.sum(K.abs(model.input))\n",
    "\n",
    "#loss_2 = loss\n",
    "grads_2 = K.gradients(loss_2, model.input)[0]\n",
    "grads_2 /= K.maximum(K.mean(K.abs(grads_2)), K.epsilon())\n",
    "\n",
    "outputs_2 = [loss_2, grads_2, acts]\n",
    "fetch_loss_and_grads_2 = K.function([model.input], outputs_2)\n",
    "\n",
    "\n",
    "\n",
    "def eval_loss_and_grads(x):\n",
    "    outs = fetch_loss_and_grads_2([x])\n",
    "    loss_value = outs[0]\n",
    "    grad_values = outs[1]\n",
    "    return loss_value, grad_values\n",
    "\n",
    "def gradient_ascent(x, iterations, step, max_loss=None):\n",
    "    for i in range(iterations):\n",
    "        jitter =  2*(np.random.random((img.shape[1], img.shape[2], 3)) - 0.5) * jitter_setting\n",
    "        jitter = np.expand_dims(jitter, axis=0)\n",
    "        #x += jitter\n",
    "        loss_value, grad_values = eval_loss_and_grads(x)\n",
    "        if max_loss is not None and loss_value > max_loss:\n",
    "            break\n",
    "        if i % 5 == 0:\n",
    "            print('..Loss value at', i, ':', loss_value)\n",
    "        x += step * grad_values\n",
    "        #x -= jitter\n",
    "    return x"
   ]
  },
  {
   "cell_type": "code",
   "execution_count": null,
   "metadata": {},
   "outputs": [],
   "source": []
  },
  {
   "cell_type": "markdown",
   "metadata": {},
   "source": [
    "## With Scaling"
   ]
  },
  {
   "cell_type": "code",
   "execution_count": 69,
   "metadata": {},
   "outputs": [],
   "source": [
    "base_image_path = os.path.join(working_dir,'concepts/horse_sub_1/img252.jpg')\n",
    "base_image_path = os.path.join(working_dir,'concepts/noise_white/img1.jpg')\n",
    "#base_image_path = os.path.join(working_dir,'sky.jpg')\n",
    "\n",
    "jitter_setting = .1"
   ]
  },
  {
   "cell_type": "code",
   "execution_count": 70,
   "metadata": {},
   "outputs": [
    {
     "name": "stdout",
     "output_type": "stream",
     "text": [
      "Processing image shape (108, 108)\n",
      "..Loss value at 0 : [[2190.1812]]\n",
      "..Loss value at 5 : [[1839.884]]\n",
      "..Loss value at 10 : [[3039.6975]]\n",
      "..Loss value at 15 : [[3417.1626]]\n",
      "..Loss value at 20 : [[4090.8093]]\n",
      "..Loss value at 25 : [[4477.42]]\n",
      "Processing image shape (152, 152)\n",
      "..Loss value at 0 : [[1692.6406]]\n",
      "..Loss value at 5 : [[2915.386]]\n",
      "..Loss value at 10 : [[3296.0166]]\n",
      "..Loss value at 15 : [[4708.342]]\n",
      "..Loss value at 20 : [[5438.8433]]\n",
      "..Loss value at 25 : [[5732.161]]\n",
      "Processing image shape (213, 213)\n",
      "..Loss value at 0 : [[1225.9834]]\n",
      "..Loss value at 5 : [[5074.296]]\n",
      "..Loss value at 10 : [[6083.306]]\n",
      "..Loss value at 15 : [[6852.213]]\n",
      "..Loss value at 20 : [[7421.0254]]\n",
      "..Loss value at 25 : [[8257.498]]\n",
      "Processing image shape (299, 299)\n",
      "..Loss value at 0 : [[10603.551]]\n",
      "..Loss value at 5 : [[19647.838]]\n",
      "..Loss value at 10 : [[27796.674]]\n",
      "..Loss value at 15 : [[34633.086]]\n",
      "..Loss value at 20 : [[37730.805]]\n",
      "..Loss value at 25 : [[43783.44]]\n"
     ]
    }
   ],
   "source": [
    "tf.logging.set_verbosity(0)\n",
    "\n",
    "img_pic = image.load_img(base_image_path, target_size=(350, 350))\n",
    "#img = image.img_to_array(img_pic)\n",
    "img = preprocess_image(base_image_path)\n",
    "img = resize_img(img,(299,299,3))\n",
    "#img = np.expand_dims(img, axis=0) / 255\n",
    "\n",
    "#jitter =  .1*(np.random.random((img.shape[1], img.shape[2], 3)) - 0.5) * jitter_setting\n",
    "#jitter = np.expand_dims(jitter, axis=0)\n",
    "#img += jitter\n",
    "    \n",
    "if K.image_data_format() == 'channels_first':\n",
    "    original_shape = img.shape[2:]\n",
    "else:\n",
    "    original_shape = img.shape[1:3]\n",
    "successive_shapes = [original_shape]\n",
    "for i in range(1, num_octave):\n",
    "    shape = tuple([int(dim / (octave_scale ** i)) for dim in original_shape])\n",
    "    x,y = shape\n",
    "    if x < 400 and y < 400:\n",
    "        successive_shapes.append(shape)\n",
    "successive_shapes = successive_shapes[::-1]\n",
    "original_img = np.copy(img)\n",
    "shrunk_original_img = resize_img(img, successive_shapes[0])\n",
    "\n",
    "for shape in successive_shapes:\n",
    "    print('Processing image shape', shape)\n",
    "    img = resize_img(img, shape)\n",
    "\n",
    "    img = gradient_ascent(img,\n",
    "                          iterations=iterations,\n",
    "                          step=step,\n",
    "                          max_loss=max_loss)\n",
    "    upscaled_shrunk_original_img = resize_img(shrunk_original_img, shape)\n",
    "    same_size_original = resize_img(original_img, shape)\n",
    "    lost_detail = same_size_original - upscaled_shrunk_original_img\n",
    "    \n",
    "    img += lost_detail\n",
    "    shrunk_original_img = resize_img(original_img, shape)\n",
    "img -= jitter\n",
    "save_img(img, fname='results/tmp.png')"
   ]
  },
  {
   "cell_type": "code",
   "execution_count": 71,
   "metadata": {},
   "outputs": [
    {
     "data": {
      "image/png": "[encoded data removed]",
      "text/plain": [
       "<PIL.PngImagePlugin.PngImageFile image mode=RGB size=299x299 at 0x1C3C57BA90>"
      ]
     },
     "execution_count": 71,
     "metadata": {},
     "output_type": "execute_result"
    }
   ],
   "source": [
    "#img_path = 'concepts/striped_sub_1/striped_0004.jpg'\n",
    "img_path = 'results/tmp.png'\n",
    "show_img = image.load_img(img_path)\n",
    "show_img"
   ]
  },
  {
   "cell_type": "code",
   "execution_count": 505,
   "metadata": {},
   "outputs": [],
   "source": [
    "#decode_predictions(preds, top=3)"
   ]
  },
  {
   "cell_type": "code",
   "execution_count": null,
   "metadata": {},
   "outputs": [],
   "source": []
  },
  {
   "cell_type": "code",
   "execution_count": null,
   "metadata": {},
   "outputs": [],
   "source": [
    "model = load_model('v3_model.h5')"
   ]
  },
  {
   "cell_type": "code",
   "execution_count": null,
   "metadata": {},
   "outputs": [],
   "source": [
    "#get_prediction(prep(img_path))\n",
    "preds = sess.run(endpoints_v3['prediction'], {endpoints_v3['input']: prep(img_path)})"
   ]
  },
  {
   "cell_type": "code",
   "execution_count": null,
   "metadata": {},
   "outputs": [],
   "source": [
    "preds.shape"
   ]
  },
  {
   "cell_type": "code",
   "execution_count": null,
   "metadata": {},
   "outputs": [],
   "source": []
  },
  {
   "cell_type": "code",
   "execution_count": null,
   "metadata": {},
   "outputs": [],
   "source": []
  },
  {
   "cell_type": "code",
   "execution_count": 5,
   "metadata": {},
   "outputs": [],
   "source": [
    "sess = K.get_session()\n",
    "\n",
    "endpoints_v3 = dict(\n",
    "    input=model.inputs[0].name,\n",
    "    input_tensor=model.inputs[0],\n",
    "    logit=model.outputs[0].name,\n",
    "    prediction=model.outputs[0].name,\n",
    "    prediction_tensor=model.outputs[0],)"
   ]
  },
  {
   "cell_type": "code",
   "execution_count": 6,
   "metadata": {},
   "outputs": [],
   "source": [
    "def get_prediction(img):\n",
    "    img = preprocess_input(img)\n",
    "    preds = sess.run(endpoints_v3['prediction'], {endpoints_v3['input']: img})\n",
    "    top = decode_predictions(preds, top=3)\n",
    "    return top\n",
    "\n",
    "def prep(path):\n",
    "    img_pic = image.load_img(path, target_size=(299, 299))\n",
    "    img = image.img_to_array(img_pic)\n",
    "    img = np.expand_dims(img, axis=0)\n",
    "    img = preprocess_input(img)\n",
    "    return img"
   ]
  },
  {
   "cell_type": "code",
   "execution_count": 7,
   "metadata": {},
   "outputs": [],
   "source": [
    "#save_img(img, fname='results/zebra/0_1_2_3.png')"
   ]
  },
  {
   "cell_type": "code",
   "execution_count": 8,
   "metadata": {},
   "outputs": [],
   "source": [
    "#show_img = image.load_img('results/striped_7_8_9.png', target_size=(299, 299))\n",
    "#show_img"
   ]
  },
  {
   "cell_type": "code",
   "execution_count": 9,
   "metadata": {},
   "outputs": [
    {
     "ename": "NameError",
     "evalue": "name 'img_pic' is not defined",
     "output_type": "error",
     "traceback": [
      "\u001b[0;31m---------------------------------------------------------------------------\u001b[0m",
      "\u001b[0;31mNameError\u001b[0m                                 Traceback (most recent call last)",
      "\u001b[0;32m<ipython-input-9-d7d2c95f7111>\u001b[0m in \u001b[0;36m<module>\u001b[0;34m\u001b[0m\n\u001b[0;32m----> 1\u001b[0;31m \u001b[0mimg_pic\u001b[0m\u001b[0;34m\u001b[0m\u001b[0;34m\u001b[0m\u001b[0m\n\u001b[0m",
      "\u001b[0;31mNameError\u001b[0m: name 'img_pic' is not defined"
     ]
    }
   ],
   "source": [
    "img_pic"
   ]
  },
  {
   "cell_type": "code",
   "execution_count": null,
   "metadata": {},
   "outputs": [],
   "source": []
  },
  {
   "cell_type": "code",
   "execution_count": null,
   "metadata": {},
   "outputs": [],
   "source": [
    "#img_in = image.load_img(base_image_path, target_size=(299, 299))\n",
    "# 1. run model\n",
    "# 2. run bottlenecks_tensors\n",
    "# 3. sess = K.get_session()\n",
    "img = preprocess_image(base_image_path)\n",
    "bottleneck_name = 'mixed9'\n",
    "layer_9_acts = sess.run(bottlenecks_tensors[bottleneck_name],{model.input: img})"
   ]
  },
  {
   "cell_type": "code",
   "execution_count": null,
   "metadata": {},
   "outputs": [],
   "source": [
    "#layer_9_acts.shape"
   ]
  },
  {
   "cell_type": "code",
   "execution_count": null,
   "metadata": {},
   "outputs": [],
   "source": [
    "img.shape"
   ]
  },
  {
   "cell_type": "code",
   "execution_count": null,
   "metadata": {},
   "outputs": [],
   "source": [
    "successive_shapes\n",
    "img = resize_img(img, shape)"
   ]
  },
  {
   "cell_type": "code",
   "execution_count": null,
   "metadata": {},
   "outputs": [],
   "source": [
    "img.shape"
   ]
  },
  {
   "cell_type": "code",
   "execution_count": null,
   "metadata": {},
   "outputs": [],
   "source": [
    "#img = preprocess_image(base_image_path)\n",
    "bottleneck_name = 'mixed9'\n",
    "layer_9_acts = sess.run(bottlenecks_tensors[bottleneck_name],{model.input: img})"
   ]
  },
  {
   "cell_type": "code",
   "execution_count": null,
   "metadata": {},
   "outputs": [],
   "source": [
    "layer_9_acts.shape"
   ]
  },
  {
   "cell_type": "code",
   "execution_count": null,
   "metadata": {},
   "outputs": [],
   "source": [
    "img.shape"
   ]
  },
  {
   "cell_type": "code",
   "execution_count": null,
   "metadata": {},
   "outputs": [],
   "source": [
    "img = gradient_ascent(img,\n",
    "                      iterations=iterations,\n",
    "                      step=step,\n",
    "                      max_loss=max_loss)"
   ]
  },
  {
   "cell_type": "code",
   "execution_count": null,
   "metadata": {},
   "outputs": [],
   "source": [
    "x = img\n",
    "eval_loss_and_grads(x)"
   ]
  },
  {
   "cell_type": "code",
   "execution_count": null,
   "metadata": {},
   "outputs": [],
   "source": [
    "layer_cav = K.constant(cav_dict[layer_name].reshape(-1,1))\n",
    "n = layer_cav.shape[0]\n",
    "print(n, layer_name)\n",
    "#n_tensor = K.constant(n.value/1000)\n",
    "\n",
    "coeff = settings['features'][layer_name]\n",
    "acts = layer_dict[layer_name].output\n",
    "#flat_acts = K.variable(K.reshape(acts,(1,n)))\n",
    "\n",
    "#loss_2 += coeff * K.dot(K.reshape(acts,(1,n)),layer_cav) / n_tensor"
   ]
  },
  {
   "cell_type": "code",
   "execution_count": null,
   "metadata": {},
   "outputs": [],
   "source": [
    "acts"
   ]
  },
  {
   "cell_type": "code",
   "execution_count": null,
   "metadata": {},
   "outputs": [],
   "source": [
    "acts_sq = K.squeeze(acts,axis = 1)"
   ]
  },
  {
   "cell_type": "code",
   "execution_count": null,
   "metadata": {},
   "outputs": [],
   "source": [
    "acts_sq"
   ]
  },
  {
   "cell_type": "code",
   "execution_count": null,
   "metadata": {},
   "outputs": [],
   "source": [
    "flat_acts"
   ]
  },
  {
   "cell_type": "code",
   "execution_count": null,
   "metadata": {},
   "outputs": [],
   "source": [
    "layer_cav"
   ]
  },
  {
   "cell_type": "code",
   "execution_count": null,
   "metadata": {},
   "outputs": [],
   "source": [
    "K.slice(acts)"
   ]
  },
  {
   "cell_type": "code",
   "execution_count": null,
   "metadata": {},
   "outputs": [],
   "source": [
    "layer_cav"
   ]
  },
  {
   "cell_type": "code",
   "execution_count": null,
   "metadata": {},
   "outputs": [],
   "source": [
    "layer_dict['mixed9'].output"
   ]
  },
  {
   "cell_type": "code",
   "execution_count": null,
   "metadata": {},
   "outputs": [],
   "source": []
  },
  {
   "cell_type": "code",
   "execution_count": null,
   "metadata": {},
   "outputs": [],
   "source": [
    "cav_dict['mixed9'].shape[0]"
   ]
  },
  {
   "cell_type": "code",
   "execution_count": null,
   "metadata": {},
   "outputs": [],
   "source": [
    "cav_dict['mixed9'].shape[0] / 2048"
   ]
  },
  {
   "cell_type": "code",
   "execution_count": null,
   "metadata": {},
   "outputs": [],
   "source": [
    "x / 288"
   ]
  },
  {
   "cell_type": "code",
   "execution_count": null,
   "metadata": {},
   "outputs": [],
   "source": []
  },
  {
   "cell_type": "code",
   "execution_count": null,
   "metadata": {},
   "outputs": [],
   "source": [
    "model.layers.o"
   ]
  },
  {
   "cell_type": "code",
   "execution_count": null,
   "metadata": {},
   "outputs": [],
   "source": [
    "layer_cav.set_shape(acts.shape)"
   ]
  },
  {
   "cell_type": "code",
   "execution_count": null,
   "metadata": {},
   "outputs": [],
   "source": [
    "#image.img_to_array(img_pic)"
   ]
  },
  {
   "cell_type": "code",
   "execution_count": null,
   "metadata": {},
   "outputs": [],
   "source": []
  },
  {
   "cell_type": "code",
   "execution_count": null,
   "metadata": {},
   "outputs": [],
   "source": [
    "## No scaling"
   ]
  },
  {
   "cell_type": "code",
   "execution_count": null,
   "metadata": {},
   "outputs": [],
   "source": [
    "tf.logging.set_verbosity(0)\n",
    "\n",
    "base_image_path = 'concepts/striped_sub_1/striped_0004.jpg'\n",
    "base_image_path = '/home/tyler/Desktop/tcav_on_azure/concepts/noise_white/img1.jpg'\n",
    "\n",
    "img_pic = image.load_img(base_image_path, target_size=(299, 299))\n",
    "img = image.img_to_array(img_pic)\n",
    "img = np.expand_dims(img, axis=0)\n",
    "img = inception_v3.preprocess_input(img)\n",
    "\n",
    "jitter =  2*(np.random.random((img.shape[1], img.shape[2], 3)) - 0.5) * .05\n",
    "jitter = np.expand_dims(jitter, axis=0)\n",
    "img += jitter\n",
    "\n",
    "#original_img = np.copy(img)\n",
    "img = gradient_ascent(img,iterations=iterations,step=step,max_loss=max_loss)\n",
    "\n",
    "img -= jitter\n",
    "\n",
    "img_name = 'placeholder'\n",
    "save_img(img, fname='results/' + img_name + '.png')"
   ]
  },
  {
   "cell_type": "code",
   "execution_count": null,
   "metadata": {},
   "outputs": [],
   "source": []
  },
  {
   "cell_type": "code",
   "execution_count": null,
   "metadata": {},
   "outputs": [],
   "source": []
  },
  {
   "cell_type": "code",
   "execution_count": null,
   "metadata": {},
   "outputs": [],
   "source": [
    "    #flat_act = np.reshape(np.asarray(acts).squeeze(), -1)\n",
    "    #flat_act_norm = keras.utils.normalize(flat_act)\n",
    "    #loss2 = euclidean_distance(vec_norm(layer_9_cav),flat_act_norm)\n",
    "    \n",
    "    #loss_2 += K.sum(K.square(K.reshape(acts,(131072,)) - layer_9_cav_K))\n",
    "    #loss_2 += K.dot(K.reshape(acts,(1,131072)),K.transpose(layer_9_cav_K))"
   ]
  },
  {
   "cell_type": "code",
   "execution_count": null,
   "metadata": {},
   "outputs": [],
   "source": [
    "layer_name = 'mixed9'\n",
    "layer_out = layer_dict[layer_name].output"
   ]
  },
  {
   "cell_type": "code",
   "execution_count": null,
   "metadata": {},
   "outputs": [],
   "source": [
    "layer_out"
   ]
  },
  {
   "cell_type": "code",
   "execution_count": null,
   "metadata": {},
   "outputs": [],
   "source": [
    "img_in = shrunk_original_img"
   ]
  },
  {
   "cell_type": "code",
   "execution_count": null,
   "metadata": {},
   "outputs": [],
   "source": [
    "img_in.shape"
   ]
  },
  {
   "cell_type": "code",
   "execution_count": null,
   "metadata": {},
   "outputs": [],
   "source": [
    "new_acts = fetch_loss_and_grads_2([img_in])[0]"
   ]
  },
  {
   "cell_type": "code",
   "execution_count": null,
   "metadata": {},
   "outputs": [],
   "source": [
    "new_acts"
   ]
  },
  {
   "cell_type": "code",
   "execution_count": null,
   "metadata": {},
   "outputs": [],
   "source": [
    "layer_9_acts[0][5][0]"
   ]
  },
  {
   "cell_type": "code",
   "execution_count": null,
   "metadata": {},
   "outputs": [],
   "source": [
    "new_acts[0][5][0]"
   ]
  },
  {
   "cell_type": "markdown",
   "metadata": {},
   "source": [
    "## New Loss"
   ]
  },
  {
   "cell_type": "code",
   "execution_count": null,
   "metadata": {},
   "outputs": [],
   "source": [
    "def get_loss(this_img):\n",
    "    layer_9_acts = sess.run(bottlenecks_tensors[bottleneck_name],{endpoints_v3['input']: this_img})\n",
    "    flat_act = np.reshape(np.asarray(layer_9_acts).squeeze(), -1)\n",
    "    loss += euclidean_distance(vec_norm(layer_9_cav),vec_norm(flat_act))\n",
    "    \n",
    "    return loss"
   ]
  },
  {
   "cell_type": "code",
   "execution_count": null,
   "metadata": {},
   "outputs": [],
   "source": [
    "get_loss(original_img)"
   ]
  },
  {
   "cell_type": "code",
   "execution_count": null,
   "metadata": {},
   "outputs": [],
   "source": [
    "original_img.shape"
   ]
  },
  {
   "cell_type": "code",
   "execution_count": null,
   "metadata": {},
   "outputs": [],
   "source": [
    "sess = K.get_session()\n",
    "#my_graph = tf.get_default_graph()\n"
   ]
  },
  {
   "cell_type": "code",
   "execution_count": null,
   "metadata": {},
   "outputs": [],
   "source": [
    "#my_graph.get_collection()"
   ]
  },
  {
   "cell_type": "code",
   "execution_count": null,
   "metadata": {},
   "outputs": [],
   "source": []
  },
  {
   "cell_type": "code",
   "execution_count": null,
   "metadata": {},
   "outputs": [],
   "source": [
    "sess"
   ]
  },
  {
   "cell_type": "code",
   "execution_count": null,
   "metadata": {},
   "outputs": [],
   "source": [
    "model.input"
   ]
  },
  {
   "cell_type": "code",
   "execution_count": null,
   "metadata": {},
   "outputs": [],
   "source": [
    "this_img = original_img\n",
    "\n",
    "loss = K.variable(0.)\n",
    "layer_9_acts = sess.run(bottlenecks_tensors[bottleneck_name],{model.input: this_img})\n",
    "flat_act = np.reshape(np.asarray(layer_9_acts).squeeze(), -1)\n",
    "loss += euclidean_distance(vec_norm(layer_9_cav),vec_norm(flat_act))\n",
    "\n",
    "#K.clear_session()"
   ]
  },
  {
   "cell_type": "code",
   "execution_count": null,
   "metadata": {},
   "outputs": [],
   "source": [
    "layer_9_acts = layer_dict[layer_name].output"
   ]
  },
  {
   "cell_type": "code",
   "execution_count": null,
   "metadata": {},
   "outputs": [],
   "source": [
    "layer_9_acts"
   ]
  },
  {
   "cell_type": "code",
   "execution_count": null,
   "metadata": {},
   "outputs": [],
   "source": [
    "x.shape"
   ]
  },
  {
   "cell_type": "code",
   "execution_count": null,
   "metadata": {},
   "outputs": [],
   "source": [
    "sess.run(bottlenecks_tensors[bottleneck_name],\n",
    "                         {self.ends['input']: examples})"
   ]
  },
  {
   "cell_type": "code",
   "execution_count": null,
   "metadata": {},
   "outputs": [],
   "source": []
  },
  {
   "cell_type": "code",
   "execution_count": null,
   "metadata": {},
   "outputs": [],
   "source": [
    "#sess.run(bottlenecks_tensors[bottleneck_name],{model.input: img})"
   ]
  },
  {
   "cell_type": "code",
   "execution_count": null,
   "metadata": {},
   "outputs": [],
   "source": [
    "#layer_9_acts = sess.run(bottlenecks_tensors[bottleneck_name],{endpoints_v3['input']: img})\n",
    "\n",
    "#flat_act = np.reshape(np.asarray(layer_9_acts).squeeze(), -1)"
   ]
  },
  {
   "cell_type": "code",
   "execution_count": null,
   "metadata": {},
   "outputs": [],
   "source": [
    "#layer_9_acts = sess.run(bottlenecks_tensors[bottleneck_name],{endpoints_v3['input']: x})\n",
    "\n",
    "#flat_act = np.reshape(np.asarray(layer_9_acts).squeeze(), -1)\n",
    "\n",
    "#euclidean_distance(vec_norm(layer_9_cav),vec_norm(flat_act))"
   ]
  },
  {
   "cell_type": "markdown",
   "metadata": {},
   "source": [
    "## Static functions"
   ]
  },
  {
   "cell_type": "code",
   "execution_count": 10,
   "metadata": {},
   "outputs": [],
   "source": [
    "\n",
    "def preprocess_image(image_path):\n",
    "    # Util function to open, resize and format pictures\n",
    "    # into appropriate tensors.\n",
    "    img = load_img(image_path)\n",
    "    img = img_to_array(img)\n",
    "    img = np.expand_dims(img, axis=0)\n",
    "    img = inception_v3.preprocess_input(img)\n",
    "    return img\n",
    "\n",
    "\n",
    "def deprocess_image(x):\n",
    "    # Util function to convert a tensor into a valid image.\n",
    "    if K.image_data_format() == 'channels_first':\n",
    "        x = x.reshape((3, x.shape[2], x.shape[3]))\n",
    "        x = x.transpose((1, 2, 0))\n",
    "    else:\n",
    "        x = x.reshape((x.shape[1], x.shape[2], 3))\n",
    "    x /= 2.\n",
    "    x += 0.5\n",
    "    x *= 255.\n",
    "    x = np.clip(x, 0, 255).astype('uint8')\n",
    "    return x\n",
    "\n",
    "\n",
    "def resize_img(img, size):\n",
    "    img = np.copy(img)\n",
    "    if K.image_data_format() == 'channels_first':\n",
    "        factors = (1, 1,\n",
    "                   float(size[0]) / img.shape[2],\n",
    "                   float(size[1]) / img.shape[3])\n",
    "    else:\n",
    "        factors = (1,\n",
    "                   float(size[0]) / img.shape[1],\n",
    "                   float(size[1]) / img.shape[2],\n",
    "                   1)\n",
    "    return scipy.ndimage.zoom(img, factors, order=1)\n",
    "\n",
    "def euclidean_distance(a,b):\n",
    "    return np.linalg.norm(a-b)\n",
    "\n",
    "def vec_norm(vec):\n",
    "    return  vec / np.linalg.norm(vec)\n",
    "\n",
    "def get_bottleneck_tensors():\n",
    "    \"\"\"Add Inception bottlenecks and their pre-Relu versions to endpoints dict.\"\"\"\n",
    "    graph = tf.get_default_graph()\n",
    "    bn_endpoints = {}\n",
    "    for op in graph.get_operations():\n",
    "        # change this below string to change which layers are considered bottlenecks\n",
    "        # use 'ConcatV2' for InceptionV3\n",
    "        # use 'MaxPool' for VGG16 (for example)\n",
    "        if 'ConcatV2' in op.type:\n",
    "            name = op.name.split('/')[0]\n",
    "            bn_endpoints[name] = op.outputs[0]\n",
    "\n",
    "    return bn_endpoints\n",
    "\n",
    "endpoints_v3 = dict(\n",
    "    input=model.inputs[0].name,\n",
    "    input_tensor=model.inputs[0],\n",
    "    logit=model.outputs[0].name,\n",
    "    prediction=model.outputs[0].name,\n",
    "    prediction_tensor=model.outputs[0],\n",
    ")\n",
    "\n",
    "bottlenecks_tensors = get_bottleneck_tensors()\n",
    "bottleneck_name = 'mixed9'\n",
    "\n",
    "def save_img(img, fname):\n",
    "    pil_img = deprocess_image(np.copy(img))\n",
    "    scipy.misc.imsave(fname, pil_img)\n",
    "    \n",
    "def eu_distance(A,B):\n",
    "    return K.sum(K.abs(A-B),axis=1,keepdims=True)\n",
    "\n",
    "\n",
    "\n",
    "#Process:\n",
    "# Load the original image.\n",
    "# Define a number of processing scales (i.e. image shapes), from smallest to largest.\n",
    "# Resize the original image to the smallest scale.\n",
    "# For every scale, starting with the smallest (i.e. current one):\n",
    "    # Run gradient ascent\n",
    "    # Upscale image to the next scale\n",
    "    # Reinject the detail that was lost at upscaling time\n",
    "# Stop when we are back to the original size.\n",
    "#To obtain the detail lost during upscaling, we simply take the original image, shrink it down, upscale it,\n",
    "# and compare the result to the (resized) original image."
   ]
  },
  {
   "cell_type": "code",
   "execution_count": 11,
   "metadata": {},
   "outputs": [],
   "source": [
    "\n",
    "def prep2(filename):\n",
    "    shape=(299, 299)\n",
    "    img = np.array(PIL.Image.open(open(filename, 'rb')).convert('RGB').resize(shape, PIL.Image.BILINEAR))\n",
    "    # Normalize pixel values to between 0 and 1.\n",
    "    img = np.float32(img) / 255.0\n",
    "    if not (len(img.shape) == 3 and img.shape[2] == 3):\n",
    "        return None\n",
    "    else:\n",
    "        return img\n",
    "\n",
    "this_img = np.expand_dims(prep2('concepts/random500_0/ILSVRC2012_val_00001172.JPEG'),axis=0)\n",
    "\n",
    "def get_acts_for_concept(concept,layer):\n",
    "    concept_dir = os.path.join(working_dir,'concepts/'+concept)\n",
    "    image_list = files_from_dir_ext(concept_dir,'jp')\n",
    "    image_list.sort()\n",
    "\n",
    "    act_path = os.path.join(working_dir,'final_acts/' + concept + '-' + layer + '.pkl')\n",
    "\n",
    "    n = size_dict[layer]\n",
    "    nn = size_dict_orig[layer]\n",
    "\n",
    "    try:\n",
    "        this_dict = pickle.load(open(act_path, 'rb'))\n",
    "    except:\n",
    "        this_dict = {}\n",
    "        \n",
    "    #print(nn)\n",
    "    \n",
    "    acts_ran = np.zeros((len(image_list),n))\n",
    "    orig = np.zeros((len(image_list),nn[1],nn[2],nn[3]))\n",
    "    \n",
    "    for idx,image_path in enumerate(image_list):\n",
    "        if image_path not in this_dict:\n",
    "            img = prep2(os.path.join(concept_dir,image_path))\n",
    "            this_img = np.expand_dims(img, axis=0)\n",
    "            acts_orig = get_acts_for_layer_new(layer,this_img)\n",
    "            acts_ran[idx] = acts_orig.reshape(-1)\n",
    "            orig[idx] = acts_orig\n",
    "            this_dict[image_path] = (acts_orig.reshape(-1),acts_orig)\n",
    "        else:\n",
    "            acts_ran[idx],orig[idx] = this_dict[image_path]\n",
    "            #print('acts already exist')\n",
    "\n",
    "    pickle.dump(this_dict,open(act_path, 'wb'))\n",
    "    return acts_ran,orig\n",
    "\n",
    "def files_from_dir_ext(a_dir,ext):\n",
    "    onlyfiles = [f for f in os.listdir(a_dir) if os.path.isfile(os.path.join(a_dir, f))]\n",
    "    this_ext = [e for e in onlyfiles if ext in e.lower()]\n",
    "    return this_ext\n",
    "layer_dict = dict([(layer.name, layer) for layer in model.layers])\n",
    "sess = K.get_session()\n",
    "\n",
    "acts_mixed0_f = K.function([model.input],[layer_dict['mixed0'].output])\n",
    "acts_mixed1_f = K.function([model.input],[layer_dict['mixed1'].output])\n",
    "acts_mixed2_f = K.function([model.input],[layer_dict['mixed2'].output])\n",
    "acts_mixed3_f = K.function([model.input],[layer_dict['mixed3'].output])\n",
    "acts_mixed4_f = K.function([model.input],[layer_dict['mixed4'].output])\n",
    "acts_mixed5_f = K.function([model.input],[layer_dict['mixed5'].output])\n",
    "acts_mixed6_f = K.function([model.input],[layer_dict['mixed6'].output])\n",
    "acts_mixed7_f = K.function([model.input],[layer_dict['mixed7'].output])\n",
    "acts_mixed8_f = K.function([model.input],[layer_dict['mixed8'].output])\n",
    "acts_mixed9_f = K.function([model.input],[layer_dict['mixed9'].output])\n",
    "acts_mixed10_f = K.function([model.input],[layer_dict['mixed10'].output])\n",
    "\n",
    "def get_acts_for_layer_new(layer_name,input_img):\n",
    "    acts = None\n",
    "    if layer_name=='mixed0':\n",
    "        acts = acts_mixed0_f([input_img])[0]\n",
    "    if layer_name=='mixed1':\n",
    "        acts = acts_mixed1_f([input_img])[0]\n",
    "    if layer_name=='mixed2':\n",
    "        acts = acts_mixed2_f([input_img])[0]\n",
    "    if layer_name=='mixed3':\n",
    "        acts = acts_mixed3_f([input_img])[0]\n",
    "    if layer_name=='mixed4':\n",
    "        acts = acts_mixed4_f([input_img])[0]\n",
    "    if layer_name=='mixed5':\n",
    "        acts = acts_mixed5_f([input_img])[0]\n",
    "    if layer_name=='mixed6':\n",
    "        acts = acts_mixed6_f([input_img])[0]\n",
    "    if layer_name=='mixed7':\n",
    "        acts = acts_mixed7_f([input_img])[0]\n",
    "    if layer_name=='mixed8':\n",
    "        acts = acts_mixed8_f([input_img])[0]\n",
    "    if layer_name=='mixed9':\n",
    "        acts = acts_mixed9_f([input_img])[0]\n",
    "    if layer_name=='mixed10':\n",
    "        acts = acts_mixed10_f([input_img])[0]\n",
    "    \n",
    "    return acts\n",
    "\n",
    "\n",
    "bn_names = ['mixed0','mixed1','mixed2','mixed3','mixed4','mixed5','mixed6','mixed7','mixed8','mixed9','mixed10']\n",
    "\n",
    "size_dict = {}\n",
    "for bn in bn_names:\n",
    "    acts_orig = get_acts_for_layer_new(bn,this_img)\n",
    "    size_dict[bn] = acts_orig.reshape(-1).shape[0]\n",
    "    \n",
    "size_dict_orig = {}\n",
    "for bn in bn_names:\n",
    "    acts_orig = get_acts_for_layer_new(bn,this_img)\n",
    "    size_dict_orig[bn] = acts_orig.shape"
   ]
  },
  {
   "cell_type": "code",
   "execution_count": null,
   "metadata": {},
   "outputs": [],
   "source": []
  }
 ],
 "metadata": {
  "kernelspec": {
   "display_name": "Python 3",
   "language": "python",
   "name": "python3"
  },
  "language_info": {
   "codemirror_mode": {
    "name": "ipython",
    "version": 3
   },
   "file_extension": ".py",
   "mimetype": "text/x-python",
   "name": "python",
   "nbconvert_exporter": "python",
   "pygments_lexer": "ipython3",
   "version": "3.6.8"
  }
 },
 "nbformat": 4,
 "nbformat_minor": 2
}
