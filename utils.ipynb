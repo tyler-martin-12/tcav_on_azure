{
 "cells": [
  {
   "cell_type": "code",
   "execution_count": 3,
   "metadata": {},
   "outputs": [],
   "source": [
    "import urllib\n",
    "from os import listdir\n"
   ]
  },
  {
   "cell_type": "markdown",
   "metadata": {},
   "source": [
    "## Make random dir"
   ]
  },
  {
   "cell_type": "code",
   "execution_count": 5,
   "metadata": {},
   "outputs": [
    {
     "ename": "FileNotFoundError",
     "evalue": "[Errno 2] No such file or directory: '/home/tyler/Desktop/tcav_on_azure2012_val/val/'",
     "output_type": "error",
     "traceback": [
      "\u001b[0;31m---------------------------------------------------------------------------\u001b[0m",
      "\u001b[0;31mFileNotFoundError\u001b[0m                         Traceback (most recent call last)",
      "\u001b[0;32m<ipython-input-5-3e3b94ba5ac0>\u001b[0m in \u001b[0;36m<module>\u001b[0;34m()\u001b[0m\n\u001b[1;32m      5\u001b[0m \u001b[0;34m\u001b[0m\u001b[0m\n\u001b[1;32m      6\u001b[0m \u001b[0msource_images\u001b[0m \u001b[0;34m=\u001b[0m \u001b[0mworking_dir\u001b[0m \u001b[0;34m+\u001b[0m \u001b[0;34m'2012_val/val/'\u001b[0m\u001b[0;34m\u001b[0m\u001b[0m\n\u001b[0;32m----> 7\u001b[0;31m \u001b[0mimages\u001b[0m \u001b[0;34m=\u001b[0m \u001b[0;34m[\u001b[0m\u001b[0mf\u001b[0m \u001b[0;32mfor\u001b[0m \u001b[0mf\u001b[0m \u001b[0;32min\u001b[0m \u001b[0mlistdir\u001b[0m\u001b[0;34m(\u001b[0m\u001b[0msource_images\u001b[0m\u001b[0;34m)\u001b[0m \u001b[0;32mif\u001b[0m \u001b[0misfile\u001b[0m\u001b[0;34m(\u001b[0m\u001b[0mjoin\u001b[0m\u001b[0;34m(\u001b[0m\u001b[0msource_images\u001b[0m\u001b[0;34m,\u001b[0m \u001b[0mf\u001b[0m\u001b[0;34m)\u001b[0m\u001b[0;34m)\u001b[0m\u001b[0;34m]\u001b[0m\u001b[0;34m\u001b[0m\u001b[0m\n\u001b[0m\u001b[1;32m      8\u001b[0m \u001b[0mtotal_images\u001b[0m \u001b[0;34m=\u001b[0m \u001b[0mlen\u001b[0m\u001b[0;34m(\u001b[0m\u001b[0mimages\u001b[0m\u001b[0;34m)\u001b[0m\u001b[0;34m\u001b[0m\u001b[0m\n\u001b[1;32m      9\u001b[0m \u001b[0;34m\u001b[0m\u001b[0m\n",
      "\u001b[0;31mFileNotFoundError\u001b[0m: [Errno 2] No such file or directory: '/home/tyler/Desktop/tcav_on_azure2012_val/val/'"
     ]
    }
   ],
   "source": [
    "#working_dir = '/Users/tyler/Desktop/dissertation/programming/tcav/'\n",
    "working_dir = '/home/tyler/Desktop/tcav_on_azure'\n",
    "\n",
    "source_dir = working_dir + 'concepts/'\n",
    "\n",
    "source_images = working_dir + '2012_val/val/'\n",
    "images = [f for f in listdir(source_images) if isfile(join(source_images, f))]\n",
    "total_images = len(images)\n",
    "\n",
    "num_random_images = 50\n",
    "\n",
    "start = 2\n",
    "num_random_dir = 2\n",
    "\n",
    "for r in range(start,start+num_random_dir):\n",
    "\n",
    "    random_dir = source_dir + 'random500_' + str(r)\n",
    "    \n",
    "    if not os.path.isdir(random_dir):\n",
    "        os.mkdir(random_dir)\n",
    "\n",
    "    for i in range(num_random_images):\n",
    "        rand = np.random.randint(0,total_images)\n",
    "\n",
    "        source_image = source_images + images[rand]\n",
    "\n",
    "        subprocess.call(['cp',source_image,random_dir])"
   ]
  },
  {
   "cell_type": "markdown",
   "metadata": {},
   "source": [
    "## Make conepts folders"
   ]
  },
  {
   "cell_type": "code",
   "execution_count": 23,
   "metadata": {},
   "outputs": [],
   "source": [
    "working_dir = '/Users/tyler/Desktop/dissertation/programming/tcav/'\n",
    "concept = 'dotted'\n",
    "\n",
    "concept_dir = working_dir + 'concepts/concept_sources/' + concept + '/'\n",
    "\n",
    "\n",
    "urls_dir = concept_dir + '/urls.txt'\n",
    "\n",
    "file = open(urls_dir,'r').readlines()\n",
    "urls_list = [line.rstrip('\\n') for line in file]"
   ]
  },
  {
   "cell_type": "code",
   "execution_count": 24,
   "metadata": {},
   "outputs": [
    {
     "data": {
      "text/plain": [
       "'/Users/tyler/Desktop/dissertation/programming/tcav/concepts/concept_sources/dotted/images/'"
      ]
     },
     "execution_count": 24,
     "metadata": {},
     "output_type": "execute_result"
    }
   ],
   "source": [
    "img_dir"
   ]
  },
  {
   "cell_type": "code",
   "execution_count": null,
   "metadata": {},
   "outputs": [],
   "source": []
  },
  {
   "cell_type": "code",
   "execution_count": 25,
   "metadata": {},
   "outputs": [
    {
     "data": {
      "text/plain": [
       "('/Users/tyler/Desktop/dissertation/programming/tcav/concepts/concept_sources/dotted/images/33.jpg',\n",
       " <http.client.HTTPMessage at 0x102ec5f28>)"
      ]
     },
     "execution_count": 25,
     "metadata": {},
     "output_type": "execute_result"
    }
   ],
   "source": [
    "urllib.request.urlretrieve(url, img_dir + str(idx) + '.jpg')"
   ]
  },
  {
   "cell_type": "code",
   "execution_count": null,
   "metadata": {},
   "outputs": [],
   "source": []
  },
  {
   "cell_type": "code",
   "execution_count": 27,
   "metadata": {},
   "outputs": [
    {
     "name": "stdout",
     "output_type": "stream",
     "text": [
      "error on idx 3\n",
      "error on idx 5\n",
      "error on idx 7\n"
     ]
    }
   ],
   "source": [
    "img_dir = concept_dir + 'images/'\n",
    "\n",
    "idx = 0\n",
    "\n",
    "for idx in range(len(urls_list)):\n",
    "    url = urls_list[idx]\n",
    "    try:\n",
    "        urllib.request.urlretrieve(url, img_dir + str(idx) + '.jpg')\n",
    "    except:\n",
    "        print('error on idx ' + str(idx))\n",
    "\n",
    "#response = requests.get(url)\n",
    "#img = Image.open(BytesIO(response.content))\n",
    "\n",
    "# cp -r concept_sources/raw/* striped/"
   ]
  },
  {
   "cell_type": "code",
   "execution_count": null,
   "metadata": {},
   "outputs": [],
   "source": []
  },
  {
   "cell_type": "markdown",
   "metadata": {},
   "source": [
    "## Make labels.txt"
   ]
  },
  {
   "cell_type": "code",
   "execution_count": 1,
   "metadata": {},
   "outputs": [],
   "source": [
    "def get_rank(idx, sorted_d):\n",
    "    rank = None\n",
    "    i = 0\n",
    "    \n",
    "    for s, p in sorted_d:\n",
    "        if s == idx:\n",
    "            rank = i\n",
    "        i += 1\n",
    "    return rank\n",
    "\n",
    "def get_label_from_rank(rank, top):\n",
    "    label = None\n",
    "    a = top[0][rank]\n",
    "    label = a[1]\n",
    "    return label"
   ]
  },
  {
   "cell_type": "code",
   "execution_count": null,
   "metadata": {},
   "outputs": [],
   "source": [
    "d = {}\n",
    "\n",
    "i = 0\n",
    "\n",
    "for i in range(len(pred[0])):\n",
    "    d[i] = pred[0][i]\n",
    "    \n",
    "sorted_d = sorted(d.items(), key=operator.itemgetter(1),reverse=True)\n",
    "\n",
    "top = decode_predictions(pred,top=1000)\n",
    "\n",
    "labels = []\n",
    "for i in range(1000):\n",
    "    rank = get_rank(i, sorted_d)\n",
    "    label = get_label_from_rank(rank, top)\n",
    "    labels.append(label)"
   ]
  },
  {
   "cell_type": "code",
   "execution_count": null,
   "metadata": {},
   "outputs": [],
   "source": [
    "file_2 =  '/Users/tyler/Desktop/dissertation/programming/tcav/labels/labels.txt'\n",
    "\n",
    "outfile = open(file_2,'a')\n",
    "\n",
    "for label in labels:    \n",
    "    to_write = label\n",
    "\n",
    "    outfile.write(to_write)\n",
    "    outfile.write('\\n')\n",
    "    \n",
    "outfile.close()"
   ]
  },
  {
   "cell_type": "code",
   "execution_count": null,
   "metadata": {},
   "outputs": [],
   "source": []
  },
  {
   "cell_type": "code",
   "execution_count": null,
   "metadata": {},
   "outputs": [],
   "source": []
  }
 ],
 "metadata": {
  "kernelspec": {
   "display_name": "Python [default]",
   "language": "python",
   "name": "python3"
  },
  "language_info": {
   "codemirror_mode": {
    "name": "ipython",
    "version": 3
   },
   "file_extension": ".py",
   "mimetype": "text/x-python",
   "name": "python",
   "nbconvert_exporter": "python",
   "pygments_lexer": "ipython3",
   "version": "3.5.5"
  }
 },
 "nbformat": 4,
 "nbformat_minor": 2
}
