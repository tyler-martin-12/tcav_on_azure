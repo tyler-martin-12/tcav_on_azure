{
 "cells": [
  {
   "cell_type": "code",
   "execution_count": 1,
   "metadata": {},
   "outputs": [],
   "source": [
    "import urllib\n",
    "from os import listdir\n",
    "from os.path import isfile, join\n",
    "import os\n",
    "import numpy as np\n",
    "import subprocess"
   ]
  },
  {
   "cell_type": "code",
   "execution_count": null,
   "metadata": {},
   "outputs": [],
   "source": []
  },
  {
   "cell_type": "markdown",
   "metadata": {},
   "source": [
    "## Make random dir"
   ]
  },
  {
   "cell_type": "code",
   "execution_count": 21,
   "metadata": {},
   "outputs": [],
   "source": [
    "working_dir = '/Users/tyler/Desktop/dissertation/programming/tcav_on_azure/concepts/'\n",
    "#working_dir = '/home/tyler/Desktop/tcav_on_azure'\n",
    "\n",
    "_ = '/Users/tyler/Desktop/dissertation/programming/tcav/2012_val/val'\n",
    "source_images = '/Users/tyler/Desktop/dissertation/programming/data/old/tcav/2012_val/val'\n",
    "\n",
    "images = [f for f in listdir(source_images) if isfile(join(source_images, f))]\n",
    "total_images = len(images)\n",
    "\n",
    "num_random_images = 500\n",
    "\n",
    "start = 0\n",
    "num_random_dir = 10\n"
   ]
  },
  {
   "cell_type": "code",
   "execution_count": 22,
   "metadata": {},
   "outputs": [
    {
     "data": {
      "text/plain": [
       "20001"
      ]
     },
     "execution_count": 22,
     "metadata": {},
     "output_type": "execute_result"
    }
   ],
   "source": [
    "total_images"
   ]
  },
  {
   "cell_type": "code",
   "execution_count": 4,
   "metadata": {},
   "outputs": [],
   "source": [
    "x = images[0]"
   ]
  },
  {
   "cell_type": "code",
   "execution_count": 20,
   "metadata": {},
   "outputs": [],
   "source": [
    "for count,i in enumerate(images):\n",
    "    if count > 20000 and count < 50000 :\n",
    "        x_path = os.path.join(source_images,i)\n",
    "        subprocess.call(['rm',x_path])"
   ]
  },
  {
   "cell_type": "code",
   "execution_count": 5,
   "metadata": {},
   "outputs": [],
   "source": [
    "x_path = os.path.join(source_images,x)"
   ]
  },
  {
   "cell_type": "code",
   "execution_count": 6,
   "metadata": {},
   "outputs": [
    {
     "data": {
      "text/plain": [
       "0"
      ]
     },
     "execution_count": 6,
     "metadata": {},
     "output_type": "execute_result"
    }
   ],
   "source": [
    "subprocess.call(['rm',x_path])"
   ]
  },
  {
   "cell_type": "code",
   "execution_count": 11,
   "metadata": {},
   "outputs": [
    {
     "data": {
      "text/plain": [
       "50000"
      ]
     },
     "execution_count": 11,
     "metadata": {},
     "output_type": "execute_result"
    }
   ],
   "source": [
    "len(images)"
   ]
  },
  {
   "cell_type": "code",
   "execution_count": 12,
   "metadata": {},
   "outputs": [],
   "source": [
    "for r in range(start,start+num_random_dir):\n",
    "\n",
    "    random_dir = join(working_dir,'N_' + str(r))\n",
    "    \n",
    "    if not os.path.isdir(random_dir):\n",
    "        os.mkdir(random_dir)\n",
    "\n",
    "    for i in range(num_random_images):\n",
    "        rand = np.random.randint(0,total_images)\n",
    "\n",
    "        source_image = join(source_images,images[rand])\n",
    "\n",
    "        subprocess.call(['cp',source_image,random_dir])"
   ]
  },
  {
   "cell_type": "markdown",
   "metadata": {},
   "source": [
    "## Make conepts folders"
   ]
  },
  {
   "cell_type": "code",
   "execution_count": 5,
   "metadata": {},
   "outputs": [],
   "source": [
    "working_dir = '/home/tyler/Desktop/tcav_on_azure'\n",
    "concpet_dir = '/home/tyler/Desktop/data/images/dtd/images'\n",
    "\n",
    "concept = 'zigzagged'\n",
    "this_concept_dir = join(concpet_dir,concept)\n",
    "\n",
    "image_list = [f for f in listdir(this_concept_dir) if isfile(join(this_concept_dir, f))]\n",
    "\n"
   ]
  },
  {
   "cell_type": "code",
   "execution_count": 7,
   "metadata": {},
   "outputs": [],
   "source": [
    "#image_list"
   ]
  },
  {
   "cell_type": "code",
   "execution_count": null,
   "metadata": {},
   "outputs": [],
   "source": []
  },
  {
   "cell_type": "code",
   "execution_count": 8,
   "metadata": {},
   "outputs": [
    {
     "ename": "FileNotFoundError",
     "evalue": "[Errno 2] No such file or directory: '/home/tyler/Desktop/tcav_on_azureconcepts/concept_sources/woven//urls.txt'",
     "output_type": "error",
     "traceback": [
      "\u001b[0;31m---------------------------------------------------------------------------\u001b[0m",
      "\u001b[0;31mFileNotFoundError\u001b[0m                         Traceback (most recent call last)",
      "\u001b[0;32m<ipython-input-8-4677fe9a89b3>\u001b[0m in \u001b[0;36m<module>\u001b[0;34m()\u001b[0m\n\u001b[1;32m      9\u001b[0m \u001b[0murls_dir\u001b[0m \u001b[0;34m=\u001b[0m \u001b[0mconcept_dir\u001b[0m \u001b[0;34m+\u001b[0m \u001b[0;34m'/urls.txt'\u001b[0m\u001b[0;34m\u001b[0m\u001b[0m\n\u001b[1;32m     10\u001b[0m \u001b[0;34m\u001b[0m\u001b[0m\n\u001b[0;32m---> 11\u001b[0;31m \u001b[0mfile\u001b[0m \u001b[0;34m=\u001b[0m \u001b[0mopen\u001b[0m\u001b[0;34m(\u001b[0m\u001b[0murls_dir\u001b[0m\u001b[0;34m,\u001b[0m\u001b[0;34m'r'\u001b[0m\u001b[0;34m)\u001b[0m\u001b[0;34m.\u001b[0m\u001b[0mreadlines\u001b[0m\u001b[0;34m(\u001b[0m\u001b[0;34m)\u001b[0m\u001b[0;34m\u001b[0m\u001b[0m\n\u001b[0m\u001b[1;32m     12\u001b[0m \u001b[0murls_list\u001b[0m \u001b[0;34m=\u001b[0m \u001b[0;34m[\u001b[0m\u001b[0mline\u001b[0m\u001b[0;34m.\u001b[0m\u001b[0mrstrip\u001b[0m\u001b[0;34m(\u001b[0m\u001b[0;34m'\\n'\u001b[0m\u001b[0;34m)\u001b[0m \u001b[0;32mfor\u001b[0m \u001b[0mline\u001b[0m \u001b[0;32min\u001b[0m \u001b[0mfile\u001b[0m\u001b[0;34m]\u001b[0m\u001b[0;34m\u001b[0m\u001b[0m\n",
      "\u001b[0;31mFileNotFoundError\u001b[0m: [Errno 2] No such file or directory: '/home/tyler/Desktop/tcav_on_azureconcepts/concept_sources/woven//urls.txt'"
     ]
    }
   ],
   "source": [
    "#working_dir = '/Users/tyler/Desktop/dissertation/programming/tcav/'\n",
    "working_dir = '/home/tyler/Desktop/tcav_on_azure'\n",
    "\n",
    "concept = 'woven'\n",
    "\n",
    "concept_dir = working_dir + 'concepts/concept_sources/' + concept + '/'\n",
    "\n",
    "\n",
    "urls_dir = concept_dir + '/urls.txt'\n",
    "\n",
    "file = open(urls_dir,'r').readlines()\n",
    "urls_list = [line.rstrip('\\n') for line in file]"
   ]
  },
  {
   "cell_type": "code",
   "execution_count": 24,
   "metadata": {},
   "outputs": [
    {
     "data": {
      "text/plain": [
       "'/Users/tyler/Desktop/dissertation/programming/tcav/concepts/concept_sources/dotted/images/'"
      ]
     },
     "execution_count": 24,
     "metadata": {},
     "output_type": "execute_result"
    }
   ],
   "source": [
    "img_dir"
   ]
  },
  {
   "cell_type": "code",
   "execution_count": null,
   "metadata": {},
   "outputs": [],
   "source": []
  },
  {
   "cell_type": "code",
   "execution_count": 25,
   "metadata": {},
   "outputs": [
    {
     "data": {
      "text/plain": [
       "('/Users/tyler/Desktop/dissertation/programming/tcav/concepts/concept_sources/dotted/images/33.jpg',\n",
       " <http.client.HTTPMessage at 0x102ec5f28>)"
      ]
     },
     "execution_count": 25,
     "metadata": {},
     "output_type": "execute_result"
    }
   ],
   "source": [
    "urllib.request.urlretrieve(url, img_dir + str(idx) + '.jpg')"
   ]
  },
  {
   "cell_type": "code",
   "execution_count": null,
   "metadata": {},
   "outputs": [],
   "source": []
  },
  {
   "cell_type": "code",
   "execution_count": 27,
   "metadata": {},
   "outputs": [
    {
     "name": "stdout",
     "output_type": "stream",
     "text": [
      "error on idx 3\n",
      "error on idx 5\n",
      "error on idx 7\n"
     ]
    }
   ],
   "source": [
    "img_dir = concept_dir + 'images/'\n",
    "\n",
    "idx = 0\n",
    "\n",
    "for idx in range(len(urls_list)):\n",
    "    url = urls_list[idx]\n",
    "    try:\n",
    "        urllib.request.urlretrieve(url, img_dir + str(idx) + '.jpg')\n",
    "    except:\n",
    "        print('error on idx ' + str(idx))\n",
    "\n",
    "#response = requests.get(url)\n",
    "#img = Image.open(BytesIO(response.content))\n",
    "\n",
    "# cp -r concept_sources/raw/* striped/"
   ]
  },
  {
   "cell_type": "code",
   "execution_count": null,
   "metadata": {},
   "outputs": [],
   "source": []
  },
  {
   "cell_type": "markdown",
   "metadata": {},
   "source": [
    "## Make labels.txt"
   ]
  },
  {
   "cell_type": "code",
   "execution_count": 1,
   "metadata": {},
   "outputs": [],
   "source": [
    "def get_rank(idx, sorted_d):\n",
    "    rank = None\n",
    "    i = 0\n",
    "    \n",
    "    for s, p in sorted_d:\n",
    "        if s == idx:\n",
    "            rank = i\n",
    "        i += 1\n",
    "    return rank\n",
    "\n",
    "def get_label_from_rank(rank, top):\n",
    "    label = None\n",
    "    a = top[0][rank]\n",
    "    label = a[1]\n",
    "    return label"
   ]
  },
  {
   "cell_type": "code",
   "execution_count": null,
   "metadata": {},
   "outputs": [],
   "source": [
    "d = {}\n",
    "\n",
    "i = 0\n",
    "\n",
    "for i in range(len(pred[0])):\n",
    "    d[i] = pred[0][i]\n",
    "    \n",
    "sorted_d = sorted(d.items(), key=operator.itemgetter(1),reverse=True)\n",
    "\n",
    "top = decode_predictions(pred,top=1000)\n",
    "\n",
    "labels = []\n",
    "for i in range(1000):\n",
    "    rank = get_rank(i, sorted_d)\n",
    "    label = get_label_from_rank(rank, top)\n",
    "    labels.append(label)"
   ]
  },
  {
   "cell_type": "code",
   "execution_count": null,
   "metadata": {},
   "outputs": [],
   "source": [
    "file_2 =  '/Users/tyler/Desktop/dissertation/programming/tcav/labels/labels.txt'\n",
    "\n",
    "outfile = open(file_2,'a')\n",
    "\n",
    "for label in labels:    \n",
    "    to_write = label\n",
    "\n",
    "    outfile.write(to_write)\n",
    "    outfile.write('\\n')\n",
    "    \n",
    "outfile.close()"
   ]
  },
  {
   "cell_type": "code",
   "execution_count": null,
   "metadata": {},
   "outputs": [],
   "source": []
  },
  {
   "cell_type": "code",
   "execution_count": null,
   "metadata": {},
   "outputs": [],
   "source": []
  }
 ],
 "metadata": {
  "kernelspec": {
   "display_name": "Python 3",
   "language": "python",
   "name": "python3"
  },
  "language_info": {
   "codemirror_mode": {
    "name": "ipython",
    "version": 3
   },
   "file_extension": ".py",
   "mimetype": "text/x-python",
   "name": "python",
   "nbconvert_exporter": "python",
   "pygments_lexer": "ipython3",
   "version": "3.6.8"
  }
 },
 "nbformat": 4,
 "nbformat_minor": 2
}
