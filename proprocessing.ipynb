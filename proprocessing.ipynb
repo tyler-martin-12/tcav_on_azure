{
 "cells": [
  {
   "cell_type": "code",
   "execution_count": 24,
   "metadata": {},
   "outputs": [],
   "source": [
    "import os\n",
    "import numpy as np"
   ]
  },
  {
   "cell_type": "code",
   "execution_count": null,
   "metadata": {},
   "outputs": [],
   "source": []
  },
  {
   "cell_type": "code",
   "execution_count": 20,
   "metadata": {},
   "outputs": [],
   "source": [
    "#file_1 = '/Users/tyler/Desktop/dissertation/programming/tcav/trained_model/labels_raw.txt'\n",
    "#file_1 =  '/Users/tyler/Desktop/dissertation/programming/tcav/trained_model/2015/inception-2015-12-05/labels_raw.txt'\n",
    "file_1 =  '/Users/tyler/Desktop/dissertation/programming/tcav/from_kaggle/from_kaggle.txt'\n",
    "\n",
    "infile = open(file_1,'r')\n",
    "\n",
    "#file_2 = '/Users/tyler/Desktop/dissertation/programming/tcav/trained_model/labels.txt'\n",
    "#file_2 =  '/Users/tyler/Desktop/dissertation/programming/tcav/trained_model/2015/inception-2015-12-05/labels.txt'\n",
    "file_2 =  '/Users/tyler/Desktop/dissertation/programming/tcav/from_kaggle/labels.txt'\n",
    "\n",
    "outfile = open(file_2,'a')\n",
    "\n",
    "for line in infile:    \n",
    "    label = line.split()[1:]\n",
    "    #print(label)\n",
    "    \n",
    "    #to_write = label\n",
    "    \n",
    "    to_write = list_to_string(label)\n",
    "    \n",
    "    outfile.write(to_write)\n",
    "    outfile.write('\\n')\n",
    "    \n",
    "infile.close()\n",
    "outfile.close()"
   ]
  },
  {
   "cell_type": "code",
   "execution_count": 16,
   "metadata": {},
   "outputs": [],
   "source": [
    "def list_to_string(this_list):\n",
    "    this_str = ''\n",
    "    for each in this_list:\n",
    "        this_str += each\n",
    "        #this_str += ' '\n",
    "    return this_str"
   ]
  },
  {
   "cell_type": "code",
   "execution_count": null,
   "metadata": {},
   "outputs": [],
   "source": []
  },
  {
   "cell_type": "code",
   "execution_count": null,
   "metadata": {},
   "outputs": [],
   "source": []
  },
  {
   "cell_type": "code",
   "execution_count": 27,
   "metadata": {},
   "outputs": [],
   "source": [
    "file_1 =  '/Users/tyler/Desktop/dissertation/programming/inception/model/imagenet_2012_challenge_label_map_proto.pbtxt'\n",
    "file_2 =  '/Users/tyler/Desktop/dissertation/programming/inception/model/labels.txt'\n"
   ]
  },
  {
   "cell_type": "code",
   "execution_count": 45,
   "metadata": {},
   "outputs": [],
   "source": [
    "labels = []\n",
    "\n",
    "infile = open(file_1,'r')\n",
    "\n",
    "labels_array = ['' for a in range(1001)]\n",
    "\n",
    "i = 0\n",
    "for line in infile:\n",
    "    i += 1\n",
    "    if i == 10:\n",
    "        #break\n",
    "        pass\n",
    "            \n",
    "    if 'target_class: ' in line:\n",
    "        a = int(line[16:].strip())\n",
    "        #print(a)\n",
    "        \n",
    "    if 'target_class_string: ' in line:\n",
    "        b = line[24:-2]\n",
    "        #print(b)\n",
    "    \n",
    "    labels_array[a] = b\n",
    "    \n",
    "infile.close()\n"
   ]
  },
  {
   "cell_type": "code",
   "execution_count": 46,
   "metadata": {},
   "outputs": [],
   "source": [
    "#labels_array"
   ]
  },
  {
   "cell_type": "code",
   "execution_count": 47,
   "metadata": {},
   "outputs": [],
   "source": [
    "outfile = open(file_2,'a')\n",
    "\n",
    "for label in labels_array:\n",
    "    outfile.write(label)\n",
    "    outfile.write('\\n')\n",
    "\n",
    "outfile.close()"
   ]
  },
  {
   "cell_type": "code",
   "execution_count": null,
   "metadata": {},
   "outputs": [],
   "source": []
  }
 ],
 "metadata": {
  "kernelspec": {
   "display_name": "Python 3",
   "language": "python",
   "name": "python3"
  },
  "language_info": {
   "codemirror_mode": {
    "name": "ipython",
    "version": 3
   },
   "file_extension": ".py",
   "mimetype": "text/x-python",
   "name": "python",
   "nbconvert_exporter": "python",
   "pygments_lexer": "ipython3",
   "version": "3.6.8"
  }
 },
 "nbformat": 4,
 "nbformat_minor": 2
}
