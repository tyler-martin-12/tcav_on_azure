{
 "cells": [
  {
   "cell_type": "code",
   "execution_count": 1,
   "metadata": {},
   "outputs": [],
   "source": [
    "import numpy as np\n",
    "import matplotlib.pyplot as plt\n",
    "import pickle\n",
    "import pandas as pd"
   ]
  },
  {
   "cell_type": "code",
   "execution_count": 541,
   "metadata": {},
   "outputs": [],
   "source": [
    "def set_box_color(bp, color):\n",
    "    plt.setp(bp['boxes'], color=color)\n",
    "    plt.setp(bp['whiskers'], color=color)\n",
    "    plt.setp(bp['caps'], color=color)\n",
    "    plt.setp(bp['medians'], color=color)"
   ]
  },
  {
   "cell_type": "markdown",
   "metadata": {},
   "source": [
    "### Plot Orig"
   ]
  },
  {
   "cell_type": "code",
   "execution_count": 1291,
   "metadata": {},
   "outputs": [],
   "source": [
    "df = pickle.load(open('df_orig.pkl','rb'))"
   ]
  },
  {
   "cell_type": "code",
   "execution_count": 1292,
   "metadata": {},
   "outputs": [],
   "source": [
    "#layer_names"
   ]
  },
  {
   "cell_type": "code",
   "execution_count": 1297,
   "metadata": {},
   "outputs": [],
   "source": [
    "z_orig = []\n",
    "concept_n = 'random500_0'\n",
    "for layer in layer_names:\n",
    "    subset = df[(df['target_class']==target_class) & (df['split_seed']==1) & (df['concept_n']==concept_n) &\n",
    "                (df['layer']==layer) & (df['concept_p']==concept_p)]\n",
    "    mean = subset[metric].mean()\n",
    "    std = subset[metric].std()\n",
    "    z_orig.append(mean)"
   ]
  },
  {
   "cell_type": "code",
   "execution_count": 1299,
   "metadata": {},
   "outputs": [],
   "source": [
    "#subset"
   ]
  },
  {
   "cell_type": "code",
   "execution_count": 1300,
   "metadata": {},
   "outputs": [],
   "source": [
    "target_class = 'zebra_50'\n",
    "concept_p = 'striped_sub_1'\n",
    "metric = 'orig_score'\n",
    "z,z1 = [],[]\n",
    "for layer in layer_names:\n",
    "    subset = df[(df['target_class']==target_class) & #(df['split_seed']==1) &\n",
    "                (df['layer']==layer) & (df['concept_p']==concept_p)]\n",
    "    mean = subset[metric].mean()\n",
    "    std = subset[metric].std()\n",
    "    z.append(mean)\n",
    "    z1.append(std)\n",
    "\n",
    "z_orig = []\n",
    "concept_n = 'random500_0'\n",
    "for layer in layer_names:\n",
    "    subset = df[(df['target_class']==target_class) & (df['split_seed']==1) & (df['concept_n']==concept_n) &\n",
    "                (df['layer']==layer) & (df['concept_p']==concept_p)]\n",
    "    mean = subset[metric].mean()\n",
    "    std = subset[metric].std()\n",
    "    z_orig.append(mean)\n",
    "    \n",
    "target_class = 'cab_50'\n",
    "concept_p = 'yellow_sub_1'\n",
    "metric = 'orig_score'\n",
    "\n",
    "c,c1 = [],[]\n",
    "for layer in layer_names:\n",
    "    subset = df[(df['target_class']==target_class) & #(df['split_seed']==1) &\n",
    "                (df['layer']==layer) & (df['concept_p']==concept_p)]\n",
    "    mean = subset[metric].mean()\n",
    "    std = subset[metric].std()\n",
    "    c.append(mean)\n",
    "    c1.append(std)\n",
    "    \n",
    "c_orig = []\n",
    "concept_n = 'random500_0'\n",
    "for layer in layer_names:\n",
    "    subset = df[(df['target_class']==target_class) & (df['split_seed']==1) & (df['concept_n']==concept_n) &\n",
    "                (df['layer']==layer) & (df['concept_p']==concept_p)]\n",
    "    mean = subset[metric].mean()\n",
    "    std = subset[metric].std()\n",
    "    c_orig.append(mean)\n",
    "\n",
    "target_class = 'lion_50'\n",
    "concept_p = 'grassland_sub_1'\n",
    "l,l1 = [],[]\n",
    "for layer in layer_names:\n",
    "    subset = df[(df['target_class']==target_class) & #(df['split_seed']==1) &\n",
    "                (df['layer']==layer) & (df['concept_p']==concept_p)]\n",
    "    mean = subset[metric].mean()\n",
    "    std = subset[metric].std()\n",
    "    l.append(mean)\n",
    "    l1.append(std)\n",
    "    \n",
    "l_orig = []\n",
    "concept_n = 'random500_0'\n",
    "for layer in layer_names:\n",
    "    subset = df[(df['target_class']==target_class) & (df['split_seed']==1) & (df['concept_n']==concept_n) &\n",
    "                (df['layer']==layer) & (df['concept_p']==concept_p)]\n",
    "    mean = subset[metric].mean()\n",
    "    std = subset[metric].std()\n",
    "    l_orig.append(mean)\n",
    "    \n",
    "target_class = 'zebra_50'\n",
    "concept_p = 'striped_sub_1'\n",
    "metric = 'orig_score'\n",
    "z_a,z_a1 = [],[]\n",
    "for layer in layer_names:\n",
    "    subset = df[(df['target_class']==target_class) & #(df['split_seed']==1) &\n",
    "                (df['layer']==layer) & (df['concept_p']==concept_p)]\n",
    "    mean = subset[metric].mean()\n",
    "    std = subset[metric].std()\n",
    "    z_a.append(mean)\n",
    "    z_a1.append(std)\n",
    "    \n",
    "metric = 'marg_score'\n",
    "z_b,z_b1 = [],[]\n",
    "for layer in layer_names:\n",
    "    subset = df[(df['target_class']==target_class) & #(df['split_seed']==1) &\n",
    "                (df['layer']==layer) & (df['concept_p']==concept_p)]\n",
    "    mean = subset[metric].mean()\n",
    "    std = subset[metric].std()\n",
    "    z_b.append(mean)\n",
    "    z_b1.append(std)\n",
    "\n",
    "metric = 'mean_score'\n",
    "z_c,z_c1 = [],[]\n",
    "for layer in layer_names:\n",
    "    subset = df[(df['target_class']==target_class) & #(df['split_seed']==1) &\n",
    "                (df['layer']==layer) & (df['concept_p']==concept_p)]\n",
    "    mean = subset[metric].mean()\n",
    "    std = subset[metric].std()\n",
    "    z_c.append(mean)\n",
    "    z_c1.append(std)"
   ]
  },
  {
   "cell_type": "code",
   "execution_count": 1302,
   "metadata": {},
   "outputs": [],
   "source": [
    "#subset"
   ]
  },
  {
   "cell_type": "code",
   "execution_count": 1296,
   "metadata": {},
   "outputs": [],
   "source": [
    "#z_orig"
   ]
  },
  {
   "cell_type": "code",
   "execution_count": 1303,
   "metadata": {},
   "outputs": [
    {
     "data": {
      "image/png": "[encoded data removed]",
      "text/plain": [
       "<Figure size 864x216 with 1 Axes>"
      ]
     },
     "metadata": {
      "needs_background": "light"
     },
     "output_type": "display_data"
    }
   ],
   "source": [
    "plt.rc('text', usetex=False)\n",
    "fig = plt.figure(figsize=[12,3])\n",
    "ticks = list_of_layers\n",
    "x = np.arange(1,list_of_layers.shape[0]+1)\n",
    "plt.xticks(range(1, len(ticks)+1, 1), ticks)\n",
    "plt.xlim(.5, len(ticks)+.5)\n",
    "_ = plt.ylim(0, 1.05)\n",
    "\n",
    "plt.scatter(x-.15,l_orig,label='lion/grassland',c='green',edgecolor='k')\n",
    "plt.scatter(x,z_orig,label='zebra/striped',c='white',edgecolor='k')\n",
    "plt.scatter(x+.15,c_orig,label='cab/yellow',c='yellow',edgecolor='k')\n",
    "\n",
    "#plt.errorbar(x-.15,l, yerr=l1, fmt='o',c = 'green',mec='k',ecolor='k',label='lion/grassland')\n",
    "#plt.errorbar(x,z, yerr=z1, fmt='o',c = 'white',mec='k',ecolor='k',label='zebra/striped')\n",
    "#plt.errorbar(x+.15,c, yerr=c1, fmt='o',c = 'yellow',mec='k',ecolor='k',label='cab/yellow')\n",
    "\n",
    "\n",
    "plt.axhline(y=1, color='k', linestyle='--',zorder=-5,linewidth=.7)\n",
    "plt.axhline(y=.5, color='k', linestyle='--',zorder=-5,linewidth=.7)\n",
    "\n",
    "plt.legend(loc='lower left')\n",
    "plt.ylabel('TCAV Score')\n",
    "plt.xlabel('Bottleneck')\n",
    "plt.savefig('new_figs/tcav_score/tmp.png',dpi=300,bbox_inches='tight')\n",
    "\n"
   ]
  },
  {
   "cell_type": "code",
   "execution_count": 1305,
   "metadata": {},
   "outputs": [
    {
     "data": {
      "image/png": "[encoded data removed]",
      "text/plain": [
       "<Figure size 864x216 with 1 Axes>"
      ]
     },
     "metadata": {
      "needs_background": "light"
     },
     "output_type": "display_data"
    }
   ],
   "source": [
    "plt.rc('text', usetex=False)\n",
    "fig = plt.figure(figsize=[12,3])\n",
    "ticks = list_of_layers\n",
    "x = np.arange(1,list_of_layers.shape[0]+1)\n",
    "plt.xticks(range(1, len(ticks)+1, 1), ticks)\n",
    "plt.xlim(.5, len(ticks)+.5)\n",
    "_ = plt.ylim(0, 1.05)\n",
    "\n",
    "\n",
    "\n",
    "c_a = '#ffffff'\n",
    "c_b = '#b4b4b4'\n",
    "c_c = '#787878'\n",
    "plt.errorbar(x-.15,z_a, yerr=z_a1, fmt='o',c = c_a,mec='k',ecolor='k',label='SVM')\n",
    "plt.errorbar(x,z_b, yerr=z_a1, fmt='o',c = c_b,mec='k',ecolor='k',label='Ave. of SVM')\n",
    "#plt.errorbar(x+.15,z_c, yerr=z_c1, fmt='o',c = c_c,mec='k',ecolor='k',label='Mean')\n",
    "\n",
    "#plt.scatter(x-.15,z_a,label='lion/grassland',c='green',edgecolor='k')\n",
    "#plt.scatter(x,z_b,label='zebra/striped',c='white',edgecolor='k')\n",
    "#plt.scatter(x+.15,z_c,label='cab/yellow',c='yellow',edgecolor='k')\n",
    "\n",
    "\n",
    "plt.axhline(y=1, color='k', linestyle='--',zorder=-5,linewidth=.7)\n",
    "plt.axhline(y=.5, color='k', linestyle='--',zorder=-5,linewidth=.7)\n",
    "\n",
    "plt.legend(loc='lower left')\n",
    "plt.ylabel('CAV Accuray')\n",
    "plt.xlabel('Bottleneck')\n",
    "plt.savefig('new_figs/tcav_score/tmp.png',dpi=300,bbox_inches='tight')\n",
    "\n"
   ]
  },
  {
   "cell_type": "code",
   "execution_count": 1272,
   "metadata": {},
   "outputs": [],
   "source": [
    "#df"
   ]
  },
  {
   "cell_type": "code",
   "execution_count": 1273,
   "metadata": {},
   "outputs": [],
   "source": [
    "df = pickle.load(open('df1.pkl','rb'))"
   ]
  },
  {
   "cell_type": "code",
   "execution_count": 1274,
   "metadata": {},
   "outputs": [],
   "source": [
    "layer_names = ['mixed0','mixed1','mixed2','mixed3','mixed4','mixed5','mixed6','mixed7','mixed8','mixed9']\n",
    "\n",
    "target_class = 'lots_of_zebras'\n",
    "concept_p = 'striped_sub_1'\n",
    "\n",
    "subsets = []\n",
    "\n",
    "tmp,tmp1 = [],[]\n",
    "for layer in layer_names:\n",
    "    subset = df[(df['target_class']==target_class) & (df['layer']==layer) & (df['concept_p']==concept_p) & pd.isnull(df['marg_score'])]\n",
    "    tmp.append(list(subset['orig_score']))\n",
    "    #tmp1.append(list(subset['marg_score']))\n",
    "subsets.append(tmp)\n",
    "#subsets.append(tmp1)"
   ]
  },
  {
   "cell_type": "code",
   "execution_count": 1275,
   "metadata": {},
   "outputs": [
    {
     "data": {
      "text/plain": [
       "[[0.49333333333333335, 0.5266666666666666],\n",
       " [0.4533333333333333, 0.4866666666666667],\n",
       " [0.5666666666666667, 0.38],\n",
       " [0.41333333333333333, 0.5],\n",
       " [0.5866666666666667, 0.56],\n",
       " [0.5066666666666667, 0.5266666666666666],\n",
       " [0.8666666666666667, 0.8466666666666667],\n",
       " [0.6666666666666666, 0.2],\n",
       " [0.7266666666666667, 0.5933333333333334],\n",
       " [0.9733333333333334, 0.9866666666666667]]"
      ]
     },
     "execution_count": 1275,
     "metadata": {},
     "output_type": "execute_result"
    }
   ],
   "source": [
    "subsets[0]"
   ]
  },
  {
   "cell_type": "code",
   "execution_count": 1276,
   "metadata": {},
   "outputs": [],
   "source": [
    "#subset"
   ]
  },
  {
   "cell_type": "code",
   "execution_count": null,
   "metadata": {},
   "outputs": [],
   "source": []
  },
  {
   "cell_type": "code",
   "execution_count": 1277,
   "metadata": {},
   "outputs": [
    {
     "data": {
      "text/plain": [
       "array(['zebra', 'ladybug', 'lots_of_zebras', 'lots_of_lions'],\n",
       "      dtype=object)"
      ]
     },
     "execution_count": 1277,
     "metadata": {},
     "output_type": "execute_result"
    }
   ],
   "source": [
    "df['target_class'].unique()"
   ]
  },
  {
   "cell_type": "code",
   "execution_count": 1286,
   "metadata": {},
   "outputs": [],
   "source": [
    "#df[(df['target_class']==target_class) & (df['layer']==layer)]"
   ]
  },
  {
   "cell_type": "code",
   "execution_count": 1279,
   "metadata": {},
   "outputs": [
    {
     "data": {
      "text/plain": [
       "[[0.49333333333333335, 0.5266666666666666],\n",
       " [0.4533333333333333, 0.4866666666666667],\n",
       " [0.5666666666666667, 0.38],\n",
       " [0.41333333333333333, 0.5],\n",
       " [0.5866666666666667, 0.56],\n",
       " [0.5066666666666667, 0.5266666666666666],\n",
       " [0.8666666666666667, 0.8466666666666667],\n",
       " [0.6666666666666666, 0.2],\n",
       " [0.7266666666666667, 0.5933333333333334],\n",
       " [0.9733333333333334, 0.9866666666666667]]"
      ]
     },
     "execution_count": 1279,
     "metadata": {},
     "output_type": "execute_result"
    }
   ],
   "source": [
    "subsets[0]"
   ]
  },
  {
   "cell_type": "code",
   "execution_count": 1280,
   "metadata": {},
   "outputs": [],
   "source": [
    "#subsets"
   ]
  },
  {
   "cell_type": "code",
   "execution_count": 1281,
   "metadata": {},
   "outputs": [],
   "source": [
    "target_class = 'lots_of_zebras'\n",
    "layer = 'mixed8'\n",
    "concept_p = 'striped_sub_1'"
   ]
  },
  {
   "cell_type": "code",
   "execution_count": 1282,
   "metadata": {},
   "outputs": [],
   "source": [
    "subset = df[#(pd.isnull(df['marg_score'])==False) &\n",
    "            (df['target_class']==target_class) & \n",
    "            (df['layer']==layer) & (df['concept_p']==concept_p)]\n"
   ]
  },
  {
   "cell_type": "code",
   "execution_count": 1283,
   "metadata": {},
   "outputs": [],
   "source": [
    "#subset"
   ]
  },
  {
   "cell_type": "code",
   "execution_count": null,
   "metadata": {},
   "outputs": [],
   "source": []
  },
  {
   "cell_type": "code",
   "execution_count": 1284,
   "metadata": {},
   "outputs": [
    {
     "data": {
      "image/png": "[encoded data removed]",
      "text/plain": [
       "<Figure size 432x288 with 1 Axes>"
      ]
     },
     "metadata": {
      "needs_background": "light"
     },
     "output_type": "display_data"
    }
   ],
   "source": [
    "x = np.arange(0,len(layer_names))\n",
    "a = np.array(subsets[0])\n",
    "\n",
    "y_orig = []\n",
    "err_orig = []\n",
    "for i in range(len(layer_names)):\n",
    "    y_orig.append(a[i].mean())\n",
    "    err_orig.append(a[i].std())\n",
    "\n",
    "y_orig\n",
    "plt.errorbar(x-.15, y_orig, yerr=err_orig, fmt='o',label='SVM')\n",
    "_ = plt.ylim(0, 1)\n"
   ]
  },
  {
   "cell_type": "code",
   "execution_count": 1285,
   "metadata": {},
   "outputs": [
    {
     "ename": "IndexError",
     "evalue": "list index out of range",
     "output_type": "error",
     "traceback": [
      "\u001b[0;31m---------------------------------------------------------------------------\u001b[0m",
      "\u001b[0;31mIndexError\u001b[0m                                Traceback (most recent call last)",
      "\u001b[0;32m<ipython-input-1285-9122f692a1b2>\u001b[0m in \u001b[0;36m<module>\u001b[0;34m\u001b[0m\n\u001b[1;32m      1\u001b[0m \u001b[0mdata_a\u001b[0m \u001b[0;34m=\u001b[0m \u001b[0msubsets\u001b[0m\u001b[0;34m[\u001b[0m\u001b[0;36m0\u001b[0m\u001b[0;34m]\u001b[0m\u001b[0;34m\u001b[0m\u001b[0;34m\u001b[0m\u001b[0m\n\u001b[0;32m----> 2\u001b[0;31m \u001b[0mdata_b\u001b[0m \u001b[0;34m=\u001b[0m \u001b[0msubsets\u001b[0m\u001b[0;34m[\u001b[0m\u001b[0;36m1\u001b[0m\u001b[0;34m]\u001b[0m\u001b[0;34m\u001b[0m\u001b[0;34m\u001b[0m\u001b[0m\n\u001b[0m\u001b[1;32m      3\u001b[0m \u001b[0;34m\u001b[0m\u001b[0m\n\u001b[1;32m      4\u001b[0m \u001b[0mfig\u001b[0m \u001b[0;34m=\u001b[0m \u001b[0mplt\u001b[0m\u001b[0;34m.\u001b[0m\u001b[0mfigure\u001b[0m\u001b[0;34m(\u001b[0m\u001b[0mfigsize\u001b[0m\u001b[0;34m=\u001b[0m\u001b[0;34m[\u001b[0m\u001b[0;36m10\u001b[0m\u001b[0;34m,\u001b[0m\u001b[0;36m5\u001b[0m\u001b[0;34m]\u001b[0m\u001b[0;34m)\u001b[0m\u001b[0;34m\u001b[0m\u001b[0;34m\u001b[0m\u001b[0m\n\u001b[1;32m      5\u001b[0m \u001b[0mticks\u001b[0m \u001b[0;34m=\u001b[0m \u001b[0mlayer_names\u001b[0m\u001b[0;34m\u001b[0m\u001b[0;34m\u001b[0m\u001b[0m\n",
      "\u001b[0;31mIndexError\u001b[0m: list index out of range"
     ]
    }
   ],
   "source": [
    "data_a = subsets[0]\n",
    "data_b = subsets[1]\n",
    "\n",
    "fig = plt.figure(figsize=[10,5])\n",
    "ticks = layer_names\n",
    "\n",
    "#ticks = ['lion/striped','lion/grassland','zebra/striped','zebra/grassland']\n",
    "bpl = plt.boxplot(data_a, positions=np.array(range(len(data_a)))*2.0-0.4, sym='', widths=0.6)\n",
    "#bpr = plt.boxplot(data_b, positions=np.array(range(len(data_b)))*2.0+0.4, sym='', widths=0.6)\n",
    "set_box_color(bpl, '#D7191C') # colors are from http://colorbrewer2.org/\n",
    "set_box_color(bpr, '#2C7BB6')\n",
    "plt.plot([], c='#D7191C', label='Original')\n",
    "plt.plot([], c='#2C7BB6', label='Marg. over Models')\n",
    "plt.legend()\n",
    "plt.xticks(range(0, len(ticks) * 2, 2), ticks)\n",
    "plt.xlim(-2, len(ticks)*2)\n",
    "_ = plt.ylim(0, 1)\n",
    "plt.savefig('new_figs/tcav_score/tmp.png',dpi=300)"
   ]
  },
  {
   "cell_type": "code",
   "execution_count": null,
   "metadata": {},
   "outputs": [],
   "source": []
  },
  {
   "cell_type": "code",
   "execution_count": null,
   "metadata": {},
   "outputs": [],
   "source": []
  },
  {
   "cell_type": "code",
   "execution_count": null,
   "metadata": {},
   "outputs": [],
   "source": []
  },
  {
   "cell_type": "code",
   "execution_count": null,
   "metadata": {},
   "outputs": [],
   "source": []
  },
  {
   "cell_type": "code",
   "execution_count": null,
   "metadata": {},
   "outputs": [],
   "source": []
  },
  {
   "cell_type": "markdown",
   "metadata": {},
   "source": [
    "## Random Class work"
   ]
  },
  {
   "cell_type": "code",
   "execution_count": 13,
   "metadata": {},
   "outputs": [
    {
     "ename": "ValueError",
     "evalue": "could not broadcast input array from shape (33) into shape (22)",
     "output_type": "error",
     "traceback": [
      "\u001b[0;31m---------------------------------------------------------------------------\u001b[0m",
      "\u001b[0;31mValueError\u001b[0m                                Traceback (most recent call last)",
      "\u001b[0;32m<ipython-input-13-f16e14f3cc0a>\u001b[0m in \u001b[0;36m<module>\u001b[0;34m\u001b[0m\n\u001b[1;32m     11\u001b[0m     \u001b[0mconcept_n\u001b[0m \u001b[0;34m=\u001b[0m \u001b[0;34m'random500_'\u001b[0m \u001b[0;34m+\u001b[0m \u001b[0mstr\u001b[0m\u001b[0;34m(\u001b[0m\u001b[0mclass_idx\u001b[0m\u001b[0;34m)\u001b[0m\u001b[0;34m\u001b[0m\u001b[0;34m\u001b[0m\u001b[0m\n\u001b[1;32m     12\u001b[0m     \u001b[0msubset\u001b[0m \u001b[0;34m=\u001b[0m \u001b[0mdf\u001b[0m\u001b[0;34m[\u001b[0m\u001b[0;34m(\u001b[0m\u001b[0mdf\u001b[0m\u001b[0;34m[\u001b[0m\u001b[0;34m'target_class'\u001b[0m\u001b[0;34m]\u001b[0m\u001b[0;34m==\u001b[0m\u001b[0mtarget_class\u001b[0m\u001b[0;34m)\u001b[0m \u001b[0;34m&\u001b[0m \u001b[0;34m(\u001b[0m\u001b[0mdf\u001b[0m\u001b[0;34m[\u001b[0m\u001b[0;34m'concept_n'\u001b[0m\u001b[0;34m]\u001b[0m\u001b[0;34m==\u001b[0m\u001b[0mconcept_n\u001b[0m\u001b[0;34m)\u001b[0m\u001b[0;34m]\u001b[0m\u001b[0;34m\u001b[0m\u001b[0;34m\u001b[0m\u001b[0m\n\u001b[0;32m---> 13\u001b[0;31m     \u001b[0mr_subsets\u001b[0m\u001b[0;34m[\u001b[0m\u001b[0mclass_idx\u001b[0m\u001b[0;34m]\u001b[0m \u001b[0;34m=\u001b[0m \u001b[0mnp\u001b[0m\u001b[0;34m.\u001b[0m\u001b[0marray\u001b[0m\u001b[0;34m(\u001b[0m\u001b[0msubset\u001b[0m\u001b[0;34m[\u001b[0m\u001b[0;34m'orig_score'\u001b[0m\u001b[0;34m]\u001b[0m\u001b[0;34m)\u001b[0m\u001b[0;34m\u001b[0m\u001b[0;34m\u001b[0m\u001b[0m\n\u001b[0m",
      "\u001b[0;31mValueError\u001b[0m: could not broadcast input array from shape (33) into shape (22)"
     ]
    }
   ],
   "source": [
    "layer_names = ['mixed0','mixed1','mixed2','mixed3','mixed4','mixed5','mixed6','mixed7','mixed8','mixed9']\n",
    "\n",
    "target_class = 'zebra'\n",
    "concept_p = 'striped_sub_1'\n",
    "concept_n_list = ['random500_0','random500_1']\n",
    "\n",
    "r_subsets = np.zeros((20,22))\n",
    "\n",
    "tmp,tmp1 = [],[]\n",
    "for class_idx in range(20):\n",
    "    concept_n = 'random500_' + str(class_idx)\n",
    "    subset = df[(df['target_class']==target_class) & (df['concept_n']==concept_n)]\n",
    "    r_subsets[class_idx] = np.array(subset['orig_score'])\n"
   ]
  },
  {
   "cell_type": "code",
   "execution_count": null,
   "metadata": {},
   "outputs": [],
   "source": [
    "sample_means = r_subsets.mean(axis=0)"
   ]
  },
  {
   "cell_type": "code",
   "execution_count": null,
   "metadata": {},
   "outputs": [],
   "source": [
    "r_vars = r_subsets - sample_means"
   ]
  },
  {
   "cell_type": "code",
   "execution_count": null,
   "metadata": {},
   "outputs": [],
   "source": [
    "random_names = []\n",
    "for class_idx in range(20):\n",
    "    concept_n = 'random500_' + str(class_idx)\n",
    "    random_names.append(concept_n)"
   ]
  },
  {
   "cell_type": "code",
   "execution_count": null,
   "metadata": {},
   "outputs": [],
   "source": [
    "r_vars.shape"
   ]
  },
  {
   "cell_type": "code",
   "execution_count": null,
   "metadata": {},
   "outputs": [],
   "source": [
    "len(random_names)"
   ]
  },
  {
   "cell_type": "code",
   "execution_count": null,
   "metadata": {},
   "outputs": [],
   "source": [
    "len(data_b[0])"
   ]
  },
  {
   "cell_type": "code",
   "execution_count": null,
   "metadata": {},
   "outputs": [],
   "source": [
    "r_vars.shape"
   ]
  },
  {
   "cell_type": "code",
   "execution_count": null,
   "metadata": {},
   "outputs": [],
   "source": [
    "data_a = list(r_vars)\n",
    "\n",
    "fig = plt.figure(figsize=[20,5])\n",
    "\n",
    "ticks = range(20)\n",
    "\n",
    "bpl = plt.boxplot(data_a, positions=np.array(range(len(data_a)))*2.0-0.4, sym='', widths=0.6)\n",
    "\n",
    "set_box_color(bpl, '#D7191C') #blue\n",
    "set_box_color(bpr, '#2C7BB6') # red\n",
    "plt.plot([], c='#D7191C', label='Original')\n",
    "plt.plot([], c='#2C7BB6', label='L1')\n",
    "plt.legend()\n",
    "plt.xticks(range(0, len(ticks) * 2, 2), ticks)\n",
    "plt.xlim(-2, len(ticks)*2)\n",
    "_ = plt.ylim(-.5, .5)"
   ]
  },
  {
   "cell_type": "code",
   "execution_count": null,
   "metadata": {},
   "outputs": [],
   "source": [
    "\n",
    "\n",
    "fig = plt.figure(figsize=[20,5])\n",
    "\n",
    "ticks = range(20)\n",
    "x = np.arange(20)\n",
    "plt.bar(x, r)\n"
   ]
  },
  {
   "cell_type": "code",
   "execution_count": 14,
   "metadata": {},
   "outputs": [
    {
     "ename": "NameError",
     "evalue": "name 'r' is not defined",
     "output_type": "error",
     "traceback": [
      "\u001b[0;31m---------------------------------------------------------------------------\u001b[0m",
      "\u001b[0;31mNameError\u001b[0m                                 Traceback (most recent call last)",
      "\u001b[0;32m<ipython-input-14-b61cc8f75c24>\u001b[0m in \u001b[0;36m<module>\u001b[0;34m\u001b[0m\n\u001b[0;32m----> 1\u001b[0;31m \u001b[0mplt\u001b[0m\u001b[0;34m.\u001b[0m\u001b[0mscatter\u001b[0m\u001b[0;34m(\u001b[0m\u001b[0mr\u001b[0m\u001b[0;34m,\u001b[0m\u001b[0mr_vars\u001b[0m\u001b[0;34m.\u001b[0m\u001b[0mvar\u001b[0m\u001b[0;34m(\u001b[0m\u001b[0maxis\u001b[0m\u001b[0;34m=\u001b[0m\u001b[0;36m1\u001b[0m\u001b[0;34m)\u001b[0m\u001b[0;34m)\u001b[0m\u001b[0;34m\u001b[0m\u001b[0;34m\u001b[0m\u001b[0m\n\u001b[0m",
      "\u001b[0;31mNameError\u001b[0m: name 'r' is not defined"
     ]
    }
   ],
   "source": [
    "plt.scatter(r,r_vars.var(axis=1))"
   ]
  },
  {
   "cell_type": "code",
   "execution_count": null,
   "metadata": {},
   "outputs": [],
   "source": []
  },
  {
   "cell_type": "code",
   "execution_count": 179,
   "metadata": {},
   "outputs": [],
   "source": [
    "#random_spreads = pickle.load(open('random_spreads.pkl', 'rb'))"
   ]
  },
  {
   "cell_type": "code",
   "execution_count": 185,
   "metadata": {},
   "outputs": [],
   "source": [
    "random_spreads = pickle.load(open('random_spreads_8.pkl','rb'))"
   ]
  },
  {
   "cell_type": "code",
   "execution_count": 202,
   "metadata": {},
   "outputs": [],
   "source": [
    "r = np.array(list(random_spreads[key] for key in random_spreads))\n",
    "r -= r.mean()"
   ]
  },
  {
   "cell_type": "code",
   "execution_count": 201,
   "metadata": {},
   "outputs": [
    {
     "data": {
      "text/plain": [
       "array([ 0.36043895,  0.04016854, -0.17832181, -0.13042383, -0.03544704,\n",
       "        0.14988385, -0.95851691,  1.22414782,  0.55052709,  0.54564712,\n",
       "       -0.29820146, -0.4542551 , -0.14548316, -0.11435474,  0.76489587,\n",
       "        0.18056917, -0.84264898,  0.13107654,  0.04219132, -0.83189323])"
      ]
     },
     "execution_count": 201,
     "metadata": {},
     "output_type": "execute_result"
    }
   ],
   "source": [
    "r"
   ]
  },
  {
   "cell_type": "code",
   "execution_count": null,
   "metadata": {},
   "outputs": [],
   "source": []
  },
  {
   "cell_type": "markdown",
   "metadata": {},
   "source": [
    "## CAV Accuracy"
   ]
  },
  {
   "cell_type": "code",
   "execution_count": 283,
   "metadata": {},
   "outputs": [],
   "source": [
    "df_acc = pickle.load(open('df_acc.pkl','rb'))\n",
    "df_acc = pickle.load(open('df_acc1.pkl','rb'))"
   ]
  },
  {
   "cell_type": "code",
   "execution_count": 284,
   "metadata": {},
   "outputs": [
    {
     "data": {
      "text/html": [
       "<div>\n",
       "<style scoped>\n",
       "    .dataframe tbody tr th:only-of-type {\n",
       "        vertical-align: middle;\n",
       "    }\n",
       "\n",
       "    .dataframe tbody tr th {\n",
       "        vertical-align: top;\n",
       "    }\n",
       "\n",
       "    .dataframe thead th {\n",
       "        text-align: right;\n",
       "    }\n",
       "</style>\n",
       "<table border=\"1\" class=\"dataframe\">\n",
       "  <thead>\n",
       "    <tr style=\"text-align: right;\">\n",
       "      <th></th>\n",
       "      <th>layer</th>\n",
       "      <th>concept_p</th>\n",
       "      <th>concept_n</th>\n",
       "      <th>acc_orig</th>\n",
       "      <th>acc_marg</th>\n",
       "      <th>acc_L1</th>\n",
       "    </tr>\n",
       "  </thead>\n",
       "  <tbody>\n",
       "    <tr>\n",
       "      <th>0</th>\n",
       "      <td>mixed0</td>\n",
       "      <td>green_sub_1</td>\n",
       "      <td>random500_0</td>\n",
       "      <td>0.606061</td>\n",
       "      <td>0.757576</td>\n",
       "      <td>NaN</td>\n",
       "    </tr>\n",
       "    <tr>\n",
       "      <th>0</th>\n",
       "      <td>mixed0</td>\n",
       "      <td>green_sub_1</td>\n",
       "      <td>random500_1</td>\n",
       "      <td>0.787879</td>\n",
       "      <td>0.939394</td>\n",
       "      <td>NaN</td>\n",
       "    </tr>\n",
       "    <tr>\n",
       "      <th>0</th>\n",
       "      <td>mixed0</td>\n",
       "      <td>green_sub_1</td>\n",
       "      <td>random500_2</td>\n",
       "      <td>0.787879</td>\n",
       "      <td>0.818182</td>\n",
       "      <td>NaN</td>\n",
       "    </tr>\n",
       "    <tr>\n",
       "      <th>0</th>\n",
       "      <td>mixed0</td>\n",
       "      <td>green_sub_1</td>\n",
       "      <td>random500_3</td>\n",
       "      <td>0.484848</td>\n",
       "      <td>0.818182</td>\n",
       "      <td>NaN</td>\n",
       "    </tr>\n",
       "    <tr>\n",
       "      <th>0</th>\n",
       "      <td>mixed0</td>\n",
       "      <td>green_sub_1</td>\n",
       "      <td>random500_4</td>\n",
       "      <td>0.515152</td>\n",
       "      <td>0.878788</td>\n",
       "      <td>NaN</td>\n",
       "    </tr>\n",
       "  </tbody>\n",
       "</table>\n",
       "</div>"
      ],
      "text/plain": [
       "    layer    concept_p    concept_n  acc_orig  acc_marg  acc_L1\n",
       "0  mixed0  green_sub_1  random500_0  0.606061  0.757576     NaN\n",
       "0  mixed0  green_sub_1  random500_1  0.787879  0.939394     NaN\n",
       "0  mixed0  green_sub_1  random500_2  0.787879  0.818182     NaN\n",
       "0  mixed0  green_sub_1  random500_3  0.484848  0.818182     NaN\n",
       "0  mixed0  green_sub_1  random500_4  0.515152  0.878788     NaN"
      ]
     },
     "execution_count": 284,
     "metadata": {},
     "output_type": "execute_result"
    }
   ],
   "source": [
    "layer = 'mixed0'\n",
    "concept_p = 'green_sub_1'\n",
    "df_acc[(df_acc['layer']==layer) & (df_acc['concept_p']==concept_p)]"
   ]
  },
  {
   "cell_type": "code",
   "execution_count": 285,
   "metadata": {},
   "outputs": [],
   "source": [
    "#df_acc1[(df_acc1['layer']==layer) & (df_acc1['concept_p']==concept_p)]"
   ]
  },
  {
   "cell_type": "code",
   "execution_count": 286,
   "metadata": {},
   "outputs": [
    {
     "data": {
      "text/plain": [
       "array(['green_sub_1', 'green_sub_2', 'yellow_sub_1', 'yellow_sub_2',\n",
       "       'dotted_sub_1', 'sky_sub_1', 'ocean_sub_1', 'blue_sub_1',\n",
       "       'grassland_sub_1', 'road_sub_1', 'striped_sub_1', 'grid_sub_1',\n",
       "       'banded_sub_1', 'orange_sub_1', 'random500_6', 'random500_7',\n",
       "       'random500_8', 'random500_9'], dtype=object)"
      ]
     },
     "execution_count": 286,
     "metadata": {},
     "output_type": "execute_result"
    }
   ],
   "source": [
    "df_acc['concept_p'].unique()"
   ]
  },
  {
   "cell_type": "code",
   "execution_count": 287,
   "metadata": {},
   "outputs": [],
   "source": [
    "layer_names = ['mixed0','mixed1','mixed2','mixed3','mixed4','mixed5','mixed6','mixed7','mixed8','mixed9']\n",
    "\n",
    "\n",
    "subsets = []\n",
    "\n",
    "concept_p = 'green_sub_1'\n",
    "\n",
    "\n",
    "tmp,tmp1,tmp2 = [],[],[]\n",
    "for layer in layer_names:\n",
    "    subset = df_acc[(df_acc['layer']==layer) & (df_acc['concept_p']==concept_p)]\n",
    "    tmp.append(list(subset['acc_orig']))\n",
    "subsets.append(tmp)\n",
    "\n",
    "#concept_p = 'yellow_sub_1'\n",
    "\n",
    "for layer in layer_names:\n",
    "    subset = df_acc[(df_acc['layer']==layer) & (df_acc['concept_p']==concept_p)]\n",
    "    tmp1.append(list(subset['acc_marg']))\n",
    "subsets.append(tmp1)"
   ]
  },
  {
   "cell_type": "code",
   "execution_count": 288,
   "metadata": {},
   "outputs": [],
   "source": [
    "#tmp1"
   ]
  },
  {
   "cell_type": "code",
   "execution_count": 289,
   "metadata": {},
   "outputs": [
    {
     "data": {
      "text/plain": [
       "array(['green_sub_1', 'green_sub_2', 'yellow_sub_1', 'yellow_sub_2',\n",
       "       'dotted_sub_1', 'sky_sub_1', 'ocean_sub_1', 'blue_sub_1',\n",
       "       'grassland_sub_1', 'road_sub_1', 'striped_sub_1', 'grid_sub_1',\n",
       "       'banded_sub_1', 'orange_sub_1', 'random500_6', 'random500_7',\n",
       "       'random500_8', 'random500_9'], dtype=object)"
      ]
     },
     "execution_count": 289,
     "metadata": {},
     "output_type": "execute_result"
    }
   ],
   "source": [
    "df_acc['concept_p'].unique()"
   ]
  },
  {
   "cell_type": "code",
   "execution_count": 292,
   "metadata": {},
   "outputs": [],
   "source": [
    "list_of_layers = df_acc['layer'].unique()\n",
    "    \n",
    "y_orig = np.empty(list_of_layers.shape)\n",
    "err_orig = np.empty(list_of_layers.shape)\n",
    "y_marg = np.empty(list_of_layers.shape)\n",
    "err_marg = np.empty(list_of_layers.shape)\n",
    "\n",
    "orig_list,marg_list = [],[]\n",
    "\n",
    "concept_p = 'orange_sub_1'\n",
    "\n",
    "for idx,layer in enumerate(list_of_layers):\n",
    "    subset = df_acc[\n",
    "        (df_acc['layer']==layer) & \n",
    "        (df_acc['concept_p']==concept_p)]\n",
    "    \n",
    "    y_orig[idx] = subset['acc_orig'].mean()\n",
    "    err_orig[idx] = subset['acc_orig'].std()\n",
    "    \n",
    "    y_marg[idx] = subset['acc_marg'].mean()\n",
    "    err_marg[idx] = subset['acc_marg'].std()\n",
    "    \n",
    "    orig_list.append(list(subset['acc_orig']))\n",
    "    #marg_list.append(list(subset['acc_marg']))\n",
    "    \n",
    "x = list_of_layers"
   ]
  },
  {
   "cell_type": "code",
   "execution_count": 293,
   "metadata": {},
   "outputs": [
    {
     "data": {
      "text/plain": [
       "array([[0., 0., 0., 0., 0., 0., 0., 0., 0., 0.],\n",
       "       [0., 0., 0., 0., 0., 0., 0., 0., 0., 0.]])"
      ]
     },
     "execution_count": 293,
     "metadata": {},
     "output_type": "execute_result"
    }
   ],
   "source": [
    "np.zeros((2,list_of_layers.shape[0]))"
   ]
  },
  {
   "cell_type": "code",
   "execution_count": 295,
   "metadata": {},
   "outputs": [],
   "source": [
    "list_of_layers = df_acc['layer'].unique()\n",
    "    \n",
    "y = np.zeros((4,list_of_layers.shape[0]))\n",
    "err = np.zeros((4,list_of_layers.shape[0]))\n",
    "\n",
    "#concept_p_list = ['orange_sub_1','green_sub_1','yellow_sub_1','blue_sub_1']\n",
    "#concept_p_list = ['striped_sub_1','grid_sub_1','dotted_sub_1','banded_sub_1']\n",
    "#concept_p_list = ['sky_sub_1','ocean_sub_1','grassland_sub_1','road_sub_1']\n",
    "\n",
    "concept_p_list = ['random500_6','random500_7','random500_8','random500_9']\n",
    "for c,concept_p in enumerate(concept_p_list):\n",
    "    for idx,layer in enumerate(list_of_layers):\n",
    "        subset = df_acc[\n",
    "            (df_acc['layer']==layer) & \n",
    "            (df_acc['concept_p']==concept_p)]\n",
    "\n",
    "        y[c][idx] = subset['acc_orig'].mean()\n",
    "        err[c][idx] = subset['acc_orig'].std()\n",
    "\n",
    "    \n",
    "x = list_of_layers"
   ]
  },
  {
   "cell_type": "code",
   "execution_count": 296,
   "metadata": {},
   "outputs": [
    {
     "data": {
      "text/plain": [
       "array([0.50909091, 0.55757576, 0.51515152, 0.51515152, 0.52727273,\n",
       "       0.49090909, 0.46060606, 0.53939394, 0.56969697, 0.55757576])"
      ]
     },
     "execution_count": 296,
     "metadata": {},
     "output_type": "execute_result"
    }
   ],
   "source": [
    "y[0]"
   ]
  },
  {
   "cell_type": "code",
   "execution_count": 410,
   "metadata": {},
   "outputs": [],
   "source": [
    "from matplotlib import rc\n",
    "rc('font',**{'family':'sans-serif','sans-serif':['Helvetica']})\n",
    "## for Palatino and other serif fonts use:\n",
    "#rc('font',**{'family':'serif','serif':['Palatino']})\n",
    "rc('text', usetex=True)"
   ]
  },
  {
   "cell_type": "code",
   "execution_count": 311,
   "metadata": {},
   "outputs": [
    {
     "data": {
      "image/png": "[encoded data removed]",
      "text/plain": [
       "<Figure size 864x216 with 1 Axes>"
      ]
     },
     "metadata": {
      "needs_background": "light"
     },
     "output_type": "display_data"
    }
   ],
   "source": [
    "y_orig,err_orig = y_blue,err_blue\n",
    "fig = plt.figure(figsize=[12,3])\n",
    "ticks = list_of_layers\n",
    "x = np.arange(1,list_of_layers.shape[0]+1)\n",
    "plt.xticks(range(1, len(ticks)+1, 1), ticks)\n",
    "plt.xlim(.5, len(ticks)+.5)\n",
    "_ = plt.ylim(0, 1.05)\n",
    "\n",
    "color_list = ['orange','green','yellow','blue']\n",
    "label_list = ['orange','green','yellow','blue']\n",
    "\n",
    "#color_list = ['white','grey','pink','orange']\n",
    "#label_list = ['striped','grid','dotted','banded']\n",
    "\n",
    "#color_list = ['white','blue','green','grey']\n",
    "#label_list = ['sky','ocean','grassland','road']\n",
    "\n",
    "plt.rc('text', usetex=True)\n",
    "\n",
    "color_list = ['#fbc7c7','#df6d7f','#f40f0f','#b80000']\n",
    "label_list = [r'$N_6$','$N_7$','$N_8$','$N_9$']\n",
    "\n",
    "for i in range(y.shape[0]):\n",
    "    plt.errorbar(x-.15 + .15*i, y[i], yerr=err[i], fmt='o',c = color_list[i],mec='k',ecolor='k',label = label_list[i])\n",
    "\n",
    "plt.axhline(y=1, color='k', linestyle='--',zorder=-5,linewidth=.7)\n",
    "plt.axhline(y=.5, color='k', linestyle='--',zorder=-5,linewidth=.7)\n",
    "\n",
    "plt.legend(loc='upper left')\n",
    "plt.ylabel('CAV Accuray')\n",
    "plt.xlabel('Bottleneck')\n",
    "plt.savefig('new_figs/acc/tmp.png',dpi=300,bbox_inches='tight')\n",
    "\n"
   ]
  },
  {
   "cell_type": "code",
   "execution_count": null,
   "metadata": {},
   "outputs": [],
   "source": []
  },
  {
   "cell_type": "code",
   "execution_count": null,
   "metadata": {},
   "outputs": [],
   "source": []
  },
  {
   "cell_type": "code",
   "execution_count": 1182,
   "metadata": {},
   "outputs": [
    {
     "data": {
      "image/png": "[encoded data removed]",
      "text/plain": [
       "<Figure size 720x360 with 1 Axes>"
      ]
     },
     "metadata": {
      "needs_background": "light"
     },
     "output_type": "display_data"
    }
   ],
   "source": [
    "data_a = subsets[0]\n",
    "data_b = subsets[1]\n",
    "\n",
    "fig = plt.figure(figsize=[10,5])\n",
    "ticks = layer_names\n",
    "bpl = plt.boxplot(data_a, positions=np.array(range(len(data_a)))*2.0-0.4, sym='', widths=0.6)\n",
    "bpr = plt.boxplot(data_b, positions=np.array(range(len(data_b)))*2.0+0.4, sym='', widths=0.6)\n",
    "set_box_color(bpl, '#D7191C') #blue\n",
    "set_box_color(bpr, '#2C7BB6') # red\n",
    "#plt.plot([], c='#D7191C', label='Original')\n",
    "#plt.plot([], c='#2C7BB6', label='L1')\n",
    "#plt.legend()\n",
    "plt.xticks(range(0, len(ticks) * 2, 2), ticks)\n",
    "plt.xlim(-2, len(ticks)*2)\n",
    "_ = plt.ylim(0, 1.1)"
   ]
  },
  {
   "cell_type": "code",
   "execution_count": 1183,
   "metadata": {},
   "outputs": [
    {
     "data": {
      "image/png": "[encoded data removed]",
      "text/plain": [
       "<Figure size 720x360 with 1 Axes>"
      ]
     },
     "metadata": {
      "needs_background": "light"
     },
     "output_type": "display_data"
    }
   ],
   "source": [
    "fig = plt.figure(figsize=[10,5])\n",
    "ticks = layer_names\n",
    "\n",
    "plt.xticks(range(0, len(ticks), 1), ticks)\n",
    "plt.xlim(-.5, len(ticks)-.5)\n",
    "_ = plt.ylim(0, 1.1)\n",
    "\n",
    "for i in range(len(layer_names)):\n",
    "    x = np.ones(len(data_a[i]))*i\n",
    "    plt.scatter(x,data_a[i],alpha = .4,c='b')"
   ]
  },
  {
   "cell_type": "code",
   "execution_count": 512,
   "metadata": {},
   "outputs": [
    {
     "data": {
      "text/plain": [
       "array([9., 9., 9., 9., 9.])"
      ]
     },
     "execution_count": 512,
     "metadata": {},
     "output_type": "execute_result"
    }
   ],
   "source": [
    "x"
   ]
  },
  {
   "cell_type": "code",
   "execution_count": null,
   "metadata": {},
   "outputs": [],
   "source": []
  },
  {
   "cell_type": "markdown",
   "metadata": {},
   "source": [
    "## LOG"
   ]
  },
  {
   "cell_type": "code",
   "execution_count": 1668,
   "metadata": {},
   "outputs": [],
   "source": [
    "df = pickle.load(open('df_log_balance.pkl', 'rb'))"
   ]
  },
  {
   "cell_type": "code",
   "execution_count": 1679,
   "metadata": {},
   "outputs": [],
   "source": [
    "target_class ='lots_of_lions'\n",
    "layer = 'mixed9'\n",
    "concept_p = 'grassland_sub_1'\n",
    "split_seed = 4\n",
    "\n",
    "concept_n = 'N_0'\n",
    "concept_n = 'random500_4'\n",
    "\n",
    "subset = df[(df['target_class']==target_class) & \n",
    "        (df['layer']==layer) & \n",
    "        (df['concept_p']==concept_p) &\n",
    "        #(df['concept_n']==concept_n) & #]\n",
    "        (df['concept_n'].str.contains('N'))]#) &\n",
    "        #(df['split_seed']==split_seed)]"
   ]
  },
  {
   "cell_type": "code",
   "execution_count": 1680,
   "metadata": {},
   "outputs": [
    {
     "name": "stdout",
     "output_type": "stream",
     "text": [
      "orig. mean of 0.25 and std of 0.053\n"
     ]
    }
   ],
   "source": [
    "mean_o = round(subset['log_score'].mean(),2)\n",
    "std_o = round(subset['log_score'].std(),3)\n",
    "print(f'orig. mean of {mean_o} and std of {std_o}')"
   ]
  },
  {
   "cell_type": "code",
   "execution_count": 1681,
   "metadata": {},
   "outputs": [],
   "source": [
    "#subset"
   ]
  },
  {
   "cell_type": "code",
   "execution_count": null,
   "metadata": {},
   "outputs": [],
   "source": []
  },
  {
   "cell_type": "code",
   "execution_count": null,
   "metadata": {},
   "outputs": [],
   "source": []
  },
  {
   "cell_type": "code",
   "execution_count": 1682,
   "metadata": {},
   "outputs": [],
   "source": [
    "list_of_random = df[df['concept_n'].str.contains('N')]['concept_n'].unique()\n",
    "\n",
    "y_log = np.empty(list_of_random.shape)\n",
    "err_log = np.empty(list_of_random.shape)\n",
    "\n",
    "log_list = []\n",
    "\n",
    "for idx,concept_n in enumerate(list_of_random):\n",
    "    \n",
    "    subset = df[(df['target_class']==target_class) & \n",
    "        (df['layer']==layer) & \n",
    "        (df['concept_p']==concept_p) &\n",
    "        (df['concept_n']==concept_n)]\n",
    "    \n",
    "    y_log[idx] = subset['log_score'].mean()\n",
    "    err_log[idx] = subset['log_score'].std()\n",
    "    log_list.append(list(subset['log_score']))\n",
    "x = list_of_random"
   ]
  },
  {
   "cell_type": "code",
   "execution_count": 1683,
   "metadata": {},
   "outputs": [
    {
     "data": {
      "text/plain": [
       "array([0.26333333, 0.258     , 0.19333333, 0.28      , 0.27133333])"
      ]
     },
     "execution_count": 1683,
     "metadata": {},
     "output_type": "execute_result"
    }
   ],
   "source": [
    "y_log"
   ]
  },
  {
   "cell_type": "code",
   "execution_count": 1684,
   "metadata": {},
   "outputs": [],
   "source": [
    "labels = ['$N^{500}_'+str(i) + '$' for i in range(5)]"
   ]
  },
  {
   "cell_type": "code",
   "execution_count": 1685,
   "metadata": {},
   "outputs": [
    {
     "data": {
      "image/png": "[encoded data removed]",
      "text/plain": [
       "<Figure size 432x216 with 1 Axes>"
      ]
     },
     "metadata": {
      "needs_background": "light"
     },
     "output_type": "display_data"
    }
   ],
   "source": [
    "rc('text', usetex=True)\n",
    "fig = plt.figure(figsize=[6,3])\n",
    "ticks = labels\n",
    "x = np.arange(0,5)\n",
    "\n",
    "\n",
    "#plt.errorbar(x-.1, y_orig, yerr=err_orig, fmt='o',label='SVM')\n",
    "\n",
    "#plt.errorbar(x+.1, y_marg, yerr=err_marg, fmt='o',label='Ave. of SVMs')\n",
    "\n",
    "plt.errorbar(x, y_log,c='purple',yerr=err_log, fmt='o',label='Logistic')\n",
    "\n",
    "\n",
    "x = list_of_random\n",
    "ticks = seeds\n",
    "\n",
    "_ = plt.ylim(0, 1.01)\n",
    "#plt.savefig('new_figs/tcav_score/tmp.png',dpi=300)\n",
    "\n",
    "plt.axhline(y=1, color='k', linestyle='--',zorder=-5,linewidth=.7)\n",
    "plt.axhline(y=.5, color='k', linestyle='--',zorder=-5,linewidth=.7)\n",
    "\n",
    "plt.legend(loc='upper center')\n",
    "plt.ylabel('TCAV Score')\n",
    "plt.xlabel('Negative Class')\n",
    "\n",
    "rc('text', usetex=True) \n",
    "plt.xticks(range(0, len(ticks)+1, 1), ticks)\n",
    "plt.xlim(-.5, len(ticks)-.5)\n",
    "#rc('text', usetex=False) \n",
    "\n",
    "plt.savefig('new_figs/tcav_score/tmp.png',dpi=300,bbox_inches='tight')\n"
   ]
  },
  {
   "cell_type": "markdown",
   "metadata": {},
   "source": [
    "### USING RANDOM CLASSES"
   ]
  },
  {
   "cell_type": "code",
   "execution_count": 1692,
   "metadata": {},
   "outputs": [],
   "source": [
    "df = pickle.load(open('df_var.pkl', 'rb'))\n",
    "df = pickle.load(open('df_var1.pkl', 'rb'))"
   ]
  },
  {
   "cell_type": "code",
   "execution_count": 1693,
   "metadata": {},
   "outputs": [
    {
     "data": {
      "text/plain": [
       "array(['mixed9', 'mixed6', 'mixed0'], dtype=object)"
      ]
     },
     "execution_count": 1693,
     "metadata": {},
     "output_type": "execute_result"
    }
   ],
   "source": [
    "df['layer'].unique()"
   ]
  },
  {
   "cell_type": "code",
   "execution_count": 1769,
   "metadata": {},
   "outputs": [],
   "source": [
    "target_class ='lots_of_zebras'\n",
    "#target_class ='lots_of_lions'\n",
    "\n",
    "layer = 'mixed6'\n",
    "concept_p = 'striped_sub_1'\n",
    "#concept_p = 'grassland_sub_1'\n",
    "\n",
    "split_seed = 4\n",
    "\n",
    "concept_n = 'N_0'\n",
    "concept_n = 'random500_4'\n",
    "\n",
    "subset = df[(df['target_class']==target_class) & \n",
    "        (df['layer']==layer) & \n",
    "        (df['concept_p']==concept_p) &\n",
    "        #(df['concept_n']==concept_n) & #]\n",
    "        (df['concept_n'].str.contains('N'))]#) &\n",
    "        #(df['split_seed']==split_seed)]"
   ]
  },
  {
   "cell_type": "code",
   "execution_count": 1770,
   "metadata": {},
   "outputs": [
    {
     "data": {
      "text/html": [
       "<div>\n",
       "<style scoped>\n",
       "    .dataframe tbody tr th:only-of-type {\n",
       "        vertical-align: middle;\n",
       "    }\n",
       "\n",
       "    .dataframe tbody tr th {\n",
       "        vertical-align: top;\n",
       "    }\n",
       "\n",
       "    .dataframe thead th {\n",
       "        text-align: right;\n",
       "    }\n",
       "</style>\n",
       "<table border=\"1\" class=\"dataframe\">\n",
       "  <thead>\n",
       "    <tr style=\"text-align: right;\">\n",
       "      <th></th>\n",
       "      <th>target_class</th>\n",
       "      <th>layer</th>\n",
       "      <th>concept_p</th>\n",
       "      <th>concept_n</th>\n",
       "      <th>split_seed</th>\n",
       "      <th>orig_score</th>\n",
       "      <th>marg_score</th>\n",
       "      <th>mean_score</th>\n",
       "    </tr>\n",
       "  </thead>\n",
       "  <tbody>\n",
       "    <tr>\n",
       "      <th>0</th>\n",
       "      <td>lots_of_zebras</td>\n",
       "      <td>mixed6</td>\n",
       "      <td>striped_sub_1</td>\n",
       "      <td>N_0</td>\n",
       "      <td>1</td>\n",
       "      <td>0.806667</td>\n",
       "      <td>0.873333</td>\n",
       "      <td>0.873333</td>\n",
       "    </tr>\n",
       "    <tr>\n",
       "      <th>0</th>\n",
       "      <td>lots_of_zebras</td>\n",
       "      <td>mixed6</td>\n",
       "      <td>striped_sub_1</td>\n",
       "      <td>N_0</td>\n",
       "      <td>2</td>\n",
       "      <td>0.733333</td>\n",
       "      <td>0.860000</td>\n",
       "      <td>0.886667</td>\n",
       "    </tr>\n",
       "    <tr>\n",
       "      <th>0</th>\n",
       "      <td>lots_of_zebras</td>\n",
       "      <td>mixed6</td>\n",
       "      <td>striped_sub_1</td>\n",
       "      <td>N_0</td>\n",
       "      <td>3</td>\n",
       "      <td>0.733333</td>\n",
       "      <td>0.880000</td>\n",
       "      <td>0.886667</td>\n",
       "    </tr>\n",
       "    <tr>\n",
       "      <th>0</th>\n",
       "      <td>lots_of_zebras</td>\n",
       "      <td>mixed6</td>\n",
       "      <td>striped_sub_1</td>\n",
       "      <td>N_0</td>\n",
       "      <td>4</td>\n",
       "      <td>0.820000</td>\n",
       "      <td>0.860000</td>\n",
       "      <td>0.880000</td>\n",
       "    </tr>\n",
       "    <tr>\n",
       "      <th>0</th>\n",
       "      <td>lots_of_zebras</td>\n",
       "      <td>mixed6</td>\n",
       "      <td>striped_sub_1</td>\n",
       "      <td>N_0</td>\n",
       "      <td>5</td>\n",
       "      <td>0.860000</td>\n",
       "      <td>0.880000</td>\n",
       "      <td>0.866667</td>\n",
       "    </tr>\n",
       "    <tr>\n",
       "      <th>0</th>\n",
       "      <td>lots_of_zebras</td>\n",
       "      <td>mixed6</td>\n",
       "      <td>striped_sub_1</td>\n",
       "      <td>N_0</td>\n",
       "      <td>6</td>\n",
       "      <td>0.866667</td>\n",
       "      <td>0.880000</td>\n",
       "      <td>0.873333</td>\n",
       "    </tr>\n",
       "    <tr>\n",
       "      <th>0</th>\n",
       "      <td>lots_of_zebras</td>\n",
       "      <td>mixed6</td>\n",
       "      <td>striped_sub_1</td>\n",
       "      <td>N_0</td>\n",
       "      <td>7</td>\n",
       "      <td>0.866667</td>\n",
       "      <td>0.846667</td>\n",
       "      <td>0.866667</td>\n",
       "    </tr>\n",
       "    <tr>\n",
       "      <th>0</th>\n",
       "      <td>lots_of_zebras</td>\n",
       "      <td>mixed6</td>\n",
       "      <td>striped_sub_1</td>\n",
       "      <td>N_0</td>\n",
       "      <td>8</td>\n",
       "      <td>0.860000</td>\n",
       "      <td>0.866667</td>\n",
       "      <td>0.866667</td>\n",
       "    </tr>\n",
       "    <tr>\n",
       "      <th>0</th>\n",
       "      <td>lots_of_zebras</td>\n",
       "      <td>mixed6</td>\n",
       "      <td>striped_sub_1</td>\n",
       "      <td>N_0</td>\n",
       "      <td>9</td>\n",
       "      <td>0.860000</td>\n",
       "      <td>0.886667</td>\n",
       "      <td>0.873333</td>\n",
       "    </tr>\n",
       "    <tr>\n",
       "      <th>0</th>\n",
       "      <td>lots_of_zebras</td>\n",
       "      <td>mixed6</td>\n",
       "      <td>striped_sub_1</td>\n",
       "      <td>N_0</td>\n",
       "      <td>10</td>\n",
       "      <td>0.840000</td>\n",
       "      <td>0.866667</td>\n",
       "      <td>0.893333</td>\n",
       "    </tr>\n",
       "    <tr>\n",
       "      <th>0</th>\n",
       "      <td>lots_of_zebras</td>\n",
       "      <td>mixed6</td>\n",
       "      <td>striped_sub_1</td>\n",
       "      <td>N_1</td>\n",
       "      <td>1</td>\n",
       "      <td>0.906667</td>\n",
       "      <td>0.893333</td>\n",
       "      <td>0.873333</td>\n",
       "    </tr>\n",
       "    <tr>\n",
       "      <th>0</th>\n",
       "      <td>lots_of_zebras</td>\n",
       "      <td>mixed6</td>\n",
       "      <td>striped_sub_1</td>\n",
       "      <td>N_1</td>\n",
       "      <td>2</td>\n",
       "      <td>0.806667</td>\n",
       "      <td>0.886667</td>\n",
       "      <td>0.880000</td>\n",
       "    </tr>\n",
       "    <tr>\n",
       "      <th>0</th>\n",
       "      <td>lots_of_zebras</td>\n",
       "      <td>mixed6</td>\n",
       "      <td>striped_sub_1</td>\n",
       "      <td>N_1</td>\n",
       "      <td>3</td>\n",
       "      <td>0.886667</td>\n",
       "      <td>0.920000</td>\n",
       "      <td>0.873333</td>\n",
       "    </tr>\n",
       "    <tr>\n",
       "      <th>0</th>\n",
       "      <td>lots_of_zebras</td>\n",
       "      <td>mixed6</td>\n",
       "      <td>striped_sub_1</td>\n",
       "      <td>N_1</td>\n",
       "      <td>4</td>\n",
       "      <td>0.826667</td>\n",
       "      <td>0.860000</td>\n",
       "      <td>0.860000</td>\n",
       "    </tr>\n",
       "    <tr>\n",
       "      <th>0</th>\n",
       "      <td>lots_of_zebras</td>\n",
       "      <td>mixed6</td>\n",
       "      <td>striped_sub_1</td>\n",
       "      <td>N_1</td>\n",
       "      <td>5</td>\n",
       "      <td>0.760000</td>\n",
       "      <td>0.866667</td>\n",
       "      <td>0.860000</td>\n",
       "    </tr>\n",
       "    <tr>\n",
       "      <th>0</th>\n",
       "      <td>lots_of_zebras</td>\n",
       "      <td>mixed6</td>\n",
       "      <td>striped_sub_1</td>\n",
       "      <td>N_1</td>\n",
       "      <td>6</td>\n",
       "      <td>0.846667</td>\n",
       "      <td>0.893333</td>\n",
       "      <td>0.866667</td>\n",
       "    </tr>\n",
       "    <tr>\n",
       "      <th>0</th>\n",
       "      <td>lots_of_zebras</td>\n",
       "      <td>mixed6</td>\n",
       "      <td>striped_sub_1</td>\n",
       "      <td>N_1</td>\n",
       "      <td>7</td>\n",
       "      <td>0.873333</td>\n",
       "      <td>0.873333</td>\n",
       "      <td>0.860000</td>\n",
       "    </tr>\n",
       "    <tr>\n",
       "      <th>0</th>\n",
       "      <td>lots_of_zebras</td>\n",
       "      <td>mixed6</td>\n",
       "      <td>striped_sub_1</td>\n",
       "      <td>N_1</td>\n",
       "      <td>8</td>\n",
       "      <td>0.900000</td>\n",
       "      <td>0.886667</td>\n",
       "      <td>0.880000</td>\n",
       "    </tr>\n",
       "    <tr>\n",
       "      <th>0</th>\n",
       "      <td>lots_of_zebras</td>\n",
       "      <td>mixed6</td>\n",
       "      <td>striped_sub_1</td>\n",
       "      <td>N_1</td>\n",
       "      <td>9</td>\n",
       "      <td>0.840000</td>\n",
       "      <td>0.926667</td>\n",
       "      <td>0.880000</td>\n",
       "    </tr>\n",
       "    <tr>\n",
       "      <th>0</th>\n",
       "      <td>lots_of_zebras</td>\n",
       "      <td>mixed6</td>\n",
       "      <td>striped_sub_1</td>\n",
       "      <td>N_1</td>\n",
       "      <td>10</td>\n",
       "      <td>0.886667</td>\n",
       "      <td>0.906667</td>\n",
       "      <td>0.880000</td>\n",
       "    </tr>\n",
       "    <tr>\n",
       "      <th>0</th>\n",
       "      <td>lots_of_zebras</td>\n",
       "      <td>mixed6</td>\n",
       "      <td>striped_sub_1</td>\n",
       "      <td>N_2</td>\n",
       "      <td>1</td>\n",
       "      <td>0.846667</td>\n",
       "      <td>0.860000</td>\n",
       "      <td>0.860000</td>\n",
       "    </tr>\n",
       "    <tr>\n",
       "      <th>0</th>\n",
       "      <td>lots_of_zebras</td>\n",
       "      <td>mixed6</td>\n",
       "      <td>striped_sub_1</td>\n",
       "      <td>N_2</td>\n",
       "      <td>2</td>\n",
       "      <td>0.813333</td>\n",
       "      <td>0.860000</td>\n",
       "      <td>0.873333</td>\n",
       "    </tr>\n",
       "    <tr>\n",
       "      <th>0</th>\n",
       "      <td>lots_of_zebras</td>\n",
       "      <td>mixed6</td>\n",
       "      <td>striped_sub_1</td>\n",
       "      <td>N_2</td>\n",
       "      <td>3</td>\n",
       "      <td>0.873333</td>\n",
       "      <td>0.860000</td>\n",
       "      <td>0.880000</td>\n",
       "    </tr>\n",
       "    <tr>\n",
       "      <th>0</th>\n",
       "      <td>lots_of_zebras</td>\n",
       "      <td>mixed6</td>\n",
       "      <td>striped_sub_1</td>\n",
       "      <td>N_2</td>\n",
       "      <td>4</td>\n",
       "      <td>0.820000</td>\n",
       "      <td>0.833333</td>\n",
       "      <td>0.860000</td>\n",
       "    </tr>\n",
       "    <tr>\n",
       "      <th>0</th>\n",
       "      <td>lots_of_zebras</td>\n",
       "      <td>mixed6</td>\n",
       "      <td>striped_sub_1</td>\n",
       "      <td>N_2</td>\n",
       "      <td>5</td>\n",
       "      <td>0.786667</td>\n",
       "      <td>0.846667</td>\n",
       "      <td>0.853333</td>\n",
       "    </tr>\n",
       "    <tr>\n",
       "      <th>0</th>\n",
       "      <td>lots_of_zebras</td>\n",
       "      <td>mixed6</td>\n",
       "      <td>striped_sub_1</td>\n",
       "      <td>N_2</td>\n",
       "      <td>6</td>\n",
       "      <td>0.820000</td>\n",
       "      <td>0.853333</td>\n",
       "      <td>0.873333</td>\n",
       "    </tr>\n",
       "    <tr>\n",
       "      <th>0</th>\n",
       "      <td>lots_of_zebras</td>\n",
       "      <td>mixed6</td>\n",
       "      <td>striped_sub_1</td>\n",
       "      <td>N_2</td>\n",
       "      <td>7</td>\n",
       "      <td>0.766667</td>\n",
       "      <td>0.840000</td>\n",
       "      <td>0.846667</td>\n",
       "    </tr>\n",
       "    <tr>\n",
       "      <th>0</th>\n",
       "      <td>lots_of_zebras</td>\n",
       "      <td>mixed6</td>\n",
       "      <td>striped_sub_1</td>\n",
       "      <td>N_2</td>\n",
       "      <td>8</td>\n",
       "      <td>0.873333</td>\n",
       "      <td>0.853333</td>\n",
       "      <td>0.853333</td>\n",
       "    </tr>\n",
       "    <tr>\n",
       "      <th>0</th>\n",
       "      <td>lots_of_zebras</td>\n",
       "      <td>mixed6</td>\n",
       "      <td>striped_sub_1</td>\n",
       "      <td>N_2</td>\n",
       "      <td>9</td>\n",
       "      <td>0.840000</td>\n",
       "      <td>0.860000</td>\n",
       "      <td>0.880000</td>\n",
       "    </tr>\n",
       "    <tr>\n",
       "      <th>0</th>\n",
       "      <td>lots_of_zebras</td>\n",
       "      <td>mixed6</td>\n",
       "      <td>striped_sub_1</td>\n",
       "      <td>N_2</td>\n",
       "      <td>10</td>\n",
       "      <td>0.846667</td>\n",
       "      <td>0.866667</td>\n",
       "      <td>0.886667</td>\n",
       "    </tr>\n",
       "    <tr>\n",
       "      <th>0</th>\n",
       "      <td>lots_of_zebras</td>\n",
       "      <td>mixed6</td>\n",
       "      <td>striped_sub_1</td>\n",
       "      <td>N_3</td>\n",
       "      <td>1</td>\n",
       "      <td>0.846667</td>\n",
       "      <td>0.873333</td>\n",
       "      <td>0.866667</td>\n",
       "    </tr>\n",
       "    <tr>\n",
       "      <th>0</th>\n",
       "      <td>lots_of_zebras</td>\n",
       "      <td>mixed6</td>\n",
       "      <td>striped_sub_1</td>\n",
       "      <td>N_3</td>\n",
       "      <td>2</td>\n",
       "      <td>0.833333</td>\n",
       "      <td>0.880000</td>\n",
       "      <td>0.880000</td>\n",
       "    </tr>\n",
       "    <tr>\n",
       "      <th>0</th>\n",
       "      <td>lots_of_zebras</td>\n",
       "      <td>mixed6</td>\n",
       "      <td>striped_sub_1</td>\n",
       "      <td>N_3</td>\n",
       "      <td>3</td>\n",
       "      <td>0.900000</td>\n",
       "      <td>0.886667</td>\n",
       "      <td>0.893333</td>\n",
       "    </tr>\n",
       "    <tr>\n",
       "      <th>0</th>\n",
       "      <td>lots_of_zebras</td>\n",
       "      <td>mixed6</td>\n",
       "      <td>striped_sub_1</td>\n",
       "      <td>N_3</td>\n",
       "      <td>4</td>\n",
       "      <td>0.780000</td>\n",
       "      <td>0.866667</td>\n",
       "      <td>0.873333</td>\n",
       "    </tr>\n",
       "    <tr>\n",
       "      <th>0</th>\n",
       "      <td>lots_of_zebras</td>\n",
       "      <td>mixed6</td>\n",
       "      <td>striped_sub_1</td>\n",
       "      <td>N_3</td>\n",
       "      <td>5</td>\n",
       "      <td>0.853333</td>\n",
       "      <td>0.866667</td>\n",
       "      <td>0.860000</td>\n",
       "    </tr>\n",
       "    <tr>\n",
       "      <th>0</th>\n",
       "      <td>lots_of_zebras</td>\n",
       "      <td>mixed6</td>\n",
       "      <td>striped_sub_1</td>\n",
       "      <td>N_3</td>\n",
       "      <td>6</td>\n",
       "      <td>0.846667</td>\n",
       "      <td>0.860000</td>\n",
       "      <td>0.873333</td>\n",
       "    </tr>\n",
       "    <tr>\n",
       "      <th>0</th>\n",
       "      <td>lots_of_zebras</td>\n",
       "      <td>mixed6</td>\n",
       "      <td>striped_sub_1</td>\n",
       "      <td>N_3</td>\n",
       "      <td>7</td>\n",
       "      <td>0.826667</td>\n",
       "      <td>0.866667</td>\n",
       "      <td>0.853333</td>\n",
       "    </tr>\n",
       "    <tr>\n",
       "      <th>0</th>\n",
       "      <td>lots_of_zebras</td>\n",
       "      <td>mixed6</td>\n",
       "      <td>striped_sub_1</td>\n",
       "      <td>N_3</td>\n",
       "      <td>8</td>\n",
       "      <td>0.780000</td>\n",
       "      <td>0.886667</td>\n",
       "      <td>0.873333</td>\n",
       "    </tr>\n",
       "    <tr>\n",
       "      <th>0</th>\n",
       "      <td>lots_of_zebras</td>\n",
       "      <td>mixed6</td>\n",
       "      <td>striped_sub_1</td>\n",
       "      <td>N_3</td>\n",
       "      <td>9</td>\n",
       "      <td>0.840000</td>\n",
       "      <td>0.873333</td>\n",
       "      <td>0.880000</td>\n",
       "    </tr>\n",
       "    <tr>\n",
       "      <th>0</th>\n",
       "      <td>lots_of_zebras</td>\n",
       "      <td>mixed6</td>\n",
       "      <td>striped_sub_1</td>\n",
       "      <td>N_3</td>\n",
       "      <td>10</td>\n",
       "      <td>0.853333</td>\n",
       "      <td>0.866667</td>\n",
       "      <td>0.886667</td>\n",
       "    </tr>\n",
       "    <tr>\n",
       "      <th>0</th>\n",
       "      <td>lots_of_zebras</td>\n",
       "      <td>mixed6</td>\n",
       "      <td>striped_sub_1</td>\n",
       "      <td>N_4</td>\n",
       "      <td>1</td>\n",
       "      <td>0.806667</td>\n",
       "      <td>0.840000</td>\n",
       "      <td>0.873333</td>\n",
       "    </tr>\n",
       "    <tr>\n",
       "      <th>0</th>\n",
       "      <td>lots_of_zebras</td>\n",
       "      <td>mixed6</td>\n",
       "      <td>striped_sub_1</td>\n",
       "      <td>N_4</td>\n",
       "      <td>2</td>\n",
       "      <td>0.786667</td>\n",
       "      <td>0.860000</td>\n",
       "      <td>0.866667</td>\n",
       "    </tr>\n",
       "    <tr>\n",
       "      <th>0</th>\n",
       "      <td>lots_of_zebras</td>\n",
       "      <td>mixed6</td>\n",
       "      <td>striped_sub_1</td>\n",
       "      <td>N_4</td>\n",
       "      <td>3</td>\n",
       "      <td>0.846667</td>\n",
       "      <td>0.860000</td>\n",
       "      <td>0.880000</td>\n",
       "    </tr>\n",
       "    <tr>\n",
       "      <th>0</th>\n",
       "      <td>lots_of_zebras</td>\n",
       "      <td>mixed6</td>\n",
       "      <td>striped_sub_1</td>\n",
       "      <td>N_4</td>\n",
       "      <td>4</td>\n",
       "      <td>0.820000</td>\n",
       "      <td>0.860000</td>\n",
       "      <td>0.866667</td>\n",
       "    </tr>\n",
       "    <tr>\n",
       "      <th>0</th>\n",
       "      <td>lots_of_zebras</td>\n",
       "      <td>mixed6</td>\n",
       "      <td>striped_sub_1</td>\n",
       "      <td>N_4</td>\n",
       "      <td>5</td>\n",
       "      <td>0.753333</td>\n",
       "      <td>0.860000</td>\n",
       "      <td>0.853333</td>\n",
       "    </tr>\n",
       "    <tr>\n",
       "      <th>0</th>\n",
       "      <td>lots_of_zebras</td>\n",
       "      <td>mixed6</td>\n",
       "      <td>striped_sub_1</td>\n",
       "      <td>N_4</td>\n",
       "      <td>6</td>\n",
       "      <td>0.833333</td>\n",
       "      <td>0.853333</td>\n",
       "      <td>0.866667</td>\n",
       "    </tr>\n",
       "    <tr>\n",
       "      <th>0</th>\n",
       "      <td>lots_of_zebras</td>\n",
       "      <td>mixed6</td>\n",
       "      <td>striped_sub_1</td>\n",
       "      <td>N_4</td>\n",
       "      <td>7</td>\n",
       "      <td>0.873333</td>\n",
       "      <td>0.853333</td>\n",
       "      <td>0.860000</td>\n",
       "    </tr>\n",
       "    <tr>\n",
       "      <th>0</th>\n",
       "      <td>lots_of_zebras</td>\n",
       "      <td>mixed6</td>\n",
       "      <td>striped_sub_1</td>\n",
       "      <td>N_4</td>\n",
       "      <td>8</td>\n",
       "      <td>0.780000</td>\n",
       "      <td>0.866667</td>\n",
       "      <td>0.880000</td>\n",
       "    </tr>\n",
       "    <tr>\n",
       "      <th>0</th>\n",
       "      <td>lots_of_zebras</td>\n",
       "      <td>mixed6</td>\n",
       "      <td>striped_sub_1</td>\n",
       "      <td>N_4</td>\n",
       "      <td>9</td>\n",
       "      <td>0.826667</td>\n",
       "      <td>0.866667</td>\n",
       "      <td>0.873333</td>\n",
       "    </tr>\n",
       "    <tr>\n",
       "      <th>0</th>\n",
       "      <td>lots_of_zebras</td>\n",
       "      <td>mixed6</td>\n",
       "      <td>striped_sub_1</td>\n",
       "      <td>N_4</td>\n",
       "      <td>10</td>\n",
       "      <td>0.773333</td>\n",
       "      <td>0.866667</td>\n",
       "      <td>0.873333</td>\n",
       "    </tr>\n",
       "  </tbody>\n",
       "</table>\n",
       "</div>"
      ],
      "text/plain": [
       "     target_class   layer      concept_p concept_n split_seed  orig_score  \\\n",
       "0  lots_of_zebras  mixed6  striped_sub_1       N_0          1    0.806667   \n",
       "0  lots_of_zebras  mixed6  striped_sub_1       N_0          2    0.733333   \n",
       "0  lots_of_zebras  mixed6  striped_sub_1       N_0          3    0.733333   \n",
       "0  lots_of_zebras  mixed6  striped_sub_1       N_0          4    0.820000   \n",
       "0  lots_of_zebras  mixed6  striped_sub_1       N_0          5    0.860000   \n",
       "0  lots_of_zebras  mixed6  striped_sub_1       N_0          6    0.866667   \n",
       "0  lots_of_zebras  mixed6  striped_sub_1       N_0          7    0.866667   \n",
       "0  lots_of_zebras  mixed6  striped_sub_1       N_0          8    0.860000   \n",
       "0  lots_of_zebras  mixed6  striped_sub_1       N_0          9    0.860000   \n",
       "0  lots_of_zebras  mixed6  striped_sub_1       N_0         10    0.840000   \n",
       "0  lots_of_zebras  mixed6  striped_sub_1       N_1          1    0.906667   \n",
       "0  lots_of_zebras  mixed6  striped_sub_1       N_1          2    0.806667   \n",
       "0  lots_of_zebras  mixed6  striped_sub_1       N_1          3    0.886667   \n",
       "0  lots_of_zebras  mixed6  striped_sub_1       N_1          4    0.826667   \n",
       "0  lots_of_zebras  mixed6  striped_sub_1       N_1          5    0.760000   \n",
       "0  lots_of_zebras  mixed6  striped_sub_1       N_1          6    0.846667   \n",
       "0  lots_of_zebras  mixed6  striped_sub_1       N_1          7    0.873333   \n",
       "0  lots_of_zebras  mixed6  striped_sub_1       N_1          8    0.900000   \n",
       "0  lots_of_zebras  mixed6  striped_sub_1       N_1          9    0.840000   \n",
       "0  lots_of_zebras  mixed6  striped_sub_1       N_1         10    0.886667   \n",
       "0  lots_of_zebras  mixed6  striped_sub_1       N_2          1    0.846667   \n",
       "0  lots_of_zebras  mixed6  striped_sub_1       N_2          2    0.813333   \n",
       "0  lots_of_zebras  mixed6  striped_sub_1       N_2          3    0.873333   \n",
       "0  lots_of_zebras  mixed6  striped_sub_1       N_2          4    0.820000   \n",
       "0  lots_of_zebras  mixed6  striped_sub_1       N_2          5    0.786667   \n",
       "0  lots_of_zebras  mixed6  striped_sub_1       N_2          6    0.820000   \n",
       "0  lots_of_zebras  mixed6  striped_sub_1       N_2          7    0.766667   \n",
       "0  lots_of_zebras  mixed6  striped_sub_1       N_2          8    0.873333   \n",
       "0  lots_of_zebras  mixed6  striped_sub_1       N_2          9    0.840000   \n",
       "0  lots_of_zebras  mixed6  striped_sub_1       N_2         10    0.846667   \n",
       "0  lots_of_zebras  mixed6  striped_sub_1       N_3          1    0.846667   \n",
       "0  lots_of_zebras  mixed6  striped_sub_1       N_3          2    0.833333   \n",
       "0  lots_of_zebras  mixed6  striped_sub_1       N_3          3    0.900000   \n",
       "0  lots_of_zebras  mixed6  striped_sub_1       N_3          4    0.780000   \n",
       "0  lots_of_zebras  mixed6  striped_sub_1       N_3          5    0.853333   \n",
       "0  lots_of_zebras  mixed6  striped_sub_1       N_3          6    0.846667   \n",
       "0  lots_of_zebras  mixed6  striped_sub_1       N_3          7    0.826667   \n",
       "0  lots_of_zebras  mixed6  striped_sub_1       N_3          8    0.780000   \n",
       "0  lots_of_zebras  mixed6  striped_sub_1       N_3          9    0.840000   \n",
       "0  lots_of_zebras  mixed6  striped_sub_1       N_3         10    0.853333   \n",
       "0  lots_of_zebras  mixed6  striped_sub_1       N_4          1    0.806667   \n",
       "0  lots_of_zebras  mixed6  striped_sub_1       N_4          2    0.786667   \n",
       "0  lots_of_zebras  mixed6  striped_sub_1       N_4          3    0.846667   \n",
       "0  lots_of_zebras  mixed6  striped_sub_1       N_4          4    0.820000   \n",
       "0  lots_of_zebras  mixed6  striped_sub_1       N_4          5    0.753333   \n",
       "0  lots_of_zebras  mixed6  striped_sub_1       N_4          6    0.833333   \n",
       "0  lots_of_zebras  mixed6  striped_sub_1       N_4          7    0.873333   \n",
       "0  lots_of_zebras  mixed6  striped_sub_1       N_4          8    0.780000   \n",
       "0  lots_of_zebras  mixed6  striped_sub_1       N_4          9    0.826667   \n",
       "0  lots_of_zebras  mixed6  striped_sub_1       N_4         10    0.773333   \n",
       "\n",
       "   marg_score  mean_score  \n",
       "0    0.873333    0.873333  \n",
       "0    0.860000    0.886667  \n",
       "0    0.880000    0.886667  \n",
       "0    0.860000    0.880000  \n",
       "0    0.880000    0.866667  \n",
       "0    0.880000    0.873333  \n",
       "0    0.846667    0.866667  \n",
       "0    0.866667    0.866667  \n",
       "0    0.886667    0.873333  \n",
       "0    0.866667    0.893333  \n",
       "0    0.893333    0.873333  \n",
       "0    0.886667    0.880000  \n",
       "0    0.920000    0.873333  \n",
       "0    0.860000    0.860000  \n",
       "0    0.866667    0.860000  \n",
       "0    0.893333    0.866667  \n",
       "0    0.873333    0.860000  \n",
       "0    0.886667    0.880000  \n",
       "0    0.926667    0.880000  \n",
       "0    0.906667    0.880000  \n",
       "0    0.860000    0.860000  \n",
       "0    0.860000    0.873333  \n",
       "0    0.860000    0.880000  \n",
       "0    0.833333    0.860000  \n",
       "0    0.846667    0.853333  \n",
       "0    0.853333    0.873333  \n",
       "0    0.840000    0.846667  \n",
       "0    0.853333    0.853333  \n",
       "0    0.860000    0.880000  \n",
       "0    0.866667    0.886667  \n",
       "0    0.873333    0.866667  \n",
       "0    0.880000    0.880000  \n",
       "0    0.886667    0.893333  \n",
       "0    0.866667    0.873333  \n",
       "0    0.866667    0.860000  \n",
       "0    0.860000    0.873333  \n",
       "0    0.866667    0.853333  \n",
       "0    0.886667    0.873333  \n",
       "0    0.873333    0.880000  \n",
       "0    0.866667    0.886667  \n",
       "0    0.840000    0.873333  \n",
       "0    0.860000    0.866667  \n",
       "0    0.860000    0.880000  \n",
       "0    0.860000    0.866667  \n",
       "0    0.860000    0.853333  \n",
       "0    0.853333    0.866667  \n",
       "0    0.853333    0.860000  \n",
       "0    0.866667    0.880000  \n",
       "0    0.866667    0.873333  \n",
       "0    0.866667    0.873333  "
      ]
     },
     "execution_count": 1770,
     "metadata": {},
     "output_type": "execute_result"
    }
   ],
   "source": [
    "subset"
   ]
  },
  {
   "cell_type": "code",
   "execution_count": 1771,
   "metadata": {},
   "outputs": [],
   "source": [
    "#df[df['layer']==layer]"
   ]
  },
  {
   "cell_type": "code",
   "execution_count": 1772,
   "metadata": {},
   "outputs": [
    {
     "name": "stdout",
     "output_type": "stream",
     "text": [
      "orig. mean of 0.83 and std of 0.042\n",
      "marg. mean of 0.87 and std of 0.018\n",
      "mean. mean of 0.87 and std of 0.011\n"
     ]
    }
   ],
   "source": [
    "\n",
    "\n",
    "mean_o = round(subset['orig_score'].mean(),2)\n",
    "std_o = round(subset['orig_score'].std(),3)\n",
    "print(f'orig. mean of {mean_o} and std of {std_o}')\n",
    "\n",
    "mean = round(subset['marg_score'].mean(),2)\n",
    "std = round(subset['marg_score'].std(),3)\n",
    "print(f'marg. mean of {mean} and std of {std}')\n",
    "\n",
    "mean = round(subset['mean_score'].mean(),2)\n",
    "std = round(subset['mean_score'].std(),3)\n",
    "print(f'mean. mean of {mean} and std of {std}')"
   ]
  },
  {
   "cell_type": "code",
   "execution_count": 1773,
   "metadata": {},
   "outputs": [
    {
     "data": {
      "text/plain": [
       "array(['mixed9', 'mixed6', 'mixed0'], dtype=object)"
      ]
     },
     "execution_count": 1773,
     "metadata": {},
     "output_type": "execute_result"
    }
   ],
   "source": [
    "df['layer'].unique()"
   ]
  },
  {
   "cell_type": "code",
   "execution_count": 1774,
   "metadata": {},
   "outputs": [],
   "source": [
    "#df[df['target_class']=='lots_of_zebras']"
   ]
  },
  {
   "cell_type": "markdown",
   "metadata": {},
   "source": [
    "## avg var\n",
    "target_class ='lots_of_zebras'\n",
    "layer = 'mixed6'\n",
    "concept_p = 'striped_sub_1'\n",
    "split_seed = 1\n",
    "\n",
    "list_of_random = df['concept_n'].unique()\n",
    "\n",
    "concept_n = 'random500_3'\n",
    "\n",
    "list_of_random = ['N_0','N_1','N_2']\n",
    "\n",
    "#list_of_random = ['random500_'+str(a) for a in range(10)]\n",
    "\n",
    "list_of_vars = []\n",
    "for concept_n in list_of_random:\n",
    "    subset = df[(df['target_class']==target_class) & \n",
    "            (df['layer']==layer) & \n",
    "            (df['concept_p']==concept_p) &\n",
    "            (df['concept_n']==concept_n)]# &\n",
    "            #(df['split_seed']==split_seed)]\n",
    "    list_of_vars.append(subset['marg_score'].std())\n",
    "arr_of_vars_1 = np.array(list_of_vars)"
   ]
  },
  {
   "cell_type": "code",
   "execution_count": 1775,
   "metadata": {},
   "outputs": [],
   "source": [
    "#arr_of_vars_1.mean()"
   ]
  },
  {
   "cell_type": "markdown",
   "metadata": {},
   "source": [
    "## avg var\n",
    "target_class ='lots_of_lions'\n",
    "layer = 'mixed6'\n",
    "concept_p = 'grassland_sub_1'\n",
    "split_seed = 1\n",
    "\n",
    "list_of_random = df['concept_n'].unique()\n",
    "\n",
    "concept_n = 'random500_3'\n",
    "\n",
    "list_of_seeds = range(1,11)\n",
    "\n",
    "list_of_vars = []\n",
    "for split_seed in list_of_seeds:\n",
    "    subset = df[(df['target_class']==target_class) & \n",
    "            (df['layer']==layer) & \n",
    "            (df['concept_p']==concept_p) &\n",
    "            #(df['concept_n']==concept_n)]# &\n",
    "            (df['split_seed']==split_seed)]\n",
    "    list_of_vars.append(subset['orig_score'].std())\n",
    "arr_of_vars = np.array(list_of_vars)"
   ]
  },
  {
   "cell_type": "code",
   "execution_count": 1776,
   "metadata": {},
   "outputs": [],
   "source": [
    "#df"
   ]
  },
  {
   "cell_type": "code",
   "execution_count": 1777,
   "metadata": {},
   "outputs": [],
   "source": [
    "list_of_random = df[df['concept_n'].str.contains('N')]['concept_n'].unique()\n",
    "\n",
    "\n",
    "y_orig = np.empty(list_of_random.shape)\n",
    "err_orig = np.empty(list_of_random.shape)\n",
    "y_marg = np.empty(list_of_random.shape)\n",
    "err_marg = np.empty(list_of_random.shape)\n",
    "y_mean = np.empty(list_of_random.shape)\n",
    "err_mean = np.empty(list_of_random.shape)\n",
    "\n",
    "orig_list,marg_list,mean_list = [],[],[]\n",
    "\n",
    "for idx,concept_n in enumerate(list_of_random):\n",
    "    \n",
    "    subset = df[(df['target_class']==target_class) & \n",
    "        (df['layer']==layer) & \n",
    "        (df['concept_p']==concept_p) &\n",
    "        (df['concept_n']==concept_n)]\n",
    "    \n",
    "    y_orig[idx] = subset['orig_score'].mean()\n",
    "    err_orig[idx] = subset['orig_score'].std()\n",
    "    \n",
    "    y_marg[idx] = subset['marg_score'].mean()\n",
    "    err_marg[idx] = subset['marg_score'].std()  \n",
    "    \n",
    "    y_mean[idx] = subset['mean_score'].mean()\n",
    "    err_mean[idx] = subset['mean_score'].std() \n",
    "    \n",
    "    orig_list.append(list(subset['orig_score']))\n",
    "    marg_list.append(list(subset['marg_score']))\n",
    "    mean_list.append(list(subset['mean_score']))\n",
    "x = list_of_random"
   ]
  },
  {
   "cell_type": "code",
   "execution_count": 1778,
   "metadata": {},
   "outputs": [],
   "source": [
    "#list_of_random = ['$N_' + str(i) + '$' for i in range(5)]"
   ]
  },
  {
   "cell_type": "markdown",
   "metadata": {},
   "source": [
    "fig = plt.figure(figsize=[12,5])\n",
    "ticks = list_of_random\n",
    "\n",
    "plt.xticks(range(0, len(ticks), 1), ticks)\n",
    "plt.xlim(-.5, len(ticks)-.5)\n",
    "_ = plt.ylim(0, 1.1)\n",
    "\n",
    "for i in range(len(list_of_random)):\n",
    "    x = np.ones(len(orig_list[i]))*i - .1\n",
    "    plt.scatter(x,orig_list[i],alpha = .6,c='b')\n",
    "    x = np.ones(len(marg_list[i]))*i\n",
    "    plt.scatter(x,marg_list[i],alpha = .6,c='r')\n",
    "    #x = np.ones(len(mean_list[i]))*i + .1\n",
    "    #plt.scatter(x,mean_list[i],alpha = .6,c='g')"
   ]
  },
  {
   "cell_type": "code",
   "execution_count": 1779,
   "metadata": {},
   "outputs": [],
   "source": [
    "#orig_list"
   ]
  },
  {
   "cell_type": "code",
   "execution_count": 1781,
   "metadata": {},
   "outputs": [
    {
     "data": {
      "image/png": "[encoded data removed]",
      "text/plain": [
       "<Figure size 864x216 with 1 Axes>"
      ]
     },
     "metadata": {
      "needs_background": "light"
     },
     "output_type": "display_data"
    }
   ],
   "source": [
    "rc('text', usetex=True)\n",
    "fig = plt.figure(figsize=[12,3])\n",
    "n = 5\n",
    "x = np.arange(0,n)\n",
    "ticks = ['$N^{50}_'+str(i) + '$' for i in range(n)]\n",
    "\n",
    "plt.errorbar(x-.1, y_orig, c='r', yerr=err_orig, fmt='o',label='SVM')\n",
    "\n",
    "plt.errorbar(x, y_marg, c='b',yerr=err_marg, fmt='o',label='Ave. of SVMs')\n",
    "\n",
    "plt.errorbar(x+.1, y_mean,c='g',yerr=err_mean, fmt='o',label='Mean')\n",
    "\n",
    "\n",
    "_ = plt.ylim(.8, 1.01)\n",
    "#plt.savefig('new_figs/tcav_score/tmp.png',dpi=300)\n",
    "\n",
    "plt.axhline(y=1, color='k', linestyle='--',zorder=-5,linewidth=.7)\n",
    "plt.axhline(y=.5, color='k', linestyle='--',zorder=-5,linewidth=.7)\n",
    "\n",
    "plt.legend(loc='upper center')\n",
    "plt.ylabel('TCAV Score')\n",
    "plt.xlabel('Negative Class')\n",
    "\n",
    "rc('text', usetex=True) \n",
    "plt.xticks(range(0, len(ticks)+1, 1), ticks)\n",
    "plt.xlim(-.5, len(ticks)-.5)\n",
    "#rc('text', usetex=False) \n",
    "\n",
    "plt.savefig('new_figs/tcav_score/tmp.png',dpi=300,bbox_inches='tight')\n"
   ]
  },
  {
   "cell_type": "code",
   "execution_count": null,
   "metadata": {},
   "outputs": [],
   "source": []
  },
  {
   "cell_type": "code",
   "execution_count": 497,
   "metadata": {},
   "outputs": [],
   "source": [
    "list_of_seeds = df['split_seed'].unique()\n",
    "    \n",
    "y_orig = np.empty(list_of_seeds.shape)\n",
    "err_orig = np.empty(list_of_seeds.shape)\n",
    "y_marg = np.empty(list_of_seeds.shape)\n",
    "err_marg = np.empty(list_of_seeds.shape)\n",
    "\n",
    "orig_list,marg_list = [],[]\n",
    "\n",
    "\n",
    "for idx,seed in enumerate(list_of_seeds):\n",
    "    subset = df[(df['target_class']==target_class) & \n",
    "        (df['layer']==layer) & \n",
    "        (df['concept_p']==concept_p) &\n",
    "        (df['split_seed']==seed)]\n",
    "    \n",
    "    y_orig[idx] = subset['orig_score'].mean()\n",
    "    err_orig[idx] = subset['orig_score'].std()\n",
    "    \n",
    "    y_marg[idx] = subset['marg_score'].mean()\n",
    "    err_marg[idx] = subset['marg_score'].std()\n",
    "    \n",
    "    orig_list.append(list(subset['orig_score']))\n",
    "    marg_list.append(list(subset['marg_score']))\n",
    "    \n",
    "x = list_of_seeds"
   ]
  },
  {
   "cell_type": "code",
   "execution_count": 498,
   "metadata": {},
   "outputs": [
    {
     "data": {
      "text/plain": [
       "array([1, 2, 3, 4, 5, 6, 7, 8, 9, 10], dtype=object)"
      ]
     },
     "execution_count": 498,
     "metadata": {},
     "output_type": "execute_result"
    }
   ],
   "source": [
    "x"
   ]
  },
  {
   "cell_type": "code",
   "execution_count": 499,
   "metadata": {},
   "outputs": [
    {
     "data": {
      "image/png": "[encoded data removed]",
      "text/plain": [
       "<Figure size 504x360 with 1 Axes>"
      ]
     },
     "metadata": {
      "needs_background": "light"
     },
     "output_type": "display_data"
    }
   ],
   "source": [
    "fig = plt.figure(figsize=[7,5])\n",
    "ticks = list_of_seeds\n",
    "\n",
    "plt.xticks(range(0, len(ticks), 1), ticks)\n",
    "plt.xlim(-.5, len(ticks)-.5)\n",
    "_ = plt.ylim(0, 1.1)\n",
    "\n",
    "for i in range(len(list_of_seeds)):\n",
    "    x = np.ones(len(orig_list[i]))*i - .1\n",
    "    plt.scatter(x,orig_list[i],alpha = .6,c='b')\n",
    "    x = np.ones(len(marg_list[i]))*i + .1\n",
    "    plt.scatter(x,marg_list[i],alpha = .6,c='r')"
   ]
  },
  {
   "cell_type": "markdown",
   "metadata": {},
   "source": [
    "## AXIS = N"
   ]
  },
  {
   "cell_type": "code",
   "execution_count": 902,
   "metadata": {},
   "outputs": [],
   "source": [
    "target_class = 'lots_of_lions'\n",
    "concept_p = 'grassland_sub_1'"
   ]
  },
  {
   "cell_type": "code",
   "execution_count": 924,
   "metadata": {},
   "outputs": [],
   "source": [
    "list_of_random = df['concept_n'].unique()\n",
    "y_orig = np.empty(list_of_random.shape)\n",
    "err_orig = np.empty(list_of_random.shape)\n",
    "y_marg = np.empty(list_of_random.shape)\n",
    "err_marg = np.empty(list_of_random.shape)\n",
    "y_mean = np.empty(list_of_random.shape)\n",
    "err_mean = np.empty(list_of_random.shape)\n",
    "\n",
    "orig_list,marg_list,mean_list = [],[],[]\n",
    "\n",
    "layer = 'mixed0'\n",
    "\n",
    "for idx,concept_n in enumerate(list_of_random):\n",
    "    \n",
    "    subset = df[(df['target_class']==target_class) & \n",
    "        (df['layer']==layer) & \n",
    "        (df['concept_p']==concept_p) &\n",
    "        (df['concept_n']==concept_n)]\n",
    "    \n",
    "    y_orig[idx] = subset['orig_score'].mean()\n",
    "    err_orig[idx] = subset['orig_score'].std()\n",
    "    \n",
    "    y_marg[idx] = subset['marg_score'].mean()\n",
    "    err_marg[idx] = subset['marg_score'].std()  \n",
    "    \n",
    "    y_mean[idx] = subset['mean_score'].mean()\n",
    "    err_mean[idx] = subset['mean_score'].std() \n",
    "    \n",
    "    orig_list.append(list(subset['orig_score']))\n",
    "    marg_list.append(list(subset['marg_score']))\n",
    "    mean_list.append(list(subset['mean_score']))\n",
    "x = list_of_random"
   ]
  },
  {
   "cell_type": "code",
   "execution_count": 925,
   "metadata": {},
   "outputs": [
    {
     "data": {
      "text/plain": [
       "array(['N_0', 'N_1', 'N_2', 'N_3', 'N_4'], dtype=object)"
      ]
     },
     "execution_count": 925,
     "metadata": {},
     "output_type": "execute_result"
    }
   ],
   "source": [
    "list_of_random"
   ]
  },
  {
   "cell_type": "code",
   "execution_count": 926,
   "metadata": {},
   "outputs": [],
   "source": [
    "list_of_random = ['$N_' + str(i) + '$' for i in range(5)]\n",
    "#list_of_random = np.array(['random500_' + str(i) for i in range(10)])"
   ]
  },
  {
   "cell_type": "code",
   "execution_count": 927,
   "metadata": {},
   "outputs": [],
   "source": [
    "#err_mean"
   ]
  },
  {
   "cell_type": "code",
   "execution_count": 928,
   "metadata": {},
   "outputs": [
    {
     "data": {
      "image/png": "[encoded data removed]",
      "text/plain": [
       "<Figure size 864x288 with 1 Axes>"
      ]
     },
     "metadata": {
      "needs_background": "light"
     },
     "output_type": "display_data"
    }
   ],
   "source": [
    "fig = plt.figure(figsize=[12,4])\n",
    "ticks = list_of_random\n",
    "x = np.arange(0,len(list_of_random))\n",
    "\n",
    "\n",
    "plt.xlim(-.5, len(ticks)-.5)\n",
    "_ = plt.ylim(0, 1)\n",
    "\n",
    "plt.errorbar(x-.15, y_orig, yerr=err_orig, fmt='o',label='SVM')\n",
    "plt.errorbar(x, y_marg, yerr=err_marg, fmt='o',label='Ave. of SVMs')\n",
    "plt.errorbar(x+.15, y_mean, yerr=err_mean, fmt='o',label='Center of Mass')\n",
    "\n",
    "plt.legend(loc='upper left')\n",
    "plt.xlabel('Train/test split seed')\n",
    "plt.ylabel('TCAV Score')\n",
    "\n",
    "rc('text', usetex=True) \n",
    "plt.xticks(range(0, len(ticks)+1, 1), ticks)\n",
    "rc('text', usetex=False) \n",
    "plt.savefig('new_figs/tcav_score/tmp.png',dpi=300,bbox_inches='tight')"
   ]
  },
  {
   "cell_type": "code",
   "execution_count": 909,
   "metadata": {},
   "outputs": [],
   "source": [
    "from matplotlib import rc\n",
    "rc('text', usetex=False) "
   ]
  },
  {
   "cell_type": "code",
   "execution_count": null,
   "metadata": {},
   "outputs": [],
   "source": []
  },
  {
   "cell_type": "code",
   "execution_count": null,
   "metadata": {},
   "outputs": [],
   "source": []
  },
  {
   "cell_type": "markdown",
   "metadata": {},
   "source": [
    "## AXIS = SEED"
   ]
  },
  {
   "cell_type": "code",
   "execution_count": 929,
   "metadata": {},
   "outputs": [],
   "source": [
    "list_of_seeds = df['split_seed'].unique()\n",
    "y_orig = np.empty(list_of_seeds.shape)\n",
    "err_orig = np.empty(list_of_seeds.shape)\n",
    "y_marg = np.empty(list_of_seeds.shape)\n",
    "err_marg = np.empty(list_of_seeds.shape)\n",
    "y_mean = np.empty(list_of_seeds.shape)\n",
    "err_mean = np.empty(list_of_seeds.shape)\n",
    "\n",
    "orig_list,marg_list,mean_list = [],[],[]\n",
    "\n",
    "layer = 'mixed0'\n",
    "\n",
    "for idx,seed in enumerate(list_of_seeds):\n",
    "    \n",
    "    subset = df[(df['target_class']==target_class) & \n",
    "        (df['layer']==layer) & \n",
    "        (df['concept_p']==concept_p) &\n",
    "        (df['split_seed']==seed)]\n",
    "    \n",
    "    y_orig[idx] = subset['orig_score'].mean()\n",
    "    err_orig[idx] = subset['orig_score'].std()\n",
    "    \n",
    "    y_marg[idx] = subset['marg_score'].mean()\n",
    "    err_marg[idx] = subset['marg_score'].std()  \n",
    "    \n",
    "    y_mean[idx] = subset['mean_score'].mean()\n",
    "    err_mean[idx] = subset['mean_score'].std() \n",
    "    \n",
    "    orig_list.append(list(subset['orig_score']))\n",
    "    marg_list.append(list(subset['marg_score']))\n",
    "    mean_list.append(list(subset['mean_score']))\n",
    "x = list_of_seeds"
   ]
  },
  {
   "cell_type": "code",
   "execution_count": 930,
   "metadata": {},
   "outputs": [
    {
     "data": {
      "text/plain": [
       "array([0.53866667, 0.54133333, 0.54133333, 0.556     , 0.528     ,\n",
       "       0.50133333, 0.55866667, 0.51333333, 0.51733333, 0.55866667])"
      ]
     },
     "execution_count": 930,
     "metadata": {},
     "output_type": "execute_result"
    }
   ],
   "source": [
    "y_orig"
   ]
  },
  {
   "cell_type": "code",
   "execution_count": 931,
   "metadata": {},
   "outputs": [
    {
     "data": {
      "image/png": "[encoded data removed]",
      "text/plain": [
       "<Figure size 864x288 with 1 Axes>"
      ]
     },
     "metadata": {
      "needs_background": "light"
     },
     "output_type": "display_data"
    }
   ],
   "source": [
    "fig = plt.figure(figsize=[12,4])\n",
    "ticks = list_of_seeds\n",
    "x = np.arange(0,len(list_of_seeds))\n",
    "plt.xticks(range(0, len(ticks)+1, 1), ticks)\n",
    "plt.xlim(-.5, len(ticks)-.5)\n",
    "_ = plt.ylim(.74, .92)\n",
    "_ = plt.ylim(0, 1)\n",
    "\n",
    "plt.errorbar(x-.15, y_orig, yerr=err_orig, fmt='o',label='SVM')\n",
    "plt.errorbar(x, y_marg, yerr=err_marg, fmt='o',label='Ave. of SVMs')\n",
    "plt.errorbar(x+.15, y_mean, yerr=err_mean, fmt='o',label='Center of Mass')\n",
    "\n",
    "plt.legend(loc='lower left')\n",
    "plt.xlabel('Train/test split seed')\n",
    "plt.ylabel('TCAV Score')\n",
    "plt.savefig('new_figs/tcav_score/tmp.png',dpi=300,bbox_inches='tight')"
   ]
  },
  {
   "cell_type": "code",
   "execution_count": null,
   "metadata": {},
   "outputs": [],
   "source": []
  },
  {
   "cell_type": "code",
   "execution_count": null,
   "metadata": {},
   "outputs": [],
   "source": []
  },
  {
   "cell_type": "code",
   "execution_count": null,
   "metadata": {},
   "outputs": [],
   "source": []
  },
  {
   "cell_type": "code",
   "execution_count": null,
   "metadata": {},
   "outputs": [],
   "source": []
  },
  {
   "cell_type": "code",
   "execution_count": 414,
   "metadata": {},
   "outputs": [
    {
     "data": {
      "text/plain": [
       "array([0.87666667, 0.87133333, 0.86666667, 0.874     , 0.86933333])"
      ]
     },
     "execution_count": 414,
     "metadata": {},
     "output_type": "execute_result"
    }
   ],
   "source": [
    "y_mean"
   ]
  },
  {
   "cell_type": "code",
   "execution_count": 461,
   "metadata": {},
   "outputs": [
    {
     "ename": "TypeError",
     "evalue": "unsupported operand type(s) for -: 'str' and 'float'",
     "output_type": "error",
     "traceback": [
      "\u001b[0;31m---------------------------------------------------------------------------\u001b[0m",
      "\u001b[0;31mTypeError\u001b[0m                                 Traceback (most recent call last)",
      "\u001b[0;32m<ipython-input-461-eee7f6ee5c27>\u001b[0m in \u001b[0;36m<module>\u001b[0;34m\u001b[0m\n\u001b[1;32m      7\u001b[0m \u001b[0m_\u001b[0m \u001b[0;34m=\u001b[0m \u001b[0mplt\u001b[0m\u001b[0;34m.\u001b[0m\u001b[0mylim\u001b[0m\u001b[0;34m(\u001b[0m\u001b[0;36m0\u001b[0m\u001b[0;34m,\u001b[0m \u001b[0;36m1\u001b[0m\u001b[0;34m)\u001b[0m\u001b[0;34m\u001b[0m\u001b[0;34m\u001b[0m\u001b[0m\n\u001b[1;32m      8\u001b[0m \u001b[0;34m\u001b[0m\u001b[0m\n\u001b[0;32m----> 9\u001b[0;31m \u001b[0mplt\u001b[0m\u001b[0;34m.\u001b[0m\u001b[0merrorbar\u001b[0m\u001b[0;34m(\u001b[0m\u001b[0mx\u001b[0m\u001b[0;34m-\u001b[0m\u001b[0;36m.1\u001b[0m\u001b[0;34m,\u001b[0m \u001b[0my_orig\u001b[0m\u001b[0;34m,\u001b[0m \u001b[0myerr\u001b[0m\u001b[0;34m=\u001b[0m\u001b[0merr_orig\u001b[0m\u001b[0;34m,\u001b[0m \u001b[0mfmt\u001b[0m\u001b[0;34m=\u001b[0m\u001b[0;34m'o'\u001b[0m\u001b[0;34m,\u001b[0m\u001b[0mlabel\u001b[0m\u001b[0;34m=\u001b[0m\u001b[0;34m'SVM'\u001b[0m\u001b[0;34m)\u001b[0m\u001b[0;34m\u001b[0m\u001b[0;34m\u001b[0m\u001b[0m\n\u001b[0m\u001b[1;32m     10\u001b[0m \u001b[0mplt\u001b[0m\u001b[0;34m.\u001b[0m\u001b[0merrorbar\u001b[0m\u001b[0;34m(\u001b[0m\u001b[0mx\u001b[0m\u001b[0;34m,\u001b[0m \u001b[0my_marg\u001b[0m\u001b[0;34m,\u001b[0m \u001b[0myerr\u001b[0m\u001b[0;34m=\u001b[0m\u001b[0merr_marg\u001b[0m\u001b[0;34m,\u001b[0m \u001b[0mfmt\u001b[0m\u001b[0;34m=\u001b[0m\u001b[0;34m'o'\u001b[0m\u001b[0;34m,\u001b[0m\u001b[0mlabel\u001b[0m\u001b[0;34m=\u001b[0m\u001b[0;34m'Ave. of SVMs'\u001b[0m\u001b[0;34m)\u001b[0m\u001b[0;34m\u001b[0m\u001b[0;34m\u001b[0m\u001b[0m\n\u001b[1;32m     11\u001b[0m \u001b[0mplt\u001b[0m\u001b[0;34m.\u001b[0m\u001b[0merrorbar\u001b[0m\u001b[0;34m(\u001b[0m\u001b[0mx\u001b[0m\u001b[0;34m+\u001b[0m\u001b[0;36m.1\u001b[0m\u001b[0;34m,\u001b[0m \u001b[0my_mean\u001b[0m\u001b[0;34m,\u001b[0m \u001b[0myerr\u001b[0m\u001b[0;34m=\u001b[0m\u001b[0merr_mean\u001b[0m\u001b[0;34m,\u001b[0m \u001b[0mfmt\u001b[0m\u001b[0;34m=\u001b[0m\u001b[0;34m'o'\u001b[0m\u001b[0;34m,\u001b[0m\u001b[0mlabel\u001b[0m\u001b[0;34m=\u001b[0m\u001b[0;34m'Center of Mass'\u001b[0m\u001b[0;34m)\u001b[0m\u001b[0;34m\u001b[0m\u001b[0;34m\u001b[0m\u001b[0m\n",
      "\u001b[0;31mTypeError\u001b[0m: unsupported operand type(s) for -: 'str' and 'float'"
     ]
    },
    {
     "data": {
      "image/png": "[encoded data removed]",
      "text/plain": [
       "<Figure size 576x288 with 1 Axes>"
      ]
     },
     "metadata": {
      "needs_background": "light"
     },
     "output_type": "display_data"
    }
   ],
   "source": [
    "fig = plt.figure(figsize=[8,4])\n",
    "x = list_of_random\n",
    "ticks = x\n",
    "\n",
    "plt.xticks(range(1, len(ticks)+1, 1), ticks)\n",
    "plt.xlim(.5, len(ticks)+.5)\n",
    "_ = plt.ylim(0, 1)\n",
    "\n",
    "plt.errorbar(x-.1, y_orig, yerr=err_orig, fmt='o')\n",
    "plt.errorbar(x, y_marg, yerr=err_marg, fmt='o',label='Ave. of SVMs')\n",
    "plt.errorbar(x+.1, y_mean, yerr=err_mean, fmt='o',label='Center of Mass')\n",
    "\n"
   ]
  },
  {
   "cell_type": "code",
   "execution_count": 411,
   "metadata": {},
   "outputs": [
    {
     "data": {
      "image/png": "[encoded data removed]",
      "text/plain": [
       "<Figure size 864x216 with 1 Axes>"
      ]
     },
     "metadata": {
      "needs_background": "light"
     },
     "output_type": "display_data"
    }
   ],
   "source": [
    "y_orig,err_orig = y_blue,err_blue\n",
    "fig = plt.figure(figsize=[12,3])\n",
    "ticks = list_of_layers\n",
    "x = np.arange(1,list_of_layers.shape[0]+1)\n",
    "plt.xticks(range(1, len(ticks)+1, 1), ticks)\n",
    "plt.xlim(.5, len(ticks)+.5)\n",
    "_ = plt.ylim(0, 1.05)\n",
    "\n",
    "color_list = ['orange','green','yellow','blue']\n",
    "label_list = ['orange','green','yellow','blue']\n",
    "\n",
    "#color_list = ['white','grey','pink','orange']\n",
    "#label_list = ['striped','grid','dotted','banded']\n",
    "\n",
    "#color_list = ['white','blue','green','grey']\n",
    "#label_list = ['sky','ocean','grassland','road']\n",
    "\n",
    "plt.rc('text', usetex=True)\n",
    "\n",
    "color_list = ['#fbc7c7','#df6d7f','#f40f0f','#b80000']\n",
    "label_list = [r'$N_6$','$N_7$','$N_8$','$N_9$']\n",
    "\n",
    "for i in range(y.shape[0]):\n",
    "    plt.errorbar(x-.15 + .15*i, y[i], yerr=err[i], fmt='o',c = color_list[i],mec='k',ecolor='k',label = label_list[i])\n",
    "\n",
    "plt.axhline(y=1, color='k', linestyle='--',zorder=-5,linewidth=.7)\n",
    "plt.axhline(y=.5, color='k', linestyle='--',zorder=-5,linewidth=.7)\n",
    "\n",
    "plt.legend(loc='upper left')\n",
    "plt.ylabel('CAV Accuray')\n",
    "plt.xlabel('Bottleneck')\n",
    "plt.savefig('new_figs/acc/tmp.png',dpi=300,bbox_inches='tight')"
   ]
  },
  {
   "cell_type": "code",
   "execution_count": 415,
   "metadata": {},
   "outputs": [
    {
     "data": {
      "text/plain": [
       "array([1, 2, 3, 4, 5, 6, 7, 8, 9, 10], dtype=object)"
      ]
     },
     "execution_count": 415,
     "metadata": {},
     "output_type": "execute_result"
    }
   ],
   "source": [
    "x"
   ]
  },
  {
   "cell_type": "code",
   "execution_count": 954,
   "metadata": {},
   "outputs": [
    {
     "data": {
      "text/plain": [
       "34"
      ]
     },
     "execution_count": 954,
     "metadata": {},
     "output_type": "execute_result"
    }
   ],
   "source": [
    "len(this)"
   ]
  },
  {
   "cell_type": "code",
   "execution_count": 1149,
   "metadata": {},
   "outputs": [
    {
     "name": "stdout",
     "output_type": "stream",
     "text": [
      "25\n",
      "25\n",
      "25\n"
     ]
    },
    {
     "data": {
      "image/png": "[encoded data removed]",
      "text/plain": [
       "<Figure size 360x360 with 1 Axes>"
      ]
     },
     "metadata": {
      "needs_background": "light"
     },
     "output_type": "display_data"
    }
   ],
   "source": [
    "fig = plt.figure(figsize=[5,5])\n",
    "pink = '#d83fbb'\n",
    "plt.scatter(1,.28,c='w',alpha=.7,linewidths=2,s=50,edgecolor='k',label='original')\n",
    "\n",
    "this = pickle.load(open('remove_30_ls.pkl','rb'))\n",
    "cavs_sims = np.array([a[2] for a in this])\n",
    "scores = np.array([a[3] for a in this]) \n",
    "print(len(this))\n",
    "plt.scatter(cavs_sims,scores,c=pink,alpha=.4,linewidths=0,s=50,label='30 removed')\n",
    "\n",
    "this = pickle.load(open('remove_20_ls.pkl','rb'))\n",
    "cavs_sims = np.array([a[2] for a in this])\n",
    "scores = np.array([a[3] for a in this]) \n",
    "print(len(this))\n",
    "plt.scatter(cavs_sims,scores,c='b',alpha=.4,linewidths=0,s=50,label='20 removed',marker='x')\n",
    "\n",
    "this = pickle.load(open('remove_10_ls.pkl','rb'))\n",
    "cavs_sims = np.array([a[2] for a in this])\n",
    "scores = np.array([a[3] for a in this]) \n",
    "print(len(this))\n",
    "plt.scatter(cavs_sims,scores,c='g',alpha=.4,linewidths=0,s=50,label='10 removed',marker='+')\n",
    "\n",
    "#my_xlim = plt.xlim([.73,1.01])\n",
    "#my_ylim = plt.ylim([.78,.92])\n",
    "\n",
    "plt.xlabel('cosine sim. with original')\n",
    "plt.ylabel('TCAV Score')\n",
    "plt.legend(loc='upper right')\n",
    "\n",
    "plt.savefig('new_figs/tmp.png',dpi=300,bbox_inches='tight')"
   ]
  },
  {
   "cell_type": "code",
   "execution_count": 981,
   "metadata": {},
   "outputs": [
    {
     "data": {
      "text/plain": [
       "30"
      ]
     },
     "execution_count": 981,
     "metadata": {},
     "output_type": "execute_result"
    }
   ],
   "source": [
    "len(cavs_sims)"
   ]
  },
  {
   "cell_type": "code",
   "execution_count": 1074,
   "metadata": {},
   "outputs": [],
   "source": [
    "#this = pickle.load(open('remove_30.pkl','rb'))"
   ]
  },
  {
   "cell_type": "code",
   "execution_count": 1073,
   "metadata": {},
   "outputs": [],
   "source": [
    "#this"
   ]
  },
  {
   "cell_type": "code",
   "execution_count": null,
   "metadata": {},
   "outputs": [],
   "source": []
  }
 ],
 "metadata": {
  "kernelspec": {
   "display_name": "Python 3",
   "language": "python",
   "name": "python3"
  },
  "language_info": {
   "codemirror_mode": {
    "name": "ipython",
    "version": 3
   },
   "file_extension": ".py",
   "mimetype": "text/x-python",
   "name": "python",
   "nbconvert_exporter": "python",
   "pygments_lexer": "ipython3",
   "version": "3.6.8"
  }
 },
 "nbformat": 4,
 "nbformat_minor": 2
}
