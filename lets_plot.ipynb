{
 "cells": [
  {
   "cell_type": "code",
   "execution_count": 60,
   "metadata": {},
   "outputs": [],
   "source": [
    "import numpy as np\n",
    "import matplotlib.pyplot as plt\n",
    "import pickle"
   ]
  },
  {
   "cell_type": "code",
   "execution_count": 104,
   "metadata": {},
   "outputs": [],
   "source": [
    "def set_box_color(bp, color):\n",
    "    plt.setp(bp['boxes'], color=color)\n",
    "    plt.setp(bp['whiskers'], color=color)\n",
    "    plt.setp(bp['caps'], color=color)\n",
    "    plt.setp(bp['medians'], color=color)"
   ]
  },
  {
   "cell_type": "code",
   "execution_count": 216,
   "metadata": {},
   "outputs": [],
   "source": [
    "df = pickle.load(open('df.pkl','rb'))"
   ]
  },
  {
   "cell_type": "code",
   "execution_count": 217,
   "metadata": {},
   "outputs": [],
   "source": [
    "layer_names = ['mixed0','mixed1','mixed2','mixed3','mixed4','mixed5','mixed6','mixed7','mixed8','mixed9']\n",
    "\n",
    "target_class = 'zebra'\n",
    "concept_p = 'striped_sub_1'\n",
    "\n",
    "subsets = []\n",
    "\n",
    "tmp,tmp1 = [],[]\n",
    "for layer in layer_names:\n",
    "    subset = df[(df['target_class']==target_class) & (df['layer']==layer) & (df['concept_p']==concept_p)]\n",
    "    tmp.append(list(subset['orig_score']))\n",
    "    tmp1.append(list(subset['L1_score']))\n",
    "subsets.append(tmp)\n",
    "subsets.append(tmp1)\n",
    "\n",
    "target_class = 'zebra'\n",
    "concept_p = 'dotted_sub_1'\n",
    "\n",
    "tmp,tmp1 = [],[]\n",
    "for layer in layer_names:\n",
    "    subset = df[(df['target_class']==target_class) & (df['layer']==layer) & (df['concept_p']==concept_p)]\n",
    "    tmp.append(list(subset['orig_score']))\n",
    "    tmp1.append(list(subset['L1_score']))\n",
    "subsets.append(tmp)\n",
    "subsets.append(tmp1)\n",
    "\n",
    "target_class = 'ladybug'\n",
    "concept_p = 'dotted_sub_1'\n",
    "    \n",
    "tmp,tmp1 = [],[]\n",
    "for layer in layer_names:\n",
    "    subset = df[(df['target_class']==target_class) & (df['layer']==layer) & (df['concept_p']==concept_p)]\n",
    "    tmp.append(list(subset['orig_score']))\n",
    "    tmp1.append(list(subset['L1_score']))\n",
    "subsets.append(tmp)\n",
    "subsets.append(tmp1)\n",
    "    \n",
    "target_class = 'ladybug'\n",
    "concept_p = 'striped_sub_1'\n",
    "\n",
    "tmp,tmp1 = [],[]\n",
    "for layer in layer_names:\n",
    "    subset = df[(df['target_class']==target_class) & (df['layer']==layer) & (df['concept_p']==concept_p)]\n",
    "    tmp.append(list(subset['orig_score']))\n",
    "    tmp1.append(list(subset['L1_score']))\n",
    "subsets.append(tmp)\n",
    "subsets.append(tmp1)\n",
    "\n",
    "target_class = 'ladybug'\n",
    "concept_p = 'random500_21'\n",
    "\n",
    "tmp,tmp1 = [],[]\n",
    "for layer in layer_names:\n",
    "    subset = df[(df['target_class']==target_class) & (df['layer']==layer) & (df['concept_p']==concept_p)]\n",
    "    tmp.append(list(subset['orig_score']))\n",
    "    tmp1.append(list(subset['L1_score']))\n",
    "subsets.append(tmp)\n",
    "subsets.append(tmp1)\n",
    "\n",
    "target_class = 'zebra'\n",
    "concept_p = 'random500_21'\n",
    "\n",
    "tmp,tmp1 = [],[]\n",
    "for layer in layer_names:\n",
    "    subset = df[(df['target_class']==target_class) & (df['layer']==layer) & (df['concept_p']==concept_p)]\n",
    "    tmp.append(list(subset['orig_score']))\n",
    "    tmp1.append(list(subset['L1_score']))\n",
    "subsets.append(tmp)\n",
    "subsets.append(tmp1)"
   ]
  },
  {
   "cell_type": "code",
   "execution_count": null,
   "metadata": {},
   "outputs": [],
   "source": []
  },
  {
   "cell_type": "code",
   "execution_count": 218,
   "metadata": {},
   "outputs": [],
   "source": [
    "#tmp"
   ]
  },
  {
   "cell_type": "code",
   "execution_count": null,
   "metadata": {},
   "outputs": [],
   "source": []
  },
  {
   "cell_type": "code",
   "execution_count": 219,
   "metadata": {},
   "outputs": [
    {
     "data": {
      "image/png": "[encoded data removed]",
      "text/plain": [
       "<Figure size 720x360 with 1 Axes>"
      ]
     },
     "metadata": {
      "needs_background": "light"
     },
     "output_type": "display_data"
    }
   ],
   "source": [
    "data_a = subsets[0]\n",
    "data_b = subsets[1]\n",
    "\n",
    "fig = plt.figure(figsize=[10,5])\n",
    "ticks = layer_names\n",
    "bpl = plt.boxplot(data_a, positions=np.array(range(len(data_a)))*2.0-0.4, sym='', widths=0.6)\n",
    "bpr = plt.boxplot(data_b, positions=np.array(range(len(data_b)))*2.0+0.4, sym='', widths=0.6)\n",
    "set_box_color(bpl, '#D7191C') # colors are from http://colorbrewer2.org/\n",
    "set_box_color(bpr, '#2C7BB6')\n",
    "plt.plot([], c='#D7191C', label='Original')\n",
    "plt.plot([], c='#2C7BB6', label='L1')\n",
    "plt.legend()\n",
    "plt.xticks(range(0, len(ticks) * 2, 2), ticks)\n",
    "plt.xlim(-2, len(ticks)*2)\n",
    "_ = plt.ylim(0, 1)"
   ]
  },
  {
   "cell_type": "code",
   "execution_count": 220,
   "metadata": {},
   "outputs": [
    {
     "data": {
      "image/png": "[encoded data removed]",
      "text/plain": [
       "<Figure size 720x360 with 1 Axes>"
      ]
     },
     "metadata": {
      "needs_background": "light"
     },
     "output_type": "display_data"
    }
   ],
   "source": [
    "data_a = subsets[2]\n",
    "data_b = subsets[3]\n",
    "\n",
    "fig = plt.figure(figsize=[10,5])\n",
    "ticks = layer_names\n",
    "bpl = plt.boxplot(data_a, positions=np.array(range(len(data_a)))*2.0-0.4, sym='', widths=0.6)\n",
    "bpr = plt.boxplot(data_b, positions=np.array(range(len(data_b)))*2.0+0.4, sym='', widths=0.6)\n",
    "set_box_color(bpl, '#D7191C') # colors are from http://colorbrewer2.org/\n",
    "set_box_color(bpr, '#2C7BB6')\n",
    "plt.plot([], c='#D7191C', label='Original')\n",
    "plt.plot([], c='#2C7BB6', label='L1')\n",
    "plt.legend()\n",
    "plt.xticks(range(0, len(ticks) * 2, 2), ticks)\n",
    "plt.xlim(-2, len(ticks)*2)\n",
    "_ = plt.ylim(0, 1)"
   ]
  },
  {
   "cell_type": "code",
   "execution_count": 221,
   "metadata": {},
   "outputs": [
    {
     "data": {
      "image/png": "[encoded data removed]",
      "text/plain": [
       "<Figure size 720x360 with 1 Axes>"
      ]
     },
     "metadata": {
      "needs_background": "light"
     },
     "output_type": "display_data"
    }
   ],
   "source": [
    "data_a = subsets[4]\n",
    "data_b = subsets[5]\n",
    "\n",
    "fig = plt.figure(figsize=[10,5])\n",
    "ticks = layer_names\n",
    "bpl = plt.boxplot(data_a, positions=np.array(range(len(data_a)))*2.0-0.4, sym='', widths=0.6)\n",
    "bpr = plt.boxplot(data_b, positions=np.array(range(len(data_b)))*2.0+0.4, sym='', widths=0.6)\n",
    "set_box_color(bpl, '#D7191C') # colors are from http://colorbrewer2.org/\n",
    "set_box_color(bpr, '#2C7BB6')\n",
    "plt.plot([], c='#D7191C', label='Original')\n",
    "plt.plot([], c='#2C7BB6', label='L1')\n",
    "plt.legend()\n",
    "plt.xticks(range(0, len(ticks) * 2, 2), ticks)\n",
    "plt.xlim(-2, len(ticks)*2)\n",
    "_ = plt.ylim(0, 1)"
   ]
  },
  {
   "cell_type": "code",
   "execution_count": 222,
   "metadata": {},
   "outputs": [
    {
     "data": {
      "image/png": "[encoded data removed]",
      "text/plain": [
       "<Figure size 720x360 with 1 Axes>"
      ]
     },
     "metadata": {
      "needs_background": "light"
     },
     "output_type": "display_data"
    }
   ],
   "source": [
    "data_a = subsets[6]\n",
    "data_b = subsets[7]\n",
    "\n",
    "fig = plt.figure(figsize=[10,5])\n",
    "ticks = layer_names\n",
    "bpl = plt.boxplot(data_a, positions=np.array(range(len(data_a)))*2.0-0.4, sym='', widths=0.6)\n",
    "bpr = plt.boxplot(data_b, positions=np.array(range(len(data_b)))*2.0+0.4, sym='', widths=0.6)\n",
    "set_box_color(bpl, '#D7191C') # colors are from http://colorbrewer2.org/\n",
    "set_box_color(bpr, '#2C7BB6')\n",
    "plt.plot([], c='#D7191C', label='Original')\n",
    "plt.plot([], c='#2C7BB6', label='L1')\n",
    "plt.legend()\n",
    "plt.xticks(range(0, len(ticks) * 2, 2), ticks)\n",
    "plt.xlim(-2, len(ticks)*2)\n",
    "_ = plt.ylim(0, 1)"
   ]
  },
  {
   "cell_type": "code",
   "execution_count": 223,
   "metadata": {},
   "outputs": [
    {
     "data": {
      "image/png": "[encoded data removed]",
      "text/plain": [
       "<Figure size 720x360 with 1 Axes>"
      ]
     },
     "metadata": {
      "needs_background": "light"
     },
     "output_type": "display_data"
    }
   ],
   "source": [
    "data_a = subsets[8]\n",
    "data_b = subsets[9]\n",
    "\n",
    "fig = plt.figure(figsize=[10,5])\n",
    "ticks = layer_names\n",
    "bpl = plt.boxplot(data_a, positions=np.array(range(len(data_a)))*2.0-0.4, sym='', widths=0.6)\n",
    "bpr = plt.boxplot(data_b, positions=np.array(range(len(data_b)))*2.0+0.4, sym='', widths=0.6)\n",
    "set_box_color(bpl, '#D7191C') #blue\n",
    "set_box_color(bpr, '#2C7BB6') # red\n",
    "plt.plot([], c='#D7191C', label='Original')\n",
    "plt.plot([], c='#2C7BB6', label='L1')\n",
    "plt.legend()\n",
    "plt.xticks(range(0, len(ticks) * 2, 2), ticks)\n",
    "plt.xlim(-2, len(ticks)*2)\n",
    "_ = plt.ylim(0, 1)"
   ]
  },
  {
   "cell_type": "code",
   "execution_count": 224,
   "metadata": {},
   "outputs": [
    {
     "data": {
      "image/png": "[encoded data removed]",
      "text/plain": [
       "<Figure size 720x360 with 1 Axes>"
      ]
     },
     "metadata": {
      "needs_background": "light"
     },
     "output_type": "display_data"
    }
   ],
   "source": [
    "data_a = subsets[10]\n",
    "data_b = subsets[11]\n",
    "\n",
    "fig = plt.figure(figsize=[10,5])\n",
    "ticks = layer_names\n",
    "bpl = plt.boxplot(data_a, positions=np.array(range(len(data_a)))*2.0-0.4, sym='', widths=0.6)\n",
    "bpr = plt.boxplot(data_b, positions=np.array(range(len(data_b)))*2.0+0.4, sym='', widths=0.6)\n",
    "set_box_color(bpl, '#D7191C') #blue\n",
    "set_box_color(bpr, '#2C7BB6') # red\n",
    "plt.plot([], c='#D7191C', label='Original')\n",
    "plt.plot([], c='#2C7BB6', label='L1')\n",
    "plt.legend()\n",
    "plt.xticks(range(0, len(ticks) * 2, 2), ticks)\n",
    "plt.xlim(-2, len(ticks)*2)\n",
    "_ = plt.ylim(0, 1)"
   ]
  },
  {
   "cell_type": "code",
   "execution_count": null,
   "metadata": {},
   "outputs": [],
   "source": []
  },
  {
   "cell_type": "code",
   "execution_count": null,
   "metadata": {},
   "outputs": [],
   "source": []
  },
  {
   "cell_type": "code",
   "execution_count": null,
   "metadata": {},
   "outputs": [],
   "source": []
  },
  {
   "cell_type": "code",
   "execution_count": 120,
   "metadata": {},
   "outputs": [],
   "source": [
    "## Random Class work"
   ]
  },
  {
   "cell_type": "code",
   "execution_count": 139,
   "metadata": {},
   "outputs": [],
   "source": [
    "layer_names = ['mixed0','mixed1','mixed2','mixed3','mixed4','mixed5','mixed6','mixed7','mixed8','mixed9']\n",
    "\n",
    "target_class = 'zebra'\n",
    "concept_p = 'striped_sub_1'\n",
    "concept_n_list = ['random500_0','random500_1']\n",
    "\n",
    "r_subsets = np.zeros((20,22))\n",
    "\n",
    "tmp,tmp1 = [],[]\n",
    "for class_idx in range(20):\n",
    "    concept_n = 'random500_' + str(class_idx)\n",
    "    subset = df[(df['target_class']==target_class) & (df['concept_n']==concept_n)]\n",
    "    r_subsets[class_idx] = np.array(subset['orig_score'])\n"
   ]
  },
  {
   "cell_type": "code",
   "execution_count": 152,
   "metadata": {},
   "outputs": [],
   "source": [
    "sample_means = r_subsets.mean(axis=0)"
   ]
  },
  {
   "cell_type": "code",
   "execution_count": 153,
   "metadata": {},
   "outputs": [],
   "source": [
    "r_vars = r_subsets - sample_means"
   ]
  },
  {
   "cell_type": "code",
   "execution_count": 157,
   "metadata": {},
   "outputs": [],
   "source": [
    "random_names = []\n",
    "for class_idx in range(20):\n",
    "    concept_n = 'random500_' + str(class_idx)\n",
    "    random_names.append(concept_n)"
   ]
  },
  {
   "cell_type": "code",
   "execution_count": 161,
   "metadata": {},
   "outputs": [
    {
     "data": {
      "text/plain": [
       "(20, 22)"
      ]
     },
     "execution_count": 161,
     "metadata": {},
     "output_type": "execute_result"
    }
   ],
   "source": [
    "r_vars.shape"
   ]
  },
  {
   "cell_type": "code",
   "execution_count": 163,
   "metadata": {},
   "outputs": [
    {
     "data": {
      "text/plain": [
       "20"
      ]
     },
     "execution_count": 163,
     "metadata": {},
     "output_type": "execute_result"
    }
   ],
   "source": [
    "len(random_names)"
   ]
  },
  {
   "cell_type": "code",
   "execution_count": 169,
   "metadata": {},
   "outputs": [
    {
     "data": {
      "text/plain": [
       "20"
      ]
     },
     "execution_count": 169,
     "metadata": {},
     "output_type": "execute_result"
    }
   ],
   "source": [
    "len(data_b[0])"
   ]
  },
  {
   "cell_type": "code",
   "execution_count": 165,
   "metadata": {},
   "outputs": [
    {
     "data": {
      "text/plain": [
       "(20, 22)"
      ]
     },
     "execution_count": 165,
     "metadata": {},
     "output_type": "execute_result"
    }
   ],
   "source": [
    "r_vars.shape"
   ]
  },
  {
   "cell_type": "code",
   "execution_count": 173,
   "metadata": {},
   "outputs": [
    {
     "data": {
      "image/png": "[encoded data removed]",
      "text/plain": [
       "<Figure size 1440x360 with 1 Axes>"
      ]
     },
     "metadata": {
      "needs_background": "light"
     },
     "output_type": "display_data"
    }
   ],
   "source": [
    "data_a = list(r_vars)\n",
    "\n",
    "fig = plt.figure(figsize=[20,5])\n",
    "\n",
    "ticks = range(20)\n",
    "\n",
    "bpl = plt.boxplot(data_a, positions=np.array(range(len(data_a)))*2.0-0.4, sym='', widths=0.6)\n",
    "\n",
    "set_box_color(bpl, '#D7191C') #blue\n",
    "set_box_color(bpr, '#2C7BB6') # red\n",
    "plt.plot([], c='#D7191C', label='Original')\n",
    "plt.plot([], c='#2C7BB6', label='L1')\n",
    "plt.legend()\n",
    "plt.xticks(range(0, len(ticks) * 2, 2), ticks)\n",
    "plt.xlim(-2, len(ticks)*2)\n",
    "_ = plt.ylim(-.5, .5)"
   ]
  },
  {
   "cell_type": "code",
   "execution_count": 204,
   "metadata": {},
   "outputs": [
    {
     "data": {
      "text/plain": [
       "<BarContainer object of 20 artists>"
      ]
     },
     "execution_count": 204,
     "metadata": {},
     "output_type": "execute_result"
    },
    {
     "data": {
      "image/png": "[encoded data removed]",
      "text/plain": [
       "<Figure size 1440x360 with 1 Axes>"
      ]
     },
     "metadata": {
      "needs_background": "light"
     },
     "output_type": "display_data"
    }
   ],
   "source": [
    "\n",
    "\n",
    "fig = plt.figure(figsize=[20,5])\n",
    "\n",
    "ticks = range(20)\n",
    "x = np.arange(20)\n",
    "plt.bar(x, r)\n"
   ]
  },
  {
   "cell_type": "code",
   "execution_count": 215,
   "metadata": {},
   "outputs": [
    {
     "data": {
      "text/plain": [
       "<matplotlib.collections.PathCollection at 0x12172eb00>"
      ]
     },
     "execution_count": 215,
     "metadata": {},
     "output_type": "execute_result"
    },
    {
     "data": {
      "image/png": "[encoded data removed]",
      "text/plain": [
       "<Figure size 432x288 with 1 Axes>"
      ]
     },
     "metadata": {
      "needs_background": "light"
     },
     "output_type": "display_data"
    }
   ],
   "source": [
    "plt.scatter(r,r_vars.var(axis=1))"
   ]
  },
  {
   "cell_type": "code",
   "execution_count": null,
   "metadata": {},
   "outputs": [],
   "source": []
  },
  {
   "cell_type": "code",
   "execution_count": 179,
   "metadata": {},
   "outputs": [],
   "source": [
    "#random_spreads = pickle.load(open('random_spreads.pkl', 'rb'))"
   ]
  },
  {
   "cell_type": "code",
   "execution_count": 185,
   "metadata": {},
   "outputs": [],
   "source": [
    "random_spreads = pickle.load(open('random_spreads_8.pkl','rb'))"
   ]
  },
  {
   "cell_type": "code",
   "execution_count": 202,
   "metadata": {},
   "outputs": [],
   "source": [
    "r = np.array(list(random_spreads[key] for key in random_spreads))\n",
    "r -= r.mean()"
   ]
  },
  {
   "cell_type": "code",
   "execution_count": 201,
   "metadata": {},
   "outputs": [
    {
     "data": {
      "text/plain": [
       "array([ 0.36043895,  0.04016854, -0.17832181, -0.13042383, -0.03544704,\n",
       "        0.14988385, -0.95851691,  1.22414782,  0.55052709,  0.54564712,\n",
       "       -0.29820146, -0.4542551 , -0.14548316, -0.11435474,  0.76489587,\n",
       "        0.18056917, -0.84264898,  0.13107654,  0.04219132, -0.83189323])"
      ]
     },
     "execution_count": 201,
     "metadata": {},
     "output_type": "execute_result"
    }
   ],
   "source": [
    "r"
   ]
  },
  {
   "cell_type": "code",
   "execution_count": null,
   "metadata": {},
   "outputs": [],
   "source": []
  }
 ],
 "metadata": {
  "kernelspec": {
   "display_name": "Python 3",
   "language": "python",
   "name": "python3"
  },
  "language_info": {
   "codemirror_mode": {
    "name": "ipython",
    "version": 3
   },
   "file_extension": ".py",
   "mimetype": "text/x-python",
   "name": "python",
   "nbconvert_exporter": "python",
   "pygments_lexer": "ipython3",
   "version": "3.6.8"
  }
 },
 "nbformat": 4,
 "nbformat_minor": 2
}
