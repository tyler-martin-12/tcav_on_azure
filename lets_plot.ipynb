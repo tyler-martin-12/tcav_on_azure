{
 "cells": [
  {
   "cell_type": "code",
   "execution_count": 358,
   "metadata": {},
   "outputs": [],
   "source": [
    "import numpy as np\n",
    "import matplotlib.pyplot as plt\n",
    "import pickle\n",
    "import pandas as pd"
   ]
  },
  {
   "cell_type": "code",
   "execution_count": 359,
   "metadata": {},
   "outputs": [],
   "source": [
    "def set_box_color(bp, color):\n",
    "    plt.setp(bp['boxes'], color=color)\n",
    "    plt.setp(bp['whiskers'], color=color)\n",
    "    plt.setp(bp['caps'], color=color)\n",
    "    plt.setp(bp['medians'], color=color)"
   ]
  },
  {
   "cell_type": "code",
   "execution_count": 503,
   "metadata": {},
   "outputs": [],
   "source": [
    "df = pickle.load(open('df1.pkl','rb'))"
   ]
  },
  {
   "cell_type": "code",
   "execution_count": 361,
   "metadata": {},
   "outputs": [
    {
     "name": "stdout",
     "output_type": "stream",
     "text": [
      "12\n"
     ]
    }
   ],
   "source": [
    "layer_names = ['mixed0','mixed1','mixed2','mixed3','mixed4','mixed5','mixed6','mixed7','mixed8','mixed9']\n",
    "\n",
    "target_class = 'zebra'\n",
    "concept_p = 'striped_sub_1'\n",
    "\n",
    "subsets = []\n",
    "\n",
    "tmp,tmp1 = [],[]\n",
    "for layer in layer_names:\n",
    "    subset = df[(df['target_class']==target_class) & (df['layer']==layer) & (df['concept_p']==concept_p)]\n",
    "    tmp.append(list(subset['orig_score']))\n",
    "    tmp1.append(list(subset['L1_score']))\n",
    "subsets.append(tmp)\n",
    "subsets.append(tmp1)\n",
    "\n",
    "target_class = 'zebra'\n",
    "concept_p = 'dotted_sub_1'\n",
    "\n",
    "tmp,tmp1 = [],[]\n",
    "for layer in layer_names:\n",
    "    subset = df[(df['target_class']==target_class) & (df['layer']==layer) & (df['concept_p']==concept_p)]\n",
    "    tmp.append(list(subset['orig_score']))\n",
    "    tmp1.append(list(subset['L1_score']))\n",
    "subsets.append(tmp)\n",
    "subsets.append(tmp1)\n",
    "\n",
    "target_class = 'ladybug'\n",
    "concept_p = 'dotted_sub_1'\n",
    "    \n",
    "tmp,tmp1 = [],[]\n",
    "for layer in layer_names:\n",
    "    subset = df[(df['target_class']==target_class) & (df['layer']==layer) & (df['concept_p']==concept_p)]\n",
    "    tmp.append(list(subset['orig_score']))\n",
    "    tmp1.append(list(subset['L1_score']))\n",
    "subsets.append(tmp)\n",
    "subsets.append(tmp1)\n",
    "    \n",
    "target_class = 'ladybug'\n",
    "concept_p = 'striped_sub_1'\n",
    "\n",
    "tmp,tmp1 = [],[]\n",
    "for layer in layer_names:\n",
    "    subset = df[(df['target_class']==target_class) & (df['layer']==layer) & (df['concept_p']==concept_p)]\n",
    "    tmp.append(list(subset['orig_score']))\n",
    "    tmp1.append(list(subset['L1_score']))\n",
    "subsets.append(tmp)\n",
    "subsets.append(tmp1)\n",
    "\n",
    "target_class = 'ladybug'\n",
    "concept_p = 'random500_21'\n",
    "\n",
    "tmp,tmp1 = [],[]\n",
    "for layer in layer_names:\n",
    "    subset = df[(df['target_class']==target_class) & (df['layer']==layer) & (df['concept_p']==concept_p)]\n",
    "    tmp.append(list(subset['orig_score']))\n",
    "    tmp1.append(list(subset['L1_score']))\n",
    "subsets.append(tmp)\n",
    "subsets.append(tmp1)\n",
    "\n",
    "target_class = 'zebra'\n",
    "concept_p = 'random500_21'\n",
    "\n",
    "tmp,tmp1 = [],[]\n",
    "for layer in layer_names:\n",
    "    subset = df[(df['target_class']==target_class) & (df['layer']==layer) & (df['concept_p']==concept_p)]\n",
    "    tmp.append(list(subset['orig_score']))\n",
    "    tmp1.append(list(subset['L1_score']))\n",
    "subsets.append(tmp)\n",
    "subsets.append(tmp1)\n",
    "\n",
    "print(len(subsets))\n",
    "\n",
    "target_class = 'lots_of_lions'\n",
    "concept_p = 'striped_sub_1'\n",
    "#layer_names = ['mixed9']\n",
    "\n",
    "tmp,tmp1,tmp2 = [],[],[]\n",
    "for layer in layer_names:\n",
    "    subset = df[(df['target_class']==target_class) & (df['layer']==layer) & (df['concept_p']==concept_p)& (pd.isnull(df['marg_score'])==False)]\n",
    "    tmp.append(list(subset['orig_score']))\n",
    "    tmp1.append(list(subset['marg_score']))\n",
    "subsets.append(tmp)\n",
    "subsets.append(tmp1)\n",
    "\n",
    "concept_p = 'grassland_sub_1'\n",
    "\n",
    "tmp,tmp1,tmp2 = [],[],[]\n",
    "for layer in layer_names:\n",
    "    subset = df[(df['target_class']==target_class) & (df['layer']==layer) & (df['concept_p']==concept_p)& (pd.isnull(df['marg_score'])==False)]\n",
    "    tmp.append(list(subset['orig_score']))\n",
    "    tmp1.append(list(subset['marg_score']))\n",
    "subsets.append(tmp)\n",
    "subsets.append(tmp1)\n",
    "\n",
    "target_class = 'lots_of_zebras'\n",
    "concept_p = 'striped_sub_1'\n",
    "\n",
    "tmp,tmp1 = [],[]\n",
    "for layer in layer_names:\n",
    "    subset = df[(df['target_class']==target_class) & (df['layer']==layer) & (df['concept_p']==concept_p) & (pd.isnull(df['marg_score'])==False)]\n",
    "    tmp.append(list(subset['orig_score']))\n",
    "    tmp1.append(list(subset['marg_score']))\n",
    "subsets.append(tmp)\n",
    "subsets.append(tmp1)\n",
    "\n",
    "target_class = 'lots_of_zebras'\n",
    "concept_p = 'grassland_sub_1'\n",
    "\n",
    "tmp,tmp1 = [],[]\n",
    "for layer in layer_names:\n",
    "    subset = df[(df['target_class']==target_class) & (df['layer']==layer) & (df['concept_p']==concept_p)& (pd.isnull(df['marg_score'])==False)]\n",
    "    tmp.append(list(subset['orig_score']))\n",
    "    tmp1.append(list(subset['marg_score']))\n",
    "subsets.append(tmp)\n",
    "subsets.append(tmp1)\n",
    "\n",
    "target_class = 'lots_of_zebras'\n",
    "concept_p = 'striped_sub_2'\n",
    "\n",
    "tmp,tmp1 = [],[]\n",
    "for layer in layer_names:\n",
    "    subset = df[(df['target_class']==target_class) & (df['layer']==layer) & (df['concept_p']==concept_p)& (pd.isnull(df['marg_score'])==False)]\n",
    "    tmp.append(list(subset['orig_score']))\n",
    "    tmp1.append(list(subset['marg_score']))\n",
    "subsets.append(tmp)\n",
    "subsets.append(tmp1)\n",
    "\n",
    "target_class = 'lots_of_zebras'\n",
    "concept_p = 'grassland_sub_2'\n",
    "\n",
    "tmp,tmp1 = [],[]\n",
    "for layer in layer_names:\n",
    "    subset = df[(df['target_class']==target_class) & (df['layer']==layer) & (df['concept_p']==concept_p)& (pd.isnull(df['marg_score'])==False)]\n",
    "    tmp.append(list(subset['orig_score']))\n",
    "    tmp1.append(list(subset['marg_score']))\n",
    "subsets.append(tmp)\n",
    "subsets.append(tmp1)"
   ]
  },
  {
   "cell_type": "code",
   "execution_count": 362,
   "metadata": {},
   "outputs": [
    {
     "data": {
      "text/plain": [
       "24"
      ]
     },
     "execution_count": 362,
     "metadata": {},
     "output_type": "execute_result"
    }
   ],
   "source": [
    "len(subsets)"
   ]
  },
  {
   "cell_type": "code",
   "execution_count": 363,
   "metadata": {},
   "outputs": [],
   "source": [
    "target_class = 'lots_of_zebras'\n",
    "layer = 'mixed8'\n",
    "concept_p = 'striped_sub_2'"
   ]
  },
  {
   "cell_type": "code",
   "execution_count": 364,
   "metadata": {},
   "outputs": [],
   "source": [
    "subset = df[(pd.isnull(df['marg_score'])==False) & (df['target_class']==target_class) & (df['layer']==layer) & (df['concept_p']==concept_p)& (pd.isnull(df['marg_score'])==False)]\n"
   ]
  },
  {
   "cell_type": "code",
   "execution_count": 365,
   "metadata": {},
   "outputs": [
    {
     "data": {
      "text/html": [
       "<div>\n",
       "<style scoped>\n",
       "    .dataframe tbody tr th:only-of-type {\n",
       "        vertical-align: middle;\n",
       "    }\n",
       "\n",
       "    .dataframe tbody tr th {\n",
       "        vertical-align: top;\n",
       "    }\n",
       "\n",
       "    .dataframe thead th {\n",
       "        text-align: right;\n",
       "    }\n",
       "</style>\n",
       "<table border=\"1\" class=\"dataframe\">\n",
       "  <thead>\n",
       "    <tr style=\"text-align: right;\">\n",
       "      <th></th>\n",
       "      <th>target_class</th>\n",
       "      <th>layer</th>\n",
       "      <th>concept_p</th>\n",
       "      <th>concept_n</th>\n",
       "      <th>orig_score</th>\n",
       "      <th>L1_score</th>\n",
       "      <th>marg_score</th>\n",
       "      <th>mean_score</th>\n",
       "    </tr>\n",
       "  </thead>\n",
       "  <tbody>\n",
       "    <tr>\n",
       "      <th>0</th>\n",
       "      <td>lots_of_zebras</td>\n",
       "      <td>mixed8</td>\n",
       "      <td>striped_sub_2</td>\n",
       "      <td>random500_0</td>\n",
       "      <td>0.800000</td>\n",
       "      <td>0.753333</td>\n",
       "      <td>0.793333</td>\n",
       "      <td>NaN</td>\n",
       "    </tr>\n",
       "    <tr>\n",
       "      <th>0</th>\n",
       "      <td>lots_of_zebras</td>\n",
       "      <td>mixed8</td>\n",
       "      <td>striped_sub_2</td>\n",
       "      <td>random500_1</td>\n",
       "      <td>0.913333</td>\n",
       "      <td>0.760000</td>\n",
       "      <td>0.78</td>\n",
       "      <td>NaN</td>\n",
       "    </tr>\n",
       "    <tr>\n",
       "      <th>0</th>\n",
       "      <td>lots_of_zebras</td>\n",
       "      <td>mixed8</td>\n",
       "      <td>striped_sub_2</td>\n",
       "      <td>random500_2</td>\n",
       "      <td>0.893333</td>\n",
       "      <td>0.733333</td>\n",
       "      <td>0.726667</td>\n",
       "      <td>NaN</td>\n",
       "    </tr>\n",
       "    <tr>\n",
       "      <th>0</th>\n",
       "      <td>lots_of_zebras</td>\n",
       "      <td>mixed8</td>\n",
       "      <td>striped_sub_2</td>\n",
       "      <td>random500_3</td>\n",
       "      <td>0.506667</td>\n",
       "      <td>0.706667</td>\n",
       "      <td>0.74</td>\n",
       "      <td>NaN</td>\n",
       "    </tr>\n",
       "    <tr>\n",
       "      <th>0</th>\n",
       "      <td>lots_of_zebras</td>\n",
       "      <td>mixed8</td>\n",
       "      <td>striped_sub_2</td>\n",
       "      <td>random500_4</td>\n",
       "      <td>0.653333</td>\n",
       "      <td>0.706667</td>\n",
       "      <td>0.713333</td>\n",
       "      <td>NaN</td>\n",
       "    </tr>\n",
       "    <tr>\n",
       "      <th>0</th>\n",
       "      <td>lots_of_zebras</td>\n",
       "      <td>mixed8</td>\n",
       "      <td>striped_sub_2</td>\n",
       "      <td>random500_5</td>\n",
       "      <td>0.693333</td>\n",
       "      <td>0.726667</td>\n",
       "      <td>0.746667</td>\n",
       "      <td>NaN</td>\n",
       "    </tr>\n",
       "    <tr>\n",
       "      <th>0</th>\n",
       "      <td>lots_of_zebras</td>\n",
       "      <td>mixed8</td>\n",
       "      <td>striped_sub_2</td>\n",
       "      <td>random500_6</td>\n",
       "      <td>0.500000</td>\n",
       "      <td>0.626667</td>\n",
       "      <td>0.686667</td>\n",
       "      <td>NaN</td>\n",
       "    </tr>\n",
       "    <tr>\n",
       "      <th>0</th>\n",
       "      <td>lots_of_zebras</td>\n",
       "      <td>mixed8</td>\n",
       "      <td>striped_sub_2</td>\n",
       "      <td>random500_7</td>\n",
       "      <td>0.793333</td>\n",
       "      <td>0.733333</td>\n",
       "      <td>0.693333</td>\n",
       "      <td>NaN</td>\n",
       "    </tr>\n",
       "    <tr>\n",
       "      <th>0</th>\n",
       "      <td>lots_of_zebras</td>\n",
       "      <td>mixed8</td>\n",
       "      <td>striped_sub_2</td>\n",
       "      <td>random500_8</td>\n",
       "      <td>0.880000</td>\n",
       "      <td>0.720000</td>\n",
       "      <td>0.706667</td>\n",
       "      <td>NaN</td>\n",
       "    </tr>\n",
       "    <tr>\n",
       "      <th>0</th>\n",
       "      <td>lots_of_zebras</td>\n",
       "      <td>mixed8</td>\n",
       "      <td>striped_sub_2</td>\n",
       "      <td>random500_9</td>\n",
       "      <td>0.680000</td>\n",
       "      <td>0.733333</td>\n",
       "      <td>0.813333</td>\n",
       "      <td>NaN</td>\n",
       "    </tr>\n",
       "    <tr>\n",
       "      <th>0</th>\n",
       "      <td>lots_of_zebras</td>\n",
       "      <td>mixed8</td>\n",
       "      <td>striped_sub_2</td>\n",
       "      <td>random500_10</td>\n",
       "      <td>0.653333</td>\n",
       "      <td>0.666667</td>\n",
       "      <td>0.64</td>\n",
       "      <td>NaN</td>\n",
       "    </tr>\n",
       "    <tr>\n",
       "      <th>0</th>\n",
       "      <td>lots_of_zebras</td>\n",
       "      <td>mixed8</td>\n",
       "      <td>striped_sub_2</td>\n",
       "      <td>random500_11</td>\n",
       "      <td>0.120000</td>\n",
       "      <td>0.666667</td>\n",
       "      <td>0.586667</td>\n",
       "      <td>NaN</td>\n",
       "    </tr>\n",
       "    <tr>\n",
       "      <th>0</th>\n",
       "      <td>lots_of_zebras</td>\n",
       "      <td>mixed8</td>\n",
       "      <td>striped_sub_2</td>\n",
       "      <td>random500_12</td>\n",
       "      <td>0.746667</td>\n",
       "      <td>0.740000</td>\n",
       "      <td>0.806667</td>\n",
       "      <td>NaN</td>\n",
       "    </tr>\n",
       "    <tr>\n",
       "      <th>0</th>\n",
       "      <td>lots_of_zebras</td>\n",
       "      <td>mixed8</td>\n",
       "      <td>striped_sub_2</td>\n",
       "      <td>random500_13</td>\n",
       "      <td>0.793333</td>\n",
       "      <td>0.780000</td>\n",
       "      <td>0.86</td>\n",
       "      <td>NaN</td>\n",
       "    </tr>\n",
       "    <tr>\n",
       "      <th>0</th>\n",
       "      <td>lots_of_zebras</td>\n",
       "      <td>mixed8</td>\n",
       "      <td>striped_sub_2</td>\n",
       "      <td>random500_14</td>\n",
       "      <td>0.793333</td>\n",
       "      <td>0.766667</td>\n",
       "      <td>0.8</td>\n",
       "      <td>NaN</td>\n",
       "    </tr>\n",
       "    <tr>\n",
       "      <th>0</th>\n",
       "      <td>lots_of_zebras</td>\n",
       "      <td>mixed8</td>\n",
       "      <td>striped_sub_2</td>\n",
       "      <td>random500_15</td>\n",
       "      <td>0.953333</td>\n",
       "      <td>0.766667</td>\n",
       "      <td>0.8</td>\n",
       "      <td>NaN</td>\n",
       "    </tr>\n",
       "    <tr>\n",
       "      <th>0</th>\n",
       "      <td>lots_of_zebras</td>\n",
       "      <td>mixed8</td>\n",
       "      <td>striped_sub_2</td>\n",
       "      <td>random500_16</td>\n",
       "      <td>0.740000</td>\n",
       "      <td>0.713333</td>\n",
       "      <td>0.706667</td>\n",
       "      <td>NaN</td>\n",
       "    </tr>\n",
       "    <tr>\n",
       "      <th>0</th>\n",
       "      <td>lots_of_zebras</td>\n",
       "      <td>mixed8</td>\n",
       "      <td>striped_sub_2</td>\n",
       "      <td>random500_17</td>\n",
       "      <td>0.780000</td>\n",
       "      <td>0.780000</td>\n",
       "      <td>0.866667</td>\n",
       "      <td>NaN</td>\n",
       "    </tr>\n",
       "    <tr>\n",
       "      <th>0</th>\n",
       "      <td>lots_of_zebras</td>\n",
       "      <td>mixed8</td>\n",
       "      <td>striped_sub_2</td>\n",
       "      <td>random500_18</td>\n",
       "      <td>0.833333</td>\n",
       "      <td>0.700000</td>\n",
       "      <td>0.673333</td>\n",
       "      <td>NaN</td>\n",
       "    </tr>\n",
       "    <tr>\n",
       "      <th>0</th>\n",
       "      <td>lots_of_zebras</td>\n",
       "      <td>mixed8</td>\n",
       "      <td>striped_sub_2</td>\n",
       "      <td>random500_19</td>\n",
       "      <td>0.620000</td>\n",
       "      <td>0.660000</td>\n",
       "      <td>0.666667</td>\n",
       "      <td>NaN</td>\n",
       "    </tr>\n",
       "  </tbody>\n",
       "</table>\n",
       "</div>"
      ],
      "text/plain": [
       "     target_class   layer      concept_p     concept_n  orig_score  L1_score  \\\n",
       "0  lots_of_zebras  mixed8  striped_sub_2   random500_0    0.800000  0.753333   \n",
       "0  lots_of_zebras  mixed8  striped_sub_2   random500_1    0.913333  0.760000   \n",
       "0  lots_of_zebras  mixed8  striped_sub_2   random500_2    0.893333  0.733333   \n",
       "0  lots_of_zebras  mixed8  striped_sub_2   random500_3    0.506667  0.706667   \n",
       "0  lots_of_zebras  mixed8  striped_sub_2   random500_4    0.653333  0.706667   \n",
       "0  lots_of_zebras  mixed8  striped_sub_2   random500_5    0.693333  0.726667   \n",
       "0  lots_of_zebras  mixed8  striped_sub_2   random500_6    0.500000  0.626667   \n",
       "0  lots_of_zebras  mixed8  striped_sub_2   random500_7    0.793333  0.733333   \n",
       "0  lots_of_zebras  mixed8  striped_sub_2   random500_8    0.880000  0.720000   \n",
       "0  lots_of_zebras  mixed8  striped_sub_2   random500_9    0.680000  0.733333   \n",
       "0  lots_of_zebras  mixed8  striped_sub_2  random500_10    0.653333  0.666667   \n",
       "0  lots_of_zebras  mixed8  striped_sub_2  random500_11    0.120000  0.666667   \n",
       "0  lots_of_zebras  mixed8  striped_sub_2  random500_12    0.746667  0.740000   \n",
       "0  lots_of_zebras  mixed8  striped_sub_2  random500_13    0.793333  0.780000   \n",
       "0  lots_of_zebras  mixed8  striped_sub_2  random500_14    0.793333  0.766667   \n",
       "0  lots_of_zebras  mixed8  striped_sub_2  random500_15    0.953333  0.766667   \n",
       "0  lots_of_zebras  mixed8  striped_sub_2  random500_16    0.740000  0.713333   \n",
       "0  lots_of_zebras  mixed8  striped_sub_2  random500_17    0.780000  0.780000   \n",
       "0  lots_of_zebras  mixed8  striped_sub_2  random500_18    0.833333  0.700000   \n",
       "0  lots_of_zebras  mixed8  striped_sub_2  random500_19    0.620000  0.660000   \n",
       "\n",
       "  marg_score mean_score  \n",
       "0   0.793333        NaN  \n",
       "0       0.78        NaN  \n",
       "0   0.726667        NaN  \n",
       "0       0.74        NaN  \n",
       "0   0.713333        NaN  \n",
       "0   0.746667        NaN  \n",
       "0   0.686667        NaN  \n",
       "0   0.693333        NaN  \n",
       "0   0.706667        NaN  \n",
       "0   0.813333        NaN  \n",
       "0       0.64        NaN  \n",
       "0   0.586667        NaN  \n",
       "0   0.806667        NaN  \n",
       "0       0.86        NaN  \n",
       "0        0.8        NaN  \n",
       "0        0.8        NaN  \n",
       "0   0.706667        NaN  \n",
       "0   0.866667        NaN  \n",
       "0   0.673333        NaN  \n",
       "0   0.666667        NaN  "
      ]
     },
     "execution_count": 365,
     "metadata": {},
     "output_type": "execute_result"
    }
   ],
   "source": [
    "subset"
   ]
  },
  {
   "cell_type": "code",
   "execution_count": 366,
   "metadata": {},
   "outputs": [],
   "source": [
    "#subsets[18]"
   ]
  },
  {
   "cell_type": "code",
   "execution_count": 367,
   "metadata": {},
   "outputs": [
    {
     "data": {
      "image/png": "[encoded data removed]",
      "text/plain": [
       "<Figure size 720x360 with 1 Axes>"
      ]
     },
     "metadata": {
      "needs_background": "light"
     },
     "output_type": "display_data"
    }
   ],
   "source": [
    "data_a = subsets[22]\n",
    "data_b = subsets[23]\n",
    "\n",
    "fig = plt.figure(figsize=[10,5])\n",
    "ticks = layer_names\n",
    "\n",
    "#ticks = ['lion/striped','lion/grassland','zebra/striped','zebra/grassland']\n",
    "bpl = plt.boxplot(data_a, positions=np.array(range(len(data_a)))*2.0-0.4, sym='', widths=0.6)\n",
    "bpr = plt.boxplot(data_b, positions=np.array(range(len(data_b)))*2.0+0.4, sym='', widths=0.6)\n",
    "set_box_color(bpl, '#D7191C') # colors are from http://colorbrewer2.org/\n",
    "set_box_color(bpr, '#2C7BB6')\n",
    "plt.plot([], c='#D7191C', label='Original')\n",
    "plt.plot([], c='#2C7BB6', label='Marg. over Models')\n",
    "plt.legend()\n",
    "plt.xticks(range(0, len(ticks) * 2, 2), ticks)\n",
    "plt.xlim(-2, len(ticks)*2)\n",
    "_ = plt.ylim(0, 1)\n",
    "plt.savefig('new_figs/tcav_score/tmp.png',dpi=300)"
   ]
  },
  {
   "cell_type": "code",
   "execution_count": 368,
   "metadata": {},
   "outputs": [
    {
     "data": {
      "image/png": "[encoded data removed]",
      "text/plain": [
       "<Figure size 720x360 with 1 Axes>"
      ]
     },
     "metadata": {
      "needs_background": "light"
     },
     "output_type": "display_data"
    }
   ],
   "source": [
    "data_a = subsets[18]\n",
    "data_b = subsets[19]\n",
    "\n",
    "fig = plt.figure(figsize=[10,5])\n",
    "ticks = layer_names\n",
    "\n",
    "#ticks = ['lion/striped','lion/grassland','zebra/striped','zebra/grassland']\n",
    "bpl = plt.boxplot(data_a, positions=np.array(range(len(data_a)))*2.0-0.4, sym='', widths=0.6)\n",
    "bpr = plt.boxplot(data_b, positions=np.array(range(len(data_b)))*2.0+0.4, sym='', widths=0.6)\n",
    "set_box_color(bpl, '#D7191C') # colors are from http://colorbrewer2.org/\n",
    "set_box_color(bpr, '#2C7BB6')\n",
    "plt.plot([], c='#D7191C', label='Original')\n",
    "plt.plot([], c='#2C7BB6', label='Marg. over Models')\n",
    "plt.legend()\n",
    "plt.xticks(range(0, len(ticks) * 2, 2), ticks)\n",
    "plt.xlim(-2, len(ticks)*2)\n",
    "_ = plt.ylim(0, 1)\n",
    "plt.savefig('new_figs/tcav_score/tmp.png',dpi=300)"
   ]
  },
  {
   "cell_type": "code",
   "execution_count": 369,
   "metadata": {},
   "outputs": [
    {
     "data": {
      "image/png": "[encoded data removed]",
      "text/plain": [
       "<Figure size 720x360 with 1 Axes>"
      ]
     },
     "metadata": {
      "needs_background": "light"
     },
     "output_type": "display_data"
    }
   ],
   "source": [
    "data_a = subsets[2]\n",
    "data_b = subsets[3]\n",
    "\n",
    "fig = plt.figure(figsize=[10,5])\n",
    "ticks = layer_names\n",
    "bpl = plt.boxplot(data_a, positions=np.array(range(len(data_a)))*2.0-0.4, sym='', widths=0.6)\n",
    "bpr = plt.boxplot(data_b, positions=np.array(range(len(data_b)))*2.0+0.4, sym='', widths=0.6)\n",
    "set_box_color(bpl, '#D7191C') # colors are from http://colorbrewer2.org/\n",
    "set_box_color(bpr, '#2C7BB6')\n",
    "plt.plot([], c='#D7191C', label='SGD Classifier')\n",
    "plt.plot([], c='#2C7BB6', label='Closest Centroid')\n",
    "plt.legend()\n",
    "plt.xticks(range(0, len(ticks) * 2, 2), ticks)\n",
    "plt.xlim(-2, len(ticks)*2)\n",
    "_ = plt.ylim(0, 1)\n"
   ]
  },
  {
   "cell_type": "code",
   "execution_count": 370,
   "metadata": {},
   "outputs": [
    {
     "data": {
      "image/png": "[encoded data removed]",
      "text/plain": [
       "<Figure size 720x360 with 1 Axes>"
      ]
     },
     "metadata": {
      "needs_background": "light"
     },
     "output_type": "display_data"
    }
   ],
   "source": [
    "data_a = subsets[4]\n",
    "data_b = subsets[5]\n",
    "\n",
    "fig = plt.figure(figsize=[10,5])\n",
    "ticks = layer_names\n",
    "bpl = plt.boxplot(data_a, positions=np.array(range(len(data_a)))*2.0-0.4, sym='', widths=0.6)\n",
    "bpr = plt.boxplot(data_b, positions=np.array(range(len(data_b)))*2.0+0.4, sym='', widths=0.6)\n",
    "set_box_color(bpl, '#D7191C') # colors are from http://colorbrewer2.org/\n",
    "set_box_color(bpr, '#2C7BB6')\n",
    "plt.plot([], c='#D7191C', label='Original')\n",
    "plt.plot([], c='#2C7BB6', label='L1')\n",
    "plt.legend()\n",
    "plt.xticks(range(0, len(ticks) * 2, 2), ticks)\n",
    "plt.xlim(-2, len(ticks)*2)\n",
    "_ = plt.ylim(0, 1)"
   ]
  },
  {
   "cell_type": "code",
   "execution_count": 371,
   "metadata": {},
   "outputs": [
    {
     "data": {
      "image/png": "[encoded data removed]",
      "text/plain": [
       "<Figure size 720x360 with 1 Axes>"
      ]
     },
     "metadata": {
      "needs_background": "light"
     },
     "output_type": "display_data"
    }
   ],
   "source": [
    "data_a = subsets[6]\n",
    "data_b = subsets[7]\n",
    "\n",
    "fig = plt.figure(figsize=[10,5])\n",
    "ticks = layer_names\n",
    "bpl = plt.boxplot(data_a, positions=np.array(range(len(data_a)))*2.0-0.4, sym='', widths=0.6)\n",
    "bpr = plt.boxplot(data_b, positions=np.array(range(len(data_b)))*2.0+0.4, sym='', widths=0.6)\n",
    "set_box_color(bpl, '#D7191C') # colors are from http://colorbrewer2.org/\n",
    "set_box_color(bpr, '#2C7BB6')\n",
    "plt.plot([], c='#D7191C', label='Original')\n",
    "plt.plot([], c='#2C7BB6', label='L1')\n",
    "plt.legend()\n",
    "plt.xticks(range(0, len(ticks) * 2, 2), ticks)\n",
    "plt.xlim(-2, len(ticks)*2)\n",
    "_ = plt.ylim(0, 1)"
   ]
  },
  {
   "cell_type": "code",
   "execution_count": 31,
   "metadata": {},
   "outputs": [
    {
     "data": {
      "image/png": "[encoded data removed]",
      "text/plain": [
       "<Figure size 720x360 with 1 Axes>"
      ]
     },
     "metadata": {
      "needs_background": "light"
     },
     "output_type": "display_data"
    }
   ],
   "source": [
    "data_a = subsets[8]\n",
    "data_b = subsets[9]\n",
    "\n",
    "fig = plt.figure(figsize=[10,5])\n",
    "ticks = layer_names\n",
    "bpl = plt.boxplot(data_a, positions=np.array(range(len(data_a)))*2.0-0.4, sym='', widths=0.6)\n",
    "bpr = plt.boxplot(data_b, positions=np.array(range(len(data_b)))*2.0+0.4, sym='', widths=0.6)\n",
    "set_box_color(bpl, '#D7191C') #blue\n",
    "set_box_color(bpr, '#2C7BB6') # red\n",
    "plt.plot([], c='#D7191C', label='Original')\n",
    "plt.plot([], c='#2C7BB6', label='L1')\n",
    "plt.legend()\n",
    "plt.xticks(range(0, len(ticks) * 2, 2), ticks)\n",
    "plt.xlim(-2, len(ticks)*2)\n",
    "_ = plt.ylim(0, 1)"
   ]
  },
  {
   "cell_type": "code",
   "execution_count": 32,
   "metadata": {},
   "outputs": [
    {
     "data": {
      "image/png": "[encoded data removed]",
      "text/plain": [
       "<Figure size 720x360 with 1 Axes>"
      ]
     },
     "metadata": {
      "needs_background": "light"
     },
     "output_type": "display_data"
    }
   ],
   "source": [
    "data_a = subsets[10]\n",
    "data_b = subsets[11]\n",
    "\n",
    "fig = plt.figure(figsize=[10,5])\n",
    "ticks = layer_names\n",
    "bpl = plt.boxplot(data_a, positions=np.array(range(len(data_a)))*2.0-0.4, sym='', widths=0.6)\n",
    "bpr = plt.boxplot(data_b, positions=np.array(range(len(data_b)))*2.0+0.4, sym='', widths=0.6)\n",
    "set_box_color(bpl, '#D7191C') #blue\n",
    "set_box_color(bpr, '#2C7BB6') # red\n",
    "plt.plot([], c='#D7191C', label='Original')\n",
    "plt.plot([], c='#2C7BB6', label='L1')\n",
    "plt.legend()\n",
    "plt.xticks(range(0, len(ticks) * 2, 2), ticks)\n",
    "plt.xlim(-2, len(ticks)*2)\n",
    "_ = plt.ylim(0, 1)"
   ]
  },
  {
   "cell_type": "code",
   "execution_count": null,
   "metadata": {},
   "outputs": [],
   "source": []
  },
  {
   "cell_type": "code",
   "execution_count": null,
   "metadata": {},
   "outputs": [],
   "source": []
  },
  {
   "cell_type": "code",
   "execution_count": null,
   "metadata": {},
   "outputs": [],
   "source": []
  },
  {
   "cell_type": "code",
   "execution_count": 12,
   "metadata": {},
   "outputs": [],
   "source": [
    "## Random Class work"
   ]
  },
  {
   "cell_type": "code",
   "execution_count": 13,
   "metadata": {},
   "outputs": [
    {
     "ename": "ValueError",
     "evalue": "could not broadcast input array from shape (33) into shape (22)",
     "output_type": "error",
     "traceback": [
      "\u001b[0;31m---------------------------------------------------------------------------\u001b[0m",
      "\u001b[0;31mValueError\u001b[0m                                Traceback (most recent call last)",
      "\u001b[0;32m<ipython-input-13-f16e14f3cc0a>\u001b[0m in \u001b[0;36m<module>\u001b[0;34m\u001b[0m\n\u001b[1;32m     11\u001b[0m     \u001b[0mconcept_n\u001b[0m \u001b[0;34m=\u001b[0m \u001b[0;34m'random500_'\u001b[0m \u001b[0;34m+\u001b[0m \u001b[0mstr\u001b[0m\u001b[0;34m(\u001b[0m\u001b[0mclass_idx\u001b[0m\u001b[0;34m)\u001b[0m\u001b[0;34m\u001b[0m\u001b[0;34m\u001b[0m\u001b[0m\n\u001b[1;32m     12\u001b[0m     \u001b[0msubset\u001b[0m \u001b[0;34m=\u001b[0m \u001b[0mdf\u001b[0m\u001b[0;34m[\u001b[0m\u001b[0;34m(\u001b[0m\u001b[0mdf\u001b[0m\u001b[0;34m[\u001b[0m\u001b[0;34m'target_class'\u001b[0m\u001b[0;34m]\u001b[0m\u001b[0;34m==\u001b[0m\u001b[0mtarget_class\u001b[0m\u001b[0;34m)\u001b[0m \u001b[0;34m&\u001b[0m \u001b[0;34m(\u001b[0m\u001b[0mdf\u001b[0m\u001b[0;34m[\u001b[0m\u001b[0;34m'concept_n'\u001b[0m\u001b[0;34m]\u001b[0m\u001b[0;34m==\u001b[0m\u001b[0mconcept_n\u001b[0m\u001b[0;34m)\u001b[0m\u001b[0;34m]\u001b[0m\u001b[0;34m\u001b[0m\u001b[0;34m\u001b[0m\u001b[0m\n\u001b[0;32m---> 13\u001b[0;31m     \u001b[0mr_subsets\u001b[0m\u001b[0;34m[\u001b[0m\u001b[0mclass_idx\u001b[0m\u001b[0;34m]\u001b[0m \u001b[0;34m=\u001b[0m \u001b[0mnp\u001b[0m\u001b[0;34m.\u001b[0m\u001b[0marray\u001b[0m\u001b[0;34m(\u001b[0m\u001b[0msubset\u001b[0m\u001b[0;34m[\u001b[0m\u001b[0;34m'orig_score'\u001b[0m\u001b[0;34m]\u001b[0m\u001b[0;34m)\u001b[0m\u001b[0;34m\u001b[0m\u001b[0;34m\u001b[0m\u001b[0m\n\u001b[0m",
      "\u001b[0;31mValueError\u001b[0m: could not broadcast input array from shape (33) into shape (22)"
     ]
    }
   ],
   "source": [
    "layer_names = ['mixed0','mixed1','mixed2','mixed3','mixed4','mixed5','mixed6','mixed7','mixed8','mixed9']\n",
    "\n",
    "target_class = 'zebra'\n",
    "concept_p = 'striped_sub_1'\n",
    "concept_n_list = ['random500_0','random500_1']\n",
    "\n",
    "r_subsets = np.zeros((20,22))\n",
    "\n",
    "tmp,tmp1 = [],[]\n",
    "for class_idx in range(20):\n",
    "    concept_n = 'random500_' + str(class_idx)\n",
    "    subset = df[(df['target_class']==target_class) & (df['concept_n']==concept_n)]\n",
    "    r_subsets[class_idx] = np.array(subset['orig_score'])\n"
   ]
  },
  {
   "cell_type": "code",
   "execution_count": null,
   "metadata": {},
   "outputs": [],
   "source": [
    "sample_means = r_subsets.mean(axis=0)"
   ]
  },
  {
   "cell_type": "code",
   "execution_count": null,
   "metadata": {},
   "outputs": [],
   "source": [
    "r_vars = r_subsets - sample_means"
   ]
  },
  {
   "cell_type": "code",
   "execution_count": null,
   "metadata": {},
   "outputs": [],
   "source": [
    "random_names = []\n",
    "for class_idx in range(20):\n",
    "    concept_n = 'random500_' + str(class_idx)\n",
    "    random_names.append(concept_n)"
   ]
  },
  {
   "cell_type": "code",
   "execution_count": null,
   "metadata": {},
   "outputs": [],
   "source": [
    "r_vars.shape"
   ]
  },
  {
   "cell_type": "code",
   "execution_count": null,
   "metadata": {},
   "outputs": [],
   "source": [
    "len(random_names)"
   ]
  },
  {
   "cell_type": "code",
   "execution_count": null,
   "metadata": {},
   "outputs": [],
   "source": [
    "len(data_b[0])"
   ]
  },
  {
   "cell_type": "code",
   "execution_count": null,
   "metadata": {},
   "outputs": [],
   "source": [
    "r_vars.shape"
   ]
  },
  {
   "cell_type": "code",
   "execution_count": null,
   "metadata": {},
   "outputs": [],
   "source": [
    "data_a = list(r_vars)\n",
    "\n",
    "fig = plt.figure(figsize=[20,5])\n",
    "\n",
    "ticks = range(20)\n",
    "\n",
    "bpl = plt.boxplot(data_a, positions=np.array(range(len(data_a)))*2.0-0.4, sym='', widths=0.6)\n",
    "\n",
    "set_box_color(bpl, '#D7191C') #blue\n",
    "set_box_color(bpr, '#2C7BB6') # red\n",
    "plt.plot([], c='#D7191C', label='Original')\n",
    "plt.plot([], c='#2C7BB6', label='L1')\n",
    "plt.legend()\n",
    "plt.xticks(range(0, len(ticks) * 2, 2), ticks)\n",
    "plt.xlim(-2, len(ticks)*2)\n",
    "_ = plt.ylim(-.5, .5)"
   ]
  },
  {
   "cell_type": "code",
   "execution_count": null,
   "metadata": {},
   "outputs": [],
   "source": [
    "\n",
    "\n",
    "fig = plt.figure(figsize=[20,5])\n",
    "\n",
    "ticks = range(20)\n",
    "x = np.arange(20)\n",
    "plt.bar(x, r)\n"
   ]
  },
  {
   "cell_type": "code",
   "execution_count": 14,
   "metadata": {},
   "outputs": [
    {
     "ename": "NameError",
     "evalue": "name 'r' is not defined",
     "output_type": "error",
     "traceback": [
      "\u001b[0;31m---------------------------------------------------------------------------\u001b[0m",
      "\u001b[0;31mNameError\u001b[0m                                 Traceback (most recent call last)",
      "\u001b[0;32m<ipython-input-14-b61cc8f75c24>\u001b[0m in \u001b[0;36m<module>\u001b[0;34m\u001b[0m\n\u001b[0;32m----> 1\u001b[0;31m \u001b[0mplt\u001b[0m\u001b[0;34m.\u001b[0m\u001b[0mscatter\u001b[0m\u001b[0;34m(\u001b[0m\u001b[0mr\u001b[0m\u001b[0;34m,\u001b[0m\u001b[0mr_vars\u001b[0m\u001b[0;34m.\u001b[0m\u001b[0mvar\u001b[0m\u001b[0;34m(\u001b[0m\u001b[0maxis\u001b[0m\u001b[0;34m=\u001b[0m\u001b[0;36m1\u001b[0m\u001b[0;34m)\u001b[0m\u001b[0;34m)\u001b[0m\u001b[0;34m\u001b[0m\u001b[0;34m\u001b[0m\u001b[0m\n\u001b[0m",
      "\u001b[0;31mNameError\u001b[0m: name 'r' is not defined"
     ]
    }
   ],
   "source": [
    "plt.scatter(r,r_vars.var(axis=1))"
   ]
  },
  {
   "cell_type": "code",
   "execution_count": null,
   "metadata": {},
   "outputs": [],
   "source": []
  },
  {
   "cell_type": "code",
   "execution_count": 179,
   "metadata": {},
   "outputs": [],
   "source": [
    "#random_spreads = pickle.load(open('random_spreads.pkl', 'rb'))"
   ]
  },
  {
   "cell_type": "code",
   "execution_count": 185,
   "metadata": {},
   "outputs": [],
   "source": [
    "random_spreads = pickle.load(open('random_spreads_8.pkl','rb'))"
   ]
  },
  {
   "cell_type": "code",
   "execution_count": 202,
   "metadata": {},
   "outputs": [],
   "source": [
    "r = np.array(list(random_spreads[key] for key in random_spreads))\n",
    "r -= r.mean()"
   ]
  },
  {
   "cell_type": "code",
   "execution_count": 201,
   "metadata": {},
   "outputs": [
    {
     "data": {
      "text/plain": [
       "array([ 0.36043895,  0.04016854, -0.17832181, -0.13042383, -0.03544704,\n",
       "        0.14988385, -0.95851691,  1.22414782,  0.55052709,  0.54564712,\n",
       "       -0.29820146, -0.4542551 , -0.14548316, -0.11435474,  0.76489587,\n",
       "        0.18056917, -0.84264898,  0.13107654,  0.04219132, -0.83189323])"
      ]
     },
     "execution_count": 201,
     "metadata": {},
     "output_type": "execute_result"
    }
   ],
   "source": [
    "r"
   ]
  },
  {
   "cell_type": "code",
   "execution_count": null,
   "metadata": {},
   "outputs": [],
   "source": []
  },
  {
   "cell_type": "code",
   "execution_count": null,
   "metadata": {},
   "outputs": [],
   "source": []
  },
  {
   "cell_type": "code",
   "execution_count": 504,
   "metadata": {},
   "outputs": [],
   "source": [
    "df_acc = pickle.load(open('df_acc.pkl','rb'))"
   ]
  },
  {
   "cell_type": "code",
   "execution_count": 505,
   "metadata": {},
   "outputs": [
    {
     "data": {
      "text/html": [
       "<div>\n",
       "<style scoped>\n",
       "    .dataframe tbody tr th:only-of-type {\n",
       "        vertical-align: middle;\n",
       "    }\n",
       "\n",
       "    .dataframe tbody tr th {\n",
       "        vertical-align: top;\n",
       "    }\n",
       "\n",
       "    .dataframe thead th {\n",
       "        text-align: right;\n",
       "    }\n",
       "</style>\n",
       "<table border=\"1\" class=\"dataframe\">\n",
       "  <thead>\n",
       "    <tr style=\"text-align: right;\">\n",
       "      <th></th>\n",
       "      <th>layer</th>\n",
       "      <th>concept_p</th>\n",
       "      <th>concept_n</th>\n",
       "      <th>acc_orig</th>\n",
       "      <th>acc_marg</th>\n",
       "      <th>acc_L1</th>\n",
       "    </tr>\n",
       "  </thead>\n",
       "  <tbody>\n",
       "    <tr>\n",
       "      <th>0</th>\n",
       "      <td>mixed0</td>\n",
       "      <td>striped_sub_1</td>\n",
       "      <td>random500_0</td>\n",
       "      <td>0.636364</td>\n",
       "      <td>0.666667</td>\n",
       "      <td>0.484848</td>\n",
       "    </tr>\n",
       "    <tr>\n",
       "      <th>0</th>\n",
       "      <td>mixed0</td>\n",
       "      <td>striped_sub_1</td>\n",
       "      <td>random500_1</td>\n",
       "      <td>0.878788</td>\n",
       "      <td>0.909091</td>\n",
       "      <td>0.484848</td>\n",
       "    </tr>\n",
       "    <tr>\n",
       "      <th>0</th>\n",
       "      <td>mixed1</td>\n",
       "      <td>striped_sub_1</td>\n",
       "      <td>random500_0</td>\n",
       "      <td>0.818182</td>\n",
       "      <td>0.818182</td>\n",
       "      <td>0.939394</td>\n",
       "    </tr>\n",
       "    <tr>\n",
       "      <th>0</th>\n",
       "      <td>mixed1</td>\n",
       "      <td>striped_sub_1</td>\n",
       "      <td>random500_1</td>\n",
       "      <td>0.848485</td>\n",
       "      <td>0.939394</td>\n",
       "      <td>0.969697</td>\n",
       "    </tr>\n",
       "    <tr>\n",
       "      <th>0</th>\n",
       "      <td>mixed2</td>\n",
       "      <td>striped_sub_1</td>\n",
       "      <td>random500_0</td>\n",
       "      <td>0.696970</td>\n",
       "      <td>0.969697</td>\n",
       "      <td>0.484848</td>\n",
       "    </tr>\n",
       "    <tr>\n",
       "      <th>0</th>\n",
       "      <td>mixed2</td>\n",
       "      <td>striped_sub_1</td>\n",
       "      <td>random500_1</td>\n",
       "      <td>0.787879</td>\n",
       "      <td>0.909091</td>\n",
       "      <td>0.939394</td>\n",
       "    </tr>\n",
       "    <tr>\n",
       "      <th>0</th>\n",
       "      <td>mixed3</td>\n",
       "      <td>striped_sub_1</td>\n",
       "      <td>random500_0</td>\n",
       "      <td>0.848485</td>\n",
       "      <td>0.939394</td>\n",
       "      <td>0.484848</td>\n",
       "    </tr>\n",
       "    <tr>\n",
       "      <th>0</th>\n",
       "      <td>mixed3</td>\n",
       "      <td>striped_sub_1</td>\n",
       "      <td>random500_1</td>\n",
       "      <td>0.939394</td>\n",
       "      <td>0.939394</td>\n",
       "      <td>0.818182</td>\n",
       "    </tr>\n",
       "    <tr>\n",
       "      <th>0</th>\n",
       "      <td>mixed4</td>\n",
       "      <td>striped_sub_1</td>\n",
       "      <td>random500_0</td>\n",
       "      <td>1.000000</td>\n",
       "      <td>1.000000</td>\n",
       "      <td>1.000000</td>\n",
       "    </tr>\n",
       "    <tr>\n",
       "      <th>0</th>\n",
       "      <td>mixed4</td>\n",
       "      <td>striped_sub_1</td>\n",
       "      <td>random500_1</td>\n",
       "      <td>0.969697</td>\n",
       "      <td>1.000000</td>\n",
       "      <td>1.000000</td>\n",
       "    </tr>\n",
       "    <tr>\n",
       "      <th>0</th>\n",
       "      <td>mixed5</td>\n",
       "      <td>striped_sub_1</td>\n",
       "      <td>random500_0</td>\n",
       "      <td>1.000000</td>\n",
       "      <td>1.000000</td>\n",
       "      <td>0.969697</td>\n",
       "    </tr>\n",
       "    <tr>\n",
       "      <th>0</th>\n",
       "      <td>mixed5</td>\n",
       "      <td>striped_sub_1</td>\n",
       "      <td>random500_1</td>\n",
       "      <td>1.000000</td>\n",
       "      <td>1.000000</td>\n",
       "      <td>1.000000</td>\n",
       "    </tr>\n",
       "    <tr>\n",
       "      <th>0</th>\n",
       "      <td>mixed6</td>\n",
       "      <td>striped_sub_1</td>\n",
       "      <td>random500_0</td>\n",
       "      <td>1.000000</td>\n",
       "      <td>1.000000</td>\n",
       "      <td>0.848485</td>\n",
       "    </tr>\n",
       "    <tr>\n",
       "      <th>0</th>\n",
       "      <td>mixed6</td>\n",
       "      <td>striped_sub_1</td>\n",
       "      <td>random500_1</td>\n",
       "      <td>1.000000</td>\n",
       "      <td>1.000000</td>\n",
       "      <td>0.969697</td>\n",
       "    </tr>\n",
       "    <tr>\n",
       "      <th>0</th>\n",
       "      <td>mixed7</td>\n",
       "      <td>striped_sub_1</td>\n",
       "      <td>random500_0</td>\n",
       "      <td>1.000000</td>\n",
       "      <td>1.000000</td>\n",
       "      <td>1.000000</td>\n",
       "    </tr>\n",
       "    <tr>\n",
       "      <th>0</th>\n",
       "      <td>mixed7</td>\n",
       "      <td>striped_sub_1</td>\n",
       "      <td>random500_1</td>\n",
       "      <td>1.000000</td>\n",
       "      <td>1.000000</td>\n",
       "      <td>1.000000</td>\n",
       "    </tr>\n",
       "    <tr>\n",
       "      <th>0</th>\n",
       "      <td>mixed8</td>\n",
       "      <td>striped_sub_1</td>\n",
       "      <td>random500_0</td>\n",
       "      <td>1.000000</td>\n",
       "      <td>1.000000</td>\n",
       "      <td>0.969697</td>\n",
       "    </tr>\n",
       "    <tr>\n",
       "      <th>0</th>\n",
       "      <td>mixed8</td>\n",
       "      <td>striped_sub_1</td>\n",
       "      <td>random500_1</td>\n",
       "      <td>1.000000</td>\n",
       "      <td>1.000000</td>\n",
       "      <td>1.000000</td>\n",
       "    </tr>\n",
       "    <tr>\n",
       "      <th>0</th>\n",
       "      <td>mixed9</td>\n",
       "      <td>striped_sub_1</td>\n",
       "      <td>random500_0</td>\n",
       "      <td>0.969697</td>\n",
       "      <td>1.000000</td>\n",
       "      <td>0.969697</td>\n",
       "    </tr>\n",
       "    <tr>\n",
       "      <th>0</th>\n",
       "      <td>mixed9</td>\n",
       "      <td>striped_sub_1</td>\n",
       "      <td>random500_1</td>\n",
       "      <td>1.000000</td>\n",
       "      <td>1.000000</td>\n",
       "      <td>0.969697</td>\n",
       "    </tr>\n",
       "    <tr>\n",
       "      <th>0</th>\n",
       "      <td>mixed0</td>\n",
       "      <td>green_sub_1</td>\n",
       "      <td>random500_0</td>\n",
       "      <td>0.787879</td>\n",
       "      <td>0.848485</td>\n",
       "      <td>0.484848</td>\n",
       "    </tr>\n",
       "    <tr>\n",
       "      <th>0</th>\n",
       "      <td>mixed0</td>\n",
       "      <td>green_sub_1</td>\n",
       "      <td>random500_1</td>\n",
       "      <td>0.787879</td>\n",
       "      <td>0.848485</td>\n",
       "      <td>0.484848</td>\n",
       "    </tr>\n",
       "    <tr>\n",
       "      <th>0</th>\n",
       "      <td>mixed1</td>\n",
       "      <td>green_sub_1</td>\n",
       "      <td>random500_0</td>\n",
       "      <td>0.545455</td>\n",
       "      <td>0.696970</td>\n",
       "      <td>0.484848</td>\n",
       "    </tr>\n",
       "    <tr>\n",
       "      <th>0</th>\n",
       "      <td>mixed1</td>\n",
       "      <td>green_sub_1</td>\n",
       "      <td>random500_1</td>\n",
       "      <td>0.575758</td>\n",
       "      <td>0.727273</td>\n",
       "      <td>0.484848</td>\n",
       "    </tr>\n",
       "    <tr>\n",
       "      <th>0</th>\n",
       "      <td>mixed2</td>\n",
       "      <td>green_sub_1</td>\n",
       "      <td>random500_0</td>\n",
       "      <td>0.666667</td>\n",
       "      <td>0.727273</td>\n",
       "      <td>0.484848</td>\n",
       "    </tr>\n",
       "    <tr>\n",
       "      <th>0</th>\n",
       "      <td>mixed2</td>\n",
       "      <td>green_sub_1</td>\n",
       "      <td>random500_1</td>\n",
       "      <td>0.696970</td>\n",
       "      <td>0.666667</td>\n",
       "      <td>0.484848</td>\n",
       "    </tr>\n",
       "    <tr>\n",
       "      <th>0</th>\n",
       "      <td>mixed3</td>\n",
       "      <td>green_sub_1</td>\n",
       "      <td>random500_0</td>\n",
       "      <td>0.636364</td>\n",
       "      <td>0.787879</td>\n",
       "      <td>0.515152</td>\n",
       "    </tr>\n",
       "    <tr>\n",
       "      <th>0</th>\n",
       "      <td>mixed3</td>\n",
       "      <td>green_sub_1</td>\n",
       "      <td>random500_1</td>\n",
       "      <td>0.666667</td>\n",
       "      <td>0.606061</td>\n",
       "      <td>0.484848</td>\n",
       "    </tr>\n",
       "    <tr>\n",
       "      <th>0</th>\n",
       "      <td>mixed4</td>\n",
       "      <td>green_sub_1</td>\n",
       "      <td>random500_0</td>\n",
       "      <td>0.666667</td>\n",
       "      <td>0.818182</td>\n",
       "      <td>0.666667</td>\n",
       "    </tr>\n",
       "    <tr>\n",
       "      <th>0</th>\n",
       "      <td>mixed4</td>\n",
       "      <td>green_sub_1</td>\n",
       "      <td>random500_1</td>\n",
       "      <td>0.818182</td>\n",
       "      <td>0.818182</td>\n",
       "      <td>0.666667</td>\n",
       "    </tr>\n",
       "    <tr>\n",
       "      <th>...</th>\n",
       "      <td>...</td>\n",
       "      <td>...</td>\n",
       "      <td>...</td>\n",
       "      <td>...</td>\n",
       "      <td>...</td>\n",
       "      <td>...</td>\n",
       "    </tr>\n",
       "    <tr>\n",
       "      <th>0</th>\n",
       "      <td>mixed4</td>\n",
       "      <td>orange_sub_1</td>\n",
       "      <td>random500_0</td>\n",
       "      <td>0.848485</td>\n",
       "      <td>NaN</td>\n",
       "      <td>NaN</td>\n",
       "    </tr>\n",
       "    <tr>\n",
       "      <th>0</th>\n",
       "      <td>mixed4</td>\n",
       "      <td>orange_sub_1</td>\n",
       "      <td>random500_1</td>\n",
       "      <td>0.787879</td>\n",
       "      <td>NaN</td>\n",
       "      <td>NaN</td>\n",
       "    </tr>\n",
       "    <tr>\n",
       "      <th>0</th>\n",
       "      <td>mixed4</td>\n",
       "      <td>orange_sub_1</td>\n",
       "      <td>random500_2</td>\n",
       "      <td>0.878788</td>\n",
       "      <td>NaN</td>\n",
       "      <td>NaN</td>\n",
       "    </tr>\n",
       "    <tr>\n",
       "      <th>0</th>\n",
       "      <td>mixed4</td>\n",
       "      <td>orange_sub_1</td>\n",
       "      <td>random500_3</td>\n",
       "      <td>0.636364</td>\n",
       "      <td>NaN</td>\n",
       "      <td>NaN</td>\n",
       "    </tr>\n",
       "    <tr>\n",
       "      <th>0</th>\n",
       "      <td>mixed4</td>\n",
       "      <td>orange_sub_1</td>\n",
       "      <td>random500_4</td>\n",
       "      <td>0.878788</td>\n",
       "      <td>NaN</td>\n",
       "      <td>NaN</td>\n",
       "    </tr>\n",
       "    <tr>\n",
       "      <th>0</th>\n",
       "      <td>mixed5</td>\n",
       "      <td>orange_sub_1</td>\n",
       "      <td>random500_0</td>\n",
       "      <td>0.848485</td>\n",
       "      <td>NaN</td>\n",
       "      <td>NaN</td>\n",
       "    </tr>\n",
       "    <tr>\n",
       "      <th>0</th>\n",
       "      <td>mixed5</td>\n",
       "      <td>orange_sub_1</td>\n",
       "      <td>random500_1</td>\n",
       "      <td>0.727273</td>\n",
       "      <td>NaN</td>\n",
       "      <td>NaN</td>\n",
       "    </tr>\n",
       "    <tr>\n",
       "      <th>0</th>\n",
       "      <td>mixed5</td>\n",
       "      <td>orange_sub_1</td>\n",
       "      <td>random500_2</td>\n",
       "      <td>0.909091</td>\n",
       "      <td>NaN</td>\n",
       "      <td>NaN</td>\n",
       "    </tr>\n",
       "    <tr>\n",
       "      <th>0</th>\n",
       "      <td>mixed5</td>\n",
       "      <td>orange_sub_1</td>\n",
       "      <td>random500_3</td>\n",
       "      <td>0.818182</td>\n",
       "      <td>NaN</td>\n",
       "      <td>NaN</td>\n",
       "    </tr>\n",
       "    <tr>\n",
       "      <th>0</th>\n",
       "      <td>mixed5</td>\n",
       "      <td>orange_sub_1</td>\n",
       "      <td>random500_4</td>\n",
       "      <td>0.818182</td>\n",
       "      <td>NaN</td>\n",
       "      <td>NaN</td>\n",
       "    </tr>\n",
       "    <tr>\n",
       "      <th>0</th>\n",
       "      <td>mixed6</td>\n",
       "      <td>orange_sub_1</td>\n",
       "      <td>random500_0</td>\n",
       "      <td>0.848485</td>\n",
       "      <td>NaN</td>\n",
       "      <td>NaN</td>\n",
       "    </tr>\n",
       "    <tr>\n",
       "      <th>0</th>\n",
       "      <td>mixed6</td>\n",
       "      <td>orange_sub_1</td>\n",
       "      <td>random500_1</td>\n",
       "      <td>0.727273</td>\n",
       "      <td>NaN</td>\n",
       "      <td>NaN</td>\n",
       "    </tr>\n",
       "    <tr>\n",
       "      <th>0</th>\n",
       "      <td>mixed6</td>\n",
       "      <td>orange_sub_1</td>\n",
       "      <td>random500_2</td>\n",
       "      <td>0.878788</td>\n",
       "      <td>NaN</td>\n",
       "      <td>NaN</td>\n",
       "    </tr>\n",
       "    <tr>\n",
       "      <th>0</th>\n",
       "      <td>mixed6</td>\n",
       "      <td>orange_sub_1</td>\n",
       "      <td>random500_3</td>\n",
       "      <td>0.787879</td>\n",
       "      <td>NaN</td>\n",
       "      <td>NaN</td>\n",
       "    </tr>\n",
       "    <tr>\n",
       "      <th>0</th>\n",
       "      <td>mixed6</td>\n",
       "      <td>orange_sub_1</td>\n",
       "      <td>random500_4</td>\n",
       "      <td>0.727273</td>\n",
       "      <td>NaN</td>\n",
       "      <td>NaN</td>\n",
       "    </tr>\n",
       "    <tr>\n",
       "      <th>0</th>\n",
       "      <td>mixed7</td>\n",
       "      <td>orange_sub_1</td>\n",
       "      <td>random500_0</td>\n",
       "      <td>0.848485</td>\n",
       "      <td>NaN</td>\n",
       "      <td>NaN</td>\n",
       "    </tr>\n",
       "    <tr>\n",
       "      <th>0</th>\n",
       "      <td>mixed7</td>\n",
       "      <td>orange_sub_1</td>\n",
       "      <td>random500_1</td>\n",
       "      <td>0.787879</td>\n",
       "      <td>NaN</td>\n",
       "      <td>NaN</td>\n",
       "    </tr>\n",
       "    <tr>\n",
       "      <th>0</th>\n",
       "      <td>mixed7</td>\n",
       "      <td>orange_sub_1</td>\n",
       "      <td>random500_2</td>\n",
       "      <td>0.848485</td>\n",
       "      <td>NaN</td>\n",
       "      <td>NaN</td>\n",
       "    </tr>\n",
       "    <tr>\n",
       "      <th>0</th>\n",
       "      <td>mixed7</td>\n",
       "      <td>orange_sub_1</td>\n",
       "      <td>random500_3</td>\n",
       "      <td>0.696970</td>\n",
       "      <td>NaN</td>\n",
       "      <td>NaN</td>\n",
       "    </tr>\n",
       "    <tr>\n",
       "      <th>0</th>\n",
       "      <td>mixed7</td>\n",
       "      <td>orange_sub_1</td>\n",
       "      <td>random500_4</td>\n",
       "      <td>0.818182</td>\n",
       "      <td>NaN</td>\n",
       "      <td>NaN</td>\n",
       "    </tr>\n",
       "    <tr>\n",
       "      <th>0</th>\n",
       "      <td>mixed8</td>\n",
       "      <td>orange_sub_1</td>\n",
       "      <td>random500_0</td>\n",
       "      <td>0.787879</td>\n",
       "      <td>NaN</td>\n",
       "      <td>NaN</td>\n",
       "    </tr>\n",
       "    <tr>\n",
       "      <th>0</th>\n",
       "      <td>mixed8</td>\n",
       "      <td>orange_sub_1</td>\n",
       "      <td>random500_1</td>\n",
       "      <td>0.909091</td>\n",
       "      <td>NaN</td>\n",
       "      <td>NaN</td>\n",
       "    </tr>\n",
       "    <tr>\n",
       "      <th>0</th>\n",
       "      <td>mixed8</td>\n",
       "      <td>orange_sub_1</td>\n",
       "      <td>random500_2</td>\n",
       "      <td>0.787879</td>\n",
       "      <td>NaN</td>\n",
       "      <td>NaN</td>\n",
       "    </tr>\n",
       "    <tr>\n",
       "      <th>0</th>\n",
       "      <td>mixed8</td>\n",
       "      <td>orange_sub_1</td>\n",
       "      <td>random500_3</td>\n",
       "      <td>0.787879</td>\n",
       "      <td>NaN</td>\n",
       "      <td>NaN</td>\n",
       "    </tr>\n",
       "    <tr>\n",
       "      <th>0</th>\n",
       "      <td>mixed8</td>\n",
       "      <td>orange_sub_1</td>\n",
       "      <td>random500_4</td>\n",
       "      <td>0.939394</td>\n",
       "      <td>NaN</td>\n",
       "      <td>NaN</td>\n",
       "    </tr>\n",
       "    <tr>\n",
       "      <th>0</th>\n",
       "      <td>mixed9</td>\n",
       "      <td>orange_sub_1</td>\n",
       "      <td>random500_0</td>\n",
       "      <td>0.818182</td>\n",
       "      <td>NaN</td>\n",
       "      <td>NaN</td>\n",
       "    </tr>\n",
       "    <tr>\n",
       "      <th>0</th>\n",
       "      <td>mixed9</td>\n",
       "      <td>orange_sub_1</td>\n",
       "      <td>random500_1</td>\n",
       "      <td>0.909091</td>\n",
       "      <td>NaN</td>\n",
       "      <td>NaN</td>\n",
       "    </tr>\n",
       "    <tr>\n",
       "      <th>0</th>\n",
       "      <td>mixed9</td>\n",
       "      <td>orange_sub_1</td>\n",
       "      <td>random500_2</td>\n",
       "      <td>0.878788</td>\n",
       "      <td>NaN</td>\n",
       "      <td>NaN</td>\n",
       "    </tr>\n",
       "    <tr>\n",
       "      <th>0</th>\n",
       "      <td>mixed9</td>\n",
       "      <td>orange_sub_1</td>\n",
       "      <td>random500_3</td>\n",
       "      <td>0.939394</td>\n",
       "      <td>NaN</td>\n",
       "      <td>NaN</td>\n",
       "    </tr>\n",
       "    <tr>\n",
       "      <th>0</th>\n",
       "      <td>mixed9</td>\n",
       "      <td>orange_sub_1</td>\n",
       "      <td>random500_4</td>\n",
       "      <td>0.909091</td>\n",
       "      <td>NaN</td>\n",
       "      <td>NaN</td>\n",
       "    </tr>\n",
       "  </tbody>\n",
       "</table>\n",
       "<p>600 rows × 6 columns</p>\n",
       "</div>"
      ],
      "text/plain": [
       "     layer      concept_p    concept_n  acc_orig  acc_marg    acc_L1\n",
       "0   mixed0  striped_sub_1  random500_0  0.636364  0.666667  0.484848\n",
       "0   mixed0  striped_sub_1  random500_1  0.878788  0.909091  0.484848\n",
       "0   mixed1  striped_sub_1  random500_0  0.818182  0.818182  0.939394\n",
       "0   mixed1  striped_sub_1  random500_1  0.848485  0.939394  0.969697\n",
       "0   mixed2  striped_sub_1  random500_0  0.696970  0.969697  0.484848\n",
       "0   mixed2  striped_sub_1  random500_1  0.787879  0.909091  0.939394\n",
       "0   mixed3  striped_sub_1  random500_0  0.848485  0.939394  0.484848\n",
       "0   mixed3  striped_sub_1  random500_1  0.939394  0.939394  0.818182\n",
       "0   mixed4  striped_sub_1  random500_0  1.000000  1.000000  1.000000\n",
       "0   mixed4  striped_sub_1  random500_1  0.969697  1.000000  1.000000\n",
       "0   mixed5  striped_sub_1  random500_0  1.000000  1.000000  0.969697\n",
       "0   mixed5  striped_sub_1  random500_1  1.000000  1.000000  1.000000\n",
       "0   mixed6  striped_sub_1  random500_0  1.000000  1.000000  0.848485\n",
       "0   mixed6  striped_sub_1  random500_1  1.000000  1.000000  0.969697\n",
       "0   mixed7  striped_sub_1  random500_0  1.000000  1.000000  1.000000\n",
       "0   mixed7  striped_sub_1  random500_1  1.000000  1.000000  1.000000\n",
       "0   mixed8  striped_sub_1  random500_0  1.000000  1.000000  0.969697\n",
       "0   mixed8  striped_sub_1  random500_1  1.000000  1.000000  1.000000\n",
       "0   mixed9  striped_sub_1  random500_0  0.969697  1.000000  0.969697\n",
       "0   mixed9  striped_sub_1  random500_1  1.000000  1.000000  0.969697\n",
       "0   mixed0    green_sub_1  random500_0  0.787879  0.848485  0.484848\n",
       "0   mixed0    green_sub_1  random500_1  0.787879  0.848485  0.484848\n",
       "0   mixed1    green_sub_1  random500_0  0.545455  0.696970  0.484848\n",
       "0   mixed1    green_sub_1  random500_1  0.575758  0.727273  0.484848\n",
       "0   mixed2    green_sub_1  random500_0  0.666667  0.727273  0.484848\n",
       "0   mixed2    green_sub_1  random500_1  0.696970  0.666667  0.484848\n",
       "0   mixed3    green_sub_1  random500_0  0.636364  0.787879  0.515152\n",
       "0   mixed3    green_sub_1  random500_1  0.666667  0.606061  0.484848\n",
       "0   mixed4    green_sub_1  random500_0  0.666667  0.818182  0.666667\n",
       "0   mixed4    green_sub_1  random500_1  0.818182  0.818182  0.666667\n",
       "..     ...            ...          ...       ...       ...       ...\n",
       "0   mixed4   orange_sub_1  random500_0  0.848485       NaN       NaN\n",
       "0   mixed4   orange_sub_1  random500_1  0.787879       NaN       NaN\n",
       "0   mixed4   orange_sub_1  random500_2  0.878788       NaN       NaN\n",
       "0   mixed4   orange_sub_1  random500_3  0.636364       NaN       NaN\n",
       "0   mixed4   orange_sub_1  random500_4  0.878788       NaN       NaN\n",
       "0   mixed5   orange_sub_1  random500_0  0.848485       NaN       NaN\n",
       "0   mixed5   orange_sub_1  random500_1  0.727273       NaN       NaN\n",
       "0   mixed5   orange_sub_1  random500_2  0.909091       NaN       NaN\n",
       "0   mixed5   orange_sub_1  random500_3  0.818182       NaN       NaN\n",
       "0   mixed5   orange_sub_1  random500_4  0.818182       NaN       NaN\n",
       "0   mixed6   orange_sub_1  random500_0  0.848485       NaN       NaN\n",
       "0   mixed6   orange_sub_1  random500_1  0.727273       NaN       NaN\n",
       "0   mixed6   orange_sub_1  random500_2  0.878788       NaN       NaN\n",
       "0   mixed6   orange_sub_1  random500_3  0.787879       NaN       NaN\n",
       "0   mixed6   orange_sub_1  random500_4  0.727273       NaN       NaN\n",
       "0   mixed7   orange_sub_1  random500_0  0.848485       NaN       NaN\n",
       "0   mixed7   orange_sub_1  random500_1  0.787879       NaN       NaN\n",
       "0   mixed7   orange_sub_1  random500_2  0.848485       NaN       NaN\n",
       "0   mixed7   orange_sub_1  random500_3  0.696970       NaN       NaN\n",
       "0   mixed7   orange_sub_1  random500_4  0.818182       NaN       NaN\n",
       "0   mixed8   orange_sub_1  random500_0  0.787879       NaN       NaN\n",
       "0   mixed8   orange_sub_1  random500_1  0.909091       NaN       NaN\n",
       "0   mixed8   orange_sub_1  random500_2  0.787879       NaN       NaN\n",
       "0   mixed8   orange_sub_1  random500_3  0.787879       NaN       NaN\n",
       "0   mixed8   orange_sub_1  random500_4  0.939394       NaN       NaN\n",
       "0   mixed9   orange_sub_1  random500_0  0.818182       NaN       NaN\n",
       "0   mixed9   orange_sub_1  random500_1  0.909091       NaN       NaN\n",
       "0   mixed9   orange_sub_1  random500_2  0.878788       NaN       NaN\n",
       "0   mixed9   orange_sub_1  random500_3  0.939394       NaN       NaN\n",
       "0   mixed9   orange_sub_1  random500_4  0.909091       NaN       NaN\n",
       "\n",
       "[600 rows x 6 columns]"
      ]
     },
     "execution_count": 505,
     "metadata": {},
     "output_type": "execute_result"
    }
   ],
   "source": [
    "df_acc"
   ]
  },
  {
   "cell_type": "code",
   "execution_count": 544,
   "metadata": {},
   "outputs": [
    {
     "data": {
      "text/plain": [
       "array(['striped_sub_1', 'green_sub_1', 'yellow_sub_1', 'trees_sub_1',\n",
       "       'sky_sub_1', 'grassland_sub_1', 'grid_sub_1', 'green_sub_2',\n",
       "       'yellow_sub_2', 'blue_sub_1', 'blue_sub_2', 'orange_sub_1'],\n",
       "      dtype=object)"
      ]
     },
     "execution_count": 544,
     "metadata": {},
     "output_type": "execute_result"
    }
   ],
   "source": [
    "df_acc['concept_p'].unique()"
   ]
  },
  {
   "cell_type": "code",
   "execution_count": 545,
   "metadata": {},
   "outputs": [],
   "source": [
    "layer_names = ['mixed0','mixed1','mixed2','mixed3','mixed4','mixed5','mixed6','mixed7','mixed8','mixed9']\n",
    "\n",
    "\n",
    "subsets = []\n",
    "\n",
    "concept_p = 'yellow_sub_2'\n",
    "\n",
    "\n",
    "tmp,tmp1,tmp2 = [],[],[]\n",
    "for layer in layer_names:\n",
    "    subset = df_acc[(df_acc['layer']==layer) & (df_acc['concept_p']==concept_p)]\n",
    "    tmp.append(list(subset['acc_orig']))\n",
    "subsets.append(tmp)\n",
    "\n",
    "concept_p = 'blue_sub_2'\n",
    "\n",
    "for layer in layer_names:\n",
    "    subset = df_acc[(df_acc['layer']==layer) & (df_acc['concept_p']==concept_p)]\n",
    "    tmp.append(list(subset['acc_orig']))\n",
    "subsets.append(tmp)\n",
    "#subsets.append(tmp1)\n",
    "#subsets.append(tmp2)"
   ]
  },
  {
   "cell_type": "code",
   "execution_count": 546,
   "metadata": {},
   "outputs": [],
   "source": [
    "#len(tmp)"
   ]
  },
  {
   "cell_type": "code",
   "execution_count": 554,
   "metadata": {},
   "outputs": [
    {
     "data": {
      "text/html": [
       "<div>\n",
       "<style scoped>\n",
       "    .dataframe tbody tr th:only-of-type {\n",
       "        vertical-align: middle;\n",
       "    }\n",
       "\n",
       "    .dataframe tbody tr th {\n",
       "        vertical-align: top;\n",
       "    }\n",
       "\n",
       "    .dataframe thead th {\n",
       "        text-align: right;\n",
       "    }\n",
       "</style>\n",
       "<table border=\"1\" class=\"dataframe\">\n",
       "  <thead>\n",
       "    <tr style=\"text-align: right;\">\n",
       "      <th></th>\n",
       "      <th>layer</th>\n",
       "      <th>concept_p</th>\n",
       "      <th>concept_n</th>\n",
       "      <th>acc_orig</th>\n",
       "      <th>acc_marg</th>\n",
       "      <th>acc_L1</th>\n",
       "    </tr>\n",
       "  </thead>\n",
       "  <tbody>\n",
       "    <tr>\n",
       "      <th>0</th>\n",
       "      <td>mixed0</td>\n",
       "      <td>green_sub_2</td>\n",
       "      <td>random500_0</td>\n",
       "      <td>0.878788</td>\n",
       "      <td>NaN</td>\n",
       "      <td>NaN</td>\n",
       "    </tr>\n",
       "    <tr>\n",
       "      <th>0</th>\n",
       "      <td>mixed0</td>\n",
       "      <td>green_sub_2</td>\n",
       "      <td>random500_1</td>\n",
       "      <td>0.575758</td>\n",
       "      <td>NaN</td>\n",
       "      <td>NaN</td>\n",
       "    </tr>\n",
       "    <tr>\n",
       "      <th>0</th>\n",
       "      <td>mixed0</td>\n",
       "      <td>green_sub_2</td>\n",
       "      <td>random500_2</td>\n",
       "      <td>0.575758</td>\n",
       "      <td>NaN</td>\n",
       "      <td>NaN</td>\n",
       "    </tr>\n",
       "    <tr>\n",
       "      <th>0</th>\n",
       "      <td>mixed0</td>\n",
       "      <td>green_sub_2</td>\n",
       "      <td>random500_3</td>\n",
       "      <td>0.848485</td>\n",
       "      <td>NaN</td>\n",
       "      <td>NaN</td>\n",
       "    </tr>\n",
       "    <tr>\n",
       "      <th>0</th>\n",
       "      <td>mixed0</td>\n",
       "      <td>green_sub_2</td>\n",
       "      <td>random500_4</td>\n",
       "      <td>0.484848</td>\n",
       "      <td>NaN</td>\n",
       "      <td>NaN</td>\n",
       "    </tr>\n",
       "  </tbody>\n",
       "</table>\n",
       "</div>"
      ],
      "text/plain": [
       "    layer    concept_p    concept_n  acc_orig  acc_marg  acc_L1\n",
       "0  mixed0  green_sub_2  random500_0  0.878788       NaN     NaN\n",
       "0  mixed0  green_sub_2  random500_1  0.575758       NaN     NaN\n",
       "0  mixed0  green_sub_2  random500_2  0.575758       NaN     NaN\n",
       "0  mixed0  green_sub_2  random500_3  0.848485       NaN     NaN\n",
       "0  mixed0  green_sub_2  random500_4  0.484848       NaN     NaN"
      ]
     },
     "execution_count": 554,
     "metadata": {},
     "output_type": "execute_result"
    }
   ],
   "source": [
    "layer = 'mixed0'\n",
    "concept_p = 'green_sub_2'\n",
    "subset = df_acc[(df_acc['layer']==layer) & (df_acc['concept_p']==concept_p)]\n",
    "subset"
   ]
  },
  {
   "cell_type": "code",
   "execution_count": 548,
   "metadata": {},
   "outputs": [
    {
     "data": {
      "text/plain": [
       "20"
      ]
     },
     "execution_count": 548,
     "metadata": {},
     "output_type": "execute_result"
    }
   ],
   "source": [
    "len(data_b)"
   ]
  },
  {
   "cell_type": "code",
   "execution_count": 553,
   "metadata": {},
   "outputs": [
    {
     "data": {
      "text/plain": [
       "5"
      ]
     },
     "execution_count": 553,
     "metadata": {},
     "output_type": "execute_result"
    }
   ],
   "source": [
    "len(subsets[0][0])"
   ]
  },
  {
   "cell_type": "code",
   "execution_count": 549,
   "metadata": {},
   "outputs": [
    {
     "data": {
      "image/png": "[encoded data removed]",
      "text/plain": [
       "<Figure size 720x360 with 1 Axes>"
      ]
     },
     "metadata": {
      "needs_background": "light"
     },
     "output_type": "display_data"
    }
   ],
   "source": [
    "data_a = subsets[0]\n",
    "data_b = subsets[1]\n",
    "\n",
    "fig = plt.figure(figsize=[10,5])\n",
    "ticks = layer_names\n",
    "bpl = plt.boxplot(data_a, positions=np.array(range(len(data_a)))*2.0-0.4, sym='', widths=0.6)\n",
    "bpr = plt.boxplot(data_b, positions=np.array(range(len(data_b)))*2.0+0.4, sym='', widths=0.6)\n",
    "set_box_color(bpl, '#D7191C') #blue\n",
    "set_box_color(bpr, '#2C7BB6') # red\n",
    "#plt.plot([], c='#D7191C', label='Original')\n",
    "#plt.plot([], c='#2C7BB6', label='L1')\n",
    "#plt.legend()\n",
    "plt.xticks(range(0, len(ticks) * 2, 2), ticks)\n",
    "plt.xlim(-2, len(ticks)*2)\n",
    "_ = plt.ylim(0, 1.1)"
   ]
  },
  {
   "cell_type": "code",
   "execution_count": 511,
   "metadata": {},
   "outputs": [
    {
     "data": {
      "image/png": "[encoded data removed]",
      "text/plain": [
       "<Figure size 720x360 with 1 Axes>"
      ]
     },
     "metadata": {
      "needs_background": "light"
     },
     "output_type": "display_data"
    }
   ],
   "source": [
    "fig = plt.figure(figsize=[10,5])\n",
    "ticks = layer_names\n",
    "\n",
    "plt.xticks(range(0, len(ticks), 1), ticks)\n",
    "plt.xlim(-.5, len(ticks)-.5)\n",
    "_ = plt.ylim(0, 1.1)\n",
    "\n",
    "for i in range(len(layer_names)):\n",
    "    x = np.ones(len(data_a[i]))*i\n",
    "    plt.scatter(x,data_a[i],alpha = .4,c='b')"
   ]
  },
  {
   "cell_type": "code",
   "execution_count": 512,
   "metadata": {},
   "outputs": [
    {
     "data": {
      "text/plain": [
       "array([9., 9., 9., 9., 9.])"
      ]
     },
     "execution_count": 512,
     "metadata": {},
     "output_type": "execute_result"
    }
   ],
   "source": [
    "x"
   ]
  },
  {
   "cell_type": "code",
   "execution_count": null,
   "metadata": {},
   "outputs": [],
   "source": []
  },
  {
   "cell_type": "code",
   "execution_count": null,
   "metadata": {},
   "outputs": [],
   "source": []
  },
  {
   "cell_type": "code",
   "execution_count": 874,
   "metadata": {},
   "outputs": [],
   "source": [
    "df = pickle.load(open('df_var.pkl', 'rb'))"
   ]
  },
  {
   "cell_type": "code",
   "execution_count": 904,
   "metadata": {},
   "outputs": [],
   "source": [
    "target_class ='lots_of_zebras'\n",
    "layer = 'mixed9'\n",
    "concept_p = 'striped_sub_1'\n",
    "split_seed = 1\n",
    "#concept_n = 'random500_4'\n",
    "\n",
    "subset = df[(df['target_class']==target_class) & \n",
    "        (df['layer']==layer) & \n",
    "        (df['concept_p']==concept_p) &\n",
    "        #(df['concept_n']==concept_n)]# &\n",
    "        (df['split_seed']==split_seed)]"
   ]
  },
  {
   "cell_type": "code",
   "execution_count": 905,
   "metadata": {},
   "outputs": [
    {
     "data": {
      "text/html": [
       "<div>\n",
       "<style scoped>\n",
       "    .dataframe tbody tr th:only-of-type {\n",
       "        vertical-align: middle;\n",
       "    }\n",
       "\n",
       "    .dataframe tbody tr th {\n",
       "        vertical-align: top;\n",
       "    }\n",
       "\n",
       "    .dataframe thead th {\n",
       "        text-align: right;\n",
       "    }\n",
       "</style>\n",
       "<table border=\"1\" class=\"dataframe\">\n",
       "  <thead>\n",
       "    <tr style=\"text-align: right;\">\n",
       "      <th></th>\n",
       "      <th>target_class</th>\n",
       "      <th>layer</th>\n",
       "      <th>concept_p</th>\n",
       "      <th>concept_n</th>\n",
       "      <th>split_seed</th>\n",
       "      <th>orig_score</th>\n",
       "      <th>marg_score</th>\n",
       "    </tr>\n",
       "  </thead>\n",
       "  <tbody>\n",
       "    <tr>\n",
       "      <th>0</th>\n",
       "      <td>lots_of_zebras</td>\n",
       "      <td>mixed9</td>\n",
       "      <td>striped_sub_1</td>\n",
       "      <td>random500_0</td>\n",
       "      <td>1</td>\n",
       "      <td>0.913333</td>\n",
       "      <td>0.766667</td>\n",
       "    </tr>\n",
       "    <tr>\n",
       "      <th>0</th>\n",
       "      <td>lots_of_zebras</td>\n",
       "      <td>mixed9</td>\n",
       "      <td>striped_sub_1</td>\n",
       "      <td>random500_1</td>\n",
       "      <td>1</td>\n",
       "      <td>0.140000</td>\n",
       "      <td>0.373333</td>\n",
       "    </tr>\n",
       "    <tr>\n",
       "      <th>0</th>\n",
       "      <td>lots_of_zebras</td>\n",
       "      <td>mixed9</td>\n",
       "      <td>striped_sub_1</td>\n",
       "      <td>random500_2</td>\n",
       "      <td>1</td>\n",
       "      <td>0.186667</td>\n",
       "      <td>0.446667</td>\n",
       "    </tr>\n",
       "    <tr>\n",
       "      <th>0</th>\n",
       "      <td>lots_of_zebras</td>\n",
       "      <td>mixed9</td>\n",
       "      <td>striped_sub_1</td>\n",
       "      <td>random500_3</td>\n",
       "      <td>1</td>\n",
       "      <td>0.066667</td>\n",
       "      <td>0.353333</td>\n",
       "    </tr>\n",
       "    <tr>\n",
       "      <th>0</th>\n",
       "      <td>lots_of_zebras</td>\n",
       "      <td>mixed9</td>\n",
       "      <td>striped_sub_1</td>\n",
       "      <td>random500_4</td>\n",
       "      <td>1</td>\n",
       "      <td>0.793333</td>\n",
       "      <td>0.620000</td>\n",
       "    </tr>\n",
       "    <tr>\n",
       "      <th>0</th>\n",
       "      <td>lots_of_zebras</td>\n",
       "      <td>mixed9</td>\n",
       "      <td>striped_sub_1</td>\n",
       "      <td>random500_5</td>\n",
       "      <td>1</td>\n",
       "      <td>0.700000</td>\n",
       "      <td>0.846667</td>\n",
       "    </tr>\n",
       "    <tr>\n",
       "      <th>0</th>\n",
       "      <td>lots_of_zebras</td>\n",
       "      <td>mixed9</td>\n",
       "      <td>striped_sub_1</td>\n",
       "      <td>random500_6</td>\n",
       "      <td>1</td>\n",
       "      <td>0.540000</td>\n",
       "      <td>0.293333</td>\n",
       "    </tr>\n",
       "    <tr>\n",
       "      <th>0</th>\n",
       "      <td>lots_of_zebras</td>\n",
       "      <td>mixed9</td>\n",
       "      <td>striped_sub_1</td>\n",
       "      <td>random500_7</td>\n",
       "      <td>1</td>\n",
       "      <td>0.800000</td>\n",
       "      <td>0.453333</td>\n",
       "    </tr>\n",
       "    <tr>\n",
       "      <th>0</th>\n",
       "      <td>lots_of_zebras</td>\n",
       "      <td>mixed9</td>\n",
       "      <td>striped_sub_1</td>\n",
       "      <td>random500_8</td>\n",
       "      <td>1</td>\n",
       "      <td>0.460000</td>\n",
       "      <td>0.360000</td>\n",
       "    </tr>\n",
       "    <tr>\n",
       "      <th>0</th>\n",
       "      <td>lots_of_zebras</td>\n",
       "      <td>mixed9</td>\n",
       "      <td>striped_sub_1</td>\n",
       "      <td>random500_9</td>\n",
       "      <td>1</td>\n",
       "      <td>0.993333</td>\n",
       "      <td>0.513333</td>\n",
       "    </tr>\n",
       "  </tbody>\n",
       "</table>\n",
       "</div>"
      ],
      "text/plain": [
       "     target_class   layer      concept_p    concept_n split_seed  orig_score  \\\n",
       "0  lots_of_zebras  mixed9  striped_sub_1  random500_0          1    0.913333   \n",
       "0  lots_of_zebras  mixed9  striped_sub_1  random500_1          1    0.140000   \n",
       "0  lots_of_zebras  mixed9  striped_sub_1  random500_2          1    0.186667   \n",
       "0  lots_of_zebras  mixed9  striped_sub_1  random500_3          1    0.066667   \n",
       "0  lots_of_zebras  mixed9  striped_sub_1  random500_4          1    0.793333   \n",
       "0  lots_of_zebras  mixed9  striped_sub_1  random500_5          1    0.700000   \n",
       "0  lots_of_zebras  mixed9  striped_sub_1  random500_6          1    0.540000   \n",
       "0  lots_of_zebras  mixed9  striped_sub_1  random500_7          1    0.800000   \n",
       "0  lots_of_zebras  mixed9  striped_sub_1  random500_8          1    0.460000   \n",
       "0  lots_of_zebras  mixed9  striped_sub_1  random500_9          1    0.993333   \n",
       "\n",
       "   marg_score  \n",
       "0    0.766667  \n",
       "0    0.373333  \n",
       "0    0.446667  \n",
       "0    0.353333  \n",
       "0    0.620000  \n",
       "0    0.846667  \n",
       "0    0.293333  \n",
       "0    0.453333  \n",
       "0    0.360000  \n",
       "0    0.513333  "
      ]
     },
     "execution_count": 905,
     "metadata": {},
     "output_type": "execute_result"
    }
   ],
   "source": [
    "subset"
   ]
  },
  {
   "cell_type": "code",
   "execution_count": 882,
   "metadata": {},
   "outputs": [
    {
     "data": {
      "text/plain": [
       "0.8613333333333333"
      ]
     },
     "execution_count": 882,
     "metadata": {},
     "output_type": "execute_result"
    }
   ],
   "source": [
    "subset['marg_score'].mean()"
   ]
  },
  {
   "cell_type": "code",
   "execution_count": 883,
   "metadata": {},
   "outputs": [
    {
     "data": {
      "text/plain": [
       "0.012823589374447556"
      ]
     },
     "execution_count": 883,
     "metadata": {},
     "output_type": "execute_result"
    }
   ],
   "source": [
    "subset['marg_score'].std()"
   ]
  },
  {
   "cell_type": "code",
   "execution_count": null,
   "metadata": {},
   "outputs": [],
   "source": []
  },
  {
   "cell_type": "code",
   "execution_count": 884,
   "metadata": {},
   "outputs": [
    {
     "data": {
      "text/plain": [
       "['r_0', 'r_1', 'r_2', 'r_3', 'r_4', 'r_5', 'r_6', 'r_7', 'r_8', 'r_9']"
      ]
     },
     "execution_count": 884,
     "metadata": {},
     "output_type": "execute_result"
    }
   ],
   "source": [
    "list_of_random"
   ]
  },
  {
   "cell_type": "code",
   "execution_count": 885,
   "metadata": {},
   "outputs": [
    {
     "data": {
      "text/plain": [
       "(10,)"
      ]
     },
     "execution_count": 885,
     "metadata": {},
     "output_type": "execute_result"
    }
   ],
   "source": [
    "list_of_seeds.shape"
   ]
  },
  {
   "cell_type": "code",
   "execution_count": 894,
   "metadata": {},
   "outputs": [],
   "source": [
    "list_of_random = df['concept_n'].unique()\n",
    "\n",
    "\n",
    "y_orig = np.empty(list_of_random.shape)\n",
    "err_orig = np.empty(list_of_random.shape)\n",
    "y_marg = np.empty(list_of_random.shape)\n",
    "err_marg = np.empty(list_of_random.shape)\n",
    "\n",
    "\n",
    "orig_list,marg_list = [],[]\n",
    "\n",
    "for idx,concept_n in enumerate(list_of_random):\n",
    "    \n",
    "    subset = df[(df['target_class']==target_class) & \n",
    "        (df['layer']==layer) & \n",
    "        (df['concept_p']==concept_p) &\n",
    "        (df['concept_n']==concept_n)]\n",
    "    \n",
    "    y_orig[idx] = subset['orig_score'].mean()\n",
    "    err_orig[idx] = subset['orig_score'].std()\n",
    "    \n",
    "    y_marg[idx] = subset['marg_score'].mean()\n",
    "    err_marg[idx] = subset['marg_score'].std()  \n",
    "    \n",
    "    orig_list.append(list(subset['orig_score']))\n",
    "    marg_list.append(list(subset['marg_score']))\n",
    "x = list_of_random"
   ]
  },
  {
   "cell_type": "code",
   "execution_count": 895,
   "metadata": {},
   "outputs": [],
   "source": [
    "list_of_random = ['r_' + str(i) for i in range(10)]"
   ]
  },
  {
   "cell_type": "code",
   "execution_count": 896,
   "metadata": {},
   "outputs": [
    {
     "data": {
      "image/png": "[encoded data removed]",
      "text/plain": [
       "<Figure size 864x360 with 1 Axes>"
      ]
     },
     "metadata": {
      "needs_background": "light"
     },
     "output_type": "display_data"
    }
   ],
   "source": [
    "fig = plt.figure(figsize=[12,5])\n",
    "ticks = list_of_random\n",
    "\n",
    "plt.xticks(range(0, len(ticks), 1), ticks)\n",
    "plt.xlim(-.5, len(ticks)-.5)\n",
    "_ = plt.ylim(0, 1.1)\n",
    "\n",
    "for i in range(len(list_of_random)):\n",
    "    x = np.ones(len(orig_list[i]))*i - .1\n",
    "    plt.scatter(x,orig_list[i],alpha = .6,c='b')\n",
    "    x = np.ones(len(marg_list[i]))*i + .1\n",
    "    plt.scatter(x,marg_list[i],alpha = .6,c='r')"
   ]
  },
  {
   "cell_type": "code",
   "execution_count": null,
   "metadata": {},
   "outputs": [],
   "source": []
  },
  {
   "cell_type": "code",
   "execution_count": 897,
   "metadata": {},
   "outputs": [
    {
     "data": {
      "image/png": "[encoded data removed]",
      "text/plain": [
       "<Figure size 576x288 with 1 Axes>"
      ]
     },
     "metadata": {
      "needs_background": "light"
     },
     "output_type": "display_data"
    }
   ],
   "source": [
    "fig = plt.figure(figsize=[8,4])\n",
    "x = list_of_seeds\n",
    "ticks = x\n",
    "\n",
    "plt.xticks(range(1, len(ticks)+1, 1), ticks)\n",
    "plt.xlim(.5, len(ticks)+.5)\n",
    "_ = plt.ylim(0, 1)\n",
    "\n",
    "plt.errorbar(x-.1, y_orig, yerr=err_orig, fmt='o')\n",
    "\n",
    "plt.errorbar(x+.1, y_marg, yerr=err_marg, fmt='o')\n",
    "\n",
    "x = list_of_random\n",
    "ticks = x\n",
    "\n",
    "plt.xticks(range(1, len(ticks)+1, 1), ticks)\n",
    "plt.xlim(.5, len(ticks)+.5)\n",
    "_ = plt.ylim(0, 1)\n",
    "plt.savefig('new_figs/tcav_score/tmp.png',dpi=300)\n"
   ]
  },
  {
   "cell_type": "code",
   "execution_count": null,
   "metadata": {},
   "outputs": [],
   "source": []
  },
  {
   "cell_type": "code",
   "execution_count": 898,
   "metadata": {},
   "outputs": [],
   "source": [
    "list_of_seeds = df['split_seed'].unique()\n",
    "    \n",
    "y_orig = np.empty(list_of_seeds.shape)\n",
    "err_orig = np.empty(list_of_seeds.shape)\n",
    "y_marg = np.empty(list_of_seeds.shape)\n",
    "err_marg = np.empty(list_of_seeds.shape)\n",
    "\n",
    "orig_list,marg_list = [],[]\n",
    "\n",
    "\n",
    "for idx,seed in enumerate(list_of_seeds):\n",
    "    subset = df[(df['target_class']==target_class) & \n",
    "        (df['layer']==layer) & \n",
    "        (df['concept_p']==concept_p) &\n",
    "        (df['split_seed']==seed)]\n",
    "    \n",
    "    y_orig[idx] = subset['orig_score'].mean()\n",
    "    err_orig[idx] = subset['orig_score'].std()\n",
    "    \n",
    "    y_marg[idx] = subset['marg_score'].mean()\n",
    "    err_marg[idx] = subset['marg_score'].std()\n",
    "    \n",
    "    orig_list.append(list(subset['orig_score']))\n",
    "    marg_list.append(list(subset['marg_score']))\n",
    "    \n",
    "x = list_of_seeds"
   ]
  },
  {
   "cell_type": "code",
   "execution_count": 899,
   "metadata": {},
   "outputs": [
    {
     "data": {
      "text/plain": [
       "array([1, 2, 3, 4, 5, 6, 7, 8, 9, 10], dtype=object)"
      ]
     },
     "execution_count": 899,
     "metadata": {},
     "output_type": "execute_result"
    }
   ],
   "source": [
    "x"
   ]
  },
  {
   "cell_type": "code",
   "execution_count": 900,
   "metadata": {},
   "outputs": [
    {
     "data": {
      "image/png": "[encoded data removed]",
      "text/plain": [
       "<Figure size 504x360 with 1 Axes>"
      ]
     },
     "metadata": {
      "needs_background": "light"
     },
     "output_type": "display_data"
    }
   ],
   "source": [
    "fig = plt.figure(figsize=[7,5])\n",
    "ticks = list_of_seeds\n",
    "\n",
    "plt.xticks(range(0, len(ticks), 1), ticks)\n",
    "plt.xlim(-.5, len(ticks)-.5)\n",
    "_ = plt.ylim(0, 1.1)\n",
    "\n",
    "for i in range(len(list_of_seeds)):\n",
    "    x = np.ones(len(orig_list[i]))*i - .1\n",
    "    plt.scatter(x,orig_list[i],alpha = .6,c='b')\n",
    "    x = np.ones(len(marg_list[i]))*i + .1\n",
    "    plt.scatter(x,marg_list[i],alpha = .6,c='r')"
   ]
  },
  {
   "cell_type": "code",
   "execution_count": null,
   "metadata": {},
   "outputs": [],
   "source": []
  },
  {
   "cell_type": "code",
   "execution_count": null,
   "metadata": {},
   "outputs": [],
   "source": []
  },
  {
   "cell_type": "code",
   "execution_count": 901,
   "metadata": {},
   "outputs": [
    {
     "data": {
      "image/png": "[encoded data removed]",
      "text/plain": [
       "<Figure size 576x288 with 1 Axes>"
      ]
     },
     "metadata": {
      "needs_background": "light"
     },
     "output_type": "display_data"
    }
   ],
   "source": [
    "fig = plt.figure(figsize=[8,4])\n",
    "x = list_of_seeds\n",
    "ticks = x\n",
    "\n",
    "plt.xticks(range(1, len(ticks)+1, 1), ticks)\n",
    "plt.xlim(.5, len(ticks)+.5)\n",
    "_ = plt.ylim(0, 1)\n",
    "\n",
    "plt.errorbar(x-.1, y_orig, yerr=err_orig, fmt='o')\n",
    "\n",
    "plt.errorbar(x+.1, y_marg, yerr=err_marg, fmt='o')\n",
    "\n",
    "plt.savefig('new_figs/tcav_score/tmp.png',dpi=300)"
   ]
  },
  {
   "cell_type": "code",
   "execution_count": null,
   "metadata": {},
   "outputs": [],
   "source": []
  }
 ],
 "metadata": {
  "kernelspec": {
   "display_name": "Python 3",
   "language": "python",
   "name": "python3"
  },
  "language_info": {
   "codemirror_mode": {
    "name": "ipython",
    "version": 3
   },
   "file_extension": ".py",
   "mimetype": "text/x-python",
   "name": "python",
   "nbconvert_exporter": "python",
   "pygments_lexer": "ipython3",
   "version": "3.6.8"
  }
 },
 "nbformat": 4,
 "nbformat_minor": 2
}
