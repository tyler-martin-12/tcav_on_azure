{
 "cells": [
  {
   "cell_type": "code",
   "execution_count": 4,
   "metadata": {},
   "outputs": [],
   "source": [
    "import os\n",
    "os.environ['KERAS_BACKEND'] = 'tensorflow'\n",
    "import tensorflow as tf\n",
    "from tensorflow import keras\n",
    "\n",
    "from keras.applications.inception_v3 import InceptionV3\n",
    "from keras.applications.inception_v3 import decode_predictions\n",
    "from keras.models import Model, load_model\n",
    "import keras.backend as K\n",
    "\n",
    "import model as tcav_model\n",
    "import tcav as tcav\n",
    "import utils as utils\n",
    "import activation_generator as act_gen\n",
    "import tensorflow as tf\n",
    "import utils_plot as utils_plot\n",
    "\n",
    "\n",
    "from sklearn.metrics.pairwise import cosine_similarity\n",
    "from sklearn.model_selection import train_test_split\n",
    "\n",
    "import numpy as np\n",
    "from numpy.linalg import norm\n",
    "\n",
    "import pickle\n",
    "#from bunch import bunchify\n",
    "\n",
    "import cav as cav\n",
    "\n",
    "from os import listdir\n",
    "from os.path import isfile, join\n",
    "import operator\n",
    "from PIL import Image\n",
    "from keras.preprocessing import image\n",
    "\n",
    "import os\n",
    "import math\n",
    "\n",
    "import PIL.Image\n",
    "from sklearn.metrics import pairwise\n",
    "import matplotlib.pyplot as plt\n",
    "from keras.applications.inception_v3 import preprocess_input\n",
    "\n",
    "import warnings\n",
    "warnings.filterwarnings(\"ignore\", category=DeprecationWarning)\n",
    "warnings.filterwarnings(\"ignore\", category=FutureWarning)\n",
    "\n",
    "import matplotlib.pyplot as plt\n",
    "\n"
   ]
  },
  {
   "cell_type": "code",
   "execution_count": 5,
   "metadata": {},
   "outputs": [
    {
     "name": "stderr",
     "output_type": "stream",
     "text": [
      "/Users/tyler/anaconda3/lib/python3.6/site-packages/keras/engine/saving.py:292: UserWarning: No training configuration found in save file: the model was *not* compiled. Compile it manually.\n",
      "  warnings.warn('No training configuration found in save file: '\n"
     ]
    }
   ],
   "source": [
    "from functions import *"
   ]
  },
  {
   "cell_type": "code",
   "execution_count": 6,
   "metadata": {},
   "outputs": [],
   "source": [
    "bn_names = ['mixed0','mixed1','mixed2','mixed3','mixed4','mixed5','mixed6','mixed7','mixed8','mixed9','mixed10']\n",
    "\n",
    "size_dict = {}\n",
    "for bn in bn_names:\n",
    "    acts_orig = get_acts_for_layer_new(bn,this_img)\n",
    "    size_dict[bn] = acts_orig.reshape(-1).shape[0]\n",
    "    \n",
    "size_dict_orig = {}\n",
    "for bn in bn_names:\n",
    "    acts_orig = get_acts_for_layer_new(bn,this_img)\n",
    "    size_dict_orig[bn] = acts_orig.shape"
   ]
  },
  {
   "cell_type": "code",
   "execution_count": 7,
   "metadata": {
    "scrolled": true
   },
   "outputs": [],
   "source": [
    "model = load_model('v3_model.h5')"
   ]
  },
  {
   "cell_type": "code",
   "execution_count": 8,
   "metadata": {},
   "outputs": [],
   "source": [
    "sess = K.get_session()\n",
    "\n",
    "endpoints_v3 = dict(\n",
    "    input=model.inputs[0].name,\n",
    "    input_tensor=model.inputs[0],\n",
    "    logit=model.outputs[0].name,\n",
    "    prediction=model.outputs[0].name,\n",
    "    prediction_tensor=model.outputs[0],\n",
    ")\n",
    "\n",
    "tf.logging.set_verbosity(0)\n",
    "\n",
    "working_dir = '/home/tyler/Desktop/tcav_on_azure'\n",
    "working_dir = '/Users/tyler/Desktop/dissertation/programming/tcav_on_azure'\n",
    "\n",
    "\n",
    "label_path = os.path.join(working_dir,'labels.txt')\n",
    "\n",
    "mymodel = tcav_model.KerasModelWrapper(sess, \n",
    "        label_path, [299, 299, 3], endpoints_v3, \n",
    "        'InceptionV3_public', (-1, 1))"
   ]
  },
  {
   "cell_type": "markdown",
   "metadata": {},
   "source": [
    "## Load/Generate CAV"
   ]
  },
  {
   "cell_type": "code",
   "execution_count": 18,
   "metadata": {},
   "outputs": [
    {
     "name": "stdout",
     "output_type": "stream",
     "text": [
      "0.5933333333333334\n"
     ]
    }
   ],
   "source": [
    "target_class_name = 'zebra'\n",
    "target_class = 'lots_of_zebras'\n",
    "\n",
    "target_class_name = 'zebra'\n",
    "concept_p = 'striped_sub_1'\n",
    "concept_n = 'random500_0'\n",
    "\n",
    "bn_names = ['mixed9']\n",
    "layer = bn_names[0]\n",
    "\n",
    "num_random = 1\n",
    "split_seed_list = [1]\n",
    "split_seed = split_seed_list[0]\n",
    "\n",
    "acts_p,_ = get_acts_for_concept(concept_p,layer)\n",
    "acts_n,_ = get_acts_for_concept(concept_n,layer)\n",
    "_,acts_class = get_acts_for_concept(target_class,layer)\n",
    "\n",
    "x = np.concatenate((acts_p,acts_n))\n",
    "y = np.concatenate((np.zeros(50),np.ones(50)))\n",
    "\n",
    "x_train, x_test, y_train, y_test = train_test_split(x, y, test_size=0.33, stratify=y,random_state=split_seed)\n",
    "\n",
    "'''\n",
    "orig_cav = make_orig_cav(x_train,y_train)\n",
    "orig_score = comp_tcav(target_class_name,orig_cav,acts_class,layer)\n",
    "\n",
    "marg_seeds = np.empty((100,orig_cav.shape[0]))\n",
    "for seed in range(100):\n",
    "    marg_seeds[seed] = make_orig_cav_seed(x_train,y_train,seed)\n",
    "marg_cav = marg_seeds.mean(axis=0)\n",
    "marg_score = comp_tcav(target_class_name,marg_cav,acts_class,layer)\n",
    "'''\n",
    "x_train_p_list,x_train_n_list =[],[]\n",
    "for idx,a in enumerate(x_train):\n",
    "    if y_train[idx] == 1:\n",
    "        x_train_n_list.append(a)\n",
    "    else:\n",
    "        x_train_p_list.append(a)\n",
    "\n",
    "x_train_p, x_train_n = np.array(x_train_p_list),np.array(x_train_n_list)\n",
    "\n",
    "mu_p = (x_train_p).mean(axis=0)\n",
    "mu_n = (x_train_n).mean(axis=0)\n",
    "cav_params = mu_p - mu_n\n",
    "mean_score = comp_tcav(target_class_name,cav_params,acts_class,layer)\n",
    "print(mean_score)\n",
    "#cav_params = make_log_cav(x_train,y_train)\n",
    "#log_score = comp_tcav(target_class_name,cav_params,acts_class,layer)\n",
    "#print(log_score)"
   ]
  },
  {
   "cell_type": "code",
   "execution_count": 19,
   "metadata": {},
   "outputs": [],
   "source": [
    "#acts_class.shape"
   ]
  },
  {
   "cell_type": "code",
   "execution_count": 20,
   "metadata": {},
   "outputs": [],
   "source": [
    "from sklearn.decomposition import PCA\n",
    "pca = PCA(n_components=2)\n",
    "pca.fit(x_train)\n",
    "pca_c = pca.components_"
   ]
  },
  {
   "cell_type": "code",
   "execution_count": 21,
   "metadata": {},
   "outputs": [],
   "source": [
    "from sklearn.decomposition import SparsePCA\n",
    "sPCA = SparsePCA(n_components=2,normalize_components=False,random_state=1)\n",
    "sPCA.fit(x_train)\n",
    "pca_c = sPCA.components_"
   ]
  },
  {
   "cell_type": "code",
   "execution_count": 28,
   "metadata": {},
   "outputs": [],
   "source": []
  },
  {
   "cell_type": "code",
   "execution_count": 37,
   "metadata": {},
   "outputs": [
    {
     "data": {
      "image/png": "[encoded data removed]",
      "text/plain": [
       "<Figure size 360x360 with 1 Axes>"
      ]
     },
     "metadata": {
      "needs_background": "light"
     },
     "output_type": "display_data"
    }
   ],
   "source": [
    "light_blue, light_red = '#b3b8fb', '#f6889f'\n",
    "fig = plt.figure(figsize=[5,5])\n",
    "\n",
    "color_train = ['red' if y == 0 else 'blue' for y in y_train]\n",
    "train_embed = np.dot(x_train,pca_c.T)\n",
    "plt.scatter(train_embed[:,0], train_embed[:,1], color = color_train, alpha = .7,linewidths=0,s=50)\n",
    "\n",
    "color_test = ['red' if y == 0 else 'blue' for y in y_test]\n",
    "test_embed = np.dot(x_test,pca_c.T)\n",
    "plt.scatter(test_embed[:,0], test_embed[:,1], color = color_test, alpha = .3,linewidths=0,s=50)\n",
    "\n",
    "plt.xlim([-8000,-1000])\n",
    "plt.ylim([1250,8250])\n",
    "\n",
    "x1,x2 = -7000,7250\n",
    "ax = plt.gca()\n",
    "radius = 750\n",
    "circ = plt.Circle((x1,x2), radius=radius, edgecolor='black', facecolor='white',zorder=4,alpha=.8)\n",
    "ax.add_patch(circ)\n",
    "\n",
    "c0,c1 =  np.dot(pca_c,cav_params)\n",
    "arrow_start = [x1,x2]\n",
    "cav_norm = vec_norm(np.array([c0,c1])) * radius\n",
    "my_arrow = plt.arrow(arrow_start[0], arrow_start[1], cav_norm[0], cav_norm[1],width=40,length_includes_head=True,head_width=200,fc='k', ec=None, alpha = 1,zorder=5)\n",
    "a0 = ax.add_patch(my_arrow)\n",
    "\n",
    "\n",
    "_,_ = plt.xlabel('component 1'),plt.ylabel('component 2')\n",
    "\n",
    "#_,_ = plt.xticks([], []),plt.yticks([], [])\n",
    "#plt.savefig('new_figs/tmp.png',dpi=200,bbox_inches='tight')"
   ]
  },
  {
   "cell_type": "code",
   "execution_count": null,
   "metadata": {},
   "outputs": [],
   "source": []
  }
 ],
 "metadata": {
  "kernelspec": {
   "display_name": "Python 3",
   "language": "python",
   "name": "python3"
  },
  "language_info": {
   "codemirror_mode": {
    "name": "ipython",
    "version": 3
   },
   "file_extension": ".py",
   "mimetype": "text/x-python",
   "name": "python",
   "nbconvert_exporter": "python",
   "pygments_lexer": "ipython3",
   "version": "3.6.8"
  }
 },
 "nbformat": 4,
 "nbformat_minor": 2
}
