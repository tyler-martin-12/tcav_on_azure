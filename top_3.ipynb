{
 "cells": [
  {
   "cell_type": "code",
   "execution_count": 1,
   "metadata": {},
   "outputs": [
    {
     "name": "stderr",
     "output_type": "stream",
     "text": [
      "Using TensorFlow backend.\n"
     ]
    }
   ],
   "source": [
    "from keras.applications.inception_v3 import InceptionV3\n",
    "from keras.applications.inception_v3 import decode_predictions\n",
    "from keras.models import Model, load_model\n",
    "import keras.backend as K\n",
    "\n",
    "import model as tcav_model\n",
    "import tcav as tcav\n",
    "import utils as utils\n",
    "import activation_generator as act_gen\n",
    "import tensorflow as tf\n",
    "import utils_plot as utils_plot\n",
    "\n",
    "\n",
    "from sklearn.metrics.pairwise import cosine_similarity\n",
    "import numpy as np\n",
    "from numpy.linalg import norm\n",
    "\n",
    "import pickle\n",
    "from bunch import bunchify\n",
    "\n",
    "import cav as cav\n",
    "\n",
    "from os import listdir\n",
    "from os.path import isfile, join\n",
    "import operator\n",
    "from PIL import Image\n",
    "from keras.preprocessing import image\n",
    "\n"
   ]
  },
  {
   "cell_type": "code",
   "execution_count": 2,
   "metadata": {
    "scrolled": true
   },
   "outputs": [
    {
     "name": "stderr",
     "output_type": "stream",
     "text": [
      "/Users/tyler/anaconda3/lib/python3.6/site-packages/keras/engine/saving.py:292: UserWarning: No training configuration found in save file: the model was *not* compiled. Compile it manually.\n",
      "  warnings.warn('No training configuration found in save file: '\n"
     ]
    }
   ],
   "source": [
    "model = None\n",
    "model = load_model('v3_model.h5')"
   ]
  },
  {
   "cell_type": "code",
   "execution_count": 3,
   "metadata": {},
   "outputs": [],
   "source": [
    "sess = K.get_session()\n",
    "\n",
    "endpoints_v3 = dict(\n",
    "    input=model.inputs[0].name,\n",
    "    input_tensor=model.inputs[0],\n",
    "    logit=model.outputs[0].name,\n",
    "    prediction=model.outputs[0].name,\n",
    "    prediction_tensor=model.outputs[0],\n",
    ")\n",
    "\n",
    "tf.logging.set_verbosity(0)\n",
    "\n",
    "label_path = '/Users/tyler/Desktop/dissertation/programming/tcav/labels/labels.txt'\n",
    "\n",
    "mymodel = tcav_model.KerasModelWrapper(sess, \n",
    "        label_path, [299, 299, 3], endpoints_v3, \n",
    "        'InceptionV3_public', (-1, 1))"
   ]
  },
  {
   "cell_type": "markdown",
   "metadata": {},
   "source": [
    "## Generate CAV"
   ]
  },
  {
   "cell_type": "code",
   "execution_count": 10,
   "metadata": {},
   "outputs": [
    {
     "name": "stdout",
     "output_type": "stream",
     "text": [
      "INFO:tensorflow:mixed5 ['striped_texture', 'random500_0'] zebra 0.1\n",
      "INFO:tensorflow:TCAV will 1 params\n"
     ]
    }
   ],
   "source": [
    "#act_generator = None\n",
    "\n",
    "working_dir = '/Users/tyler/Desktop/dissertation/programming/tcav_on_azure'\n",
    "activation_dir =  working_dir + '/activations/'\n",
    "cav_dir = working_dir + '/cavs/'\n",
    "source_dir = working_dir + '/concepts'\n",
    "\n",
    "target = 'zebra'\n",
    "concepts = ['striped_texture'] \n",
    "#concepts = ['dotted']   \n",
    "\n",
    "bottlenecks = ['mixed5']\n",
    "\n",
    "alphas = [0.1]\n",
    "\n",
    "act_generator = act_gen.ImageActivationGenerator(mymodel, source_dir, activation_dir, max_examples=200)\n",
    "\n",
    "\n",
    "mytcav = tcav.TCAV(sess,\n",
    "        target, concepts, bottlenecks,\n",
    "        act_generator, alphas,\n",
    "        cav_dir = cav_dir,\n",
    "        num_random_exp=1)"
   ]
  },
  {
   "cell_type": "code",
   "execution_count": 11,
   "metadata": {},
   "outputs": [
    {
     "name": "stdout",
     "output_type": "stream",
     "text": [
      "INFO:tensorflow:running 1 params\n",
      "INFO:tensorflow:Running param 0 of 1\n",
      "INFO:tensorflow:running zebra ['striped_texture', 'random500_0']\n",
      "['striped_texture', 'random500_0', 'zebra']\n",
      "INFO:tensorflow:/Users/tyler/Desktop/dissertation/programming/tcav_on_azure/activations/acts_striped_texture_mixed5 does not exist, Making one...\n",
      "INFO:tensorflow:/Users/tyler/Desktop/dissertation/programming/tcav_on_azure/activations/acts_random500_0_mixed5 does not exist, Making one...\n",
      "INFO:tensorflow:/Users/tyler/Desktop/dissertation/programming/tcav_on_azure/activations/acts_zebra_mixed5 does not exist, Making one...\n",
      "INFO:tensorflow:Training CAV ['striped_texture', 'random500_0'] - mixed5 alpha 0.1\n",
      "INFO:tensorflow:training with alpha=0.1\n",
      "INFO:tensorflow:using new version\n"
     ]
    },
    {
     "name": "stderr",
     "output_type": "stream",
     "text": [
      "/Users/tyler/anaconda3/lib/python3.6/site-packages/sklearn/linear_model/stochastic_gradient.py:166: FutureWarning: max_iter and tol parameters have been added in SGDClassifier in 0.19. If both are left unset, they default to max_iter=5 and tol=None. If tol is not None, max_iter defaults to max_iter=1000. From 0.21, default max_iter will be 1000, and default tol will be 1e-3.\n",
      "  FutureWarning)\n"
     ]
    },
    {
     "name": "stdout",
     "output_type": "stream",
     "text": [
      "INFO:tensorflow:acc per class {'striped_texture': 0.8235294117647058, 'random500_0': 1.0, 'overall': 0.9090909090909091}\n",
      "INFO:tensorflow:/Users/tyler/Desktop/dissertation/programming/tcav_on_azure/cavs/striped_texture-random500_0-mixed5-linear-0.1_test.pkl\n",
      "INFO:tensorflow:did save save_path_lin_sep\n",
      "INFO:tensorflow:Done running 1 params. Took 153.66841387748718 seconds...\n"
     ]
    }
   ],
   "source": [
    "tf.logging.set_verbosity(1)\n",
    "results = mytcav.run(run_parallel=False)"
   ]
  },
  {
   "cell_type": "code",
   "execution_count": 12,
   "metadata": {},
   "outputs": [
    {
     "data": {
      "text/plain": [
       "'/Users/tyler/Desktop/dissertation/programming/tcav_on_azure'"
      ]
     },
     "execution_count": 12,
     "metadata": {},
     "output_type": "execute_result"
    }
   ],
   "source": [
    "pwd"
   ]
  },
  {
   "cell_type": "code",
   "execution_count": 13,
   "metadata": {},
   "outputs": [
    {
     "data": {
      "text/plain": [
       "[{'cav_key': 'striped_texture-random500_0-mixed5-linear-0.1',\n",
       "  'cav_concept': 'striped_texture',\n",
       "  'target_class': 'zebra',\n",
       "  'i_up': 0.59,\n",
       "  'val_directional_dirs_abs_mean': 0.012039715471921775,\n",
       "  'val_directional_dirs_mean': -0.0029314586721564295,\n",
       "  'val_directional_dirs_std': 0.026342787611832834,\n",
       "  'note': 'alpha_0.1 ',\n",
       "  'alpha': 0.1,\n",
       "  'bottleneck': 'mixed5'}]"
      ]
     },
     "execution_count": 13,
     "metadata": {},
     "output_type": "execute_result"
    }
   ],
   "source": [
    "results"
   ]
  },
  {
   "cell_type": "markdown",
   "metadata": {},
   "source": [
    "## Load CAV"
   ]
  },
  {
   "cell_type": "code",
   "execution_count": 14,
   "metadata": {},
   "outputs": [],
   "source": [
    "source_dir = '/Users/tyler/Desktop/dissertation/programming/tcav/cavs/'\n",
    "\n",
    "cav_path = source_dir + 'striped_texture-random500_0-mixed5-linear-0.1.pkl'\n",
    "#cav_path = source_dir + 'striped-random500_0-mixed8-linear-0.1.pkl'\n",
    "\n",
    "this_cav = cav.CAV.load_cav(cav_path)"
   ]
  },
  {
   "cell_type": "code",
   "execution_count": 16,
   "metadata": {},
   "outputs": [],
   "source": [
    "#this_cav.cavs[0]"
   ]
  },
  {
   "cell_type": "markdown",
   "metadata": {},
   "source": [
    "## Generate Activations"
   ]
  },
  {
   "cell_type": "code",
   "execution_count": 18,
   "metadata": {},
   "outputs": [
    {
     "name": "stdout",
     "output_type": "stream",
     "text": [
      "['striped_texture', 'zebra']\n",
      "INFO:tensorflow:Loaded /Users/tyler/Desktop/dissertation/programming/tcav_on_azure/activations/acts_striped_texture_mixed5 shape (120, 17, 17, 768)\n",
      "INFO:tensorflow:Loaded /Users/tyler/Desktop/dissertation/programming/tcav_on_azure/activations/acts_zebra_mixed5 shape (200, 17, 17, 768)\n"
     ]
    }
   ],
   "source": [
    "bottleneck = bottlenecks[0]\n",
    "target_class = target\n",
    "\n",
    "\n",
    "acts = act_generator.process_and_load_activations([bottleneck], concepts + [target_class])\n",
    "\n",
    "act_striped = acts['striped_texture'][bottleneck]\n",
    "act_zebra = acts['zebra'][bottleneck]"
   ]
  },
  {
   "cell_type": "code",
   "execution_count": 20,
   "metadata": {},
   "outputs": [
    {
     "data": {
      "text/plain": [
       "(120, 17, 17, 768)"
      ]
     },
     "execution_count": 20,
     "metadata": {},
     "output_type": "execute_result"
    }
   ],
   "source": [
    "act_striped.shape"
   ]
  },
  {
   "cell_type": "code",
   "execution_count": 21,
   "metadata": {},
   "outputs": [],
   "source": [
    "import math\n",
    "def cosine_similarity(v1,v2):\n",
    "    \"compute cosine similarity of v1 to v2: (v1 dot v2)/{||v1||*||v2||)\"\n",
    "    sumxx, sumxy, sumyy = 0, 0, 0\n",
    "    for i in range(len(v1)):\n",
    "        x = v1[i]; y = v2[i]\n",
    "        sumxx += x*x\n",
    "        sumyy += y*y\n",
    "        sumxy += x*y\n",
    "    return sumxy/math.sqrt(sumxx*sumyy)"
   ]
  },
  {
   "cell_type": "code",
   "execution_count": 40,
   "metadata": {},
   "outputs": [],
   "source": [
    "#source_dir = '/Users/tyler/Desktop/dissertation/programming/tcav/cavs/'\n",
    "path = 'activations/images_used_zebra.pkl'\n",
    "with open(path, 'rb') as f:\n",
    "    data = pickle.load(f)\n",
    "image_list = data\n",
    "\n",
    "## make dict\n",
    "ranked = {}\n",
    "\n",
    "# define cavs\n",
    "striped_cav = this_cav.cavs[0]\n",
    "striped_cav_2d = striped_cav.reshape(-1,1)\n",
    "\n",
    "#image_list\n",
    "for count, each in enumerate(image_list):\n",
    "    \n",
    "    demo_1 = acts['zebra']['mixed5'][count]\n",
    "    demo_2d = demo_1.reshape(-1,1)\n",
    "    \n",
    "    cos = cosine_similarity(striped_cav_2d,demo_2d)\n",
    "    \n",
    "    ranked[each] = cos"
   ]
  },
  {
   "cell_type": "code",
   "execution_count": 41,
   "metadata": {},
   "outputs": [],
   "source": [
    "## sort\n",
    "sorted_rank = sorted(ranked.items(), key=operator.itemgetter(1),reverse=True)"
   ]
  },
  {
   "cell_type": "code",
   "execution_count": 93,
   "metadata": {},
   "outputs": [
    {
     "data": {
      "image/png": "[encoded data removed]",
      "text/plain": [
       "<PIL.Image.Image image mode=RGB size=299x299 at 0x1A448FC5C0>"
      ]
     },
     "execution_count": 93,
     "metadata": {},
     "output_type": "execute_result"
    }
   ],
   "source": [
    "## show image\n",
    "rank = 2\n",
    "\n",
    "img_path, cos = sorted_rank[rank]\n",
    "img = image.load_img(img_path, target_size=(299, 299))\n",
    "img"
   ]
  },
  {
   "cell_type": "code",
   "execution_count": 39,
   "metadata": {},
   "outputs": [
    {
     "data": {
      "text/plain": [
       "['/Users/tyler/Desktop/dissertation/programming/tcav_on_azure/concepts/striped_texture/striped_0002.jpg',\n",
       " '/Users/tyler/Desktop/dissertation/programming/tcav_on_azure/concepts/striped_texture/striped_0029.jpg',\n",
       " '/Users/tyler/Desktop/dissertation/programming/tcav_on_azure/concepts/striped_texture/striped_0074.jpg',\n",
       " '/Users/tyler/Desktop/dissertation/programming/tcav_on_azure/concepts/striped_texture/striped_0109.jpg',\n",
       " '/Users/tyler/Desktop/dissertation/programming/tcav_on_azure/concepts/striped_texture/striped_0024.jpg',\n",
       " '/Users/tyler/Desktop/dissertation/programming/tcav_on_azure/concepts/striped_texture/striped_0025.jpg',\n",
       " '/Users/tyler/Desktop/dissertation/programming/tcav_on_azure/concepts/striped_texture/striped_0123.jpg',\n",
       " '/Users/tyler/Desktop/dissertation/programming/tcav_on_azure/concepts/striped_texture/striped_0094.jpg',\n",
       " '/Users/tyler/Desktop/dissertation/programming/tcav_on_azure/concepts/striped_texture/striped_0120.jpg',\n",
       " '/Users/tyler/Desktop/dissertation/programming/tcav_on_azure/concepts/striped_texture/striped_0121.jpg',\n",
       " '/Users/tyler/Desktop/dissertation/programming/tcav_on_azure/concepts/striped_texture/striped_0016.jpg',\n",
       " '/Users/tyler/Desktop/dissertation/programming/tcav_on_azure/concepts/striped_texture/striped_0090.jpg',\n",
       " '/Users/tyler/Desktop/dissertation/programming/tcav_on_azure/concepts/striped_texture/striped_0049.jpg',\n",
       " '/Users/tyler/Desktop/dissertation/programming/tcav_on_azure/concepts/striped_texture/striped_0111.jpg',\n",
       " '/Users/tyler/Desktop/dissertation/programming/tcav_on_azure/concepts/striped_texture/striped_0036.jpg',\n",
       " '/Users/tyler/Desktop/dissertation/programming/tcav_on_azure/concepts/striped_texture/striped_0044.jpg',\n",
       " '/Users/tyler/Desktop/dissertation/programming/tcav_on_azure/concepts/striped_texture/striped_0015.jpg',\n",
       " '/Users/tyler/Desktop/dissertation/programming/tcav_on_azure/concepts/striped_texture/striped_0047.jpg',\n",
       " '/Users/tyler/Desktop/dissertation/programming/tcav_on_azure/concepts/striped_texture/striped_0020.jpg',\n",
       " '/Users/tyler/Desktop/dissertation/programming/tcav_on_azure/concepts/striped_texture/striped_0056.jpg',\n",
       " '/Users/tyler/Desktop/dissertation/programming/tcav_on_azure/concepts/striped_texture/striped_0087.jpg',\n",
       " '/Users/tyler/Desktop/dissertation/programming/tcav_on_azure/concepts/striped_texture/striped_0071.jpg',\n",
       " '/Users/tyler/Desktop/dissertation/programming/tcav_on_azure/concepts/striped_texture/striped_0053.jpg',\n",
       " '/Users/tyler/Desktop/dissertation/programming/tcav_on_azure/concepts/striped_texture/striped_0117.jpg',\n",
       " '/Users/tyler/Desktop/dissertation/programming/tcav_on_azure/concepts/striped_texture/striped_0113.jpg',\n",
       " '/Users/tyler/Desktop/dissertation/programming/tcav_on_azure/concepts/striped_texture/striped_0115.jpg',\n",
       " '/Users/tyler/Desktop/dissertation/programming/tcav_on_azure/concepts/striped_texture/striped_0124.jpg',\n",
       " '/Users/tyler/Desktop/dissertation/programming/tcav_on_azure/concepts/striped_texture/striped_0013.jpg',\n",
       " '/Users/tyler/Desktop/dissertation/programming/tcav_on_azure/concepts/striped_texture/striped_0108.jpg',\n",
       " '/Users/tyler/Desktop/dissertation/programming/tcav_on_azure/concepts/striped_texture/striped_0125.jpg',\n",
       " '/Users/tyler/Desktop/dissertation/programming/tcav_on_azure/concepts/striped_texture/striped_0038.jpg',\n",
       " '/Users/tyler/Desktop/dissertation/programming/tcav_on_azure/concepts/striped_texture/striped_0104.jpg',\n",
       " '/Users/tyler/Desktop/dissertation/programming/tcav_on_azure/concepts/striped_texture/striped_0062.jpg',\n",
       " '/Users/tyler/Desktop/dissertation/programming/tcav_on_azure/concepts/striped_texture/striped_0017.jpg',\n",
       " '/Users/tyler/Desktop/dissertation/programming/tcav_on_azure/concepts/striped_texture/striped_0097.jpg',\n",
       " '/Users/tyler/Desktop/dissertation/programming/tcav_on_azure/concepts/striped_texture/striped_0005.jpg',\n",
       " '/Users/tyler/Desktop/dissertation/programming/tcav_on_azure/concepts/striped_texture/striped_0073.jpg',\n",
       " '/Users/tyler/Desktop/dissertation/programming/tcav_on_azure/concepts/striped_texture/striped_0075.jpg',\n",
       " '/Users/tyler/Desktop/dissertation/programming/tcav_on_azure/concepts/striped_texture/striped_0051.jpg',\n",
       " '/Users/tyler/Desktop/dissertation/programming/tcav_on_azure/concepts/striped_texture/striped_0070.jpg',\n",
       " '/Users/tyler/Desktop/dissertation/programming/tcav_on_azure/concepts/striped_texture/striped_0100.jpg',\n",
       " '/Users/tyler/Desktop/dissertation/programming/tcav_on_azure/concepts/striped_texture/striped_0086.jpg',\n",
       " '/Users/tyler/Desktop/dissertation/programming/tcav_on_azure/concepts/striped_texture/striped_0076.jpg',\n",
       " '/Users/tyler/Desktop/dissertation/programming/tcav_on_azure/concepts/striped_texture/striped_0119.jpg',\n",
       " '/Users/tyler/Desktop/dissertation/programming/tcav_on_azure/concepts/striped_texture/striped_0023.jpg',\n",
       " '/Users/tyler/Desktop/dissertation/programming/tcav_on_azure/concepts/striped_texture/striped_0037.jpg',\n",
       " '/Users/tyler/Desktop/dissertation/programming/tcav_on_azure/concepts/striped_texture/striped_0096.jpg',\n",
       " '/Users/tyler/Desktop/dissertation/programming/tcav_on_azure/concepts/striped_texture/striped_0040.jpg',\n",
       " '/Users/tyler/Desktop/dissertation/programming/tcav_on_azure/concepts/striped_texture/striped_0084.jpg',\n",
       " '/Users/tyler/Desktop/dissertation/programming/tcav_on_azure/concepts/striped_texture/striped_0028.jpg',\n",
       " '/Users/tyler/Desktop/dissertation/programming/tcav_on_azure/concepts/striped_texture/striped_0011.jpg',\n",
       " '/Users/tyler/Desktop/dissertation/programming/tcav_on_azure/concepts/striped_texture/striped_0116.jpg',\n",
       " '/Users/tyler/Desktop/dissertation/programming/tcav_on_azure/concepts/striped_texture/striped_0069.jpg',\n",
       " '/Users/tyler/Desktop/dissertation/programming/tcav_on_azure/concepts/striped_texture/striped_0030.jpg',\n",
       " '/Users/tyler/Desktop/dissertation/programming/tcav_on_azure/concepts/striped_texture/striped_0043.jpg',\n",
       " '/Users/tyler/Desktop/dissertation/programming/tcav_on_azure/concepts/striped_texture/striped_0010.jpg',\n",
       " '/Users/tyler/Desktop/dissertation/programming/tcav_on_azure/concepts/striped_texture/striped_0045.jpg',\n",
       " '/Users/tyler/Desktop/dissertation/programming/tcav_on_azure/concepts/striped_texture/striped_0079.jpg',\n",
       " '/Users/tyler/Desktop/dissertation/programming/tcav_on_azure/concepts/striped_texture/striped_0122.jpg',\n",
       " '/Users/tyler/Desktop/dissertation/programming/tcav_on_azure/concepts/striped_texture/striped_0054.jpg',\n",
       " '/Users/tyler/Desktop/dissertation/programming/tcav_on_azure/concepts/striped_texture/striped_0078.jpg',\n",
       " '/Users/tyler/Desktop/dissertation/programming/tcav_on_azure/concepts/striped_texture/striped_0083.jpg',\n",
       " '/Users/tyler/Desktop/dissertation/programming/tcav_on_azure/concepts/striped_texture/striped_0027.jpg',\n",
       " '/Users/tyler/Desktop/dissertation/programming/tcav_on_azure/concepts/striped_texture/striped_0035.jpg',\n",
       " '/Users/tyler/Desktop/dissertation/programming/tcav_on_azure/concepts/striped_texture/striped_0105.jpg',\n",
       " '/Users/tyler/Desktop/dissertation/programming/tcav_on_azure/concepts/striped_texture/striped_0095.jpg',\n",
       " '/Users/tyler/Desktop/dissertation/programming/tcav_on_azure/concepts/striped_texture/striped_0107.jpg',\n",
       " '/Users/tyler/Desktop/dissertation/programming/tcav_on_azure/concepts/striped_texture/striped_0072.jpg',\n",
       " '/Users/tyler/Desktop/dissertation/programming/tcav_on_azure/concepts/striped_texture/striped_0077.jpg',\n",
       " '/Users/tyler/Desktop/dissertation/programming/tcav_on_azure/concepts/striped_texture/striped_0055.jpg',\n",
       " '/Users/tyler/Desktop/dissertation/programming/tcav_on_azure/concepts/striped_texture/striped_0089.jpg',\n",
       " '/Users/tyler/Desktop/dissertation/programming/tcav_on_azure/concepts/striped_texture/striped_0061.jpg',\n",
       " '/Users/tyler/Desktop/dissertation/programming/tcav_on_azure/concepts/striped_texture/striped_0064.jpg',\n",
       " '/Users/tyler/Desktop/dissertation/programming/tcav_on_azure/concepts/striped_texture/striped_0006.jpg',\n",
       " '/Users/tyler/Desktop/dissertation/programming/tcav_on_azure/concepts/striped_texture/striped_0031.jpg',\n",
       " '/Users/tyler/Desktop/dissertation/programming/tcav_on_azure/concepts/striped_texture/striped_0021.jpg',\n",
       " '/Users/tyler/Desktop/dissertation/programming/tcav_on_azure/concepts/striped_texture/striped_0114.jpg',\n",
       " '/Users/tyler/Desktop/dissertation/programming/tcav_on_azure/concepts/striped_texture/striped_0106.jpg',\n",
       " '/Users/tyler/Desktop/dissertation/programming/tcav_on_azure/concepts/striped_texture/striped_0082.jpg',\n",
       " '/Users/tyler/Desktop/dissertation/programming/tcav_on_azure/concepts/striped_texture/striped_0042.jpg',\n",
       " '/Users/tyler/Desktop/dissertation/programming/tcav_on_azure/concepts/striped_texture/striped_0080.jpg',\n",
       " '/Users/tyler/Desktop/dissertation/programming/tcav_on_azure/concepts/striped_texture/striped_0032.jpg',\n",
       " '/Users/tyler/Desktop/dissertation/programming/tcav_on_azure/concepts/striped_texture/striped_0099.jpg',\n",
       " '/Users/tyler/Desktop/dissertation/programming/tcav_on_azure/concepts/striped_texture/striped_0068.jpg',\n",
       " '/Users/tyler/Desktop/dissertation/programming/tcav_on_azure/concepts/striped_texture/striped_0093.jpg',\n",
       " '/Users/tyler/Desktop/dissertation/programming/tcav_on_azure/concepts/striped_texture/striped_0057.jpg',\n",
       " '/Users/tyler/Desktop/dissertation/programming/tcav_on_azure/concepts/striped_texture/striped_0004.jpg',\n",
       " '/Users/tyler/Desktop/dissertation/programming/tcav_on_azure/concepts/striped_texture/striped_0103.jpg',\n",
       " '/Users/tyler/Desktop/dissertation/programming/tcav_on_azure/concepts/striped_texture/striped_0092.jpg',\n",
       " '/Users/tyler/Desktop/dissertation/programming/tcav_on_azure/concepts/striped_texture/striped_0067.jpg',\n",
       " '/Users/tyler/Desktop/dissertation/programming/tcav_on_azure/concepts/striped_texture/striped_0041.jpg',\n",
       " '/Users/tyler/Desktop/dissertation/programming/tcav_on_azure/concepts/striped_texture/striped_0065.jpg',\n",
       " '/Users/tyler/Desktop/dissertation/programming/tcav_on_azure/concepts/striped_texture/striped_0008.jpg',\n",
       " '/Users/tyler/Desktop/dissertation/programming/tcav_on_azure/concepts/striped_texture/striped_0026.jpg',\n",
       " '/Users/tyler/Desktop/dissertation/programming/tcav_on_azure/concepts/striped_texture/striped_0110.jpg',\n",
       " '/Users/tyler/Desktop/dissertation/programming/tcav_on_azure/concepts/striped_texture/striped_0081.jpg',\n",
       " '/Users/tyler/Desktop/dissertation/programming/tcav_on_azure/concepts/striped_texture/striped_0022.jpg',\n",
       " '/Users/tyler/Desktop/dissertation/programming/tcav_on_azure/concepts/striped_texture/striped_0102.jpg',\n",
       " '/Users/tyler/Desktop/dissertation/programming/tcav_on_azure/concepts/striped_texture/striped_0050.jpg',\n",
       " '/Users/tyler/Desktop/dissertation/programming/tcav_on_azure/concepts/striped_texture/striped_0063.jpg',\n",
       " '/Users/tyler/Desktop/dissertation/programming/tcav_on_azure/concepts/striped_texture/striped_0039.jpg',\n",
       " '/Users/tyler/Desktop/dissertation/programming/tcav_on_azure/concepts/striped_texture/striped_0058.jpg',\n",
       " '/Users/tyler/Desktop/dissertation/programming/tcav_on_azure/concepts/striped_texture/striped_0019.jpg',\n",
       " '/Users/tyler/Desktop/dissertation/programming/tcav_on_azure/concepts/striped_texture/striped_0112.jpg',\n",
       " '/Users/tyler/Desktop/dissertation/programming/tcav_on_azure/concepts/striped_texture/striped_0085.jpg',\n",
       " '/Users/tyler/Desktop/dissertation/programming/tcav_on_azure/concepts/striped_texture/striped_0098.jpg',\n",
       " '/Users/tyler/Desktop/dissertation/programming/tcav_on_azure/concepts/striped_texture/striped_0034.jpg',\n",
       " '/Users/tyler/Desktop/dissertation/programming/tcav_on_azure/concepts/striped_texture/striped_0052.jpg',\n",
       " '/Users/tyler/Desktop/dissertation/programming/tcav_on_azure/concepts/striped_texture/striped_0003.jpg',\n",
       " '/Users/tyler/Desktop/dissertation/programming/tcav_on_azure/concepts/striped_texture/striped_0012.jpg',\n",
       " '/Users/tyler/Desktop/dissertation/programming/tcav_on_azure/concepts/striped_texture/striped_0014.jpg',\n",
       " '/Users/tyler/Desktop/dissertation/programming/tcav_on_azure/concepts/striped_texture/striped_0060.jpg',\n",
       " '/Users/tyler/Desktop/dissertation/programming/tcav_on_azure/concepts/striped_texture/striped_0118.jpg',\n",
       " '/Users/tyler/Desktop/dissertation/programming/tcav_on_azure/concepts/striped_texture/striped_0066.jpg',\n",
       " '/Users/tyler/Desktop/dissertation/programming/tcav_on_azure/concepts/striped_texture/striped_0033.jpg',\n",
       " '/Users/tyler/Desktop/dissertation/programming/tcav_on_azure/concepts/striped_texture/striped_0046.jpg',\n",
       " '/Users/tyler/Desktop/dissertation/programming/tcav_on_azure/concepts/striped_texture/striped_0088.jpg',\n",
       " '/Users/tyler/Desktop/dissertation/programming/tcav_on_azure/concepts/striped_texture/striped_0101.jpg',\n",
       " '/Users/tyler/Desktop/dissertation/programming/tcav_on_azure/concepts/striped_texture/striped_0001.jpg',\n",
       " '/Users/tyler/Desktop/dissertation/programming/tcav_on_azure/concepts/striped_texture/striped_0091.jpg']"
      ]
     },
     "execution_count": 39,
     "metadata": {},
     "output_type": "execute_result"
    }
   ],
   "source": [
    "image_list"
   ]
  },
  {
   "cell_type": "code",
   "execution_count": null,
   "metadata": {},
   "outputs": [],
   "source": []
  },
  {
   "cell_type": "code",
   "execution_count": null,
   "metadata": {},
   "outputs": [],
   "source": []
  },
  {
   "cell_type": "code",
   "execution_count": null,
   "metadata": {},
   "outputs": [],
   "source": []
  },
  {
   "cell_type": "code",
   "execution_count": null,
   "metadata": {},
   "outputs": [],
   "source": []
  },
  {
   "cell_type": "code",
   "execution_count": null,
   "metadata": {},
   "outputs": [],
   "source": []
  },
  {
   "cell_type": "code",
   "execution_count": null,
   "metadata": {},
   "outputs": [],
   "source": []
  },
  {
   "cell_type": "code",
   "execution_count": null,
   "metadata": {},
   "outputs": [],
   "source": [
    "deriv = mytcav.get_directional_dir(\n",
    "mymodel,\n",
    "'zebra',\n",
    "'striped_texture',\n",
    "this_cav,\n",
    "act_zebra\n",
    ")"
   ]
  },
  {
   "cell_type": "code",
   "execution_count": null,
   "metadata": {},
   "outputs": [],
   "source": [
    "len(deriv)"
   ]
  },
  {
   "cell_type": "code",
   "execution_count": null,
   "metadata": {},
   "outputs": [],
   "source": []
  },
  {
   "cell_type": "code",
   "execution_count": null,
   "metadata": {},
   "outputs": [],
   "source": [
    "dar = np.array(deriv)"
   ]
  },
  {
   "cell_type": "code",
   "execution_count": null,
   "metadata": {},
   "outputs": [],
   "source": [
    "dar[dar > 0].shape"
   ]
  },
  {
   "cell_type": "code",
   "execution_count": null,
   "metadata": {},
   "outputs": [],
   "source": [
    "dar[dar < 0].shape"
   ]
  },
  {
   "cell_type": "code",
   "execution_count": null,
   "metadata": {},
   "outputs": [],
   "source": [
    "1 - 94/200"
   ]
  },
  {
   "cell_type": "code",
   "execution_count": null,
   "metadata": {},
   "outputs": [],
   "source": [
    "working_dir = '/Users/tyler/Desktop/dissertation/programming/tcav/'\n",
    "\n",
    "source_images = working_dir + 'concepts/zebra/'\n",
    "images = [f for f in listdir(source_images) if isfile(join(source_images, f))]\n",
    "total_images = len(images)\n",
    "\n",
    "images.sort()\n",
    "images = images[:200]\n"
   ]
  },
  {
   "cell_type": "code",
   "execution_count": null,
   "metadata": {},
   "outputs": [],
   "source": [
    "len(images)"
   ]
  },
  {
   "cell_type": "code",
   "execution_count": null,
   "metadata": {},
   "outputs": [],
   "source": [
    "this_d = {}\n",
    "\n",
    "idx = 0\n",
    "for d in deriv:\n",
    "    this_d[idx] = d\n",
    "    idx += 1\n",
    "\n",
    "sorted_d = sorted(this_d.items(), key=operator.itemgetter(1),reverse=True)"
   ]
  },
  {
   "cell_type": "code",
   "execution_count": null,
   "metadata": {},
   "outputs": [],
   "source": [
    "#this_d"
   ]
  },
  {
   "cell_type": "code",
   "execution_count": null,
   "metadata": {},
   "outputs": [],
   "source": [
    "len(sorted_d)"
   ]
  },
  {
   "cell_type": "code",
   "execution_count": null,
   "metadata": {},
   "outputs": [],
   "source": [
    "xx = 194\n",
    "top = images[sorted_d[0][0]]\n",
    "bottom = images[sorted_d[xx][0]]\n",
    "this_img = bottom\n",
    "#this_img = top"
   ]
  },
  {
   "cell_type": "code",
   "execution_count": null,
   "metadata": {},
   "outputs": [],
   "source": [
    "img_path = source_images + this_img\n",
    "img = image.load_img(img_path, target_size=(299, 299))"
   ]
  },
  {
   "cell_type": "code",
   "execution_count": null,
   "metadata": {},
   "outputs": [],
   "source": [
    "img"
   ]
  },
  {
   "cell_type": "code",
   "execution_count": null,
   "metadata": {},
   "outputs": [],
   "source": []
  },
  {
   "cell_type": "markdown",
   "metadata": {},
   "source": [
    "## Load filenames"
   ]
  },
  {
   "cell_type": "code",
   "execution_count": null,
   "metadata": {},
   "outputs": [],
   "source": [
    "#source_dir = '/Users/tyler/Desktop/dissertation/programming/tcav/cavs/'\n",
    "path = 'files/f_used_10.pkl'\n",
    "\n",
    "with open(path, 'rb') as f:\n",
    "    data = pickle.load(f)\n",
    "    \n",
    "image_list = data"
   ]
  },
  {
   "cell_type": "code",
   "execution_count": null,
   "metadata": {},
   "outputs": [],
   "source": [
    "image_list"
   ]
  },
  {
   "cell_type": "code",
   "execution_count": null,
   "metadata": {},
   "outputs": [],
   "source": [
    "len(image_list)"
   ]
  },
  {
   "cell_type": "code",
   "execution_count": null,
   "metadata": {},
   "outputs": [],
   "source": [
    "#sorted_d"
   ]
  },
  {
   "cell_type": "code",
   "execution_count": null,
   "metadata": {},
   "outputs": [],
   "source": [
    "xx = 3\n",
    "bottom = image_list[sorted_d[xx][0]]\n",
    "this_img = bottom\n",
    "\n",
    "img_path = this_img\n",
    "img = image.load_img(img_path, target_size=(299, 299))\n",
    "\n",
    "img"
   ]
  },
  {
   "cell_type": "code",
   "execution_count": null,
   "metadata": {},
   "outputs": [],
   "source": []
  },
  {
   "cell_type": "code",
   "execution_count": null,
   "metadata": {},
   "outputs": [],
   "source": []
  },
  {
   "cell_type": "code",
   "execution_count": null,
   "metadata": {},
   "outputs": [],
   "source": [
    "class_acts = acts\n",
    "for i in range(len(class_acts)):\n",
    "    print(i)\n",
    "    act = np.expand_dims(class_acts[i], 0)"
   ]
  },
  {
   "cell_type": "code",
   "execution_count": null,
   "metadata": {},
   "outputs": [],
   "source": []
  },
  {
   "cell_type": "code",
   "execution_count": null,
   "metadata": {},
   "outputs": [],
   "source": [
    "working_dir = '/Users/tyler/Desktop/dissertation/programming/tcav'\n",
    "activation_dir =  working_dir + '/activations/'\n",
    "cav_dir = working_dir + '/cavs/'\n",
    "source_dir = working_dir + '/concepts'\n",
    "\n",
    "target = 'zebra'\n",
    "concepts = ['striped'] \n",
    "concepts = ['dotted']   \n",
    "\n",
    "bottlenecks = ['mixed8']\n",
    "\n",
    "\n",
    "alphas = [0.1]"
   ]
  },
  {
   "cell_type": "code",
   "execution_count": null,
   "metadata": {},
   "outputs": [],
   "source": [
    "activation_dir =  working_dir + '/activations/acts_zebra_mixed9'\n",
    "\n",
    "\n",
    "with open(activation_dir, 'rb') as f:\n",
    "    x = np.load(f)\n",
    "    #data = pickle.load(f)"
   ]
  },
  {
   "cell_type": "code",
   "execution_count": null,
   "metadata": {},
   "outputs": [],
   "source": [
    "x.shape"
   ]
  },
  {
   "cell_type": "code",
   "execution_count": null,
   "metadata": {},
   "outputs": [],
   "source": [
    "#acts"
   ]
  },
  {
   "cell_type": "code",
   "execution_count": null,
   "metadata": {},
   "outputs": [],
   "source": []
  },
  {
   "cell_type": "code",
   "execution_count": null,
   "metadata": {},
   "outputs": [],
   "source": []
  },
  {
   "cell_type": "code",
   "execution_count": null,
   "metadata": {},
   "outputs": [],
   "source": [
    "#images"
   ]
  },
  {
   "cell_type": "code",
   "execution_count": null,
   "metadata": {},
   "outputs": [],
   "source": []
  },
  {
   "cell_type": "code",
   "execution_count": null,
   "metadata": {},
   "outputs": [],
   "source": [
    "source_images"
   ]
  },
  {
   "cell_type": "code",
   "execution_count": null,
   "metadata": {},
   "outputs": [],
   "source": [
    "files = [source_images + i for i in images]\n",
    "imgs = act_generator.load_images_from_files(files)"
   ]
  },
  {
   "cell_type": "code",
   "execution_count": null,
   "metadata": {},
   "outputs": [],
   "source": []
  },
  {
   "cell_type": "code",
   "execution_count": null,
   "metadata": {},
   "outputs": [],
   "source": []
  },
  {
   "cell_type": "code",
   "execution_count": null,
   "metadata": {},
   "outputs": [],
   "source": []
  },
  {
   "cell_type": "code",
   "execution_count": null,
   "metadata": {},
   "outputs": [],
   "source": [
    "act_zebra.shape"
   ]
  },
  {
   "cell_type": "code",
   "execution_count": null,
   "metadata": {},
   "outputs": [],
   "source": [
    "8 * 8 * 1280"
   ]
  },
  {
   "cell_type": "code",
   "execution_count": null,
   "metadata": {},
   "outputs": [],
   "source": [
    "a = act_dotted[0].reshape(81920)\n",
    "b = act_zebra[1].reshape(81920)"
   ]
  },
  {
   "cell_type": "code",
   "execution_count": null,
   "metadata": {},
   "outputs": [],
   "source": [
    "cos_sim(a,b)"
   ]
  },
  {
   "cell_type": "code",
   "execution_count": null,
   "metadata": {},
   "outputs": [],
   "source": [
    "cos_sim(dotted_cav,b)"
   ]
  },
  {
   "cell_type": "code",
   "execution_count": null,
   "metadata": {},
   "outputs": [],
   "source": []
  },
  {
   "cell_type": "code",
   "execution_count": null,
   "metadata": {},
   "outputs": [],
   "source": []
  },
  {
   "cell_type": "code",
   "execution_count": null,
   "metadata": {},
   "outputs": [],
   "source": [
    "a = np.ones(4)\n",
    "b = np.ones(4) * -1\n",
    "b[3]  = -2"
   ]
  },
  {
   "cell_type": "code",
   "execution_count": null,
   "metadata": {},
   "outputs": [],
   "source": [
    "a"
   ]
  },
  {
   "cell_type": "code",
   "execution_count": null,
   "metadata": {},
   "outputs": [],
   "source": [
    "b"
   ]
  },
  {
   "cell_type": "code",
   "execution_count": null,
   "metadata": {},
   "outputs": [],
   "source": [
    "cos_sim(a,b)"
   ]
  },
  {
   "cell_type": "code",
   "execution_count": null,
   "metadata": {},
   "outputs": [],
   "source": [
    "def cos_sim(a,b):\n",
    "    return np.dot(a, b)/(norm(a)*norm(b))"
   ]
  },
  {
   "cell_type": "code",
   "execution_count": null,
   "metadata": {},
   "outputs": [],
   "source": []
  }
 ],
 "metadata": {
  "kernelspec": {
   "display_name": "Python 3",
   "language": "python",
   "name": "python3"
  },
  "language_info": {
   "codemirror_mode": {
    "name": "ipython",
    "version": 3
   },
   "file_extension": ".py",
   "mimetype": "text/x-python",
   "name": "python",
   "nbconvert_exporter": "python",
   "pygments_lexer": "ipython3",
   "version": "3.6.8"
  }
 },
 "nbformat": 4,
 "nbformat_minor": 2
}
