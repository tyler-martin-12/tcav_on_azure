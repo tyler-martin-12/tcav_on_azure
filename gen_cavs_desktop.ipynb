{
 "cells": [
  {
   "cell_type": "code",
   "execution_count": 2,
   "metadata": {},
   "outputs": [
    {
     "name": "stderr",
     "output_type": "stream",
     "text": [
      "Using TensorFlow backend.\n"
     ]
    }
   ],
   "source": [
    "import os\n",
    "os.environ['KERAS_BACKEND'] = 'tensorflow'\n",
    "from tensorflow import keras\n",
    "from keras.applications.inception_v3 import InceptionV3\n",
    "from keras.applications.inception_v3 import decode_predictions\n",
    "from keras.models import Model, load_model\n",
    "import keras.backend as K\n",
    "\n",
    "import model as tcav_model\n",
    "import tcav as tcav\n",
    "import utils as utils\n",
    "import activation_generator as act_gen\n",
    "import tensorflow as tf\n",
    "import utils_plot as utils_plot\n",
    "import cav as cav\n",
    "\n",
    "from sklearn.metrics.pairwise import cosine_similarity\n",
    "import numpy as np\n",
    "from numpy.linalg import norm\n",
    "\n",
    "import pickle\n",
    "\n",
    "from os import listdir\n",
    "from os.path import isfile, join\n",
    "import operator\n",
    "from PIL import Image\n",
    "from keras.preprocessing import image\n",
    "\n",
    "import os\n",
    "import math\n",
    "\n",
    "import PIL.Image\n",
    "from sklearn.metrics import pairwise\n",
    "import matplotlib.pyplot as plt\n",
    "from keras.applications.inception_v3 import preprocess_input\n",
    "\n",
    "from sklearn import linear_model\n",
    "from sklearn import metrics\n",
    "from sklearn.model_selection import train_test_split\n",
    "\n",
    "import warnings\n",
    "warnings.filterwarnings(\"ignore\", category=DeprecationWarning)\n",
    "warnings.filterwarnings(\"ignore\", category=FutureWarning)\n",
    "\n",
    "import pandas as pd\n",
    "from scipy import stats\n",
    "\n",
    "import tensorflow\n"
   ]
  },
  {
   "cell_type": "code",
   "execution_count": 3,
   "metadata": {},
   "outputs": [
    {
     "name": "stderr",
     "output_type": "stream",
     "text": [
      "/Users/tyler/anaconda3/lib/python3.6/site-packages/keras/engine/saving.py:292: UserWarning: No training configuration found in save file: the model was *not* compiled. Compile it manually.\n",
      "  warnings.warn('No training configuration found in save file: '\n"
     ]
    }
   ],
   "source": [
    "K.set_learning_phase(0)\n",
    "model = load_model('v3_model.h5')"
   ]
  },
  {
   "cell_type": "code",
   "execution_count": 4,
   "metadata": {},
   "outputs": [],
   "source": [
    "sess = K.get_session()\n",
    "\n",
    "endpoints_v3 = dict(\n",
    "    input=model.inputs[0].name,\n",
    "    input_tensor=model.inputs[0],\n",
    "    logit=model.outputs[0].name,\n",
    "    prediction=model.outputs[0].name,\n",
    "    prediction_tensor=model.outputs[0],)\n",
    "\n",
    "tf.logging.set_verbosity(0)\n",
    "\n",
    "working_dir = '/Users/tyler/Desktop/dissertation/programming/tcav_on_azure'\n",
    "\n",
    "label_path = os.path.join(working_dir,'labels.txt')\n",
    "\n",
    "mymodel = tcav_model.KerasModelWrapper(sess, \n",
    "        label_path, [299, 299, 3], endpoints_v3, \n",
    "        'InceptionV3_public', (-1, 1))"
   ]
  },
  {
   "cell_type": "code",
   "execution_count": null,
   "metadata": {},
   "outputs": [],
   "source": []
  },
  {
   "cell_type": "code",
   "execution_count": null,
   "metadata": {},
   "outputs": [],
   "source": []
  },
  {
   "cell_type": "code",
   "execution_count": 150,
   "metadata": {},
   "outputs": [
    {
     "name": "stdout",
     "output_type": "stream",
     "text": [
      "['ladybug_sub_2', 'random500_0', 'zebra']\n",
      "['ladybug_sub_2', 'random500_0', 'zebra']\n",
      "['ladybug_sub_2', 'random500_0', 'zebra']\n",
      "['ladybug_sub_2', 'random500_0', 'zebra']\n",
      "['ladybug_sub_2', 'random500_0', 'zebra']\n",
      "['ladybug_sub_2', 'random500_0', 'zebra']\n",
      "['ladybug_sub_2', 'random500_0', 'zebra']\n",
      "['ladybug_sub_2', 'random500_0', 'zebra']\n",
      "['ladybug_sub_2', 'random500_0', 'zebra']\n",
      "['ladybug_sub_2', 'random500_0', 'zebra']\n",
      "['ladybug_sub_2', 'random500_0', 'zebra']\n"
     ]
    }
   ],
   "source": [
    "## CAV loop\n",
    "source_dir = working_dir + '/concepts/'\n",
    "activation_dir =  working_dir + '/activations/'\n",
    "\n",
    "target_class = 'zebra'\n",
    "concepts = ['ladybug_sub_2', 'random500_0']\n",
    "\n",
    "hparams = tf.contrib.training.HParams(model_type='linear', alpha=.1)\n",
    "act_generator = act_gen.ImageActivationGenerator(mymodel, source_dir, activation_dir, max_examples=50)\n",
    "\n",
    "bn_names = ['mixed0','mixed1','mixed2','mixed3','mixed4','mixed5','mixed6','mixed7','mixed8','mixed9','mixed10']\n",
    "#bn_names = ['mixed8']\n",
    "\n",
    "for bottleneck in  bn_names:\n",
    "    acts = act_generator.process_and_load_activations([bottleneck], concepts + [target_class])\n",
    "    cav.get_or_train_cav(concepts,bottleneck,acts,cav_hparams=hparams,cav_dir='cav_dir')\n"
   ]
  },
  {
   "cell_type": "code",
   "execution_count": 9,
   "metadata": {
    "collapsed": true
   },
   "outputs": [],
   "source": [
    "#cav = None"
   ]
  },
  {
   "cell_type": "code",
   "execution_count": 7,
   "metadata": {},
   "outputs": [
    {
     "ename": "FileNotFoundError",
     "evalue": "[Errno 2] No such file or directory: '/Users/tyler/Desktop/dissertation/programming/tcav_on_azure/cavs/striped_sub_1-random500_3-mixed9-linear-0.1_test.pkl'",
     "output_type": "error",
     "traceback": [
      "\u001b[0;31m---------------------------------------------------------------------------\u001b[0m",
      "\u001b[0;31mFileNotFoundError\u001b[0m                         Traceback (most recent call last)",
      "\u001b[0;32m<ipython-input-7-3721dbddc1a6>\u001b[0m in \u001b[0;36m<module>\u001b[0;34m\u001b[0m\n\u001b[1;32m     10\u001b[0m \u001b[0;31m# Load training/testing data\u001b[0m\u001b[0;34m\u001b[0m\u001b[0;34m\u001b[0m\u001b[0;34m\u001b[0m\u001b[0m\n\u001b[1;32m     11\u001b[0m \u001b[0mpath\u001b[0m \u001b[0;34m=\u001b[0m \u001b[0mos\u001b[0m\u001b[0;34m.\u001b[0m\u001b[0mpath\u001b[0m\u001b[0;34m.\u001b[0m\u001b[0mjoin\u001b[0m\u001b[0;34m(\u001b[0m\u001b[0mworking_dir\u001b[0m\u001b[0;34m,\u001b[0m\u001b[0msub_path\u001b[0m \u001b[0;34m+\u001b[0m \u001b[0;34m'_test.pkl'\u001b[0m\u001b[0;34m)\u001b[0m\u001b[0;34m\u001b[0m\u001b[0;34m\u001b[0m\u001b[0m\n\u001b[0;32m---> 12\u001b[0;31m \u001b[0;32mwith\u001b[0m \u001b[0mopen\u001b[0m\u001b[0;34m(\u001b[0m\u001b[0mpath\u001b[0m\u001b[0;34m,\u001b[0m \u001b[0;34m'rb'\u001b[0m\u001b[0;34m)\u001b[0m \u001b[0;32mas\u001b[0m \u001b[0mf\u001b[0m\u001b[0;34m:\u001b[0m\u001b[0;34m\u001b[0m\u001b[0;34m\u001b[0m\u001b[0m\n\u001b[0m\u001b[1;32m     13\u001b[0m     \u001b[0mdata\u001b[0m \u001b[0;34m=\u001b[0m \u001b[0mpickle\u001b[0m\u001b[0;34m.\u001b[0m\u001b[0mload\u001b[0m\u001b[0;34m(\u001b[0m\u001b[0mf\u001b[0m\u001b[0;34m)\u001b[0m\u001b[0;34m\u001b[0m\u001b[0;34m\u001b[0m\u001b[0m\n\u001b[1;32m     14\u001b[0m \u001b[0;34m\u001b[0m\u001b[0m\n",
      "\u001b[0;31mFileNotFoundError\u001b[0m: [Errno 2] No such file or directory: '/Users/tyler/Desktop/dissertation/programming/tcav_on_azure/cavs/striped_sub_1-random500_3-mixed9-linear-0.1_test.pkl'"
     ]
    }
   ],
   "source": [
    "class_1 = 'striped_sub_1'\n",
    "class_2 = 'random500_3'\n",
    "\n",
    "layer = 'mixed9'\n",
    "lm_type = 'linear'\n",
    "#lm_type = 'logistic'\n",
    "cav_name = class_1 + '-' + class_2 + '-' + layer + '-' + lm_type + '-0.1'\n",
    "sub_path = 'cavs/' + cav_name \n",
    "\n",
    "# Load training/testing data\n",
    "path = os.path.join(working_dir,sub_path + '_test.pkl')\n",
    "with open(path, 'rb') as f:\n",
    "    data = pickle.load(f)\n",
    "    \n",
    "d = dict(data)\n",
    "x_train = d['x_train']\n",
    "x_test = d['x_test']\n",
    "y_train = d['y_train']\n",
    "y_test = d['y_test']\n",
    "y_pred = d['y_pred']\n",
    "\n",
    "path = os.path.join(working_dir,sub_path + '.pkl')\n",
    "\n",
    "with open(path, 'rb') as f:\n",
    "    cav_data = pickle.load(f)\n",
    "this_cav = cav_data['cavs'][0]"
   ]
  },
  {
   "cell_type": "code",
   "execution_count": null,
   "metadata": {
    "collapsed": true
   },
   "outputs": [],
   "source": []
  },
  {
   "cell_type": "code",
   "execution_count": null,
   "metadata": {
    "collapsed": true
   },
   "outputs": [],
   "source": []
  },
  {
   "cell_type": "code",
   "execution_count": null,
   "metadata": {
    "collapsed": true
   },
   "outputs": [],
   "source": [
    "pca_components = pickle.load(open('pca/pca_components_mixed9.pkl', 'rb'))"
   ]
  },
  {
   "cell_type": "code",
   "execution_count": null,
   "metadata": {
    "collapsed": true
   },
   "outputs": [],
   "source": [
    "# TRAIN\n",
    "x_train_embed_pca = np.dot(pca_components, x_train.T)\n",
    "color_train_pca = ['red' if y == 0 else 'blue' for y in y_train]\n",
    "\n",
    "# TEST\n",
    "x_test_embed_pca = np.dot(pca_components, x_test.T)\n",
    "\n",
    "light_blue, light_red = '#b3b8fb', '#f6889f'\n",
    "\n",
    "color_test_pca = [light_red if y == 0 else light_blue for y in y_test]\n"
   ]
  },
  {
   "cell_type": "code",
   "execution_count": null,
   "metadata": {
    "collapsed": true
   },
   "outputs": [],
   "source": [
    "fig = plt.figure(figsize=[5,5])\n",
    "\n",
    "plt.scatter(x_train_embed_pca[0], x_train_embed_pca[1], color = color_train_pca)\n",
    "plt.scatter(x_test_embed_pca[0], x_test_embed_pca[1], color = color_test_pca) #, alpha = .6)\n",
    "\n",
    "circ = plt.Circle((-30, 30), radius=8, edgecolor='black', facecolor='None')\n",
    "ax = plt.gca()\n",
    "\n",
    "ax.add_patch(circ)\n",
    "\n",
    "cav_pca = np.dot(pca_components, this_cav.T)\n",
    "cav_norm = vector_norm(cav_pca)\n",
    "cav_norm *= 8\n",
    "#origin = [-30],[30]\n",
    "#plt.quiver(*origin, cav_norm[0], cav_norm[1], color='black',scale=100)\n",
    "\n",
    "arrow_start = [-30,30]\n",
    "\n",
    "my_arrow = plt.arrow(arrow_start[0], arrow_start[1], cav_norm[0], cav_norm[1],width=.4,\n",
    "                     length_includes_head=True,head_width=2,fc='k', ec=None)\n",
    "ax.add_patch(my_arrow)\n",
    "\n",
    "\n",
    "plt.xlim([-40,40])\n",
    "plt.ylim([-40,40])\n",
    "\n",
    "fig_path = 'figs/jul_9/pca_' + cav_name + '.png'\n",
    "\n",
    "path = os.path.join(working_dir,fig_path)\n",
    "#plt.savefig(path,dpi=200)\n"
   ]
  },
  {
   "cell_type": "code",
   "execution_count": null,
   "metadata": {
    "collapsed": true
   },
   "outputs": [],
   "source": []
  },
  {
   "cell_type": "code",
   "execution_count": null,
   "metadata": {
    "collapsed": true
   },
   "outputs": [],
   "source": [
    "this_cav = -lm.coef_[0]"
   ]
  },
  {
   "cell_type": "code",
   "execution_count": null,
   "metadata": {
    "collapsed": true
   },
   "outputs": [],
   "source": [
    "## get original CAV\n",
    "lm.fit(x_train,y_train)\n",
    "original_CAV = -lm.coef_[0]\n",
    "\n",
    "cavs = []\n",
    "\n",
    "## remove one point\n",
    "for idx, x_point in enumerate(x_train):\n",
    "    if y_train[idx]==0:\n",
    "        x_train_new = np.delete(x_train, idx, axis=0)\n",
    "        y_train_new = np.delete(y_train, idx, axis=0)\n",
    "        \n",
    "        new_lm = linear_model.SGDClassifier(alpha=.1)\n",
    "        new_lm.fit(x_train_new,y_train_new)\n",
    "        cav_params = -new_lm.coef_[0]\n",
    "        sim = euclidean_distance(vec_norm(cav_params),vec_norm(original_CAV))\n",
    "        cosine_sim = cosine_similarity(cav_params,original_CAV)\n",
    "        cavs.append([idx,cav_params,sim,cosine_sim,x_point])\n",
    "        \n",
    "cavs_sims = np.array([a[2] for a in cavs])\n",
    "cos_sims = np.array([a[3] for a in cavs]) "
   ]
  },
  {
   "cell_type": "code",
   "execution_count": null,
   "metadata": {
    "collapsed": true
   },
   "outputs": [],
   "source": [
    "###"
   ]
  },
  {
   "cell_type": "code",
   "execution_count": null,
   "metadata": {
    "collapsed": true
   },
   "outputs": [],
   "source": [
    "## Plot new\n",
    "idx = 29\n",
    "this_cav = cavs[idx][1]\n",
    "x_point = cavs[idx][0]\n",
    "x_train_new = np.delete(x_train, x_point, axis=0)\n",
    "x_rem = x_train[x_point]\n",
    "y_train_new = np.delete(y_train, x_point, axis=0)\n",
    "\n",
    "x_train_embed_pca = np.dot(pca_components, x_train_new.T)\n",
    "color_train_pca = ['red' if y == 0 else 'blue' for y in y_train_new]\n",
    "\n",
    "b = np.dot(pca_components, x_rem.T)\n",
    "#a = np.delete(x_train_embed_pca, x_point, axis=1)\n",
    "\n",
    "fig = plt.figure(figsize=[5,5])\n",
    "xlim = plt.xlim([-40,40])\n",
    "ylim = plt.ylim([-40,40])\n",
    "plt.scatter(x_train_embed_pca[0], x_train_embed_pca[1], color = color_train_pca)\n",
    "\n",
    "plt.scatter(b[0], b[1], color = 'black')\n",
    "\n",
    "circ = plt.Circle((-30, 30), radius=8, edgecolor='black', facecolor='None')\n",
    "ax = plt.gca()\n",
    "ax.add_patch(circ)\n",
    "arrow_start = [-30,30]\n",
    "\n",
    "cav_pca = np.dot(pca_components, this_cav.T)\n",
    "cav_norm = vec_norm(cav_pca) * 8\n",
    "\n",
    "my_arrow = plt.arrow(arrow_start[0], arrow_start[1], cav_norm[0], cav_norm[1],width=.4,\n",
    "                     length_includes_head=True,head_width=2,fc='k', ec=None, alpha = .1)\n",
    "a0 = ax.add_patch(my_arrow)\n",
    "\n",
    "cav_pca_1 = np.dot(pca_components, original_CAV.T)\n",
    "cav_norm_1 = vec_norm(cav_pca_1) * 8\n",
    "\n",
    "my_arrow_1 = plt.arrow(arrow_start[0]+10, arrow_start[1], cav_norm_1[0], cav_norm_1[1],width=.4,\n",
    "                     length_includes_head=True,head_width=2,fc='k', ec=None, alpha = .8)\n",
    "print(cav_norm_1)\n",
    "a1 = ax.add_patch(my_arrow_1)\n",
    "\n"
   ]
  },
  {
   "cell_type": "code",
   "execution_count": null,
   "metadata": {
    "collapsed": true
   },
   "outputs": [],
   "source": [
    "#len(x_train)"
   ]
  },
  {
   "cell_type": "code",
   "execution_count": null,
   "metadata": {
    "collapsed": true
   },
   "outputs": [],
   "source": [
    "np.argmin(cavs_sims),np.min(cavs_sims)"
   ]
  },
  {
   "cell_type": "code",
   "execution_count": null,
   "metadata": {
    "collapsed": true
   },
   "outputs": [],
   "source": [
    "np.argmax(cavs_sims),np.max(cavs_sims)"
   ]
  },
  {
   "cell_type": "code",
   "execution_count": null,
   "metadata": {
    "collapsed": true
   },
   "outputs": [],
   "source": [
    "np.argmax(cos_sims),np.max(cos_sims)"
   ]
  },
  {
   "cell_type": "code",
   "execution_count": null,
   "metadata": {
    "collapsed": true
   },
   "outputs": [],
   "source": [
    "np.argmin(cos_sims),np.min(cos_sims)"
   ]
  },
  {
   "cell_type": "code",
   "execution_count": null,
   "metadata": {
    "collapsed": true
   },
   "outputs": [],
   "source": []
  },
  {
   "cell_type": "markdown",
   "metadata": {},
   "source": [
    "## TCAV score"
   ]
  },
  {
   "cell_type": "code",
   "execution_count": 14,
   "metadata": {},
   "outputs": [],
   "source": [
    "\n",
    "#working_dir = '/home/tam/Desktop/tcav_on_azure'\n",
    "working_dir = '/Users/tyler/Desktop/dissertation/programming/tcav_on_azure'\n",
    "\n",
    "activation_dir =  working_dir + '/activations/'\n",
    "cav_dir = working_dir + '/cav_dir/'\n",
    "source_dir = working_dir + '/concepts/'\n",
    "\n",
    "target = 'zebra'\n",
    "\n",
    "random_concepts = ['random500_0','random500_1']\n",
    "\n",
    "concepts = ['striped_sub_1']   \n",
    "bottlenecks = ['mixed0']\n",
    "alphas = [0.1]"
   ]
  },
  {
   "cell_type": "code",
   "execution_count": 15,
   "metadata": {},
   "outputs": [
    {
     "name": "stdout",
     "output_type": "stream",
     "text": [
      "INFO:tensorflow:mixed0 ['striped_sub_1', 'random500_0'] zebra 0.1\n",
      "INFO:tensorflow:mixed0 ['striped_sub_1', 'random500_1'] zebra 0.1\n",
      "INFO:tensorflow:mixed0 ['random500_0', 'random500_1'] zebra 0.1\n",
      "INFO:tensorflow:mixed0 ['random500_1', 'random500_0'] zebra 0.1\n",
      "INFO:tensorflow:TCAV will 4 params\n",
      "INFO:tensorflow:running 4 params\n",
      "INFO:tensorflow:Running param 0 of 4\n",
      "INFO:tensorflow:running zebra ['striped_sub_1', 'random500_0']\n",
      "['striped_sub_1', 'random500_0', 'zebra']\n",
      "INFO:tensorflow:Loaded /Users/tyler/Desktop/dissertation/programming/tcav_on_azure/activations/acts_striped_sub_1_mixed0 shape (50, 35, 35, 256)\n",
      "INFO:tensorflow:Loaded /Users/tyler/Desktop/dissertation/programming/tcav_on_azure/activations/acts_random500_0_mixed0 shape (50, 35, 35, 256)\n",
      "INFO:tensorflow:Loaded /Users/tyler/Desktop/dissertation/programming/tcav_on_azure/activations/acts_zebra_mixed0 shape (50, 35, 35, 256)\n",
      "INFO:tensorflow:CAV already exists: /Users/tyler/Desktop/dissertation/programming/tcav_on_azure/cav_dir/striped_sub_1-random500_0-mixed0-linear-0.1.pkl\n",
      "INFO:tensorflow:Running param 1 of 4\n",
      "INFO:tensorflow:running zebra ['striped_sub_1', 'random500_1']\n",
      "['striped_sub_1', 'random500_1', 'zebra']\n",
      "INFO:tensorflow:Loaded /Users/tyler/Desktop/dissertation/programming/tcav_on_azure/activations/acts_striped_sub_1_mixed0 shape (50, 35, 35, 256)\n",
      "INFO:tensorflow:Loaded /Users/tyler/Desktop/dissertation/programming/tcav_on_azure/activations/acts_random500_1_mixed0 shape (50, 35, 35, 256)\n",
      "INFO:tensorflow:Loaded /Users/tyler/Desktop/dissertation/programming/tcav_on_azure/activations/acts_zebra_mixed0 shape (50, 35, 35, 256)\n",
      "INFO:tensorflow:CAV already exists: /Users/tyler/Desktop/dissertation/programming/tcav_on_azure/cav_dir/striped_sub_1-random500_1-mixed0-linear-0.1.pkl\n",
      "INFO:tensorflow:Running param 2 of 4\n",
      "INFO:tensorflow:running zebra ['random500_0', 'random500_1']\n",
      "['random500_0', 'random500_1', 'zebra']\n",
      "INFO:tensorflow:Loaded /Users/tyler/Desktop/dissertation/programming/tcav_on_azure/activations/acts_random500_0_mixed0 shape (50, 35, 35, 256)\n",
      "INFO:tensorflow:Loaded /Users/tyler/Desktop/dissertation/programming/tcav_on_azure/activations/acts_random500_1_mixed0 shape (50, 35, 35, 256)\n",
      "INFO:tensorflow:Loaded /Users/tyler/Desktop/dissertation/programming/tcav_on_azure/activations/acts_zebra_mixed0 shape (50, 35, 35, 256)\n",
      "INFO:tensorflow:Training CAV ['random500_0', 'random500_1'] - mixed0 alpha 0.1\n",
      "INFO:tensorflow:training with alpha=0.1\n",
      "INFO:tensorflow:using new version\n",
      "INFO:tensorflow:acc per class {'random500_0': 0.875, 'random500_1': 0.058823529411764705, 'overall': 0.45454545454545453}\n",
      "INFO:tensorflow:/Users/tyler/Desktop/dissertation/programming/tcav_on_azure/cav_dir/random500_0-random500_1-mixed0-linear-0.1_test.pkl\n",
      "INFO:tensorflow:did save save_path_lin_sep\n",
      "INFO:tensorflow:Running param 3 of 4\n",
      "INFO:tensorflow:running zebra ['random500_1', 'random500_0']\n",
      "['random500_1', 'random500_0', 'zebra']\n",
      "INFO:tensorflow:Loaded /Users/tyler/Desktop/dissertation/programming/tcav_on_azure/activations/acts_random500_1_mixed0 shape (50, 35, 35, 256)\n",
      "INFO:tensorflow:Loaded /Users/tyler/Desktop/dissertation/programming/tcav_on_azure/activations/acts_random500_0_mixed0 shape (50, 35, 35, 256)\n",
      "INFO:tensorflow:Loaded /Users/tyler/Desktop/dissertation/programming/tcav_on_azure/activations/acts_zebra_mixed0 shape (50, 35, 35, 256)\n",
      "INFO:tensorflow:Training CAV ['random500_1', 'random500_0'] - mixed0 alpha 0.1\n",
      "INFO:tensorflow:training with alpha=0.1\n",
      "INFO:tensorflow:using new version\n",
      "INFO:tensorflow:acc per class {'random500_1': 0.3125, 'random500_0': 0.5294117647058824, 'overall': 0.42424242424242425}\n",
      "INFO:tensorflow:/Users/tyler/Desktop/dissertation/programming/tcav_on_azure/cav_dir/random500_1-random500_0-mixed0-linear-0.1_test.pkl\n",
      "INFO:tensorflow:did save save_path_lin_sep\n",
      "INFO:tensorflow:Done running 4 params. Took 126.55389022827148 seconds...\n"
     ]
    }
   ],
   "source": [
    "act_generator = None\n",
    "act_generator = act_gen.ImageActivationGenerator(mymodel, source_dir, activation_dir, max_examples=50)\n",
    "\n",
    "tf.logging.set_verbosity(1)\n",
    "\n",
    "mytcav = tcav.TCAV(sess,\n",
    "        target, concepts, bottlenecks,\n",
    "        act_generator, alphas,\n",
    "        cav_dir = cav_dir,random_concepts = random_concepts)\n",
    "\n",
    "results = mytcav.run(run_parallel=False)"
   ]
  },
  {
   "cell_type": "code",
   "execution_count": 135,
   "metadata": {},
   "outputs": [],
   "source": [
    "#results"
   ]
  },
  {
   "cell_type": "code",
   "execution_count": null,
   "metadata": {
    "collapsed": true
   },
   "outputs": [],
   "source": []
  },
  {
   "cell_type": "code",
   "execution_count": 192,
   "metadata": {},
   "outputs": [
    {
     "data": {
      "text/plain": [
       "(50, 8, 8, 1280)"
      ]
     },
     "execution_count": 192,
     "metadata": {},
     "output_type": "execute_result"
    }
   ],
   "source": [
    "class_acts.shape"
   ]
  },
  {
   "cell_type": "code",
   "execution_count": 191,
   "metadata": {},
   "outputs": [
    {
     "data": {
      "text/plain": [
       "(81920,)"
      ]
     },
     "execution_count": 191,
     "metadata": {},
     "output_type": "execute_result"
    }
   ],
   "source": [
    "this_cav.shape"
   ]
  },
  {
   "cell_type": "code",
   "execution_count": 290,
   "metadata": {},
   "outputs": [
    {
     "data": {
      "text/plain": [
       "'mixed0'"
      ]
     },
     "execution_count": 290,
     "metadata": {},
     "output_type": "execute_result"
    }
   ],
   "source": [
    "bottleneck"
   ]
  },
  {
   "cell_type": "code",
   "execution_count": 10,
   "metadata": {},
   "outputs": [],
   "source": [
    "df = pickle.load(open('cav_dir/df.pkl', 'rb'))\n"
   ]
  },
  {
   "cell_type": "code",
   "execution_count": 12,
   "metadata": {},
   "outputs": [],
   "source": [
    "target_class = 'zebra'\n",
    "bottleneck = 'mixed0'\n",
    "class_1 = 'striped_sub_1'\n",
    "\n",
    "this_list = df[(df['target_class']==target_class) & \n",
    "                (df['bottleneck']==bottleneck) & \n",
    "                (df['class_1']==class_1)]"
   ]
  },
  {
   "cell_type": "code",
   "execution_count": 137,
   "metadata": {},
   "outputs": [
    {
     "data": {
      "text/html": [
       "<div>\n",
       "<style scoped>\n",
       "    .dataframe tbody tr th:only-of-type {\n",
       "        vertical-align: middle;\n",
       "    }\n",
       "\n",
       "    .dataframe tbody tr th {\n",
       "        vertical-align: top;\n",
       "    }\n",
       "\n",
       "    .dataframe thead th {\n",
       "        text-align: right;\n",
       "    }\n",
       "</style>\n",
       "<table border=\"1\" class=\"dataframe\">\n",
       "  <thead>\n",
       "    <tr style=\"text-align: right;\">\n",
       "      <th></th>\n",
       "      <th>target_class</th>\n",
       "      <th>bottleneck</th>\n",
       "      <th>class_1</th>\n",
       "      <th>class_idx</th>\n",
       "      <th>this_acc</th>\n",
       "    </tr>\n",
       "  </thead>\n",
       "  <tbody>\n",
       "    <tr>\n",
       "      <th>0</th>\n",
       "      <td>zebra</td>\n",
       "      <td>mixed9</td>\n",
       "      <td>striped_sub_1</td>\n",
       "      <td>0</td>\n",
       "      <td>0.4</td>\n",
       "    </tr>\n",
       "    <tr>\n",
       "      <th>0</th>\n",
       "      <td>zebra</td>\n",
       "      <td>mixed9</td>\n",
       "      <td>striped_sub_1</td>\n",
       "      <td>1</td>\n",
       "      <td>0.2</td>\n",
       "    </tr>\n",
       "    <tr>\n",
       "      <th>0</th>\n",
       "      <td>zebra</td>\n",
       "      <td>mixed9</td>\n",
       "      <td>striped_sub_1</td>\n",
       "      <td>2</td>\n",
       "      <td>0.6</td>\n",
       "    </tr>\n",
       "    <tr>\n",
       "      <th>0</th>\n",
       "      <td>zebra</td>\n",
       "      <td>mixed9</td>\n",
       "      <td>striped_sub_1</td>\n",
       "      <td>3</td>\n",
       "      <td>0.4</td>\n",
       "    </tr>\n",
       "    <tr>\n",
       "      <th>0</th>\n",
       "      <td>zebra</td>\n",
       "      <td>mixed9</td>\n",
       "      <td>striped_sub_1</td>\n",
       "      <td>4</td>\n",
       "      <td>0.6</td>\n",
       "    </tr>\n",
       "    <tr>\n",
       "      <th>0</th>\n",
       "      <td>zebra</td>\n",
       "      <td>mixed9</td>\n",
       "      <td>striped_sub_1</td>\n",
       "      <td>5</td>\n",
       "      <td>0.7</td>\n",
       "    </tr>\n",
       "    <tr>\n",
       "      <th>0</th>\n",
       "      <td>zebra</td>\n",
       "      <td>mixed9</td>\n",
       "      <td>striped_sub_1</td>\n",
       "      <td>6</td>\n",
       "      <td>0.4</td>\n",
       "    </tr>\n",
       "    <tr>\n",
       "      <th>0</th>\n",
       "      <td>zebra</td>\n",
       "      <td>mixed9</td>\n",
       "      <td>striped_sub_1</td>\n",
       "      <td>7</td>\n",
       "      <td>0.4</td>\n",
       "    </tr>\n",
       "    <tr>\n",
       "      <th>0</th>\n",
       "      <td>zebra</td>\n",
       "      <td>mixed9</td>\n",
       "      <td>striped_sub_1</td>\n",
       "      <td>8</td>\n",
       "      <td>0.3</td>\n",
       "    </tr>\n",
       "    <tr>\n",
       "      <th>0</th>\n",
       "      <td>zebra</td>\n",
       "      <td>mixed9</td>\n",
       "      <td>striped_sub_1</td>\n",
       "      <td>9</td>\n",
       "      <td>0.7</td>\n",
       "    </tr>\n",
       "    <tr>\n",
       "      <th>0</th>\n",
       "      <td>zebra</td>\n",
       "      <td>mixed9</td>\n",
       "      <td>striped_sub_1</td>\n",
       "      <td>10</td>\n",
       "      <td>0.4</td>\n",
       "    </tr>\n",
       "    <tr>\n",
       "      <th>0</th>\n",
       "      <td>zebra</td>\n",
       "      <td>mixed9</td>\n",
       "      <td>striped_sub_1</td>\n",
       "      <td>11</td>\n",
       "      <td>0.5</td>\n",
       "    </tr>\n",
       "    <tr>\n",
       "      <th>0</th>\n",
       "      <td>zebra</td>\n",
       "      <td>mixed9</td>\n",
       "      <td>striped_sub_1</td>\n",
       "      <td>12</td>\n",
       "      <td>0.1</td>\n",
       "    </tr>\n",
       "    <tr>\n",
       "      <th>0</th>\n",
       "      <td>zebra</td>\n",
       "      <td>mixed9</td>\n",
       "      <td>striped_sub_1</td>\n",
       "      <td>13</td>\n",
       "      <td>0.3</td>\n",
       "    </tr>\n",
       "    <tr>\n",
       "      <th>0</th>\n",
       "      <td>zebra</td>\n",
       "      <td>mixed9</td>\n",
       "      <td>striped_sub_1</td>\n",
       "      <td>14</td>\n",
       "      <td>0.3</td>\n",
       "    </tr>\n",
       "    <tr>\n",
       "      <th>0</th>\n",
       "      <td>zebra</td>\n",
       "      <td>mixed9</td>\n",
       "      <td>striped_sub_1</td>\n",
       "      <td>15</td>\n",
       "      <td>0.2</td>\n",
       "    </tr>\n",
       "    <tr>\n",
       "      <th>0</th>\n",
       "      <td>zebra</td>\n",
       "      <td>mixed9</td>\n",
       "      <td>striped_sub_1</td>\n",
       "      <td>16</td>\n",
       "      <td>0.8</td>\n",
       "    </tr>\n",
       "    <tr>\n",
       "      <th>0</th>\n",
       "      <td>zebra</td>\n",
       "      <td>mixed9</td>\n",
       "      <td>striped_sub_1</td>\n",
       "      <td>17</td>\n",
       "      <td>0.3</td>\n",
       "    </tr>\n",
       "    <tr>\n",
       "      <th>0</th>\n",
       "      <td>zebra</td>\n",
       "      <td>mixed9</td>\n",
       "      <td>striped_sub_1</td>\n",
       "      <td>18</td>\n",
       "      <td>0.3</td>\n",
       "    </tr>\n",
       "    <tr>\n",
       "      <th>0</th>\n",
       "      <td>zebra</td>\n",
       "      <td>mixed9</td>\n",
       "      <td>striped_sub_1</td>\n",
       "      <td>19</td>\n",
       "      <td>0.7</td>\n",
       "    </tr>\n",
       "  </tbody>\n",
       "</table>\n",
       "</div>"
      ],
      "text/plain": [
       "  target_class bottleneck        class_1 class_idx  this_acc\n",
       "0        zebra     mixed9  striped_sub_1         0       0.4\n",
       "0        zebra     mixed9  striped_sub_1         1       0.2\n",
       "0        zebra     mixed9  striped_sub_1         2       0.6\n",
       "0        zebra     mixed9  striped_sub_1         3       0.4\n",
       "0        zebra     mixed9  striped_sub_1         4       0.6\n",
       "0        zebra     mixed9  striped_sub_1         5       0.7\n",
       "0        zebra     mixed9  striped_sub_1         6       0.4\n",
       "0        zebra     mixed9  striped_sub_1         7       0.4\n",
       "0        zebra     mixed9  striped_sub_1         8       0.3\n",
       "0        zebra     mixed9  striped_sub_1         9       0.7\n",
       "0        zebra     mixed9  striped_sub_1        10       0.4\n",
       "0        zebra     mixed9  striped_sub_1        11       0.5\n",
       "0        zebra     mixed9  striped_sub_1        12       0.1\n",
       "0        zebra     mixed9  striped_sub_1        13       0.3\n",
       "0        zebra     mixed9  striped_sub_1        14       0.3\n",
       "0        zebra     mixed9  striped_sub_1        15       0.2\n",
       "0        zebra     mixed9  striped_sub_1        16       0.8\n",
       "0        zebra     mixed9  striped_sub_1        17       0.3\n",
       "0        zebra     mixed9  striped_sub_1        18       0.3\n",
       "0        zebra     mixed9  striped_sub_1        19       0.7"
      ]
     },
     "execution_count": 137,
     "metadata": {},
     "output_type": "execute_result"
    }
   ],
   "source": [
    "this_list"
   ]
  },
  {
   "cell_type": "code",
   "execution_count": 133,
   "metadata": {},
   "outputs": [
    {
     "data": {
      "text/plain": [
       "(81920,)"
      ]
     },
     "execution_count": 133,
     "metadata": {},
     "output_type": "execute_result"
    }
   ],
   "source": [
    "this_cav.shape"
   ]
  },
  {
   "cell_type": "code",
   "execution_count": 138,
   "metadata": {},
   "outputs": [
    {
     "name": "stdout",
     "output_type": "stream",
     "text": [
      "already in df zebra, mixed8, striped_sub_1, 0\n",
      "already in df zebra, mixed8, striped_sub_1, 1\n",
      "already in df zebra, mixed8, striped_sub_1, 2\n",
      "already in df zebra, mixed8, striped_sub_1, 3\n",
      "already in df zebra, mixed8, striped_sub_1, 4\n",
      "already in df zebra, mixed8, striped_sub_1, 5\n",
      "already in df zebra, mixed8, striped_sub_1, 6\n",
      "already in df zebra, mixed8, striped_sub_1, 7\n",
      "already in df zebra, mixed8, striped_sub_1, 8\n",
      "already in df zebra, mixed8, striped_sub_1, 9\n",
      "already in df zebra, mixed8, striped_sub_1, 10\n",
      "already in df zebra, mixed8, striped_sub_1, 11\n",
      "already in df zebra, mixed8, striped_sub_1, 12\n",
      "already in df zebra, mixed8, striped_sub_1, 13\n",
      "already in df zebra, mixed8, striped_sub_1, 14\n",
      "already in df zebra, mixed8, striped_sub_1, 15\n",
      "already in df zebra, mixed8, striped_sub_1, 16\n",
      "already in df zebra, mixed8, striped_sub_1, 17\n",
      "already in df zebra, mixed8, striped_sub_1, 18\n",
      "already in df zebra, mixed8, striped_sub_1, 19\n",
      "already in df zebra, mixed8, striped_sub_1, 20\n",
      "already in df zebra, mixed8, striped_sub_1, 21\n",
      "already in df zebra, mixed8, striped_sub_1, 22\n",
      "already in df zebra, mixed8, striped_sub_1, 23\n",
      "already in df zebra, mixed8, striped_sub_1, 24\n",
      "already in df zebra, mixed8, striped_sub_1, 25\n",
      "already in df zebra, mixed8, striped_sub_1, 26\n",
      "already in df zebra, mixed8, striped_sub_1, 27\n",
      "already in df zebra, mixed8, striped_sub_1, 28\n",
      "already in df zebra, mixed8, striped_sub_1, 29\n",
      "already in df zebra, mixed8, striped_sub_1, 30\n",
      "already in df zebra, mixed8, striped_sub_1, 31\n",
      "already in df zebra, mixed8, striped_sub_1, 32\n",
      "already in df zebra, mixed8, striped_sub_1, 33\n",
      "already in df zebra, mixed8, striped_sub_1, 34\n",
      "already in df zebra, mixed8, striped_sub_1, 35\n",
      "already in df zebra, mixed8, striped_sub_1, 36\n",
      "already in df zebra, mixed8, striped_sub_1, 37\n",
      "already in df zebra, mixed8, striped_sub_1, 38\n",
      "already in df zebra, mixed8, striped_sub_1, 39\n",
      "already in df zebra, mixed8, striped_sub_1, 40\n",
      "already in df zebra, mixed8, striped_sub_1, 41\n",
      "already in df zebra, mixed8, striped_sub_1, 42\n",
      "already in df zebra, mixed8, striped_sub_1, 43\n",
      "already in df zebra, mixed8, striped_sub_1, 44\n",
      "already in df zebra, mixed8, striped_sub_1, 45\n",
      "already in df zebra, mixed8, striped_sub_1, 46\n",
      "already in df zebra, mixed8, striped_sub_1, 47\n",
      "already in df zebra, mixed8, striped_sub_1, 48\n",
      "already in df zebra, mixed8, striped_sub_1, 49\n",
      "### did write ###\n"
     ]
    }
   ],
   "source": [
    "## CAV loop\n",
    "source_dir = working_dir + '/concepts/'\n",
    "activation_dir =  working_dir + '/activations/'\n",
    "cav_dir = working_dir + '/cav_dir'\n",
    "\n",
    "target_class = 'zebra'\n",
    "class_1 = 'striped_sub_1'\n",
    "concepts = ['striped_sub_2', 'random500_3']\n",
    "\n",
    "class_1_list = ['striped_sub_1', 'striped_sub_2']\n",
    "class_1_list = ['striped_sub_1']\n",
    "\n",
    "hparams = tf.contrib.training.HParams(model_type='linear', alpha=.1)\n",
    "act_generator = act_gen.ImageActivationGenerator(mymodel, source_dir, activation_dir, max_examples=50)\n",
    "\n",
    "\n",
    "bn_names = ['mixed0','mixed1','mixed2','mixed3','mixed4','mixed5','mixed6','mixed7','mixed8','mixed9','mixed10']\n",
    "bn_names = ['mixed8']\n",
    "\n",
    "tf.logging.set_verbosity(0)\n",
    "\n",
    "columns = ['target_class','bottleneck','class_1','class_idx','this_acc']\n",
    "#acc = pd.DataFrame(columns = columns)\n",
    "\n",
    "df = pickle.load(open('cav_dir/df.pkl', 'rb'))\n",
    "\n",
    "for class_1 in class_1_list:\n",
    "    for bottleneck in  bn_names:\n",
    "        for class_idx in range(50):\n",
    "            # check if in df already\n",
    "            if len(df[(df['target_class']==target_class) & \n",
    "                    (df['bottleneck']==bottleneck) & \n",
    "                    (df['class_1']==class_1) &\n",
    "                    (df['class_idx']==class_idx)]) == 0:\n",
    "                print(f'running {target_class}, {bottleneck}, {class_1}, {class_idx}')\n",
    "\n",
    "                concepts = [class_1, 'random500_' + str(class_idx)]\n",
    "                acts = act_generator.process_and_load_activations([bottleneck], concepts + [target_class])\n",
    "                cav_data = cav.get_or_train_cav(concepts,bottleneck,acts,cav_hparams=hparams,cav_dir=cav_dir)\n",
    "                this_cav = cav_data.cavs[0]\n",
    "\n",
    "                class_acts = acts[target_class][bottleneck]\n",
    "                this_acc = comp_tcav(target_class,this_cav,class_acts,bottleneck)\n",
    "\n",
    "                this_dict = {'target_class':target_class,\n",
    "                             'bottleneck':bottleneck,\n",
    "                             'class_1':class_1,\n",
    "                             'class_idx':class_idx,\n",
    "                             'this_acc':this_acc\n",
    "                            }\n",
    "                df = df.append([this_dict])\n",
    "            else:\n",
    "                print(f'already in df {target_class}, {bottleneck}, {class_1}, {class_idx}')\n",
    "            \n",
    "pickle.dump(df,open('cav_dir/df.pkl', 'wb'))\n",
    "print('### did write ###')"
   ]
  },
  {
   "cell_type": "code",
   "execution_count": null,
   "metadata": {},
   "outputs": [],
   "source": []
  },
  {
   "cell_type": "code",
   "execution_count": null,
   "metadata": {},
   "outputs": [],
   "source": []
  },
  {
   "cell_type": "code",
   "execution_count": 129,
   "metadata": {},
   "outputs": [],
   "source": [
    "bottleneck = 'mixed9'\n",
    "class_1 = 'striped_sub_1'\n",
    "\n",
    "this_list = df[(df['target_class']==target_class) & \n",
    "                (df['bottleneck']==bottleneck) & \n",
    "                (df['class_1']==class_1)]"
   ]
  },
  {
   "cell_type": "code",
   "execution_count": 130,
   "metadata": {},
   "outputs": [
    {
     "data": {
      "text/html": [
       "<div>\n",
       "<style scoped>\n",
       "    .dataframe tbody tr th:only-of-type {\n",
       "        vertical-align: middle;\n",
       "    }\n",
       "\n",
       "    .dataframe tbody tr th {\n",
       "        vertical-align: top;\n",
       "    }\n",
       "\n",
       "    .dataframe thead th {\n",
       "        text-align: right;\n",
       "    }\n",
       "</style>\n",
       "<table border=\"1\" class=\"dataframe\">\n",
       "  <thead>\n",
       "    <tr style=\"text-align: right;\">\n",
       "      <th></th>\n",
       "      <th>target_class</th>\n",
       "      <th>bottleneck</th>\n",
       "      <th>class_1</th>\n",
       "      <th>class_idx</th>\n",
       "      <th>this_acc</th>\n",
       "    </tr>\n",
       "  </thead>\n",
       "  <tbody>\n",
       "    <tr>\n",
       "      <th>0</th>\n",
       "      <td>zebra</td>\n",
       "      <td>mixed9</td>\n",
       "      <td>striped_sub_1</td>\n",
       "      <td>0</td>\n",
       "      <td>0.4</td>\n",
       "    </tr>\n",
       "    <tr>\n",
       "      <th>0</th>\n",
       "      <td>zebra</td>\n",
       "      <td>mixed9</td>\n",
       "      <td>striped_sub_1</td>\n",
       "      <td>1</td>\n",
       "      <td>0.2</td>\n",
       "    </tr>\n",
       "    <tr>\n",
       "      <th>0</th>\n",
       "      <td>zebra</td>\n",
       "      <td>mixed9</td>\n",
       "      <td>striped_sub_1</td>\n",
       "      <td>2</td>\n",
       "      <td>0.6</td>\n",
       "    </tr>\n",
       "    <tr>\n",
       "      <th>0</th>\n",
       "      <td>zebra</td>\n",
       "      <td>mixed9</td>\n",
       "      <td>striped_sub_1</td>\n",
       "      <td>3</td>\n",
       "      <td>0.4</td>\n",
       "    </tr>\n",
       "    <tr>\n",
       "      <th>0</th>\n",
       "      <td>zebra</td>\n",
       "      <td>mixed9</td>\n",
       "      <td>striped_sub_1</td>\n",
       "      <td>4</td>\n",
       "      <td>0.6</td>\n",
       "    </tr>\n",
       "    <tr>\n",
       "      <th>0</th>\n",
       "      <td>zebra</td>\n",
       "      <td>mixed9</td>\n",
       "      <td>striped_sub_1</td>\n",
       "      <td>5</td>\n",
       "      <td>0.7</td>\n",
       "    </tr>\n",
       "    <tr>\n",
       "      <th>0</th>\n",
       "      <td>zebra</td>\n",
       "      <td>mixed9</td>\n",
       "      <td>striped_sub_1</td>\n",
       "      <td>6</td>\n",
       "      <td>0.4</td>\n",
       "    </tr>\n",
       "    <tr>\n",
       "      <th>0</th>\n",
       "      <td>zebra</td>\n",
       "      <td>mixed9</td>\n",
       "      <td>striped_sub_1</td>\n",
       "      <td>7</td>\n",
       "      <td>0.4</td>\n",
       "    </tr>\n",
       "    <tr>\n",
       "      <th>0</th>\n",
       "      <td>zebra</td>\n",
       "      <td>mixed9</td>\n",
       "      <td>striped_sub_1</td>\n",
       "      <td>8</td>\n",
       "      <td>0.3</td>\n",
       "    </tr>\n",
       "    <tr>\n",
       "      <th>0</th>\n",
       "      <td>zebra</td>\n",
       "      <td>mixed9</td>\n",
       "      <td>striped_sub_1</td>\n",
       "      <td>9</td>\n",
       "      <td>0.7</td>\n",
       "    </tr>\n",
       "    <tr>\n",
       "      <th>0</th>\n",
       "      <td>zebra</td>\n",
       "      <td>mixed9</td>\n",
       "      <td>striped_sub_1</td>\n",
       "      <td>10</td>\n",
       "      <td>0.4</td>\n",
       "    </tr>\n",
       "    <tr>\n",
       "      <th>0</th>\n",
       "      <td>zebra</td>\n",
       "      <td>mixed9</td>\n",
       "      <td>striped_sub_1</td>\n",
       "      <td>11</td>\n",
       "      <td>0.5</td>\n",
       "    </tr>\n",
       "    <tr>\n",
       "      <th>0</th>\n",
       "      <td>zebra</td>\n",
       "      <td>mixed9</td>\n",
       "      <td>striped_sub_1</td>\n",
       "      <td>12</td>\n",
       "      <td>0.1</td>\n",
       "    </tr>\n",
       "    <tr>\n",
       "      <th>0</th>\n",
       "      <td>zebra</td>\n",
       "      <td>mixed9</td>\n",
       "      <td>striped_sub_1</td>\n",
       "      <td>13</td>\n",
       "      <td>0.3</td>\n",
       "    </tr>\n",
       "    <tr>\n",
       "      <th>0</th>\n",
       "      <td>zebra</td>\n",
       "      <td>mixed9</td>\n",
       "      <td>striped_sub_1</td>\n",
       "      <td>14</td>\n",
       "      <td>0.3</td>\n",
       "    </tr>\n",
       "    <tr>\n",
       "      <th>0</th>\n",
       "      <td>zebra</td>\n",
       "      <td>mixed9</td>\n",
       "      <td>striped_sub_1</td>\n",
       "      <td>15</td>\n",
       "      <td>0.2</td>\n",
       "    </tr>\n",
       "    <tr>\n",
       "      <th>0</th>\n",
       "      <td>zebra</td>\n",
       "      <td>mixed9</td>\n",
       "      <td>striped_sub_1</td>\n",
       "      <td>16</td>\n",
       "      <td>0.8</td>\n",
       "    </tr>\n",
       "    <tr>\n",
       "      <th>0</th>\n",
       "      <td>zebra</td>\n",
       "      <td>mixed9</td>\n",
       "      <td>striped_sub_1</td>\n",
       "      <td>17</td>\n",
       "      <td>0.3</td>\n",
       "    </tr>\n",
       "    <tr>\n",
       "      <th>0</th>\n",
       "      <td>zebra</td>\n",
       "      <td>mixed9</td>\n",
       "      <td>striped_sub_1</td>\n",
       "      <td>18</td>\n",
       "      <td>0.3</td>\n",
       "    </tr>\n",
       "    <tr>\n",
       "      <th>0</th>\n",
       "      <td>zebra</td>\n",
       "      <td>mixed9</td>\n",
       "      <td>striped_sub_1</td>\n",
       "      <td>19</td>\n",
       "      <td>0.7</td>\n",
       "    </tr>\n",
       "  </tbody>\n",
       "</table>\n",
       "</div>"
      ],
      "text/plain": [
       "  target_class bottleneck        class_1 class_idx  this_acc\n",
       "0        zebra     mixed9  striped_sub_1         0       0.4\n",
       "0        zebra     mixed9  striped_sub_1         1       0.2\n",
       "0        zebra     mixed9  striped_sub_1         2       0.6\n",
       "0        zebra     mixed9  striped_sub_1         3       0.4\n",
       "0        zebra     mixed9  striped_sub_1         4       0.6\n",
       "0        zebra     mixed9  striped_sub_1         5       0.7\n",
       "0        zebra     mixed9  striped_sub_1         6       0.4\n",
       "0        zebra     mixed9  striped_sub_1         7       0.4\n",
       "0        zebra     mixed9  striped_sub_1         8       0.3\n",
       "0        zebra     mixed9  striped_sub_1         9       0.7\n",
       "0        zebra     mixed9  striped_sub_1        10       0.4\n",
       "0        zebra     mixed9  striped_sub_1        11       0.5\n",
       "0        zebra     mixed9  striped_sub_1        12       0.1\n",
       "0        zebra     mixed9  striped_sub_1        13       0.3\n",
       "0        zebra     mixed9  striped_sub_1        14       0.3\n",
       "0        zebra     mixed9  striped_sub_1        15       0.2\n",
       "0        zebra     mixed9  striped_sub_1        16       0.8\n",
       "0        zebra     mixed9  striped_sub_1        17       0.3\n",
       "0        zebra     mixed9  striped_sub_1        18       0.3\n",
       "0        zebra     mixed9  striped_sub_1        19       0.7"
      ]
     },
     "execution_count": 130,
     "metadata": {},
     "output_type": "execute_result"
    }
   ],
   "source": [
    "this_list"
   ]
  },
  {
   "cell_type": "code",
   "execution_count": 120,
   "metadata": {},
   "outputs": [
    {
     "data": {
      "text/plain": [
       "0.4739999999999999"
      ]
     },
     "execution_count": 120,
     "metadata": {},
     "output_type": "execute_result"
    }
   ],
   "source": [
    "this_list['this_acc'].mean()"
   ]
  },
  {
   "cell_type": "code",
   "execution_count": null,
   "metadata": {},
   "outputs": [],
   "source": []
  },
  {
   "cell_type": "code",
   "execution_count": 102,
   "metadata": {},
   "outputs": [
    {
     "data": {
      "text/plain": [
       "Ttest_1sampResult(statistic=-2.2204296750073302, pvalue=0.05352649820286758)"
      ]
     },
     "execution_count": 102,
     "metadata": {},
     "output_type": "execute_result"
    }
   ],
   "source": [
    "run_t_test(this_list['this_acc'])\n",
    "#acc_list"
   ]
  },
  {
   "cell_type": "code",
   "execution_count": null,
   "metadata": {},
   "outputs": [],
   "source": []
  },
  {
   "cell_type": "code",
   "execution_count": 123,
   "metadata": {},
   "outputs": [],
   "source": [
    "bn_names = ['mixed0','mixed1','mixed2','mixed3','mixed4','mixed5','mixed6','mixed7','mixed8','mixed9','mixed10']\n",
    "\n",
    "stats_dict = {}\n",
    "for bn in bn_names:\n",
    "    target_class = 'zebra'\n",
    "    this_list = df[(df['target_class']==target_class) & \n",
    "                (df['bottleneck']==bn)]\n",
    "    stats_dict[bn] = this_list.mean()"
   ]
  },
  {
   "cell_type": "code",
   "execution_count": 124,
   "metadata": {},
   "outputs": [
    {
     "data": {
      "text/plain": [
       "{'mixed0': this_acc    0.605\n",
       " dtype: float64, 'mixed1': this_acc    0.526\n",
       " dtype: float64, 'mixed2': this_acc    0.474\n",
       " dtype: float64, 'mixed3': this_acc    0.54\n",
       " dtype: float64, 'mixed4': this_acc    0.56\n",
       " dtype: float64, 'mixed5': this_acc    0.51425\n",
       " dtype: float64, 'mixed6': this_acc    0.76\n",
       " dtype: float64, 'mixed7': this_acc    0.418\n",
       " dtype: float64, 'mixed8': this_acc    0.645\n",
       " dtype: float64, 'mixed9': this_acc    0.42\n",
       " dtype: float64, 'mixed10': this_acc    1.0\n",
       " dtype: float64}"
      ]
     },
     "execution_count": 124,
     "metadata": {},
     "output_type": "execute_result"
    }
   ],
   "source": [
    "stats_dict"
   ]
  },
  {
   "cell_type": "code",
   "execution_count": null,
   "metadata": {},
   "outputs": [],
   "source": []
  },
  {
   "cell_type": "code",
   "execution_count": null,
   "metadata": {
    "collapsed": true
   },
   "outputs": [],
   "source": [
    "## Get list of TCAV scores\n",
    "tcavs = []\n",
    "\n",
    "class_1 = 'knitted_sub_2'\n",
    "class_2 = 'random500_0'\n",
    "\n",
    "layer = 'mixed9'\n",
    "lm_type = 'linear'\n",
    "cav_name = class_1 + '-' + class_2 + '-' + layer + '-' + lm_type + '-0.1'\n",
    "sub_path = 'cavs/' + cav_name \n",
    "\n",
    "path = os.path.join(working_dir,sub_path + '.pkl')\n",
    "\n",
    "with open(path, 'rb') as f:\n",
    "    cav_data = pickle.load(f)\n",
    "this_cav = cav_data['cavs'][0]\n",
    "\n",
    "# GET ACTS\n",
    "bottleneck_name = layer\n",
    "acts = act_generator.process_and_load_activations([bottleneck_name], concepts + [target_class])\n",
    "class_acts = acts[target_class][layer]"
   ]
  },
  {
   "cell_type": "code",
   "execution_count": null,
   "metadata": {
    "collapsed": true
   },
   "outputs": [],
   "source": []
  },
  {
   "cell_type": "code",
   "execution_count": null,
   "metadata": {
    "collapsed": true
   },
   "outputs": [],
   "source": []
  },
  {
   "cell_type": "code",
   "execution_count": null,
   "metadata": {
    "collapsed": true
   },
   "outputs": [],
   "source": []
  },
  {
   "cell_type": "code",
   "execution_count": null,
   "metadata": {
    "collapsed": true
   },
   "outputs": [],
   "source": []
  },
  {
   "cell_type": "code",
   "execution_count": null,
   "metadata": {
    "collapsed": true
   },
   "outputs": [],
   "source": []
  },
  {
   "cell_type": "code",
   "execution_count": 113,
   "metadata": {},
   "outputs": [
    {
     "name": "stdout",
     "output_type": "stream",
     "text": [
      "['knitted_sub_2', 'zebra']\n",
      "INFO:tensorflow:Loaded /home/tyler/Desktop/tcav_on_azure/activations/acts_knitted_sub_2_mixed9 shape (50, 8, 8, 2048)\n",
      "INFO:tensorflow:Loaded /home/tyler/Desktop/tcav_on_azure/activations/acts_zebra_mixed9 shape (50, 8, 8, 2048)\n"
     ]
    }
   ],
   "source": [
    "# GET CAV\n",
    "class_1 = 'knitted_sub_2'\n",
    "class_2 = 'random500_0'\n",
    "\n",
    "layer = 'mixed9'\n",
    "lm_type = 'linear'\n",
    "cav_name = class_1 + '-' + class_2 + '-' + layer + '-' + lm_type + '-0.1'\n",
    "sub_path = 'cavs/' + cav_name \n",
    "\n",
    "path = os.path.join(working_dir,sub_path + '.pkl')\n",
    "\n",
    "with open(path, 'rb') as f:\n",
    "    cav_data = pickle.load(f)\n",
    "this_cav = cav_data['cavs'][0]\n",
    "\n",
    "# GET ACTS\n",
    "bottleneck_name = layer\n",
    "acts = act_generator.process_and_load_activations([bottleneck_name], concepts + [target_class])\n",
    "class_acts = acts[target_class][layer]"
   ]
  },
  {
   "cell_type": "code",
   "execution_count": 200,
   "metadata": {},
   "outputs": [
    {
     "data": {
      "text/plain": [
       "0.84"
      ]
     },
     "execution_count": 200,
     "metadata": {},
     "output_type": "execute_result"
    }
   ],
   "source": [
    "comp_tcav(target_class,this_cav,class_acts,'mixed8')"
   ]
  },
  {
   "cell_type": "code",
   "execution_count": 199,
   "metadata": {},
   "outputs": [
    {
     "data": {
      "text/plain": [
       "(81920,)"
      ]
     },
     "execution_count": 199,
     "metadata": {},
     "output_type": "execute_result"
    }
   ],
   "source": [
    "this_cav.shape"
   ]
  },
  {
   "cell_type": "code",
   "execution_count": null,
   "metadata": {
    "collapsed": true
   },
   "outputs": [],
   "source": []
  },
  {
   "cell_type": "markdown",
   "metadata": {},
   "source": [
    "## t-test"
   ]
  },
  {
   "cell_type": "code",
   "execution_count": 35,
   "metadata": {},
   "outputs": [],
   "source": [
    "\n",
    "a = np.array([45,45,50,1])\n",
    "a = np.random.rand(100) * 5 + 47\n",
    "stats.ttest_1samp(a,50)\n",
    "\n",
    "def run_t_test(this_list):\n",
    "    return stats.ttest_1samp(this_list,.5)"
   ]
  },
  {
   "cell_type": "code",
   "execution_count": null,
   "metadata": {
    "collapsed": true
   },
   "outputs": [],
   "source": []
  },
  {
   "cell_type": "code",
   "execution_count": 19,
   "metadata": {},
   "outputs": [],
   "source": [
    "def comp_tcav(target_class,cav,class_acts,bottleneck_name):\n",
    "    count = 0\n",
    "    class_id = mymodel.label_to_id(target_class)\n",
    "\n",
    "    for i in range(len(class_acts)):\n",
    "        act = np.expand_dims(class_acts[i], 0)\n",
    "        if get_dir(act, class_id,cav,bottleneck_name):\n",
    "            count += 1\n",
    "    return float(count) / float(len(class_acts))\n",
    "\n",
    "def get_dir(acts, class_id, this_cav, bottleneck_name):\n",
    "    grads = sess.run(mymodel.bottlenecks_gradients[bottleneck_name], \n",
    "                 {mymodel.bottlenecks_tensors[bottleneck_name]: acts,\n",
    "                 mymodel.y_input: [class_id]})\n",
    "                     \n",
    "    grad = np.reshape(grads, -1)\n",
    "    dot_prod = np.dot(grad, this_cav)\n",
    "\n",
    "    return dot_prod < 0"
   ]
  },
  {
   "cell_type": "code",
   "execution_count": null,
   "metadata": {
    "collapsed": true
   },
   "outputs": [],
   "source": []
  },
  {
   "cell_type": "code",
   "execution_count": null,
   "metadata": {
    "collapsed": true
   },
   "outputs": [],
   "source": [
    "working_dir = '/home/tyler/Desktop/tcav_on_azure'\n",
    "activation_dir =  working_dir + '/activations/'\n",
    "cav_dir = working_dir + '/cavs/'\n",
    "source_dir = working_dir + '/concepts/'\n",
    "\n",
    "target = 'zebra'\n",
    "\n",
    "concepts = ['banded_sub_1','banded_sub_2']   \n",
    "\n",
    "#'mixed0','mixed1', 'mixed2', 'mixed3', 'mixed4', 'mixed5', 'mixed6', 'mixed7', 'mixed8', 'mixed9_0', 'mixed9', 'mixed9_1', 'mixed10'\n",
    "bottlenecks = ['mixed9']\n",
    "\n",
    "alphas = [0.1]\n"
   ]
  },
  {
   "cell_type": "code",
   "execution_count": null,
   "metadata": {
    "collapsed": true
   },
   "outputs": [],
   "source": [
    "act_generator = act_gen.ImageActivationGenerator(mymodel, source_dir, activation_dir, max_examples=50)\n",
    "\n",
    "tf.logging.set_verbosity(0)\n",
    "\n",
    "mytcav = tcav.TCAV(sess,\n",
    "        target, concepts, bottlenecks,\n",
    "        act_generator, alphas,\n",
    "        cav_dir = cav_dir,\n",
    "        random_concepts=['random500_3'])"
   ]
  },
  {
   "cell_type": "code",
   "execution_count": null,
   "metadata": {
    "collapsed": true
   },
   "outputs": [],
   "source": [
    "mytcav.run()"
   ]
  },
  {
   "cell_type": "code",
   "execution_count": null,
   "metadata": {
    "collapsed": true
   },
   "outputs": [],
   "source": []
  },
  {
   "cell_type": "code",
   "execution_count": null,
   "metadata": {
    "collapsed": true
   },
   "outputs": [],
   "source": [
    "mytcav.cav_dir"
   ]
  },
  {
   "cell_type": "code",
   "execution_count": null,
   "metadata": {
    "collapsed": true
   },
   "outputs": [],
   "source": [
    "import run_params"
   ]
  },
  {
   "cell_type": "code",
   "execution_count": null,
   "metadata": {
    "collapsed": true
   },
   "outputs": [],
   "source": [
    "these_params = run_params.RunParams(bottleneck, concepts, target,\n",
    "                                   act_generator, cav_dir,\n",
    "                                   alphas[0], mymodel)"
   ]
  },
  {
   "cell_type": "code",
   "execution_count": null,
   "metadata": {
    "collapsed": true
   },
   "outputs": [],
   "source": []
  },
  {
   "cell_type": "code",
   "execution_count": null,
   "metadata": {
    "collapsed": true
   },
   "outputs": [],
   "source": [
    "cav_data"
   ]
  },
  {
   "cell_type": "code",
   "execution_count": null,
   "metadata": {
    "collapsed": true
   },
   "outputs": [],
   "source": []
  },
  {
   "cell_type": "code",
   "execution_count": null,
   "metadata": {
    "collapsed": true
   },
   "outputs": [],
   "source": [
    "class_acts = acts[target_class][cav_data['bottleneck']]\n",
    "\n",
    "comp_tcav(mymodel,target,concepts[0],cav_data,class_acts)"
   ]
  },
  {
   "cell_type": "code",
   "execution_count": null,
   "metadata": {
    "collapsed": true
   },
   "outputs": [],
   "source": [
    "mymodel.y_input\n"
   ]
  },
  {
   "cell_type": "code",
   "execution_count": null,
   "metadata": {
    "collapsed": true
   },
   "outputs": [],
   "source": []
  },
  {
   "cell_type": "code",
   "execution_count": null,
   "metadata": {
    "collapsed": true
   },
   "outputs": [],
   "source": [
    "cav_data['bottleneck']"
   ]
  },
  {
   "cell_type": "code",
   "execution_count": null,
   "metadata": {},
   "outputs": [],
   "source": []
  },
  {
   "cell_type": "code",
   "execution_count": null,
   "metadata": {
    "collapsed": true
   },
   "outputs": [],
   "source": [
    "bottlenecks_tensors = get_bottleneck_tensors()"
   ]
  },
  {
   "cell_type": "code",
   "execution_count": null,
   "metadata": {
    "collapsed": true
   },
   "outputs": [],
   "source": [
    "#bottlenecks_tensors"
   ]
  },
  {
   "cell_type": "code",
   "execution_count": null,
   "metadata": {
    "collapsed": true
   },
   "outputs": [],
   "source": []
  },
  {
   "cell_type": "code",
   "execution_count": null,
   "metadata": {
    "collapsed": true
   },
   "outputs": [],
   "source": [
    "ends = dict(\n",
    "    input=model.inputs[0].name,\n",
    "    input_tensor=model.inputs[0],\n",
    "    logit=model.outputs[0].name,\n",
    "    prediction=model.outputs[0].name,\n",
    "    prediction_tensor=model.outputs[0],)\n",
    "\n",
    "bottlenecks_tensors = get_bottleneck_tensors()\n",
    "\n",
    "graph = tf.get_default_graph()\n",
    "\n",
    "# Construct gradient ops.\n",
    "with graph.as_default():\n",
    "    y_input = tf.placeholder(tf.int64, shape=[None])\n",
    "\n",
    "    pred = tf.expand_dims(ends['prediction_tensor'][0], 0)\n",
    "    loss = tf.reduce_mean(\n",
    "      tf.nn.softmax_cross_entropy_with_logits_v2(\n",
    "          labels=tf.one_hot(y_input,ends['prediction_tensor'].get_shape().as_list()[1]),logits=pred))\n",
    "    #make_gradient_tensors()\n",
    "    bottlenecks_gradients = {}\n",
    "    for bn in bottlenecks_tensors:\n",
    "        bottlenecks_gradients[bn] = tf.gradients(loss, bottlenecks_tensors[bn])[0]\n",
    "    \n",
    "def make_gradient_tensors():\n",
    "    bottlenecks_gradients = {}\n",
    "    for bn in bottlenecks_tensors:\n",
    "        bottlenecks_gradients[bn] = tf.gradients(loss, bottlenecks_tensors[bn])[0]"
   ]
  },
  {
   "cell_type": "code",
   "execution_count": null,
   "metadata": {
    "collapsed": true
   },
   "outputs": [],
   "source": [
    "ends"
   ]
  },
  {
   "cell_type": "code",
   "execution_count": null,
   "metadata": {
    "collapsed": true
   },
   "outputs": [],
   "source": [
    "tf.gradients(loss, bottlenecks_tensors['mixed9'])"
   ]
  },
  {
   "cell_type": "code",
   "execution_count": null,
   "metadata": {
    "collapsed": true
   },
   "outputs": [],
   "source": [
    "y = mymodel.label_to_id(target_class)"
   ]
  },
  {
   "cell_type": "code",
   "execution_count": null,
   "metadata": {
    "collapsed": true
   },
   "outputs": [],
   "source": [
    "sess.run()"
   ]
  },
  {
   "cell_type": "code",
   "execution_count": null,
   "metadata": {
    "collapsed": true
   },
   "outputs": [],
   "source": [
    "#mymodel.get_gradient(acts,y,'mixed9')"
   ]
  },
  {
   "cell_type": "code",
   "execution_count": null,
   "metadata": {
    "collapsed": true
   },
   "outputs": [],
   "source": [
    "#bottlenecks_gradients['mixed9']"
   ]
  },
  {
   "cell_type": "code",
   "execution_count": null,
   "metadata": {
    "collapsed": true
   },
   "outputs": [],
   "source": [
    "#bottlenecks_gradients"
   ]
  },
  {
   "cell_type": "code",
   "execution_count": null,
   "metadata": {
    "collapsed": true
   },
   "outputs": [],
   "source": [
    "bottlenecks_gradients['mixed9']"
   ]
  },
  {
   "cell_type": "code",
   "execution_count": null,
   "metadata": {
    "collapsed": true
   },
   "outputs": [],
   "source": [
    "bottleneck_name = 'mixed9'\n",
    "#y = \n",
    "grads = sess.run(bottlenecks_gradients[bottleneck_name], feed_dict = {bottlenecks_tensors[bottleneck_name]: acts, y_input: y})"
   ]
  },
  {
   "cell_type": "code",
   "execution_count": null,
   "metadata": {
    "collapsed": true
   },
   "outputs": [],
   "source": [
    "#bottlenecks_tensors"
   ]
  },
  {
   "cell_type": "code",
   "execution_count": null,
   "metadata": {
    "collapsed": true
   },
   "outputs": [],
   "source": []
  },
  {
   "cell_type": "code",
   "execution_count": null,
   "metadata": {
    "collapsed": true
   },
   "outputs": [],
   "source": [
    "\n",
    "\n",
    "def get_bottleneck_tensors():\n",
    "    \"\"\"Add Inception bottlenecks and their pre-Relu versions to endpoints dict.\"\"\"\n",
    "    graph = tf.get_default_graph()\n",
    "    bn_endpoints = {}\n",
    "    for op in graph.get_operations():\n",
    "        # change this below string to change which layers are considered bottlenecks\n",
    "        # use 'ConcatV2' for InceptionV3\n",
    "        # use 'MaxPool' for VGG16 (for example)\n",
    "        if 'ConcatV2' in op.type:\n",
    "            name = op.name.split('/')[0]\n",
    "            bn_endpoints[name] = op.outputs[0]\n",
    "    return bn_endpoints\n",
    "\n",
    "\n"
   ]
  },
  {
   "cell_type": "code",
   "execution_count": null,
   "metadata": {
    "collapsed": true
   },
   "outputs": [],
   "source": [
    "#mytcav._run_single_set(these_params)"
   ]
  },
  {
   "cell_type": "code",
   "execution_count": null,
   "metadata": {
    "collapsed": true
   },
   "outputs": [],
   "source": []
  },
  {
   "cell_type": "code",
   "execution_count": null,
   "metadata": {
    "collapsed": true
   },
   "outputs": [],
   "source": []
  },
  {
   "cell_type": "code",
   "execution_count": null,
   "metadata": {
    "collapsed": true
   },
   "outputs": [],
   "source": []
  },
  {
   "cell_type": "code",
   "execution_count": null,
   "metadata": {
    "collapsed": true
   },
   "outputs": [],
   "source": [
    "  def get_key(self):\n",
    "    return '_'.join([\n",
    "        str(self.bottleneck), '_'.join(self.concepts),\n",
    "        'target_' + self.target_class, 'alpha_' + str(self.alpha)\n",
    "    ])"
   ]
  },
  {
   "cell_type": "code",
   "execution_count": null,
   "metadata": {
    "collapsed": true
   },
   "outputs": [],
   "source": []
  },
  {
   "cell_type": "code",
   "execution_count": null,
   "metadata": {
    "collapsed": true
   },
   "outputs": [],
   "source": []
  },
  {
   "cell_type": "code",
   "execution_count": null,
   "metadata": {
    "collapsed": true
   },
   "outputs": [],
   "source": []
  },
  {
   "cell_type": "code",
   "execution_count": null,
   "metadata": {
    "collapsed": true
   },
   "outputs": [],
   "source": []
  },
  {
   "cell_type": "code",
   "execution_count": null,
   "metadata": {
    "collapsed": true
   },
   "outputs": [],
   "source": []
  },
  {
   "cell_type": "markdown",
   "metadata": {},
   "source": [
    "## CAVs using center of mass"
   ]
  },
  {
   "cell_type": "code",
   "execution_count": null,
   "metadata": {
    "collapsed": true
   },
   "outputs": [],
   "source": [
    "class_1 = 'striped_sub_1'\n",
    "class_2 = 'random500_3'\n",
    "\n",
    "layer = 'mixed9'\n",
    "lm_type = 'linear'\n",
    "#lm_type = 'logistic'\n",
    "cav_name = class_1 + '-' + class_2 + '-' + layer + '-' + lm_type + '-0.1'\n",
    "sub_path = 'cavs/' + cav_name \n",
    "\n",
    "# Load training/testing data\n",
    "path = os.path.join(working_dir,sub_path + '_test.pkl')\n",
    "with open(path, 'rb') as f:\n",
    "    data = pickle.load(f)\n",
    "    \n",
    "d = dict(data)\n",
    "x_train = d['x_train']\n",
    "x_test = d['x_test']\n",
    "y_train = d['y_train']\n",
    "y_test = d['y_test']\n",
    "y_pred = d['y_pred']\n",
    "\n",
    "path = os.path.join(working_dir,sub_path + '.pkl')\n",
    "\n",
    "with open(path, 'rb') as f:\n",
    "    cav_data = pickle.load(f)\n",
    "this_cav = cav_data['cavs'][0]"
   ]
  },
  {
   "cell_type": "code",
   "execution_count": null,
   "metadata": {
    "collapsed": true
   },
   "outputs": [],
   "source": [
    "x_train_p_list,x_train_n_list = [],[]\n",
    "for idx,a in enumerate(x_train):\n",
    "    if y_train[idx] == 0:\n",
    "        x_train_p_list.append(a)\n",
    "    else:\n",
    "        x_train_n_list.append(a)\n",
    "x_train_p,x_train_n = np.array(x_train_p_list),np.array(x_train_n_list)\n"
   ]
  },
  {
   "cell_type": "code",
   "execution_count": null,
   "metadata": {
    "collapsed": true
   },
   "outputs": [],
   "source": [
    "#x_train.shape"
   ]
  },
  {
   "cell_type": "code",
   "execution_count": null,
   "metadata": {
    "collapsed": true
   },
   "outputs": [],
   "source": [
    "p_avg = x_train_p.mean(axis=0,keepdims=True)\n",
    "n_avg = x_train_n.mean(axis=0,keepdims=True)\n",
    "cav_by_mass = (p_avg - n_avg).reshape(-1)"
   ]
  },
  {
   "cell_type": "code",
   "execution_count": null,
   "metadata": {
    "collapsed": true
   },
   "outputs": [],
   "source": []
  },
  {
   "cell_type": "code",
   "execution_count": null,
   "metadata": {
    "collapsed": true
   },
   "outputs": [],
   "source": [
    "fig = plt.figure(figsize=[5,5])\n",
    "\n",
    "# TRAIN\n",
    "x_train_embed_pca = np.dot(pca_components, x_train.T)\n",
    "color_train_pca = ['red' if y == 0 else 'blue' for y in y_train]\n",
    "\n",
    "plt.scatter(x_train_embed_pca[0], x_train_embed_pca[1], color = color_train_pca)\n",
    "#plt.scatter(x_test_embed_pca[0], x_test_embed_pca[1], color = color_test_pca) #, alpha = .6)\n",
    "\n",
    "circ = plt.Circle((-30, 30), radius=8, edgecolor='black', facecolor='None')\n",
    "ax = plt.gca()\n",
    "ax.add_patch(circ)\n",
    "\n",
    "cav_pca = np.dot(pca_components, this_cav.T)\n",
    "cav_norm = vec_norm(cav_pca) * 8\n",
    "arrow_start = [-30,30]\n",
    "my_arrow = plt.arrow(arrow_start[0], arrow_start[1], cav_norm[0], cav_norm[1],width=.4,\n",
    "                     length_includes_head=True,head_width=2,fc='k', ec=None,alpha=.1)\n",
    "ax.add_patch(my_arrow)\n",
    "\n",
    "cav_pca = np.dot(pca_components, cav_by_mass.T)\n",
    "cav_norm = vec_norm(cav_pca) * 8\n",
    "my_arrow = plt.arrow(arrow_start[0], arrow_start[1], cav_norm[0], cav_norm[1],width=.4,\n",
    "                     length_includes_head=True,head_width=2,fc='r', ec='r')\n",
    "ax.add_patch(my_arrow)\n",
    "\n",
    "\n",
    "plt.xlim([-40,40])\n",
    "plt.ylim([-40,40])\n",
    "\n",
    "fig_path = 'figs/jul_9/pca_' + cav_name + '.png'\n",
    "\n",
    "path = os.path.join(working_dir,fig_path)\n",
    "#plt.savefig(path,dpi=200)\n"
   ]
  },
  {
   "cell_type": "code",
   "execution_count": null,
   "metadata": {
    "collapsed": true
   },
   "outputs": [],
   "source": [
    "this_cav.shape"
   ]
  },
  {
   "cell_type": "code",
   "execution_count": null,
   "metadata": {
    "collapsed": true
   },
   "outputs": [],
   "source": [
    "cav_by_mass.shape"
   ]
  },
  {
   "cell_type": "code",
   "execution_count": null,
   "metadata": {
    "collapsed": true
   },
   "outputs": [],
   "source": [
    "cosine_similarity(this_cav,cav_by_mass)"
   ]
  },
  {
   "cell_type": "code",
   "execution_count": null,
   "metadata": {
    "collapsed": true
   },
   "outputs": [],
   "source": []
  },
  {
   "cell_type": "markdown",
   "metadata": {},
   "source": [
    "## Using Random activations"
   ]
  },
  {
   "cell_type": "code",
   "execution_count": null,
   "metadata": {
    "collapsed": true
   },
   "outputs": [],
   "source": [
    "d_acts = 131072\n",
    "n_acts = 33\n",
    "random_gen = np.random.normal(loc = 0, scale = 1, size = (n_acts,d_acts))\n",
    "x_train_n = np.where(random_gen>0,random_gen,0)"
   ]
  },
  {
   "cell_type": "code",
   "execution_count": null,
   "metadata": {
    "collapsed": true
   },
   "outputs": [],
   "source": [
    "p_avg = x_train_p.mean(axis=0,keepdims=True)\n",
    "n_avg = x_train_n.mean(axis=0,keepdims=True)\n",
    "cav_by_mass = (p_avg - n_avg).reshape(-1)"
   ]
  },
  {
   "cell_type": "code",
   "execution_count": null,
   "metadata": {
    "collapsed": true
   },
   "outputs": [],
   "source": [
    "fig = plt.figure(figsize=[5,5])\n",
    "\n",
    "# Postive\n",
    "x_train_embed_pca = np.dot(pca_components, x_train_p.T)\n",
    "color_train_pca = 'red'\n",
    "plt.scatter(x_train_embed_pca[0], x_train_embed_pca[1], color = color_train_pca)\n",
    "\n",
    "# Negative\n",
    "x_train_embed_pca = np.dot(pca_components, x_train_n.T)\n",
    "color_train_pca = 'blue'\n",
    "plt.scatter(x_train_embed_pca[0], x_train_embed_pca[1], color = color_train_pca)\n",
    "\n",
    "#circ = plt.Circle((-30, 30), radius=8, edgecolor='black', facecolor='None')\n",
    "ax = plt.gca()\n",
    "#ax.add_patch(circ)\n",
    "\n",
    "cav_pca = np.dot(pca_components, this_cav.T)\n",
    "cav_norm = vector_norm(cav_pca) * 8\n",
    "arrow_start = [-30,30]\n",
    "my_arrow = plt.arrow(arrow_start[0], arrow_start[1], cav_norm[0], cav_norm[1],width=.4,\n",
    "                     length_includes_head=True,head_width=2,fc='k', ec=None,alpha=.1)\n",
    "ax.add_patch(my_arrow)\n",
    "\n",
    "cav_pca = np.dot(pca_components, cav_by_mass.T)\n",
    "cav_norm = vector_norm(cav_pca) * 8\n",
    "my_arrow = plt.arrow(arrow_start[0], arrow_start[1], cav_norm[0], cav_norm[1],width=.4,\n",
    "                     length_includes_head=True,head_width=2,fc='r', ec='r')\n",
    "ax.add_patch(my_arrow)\n",
    "plt.xlim([-40,40])\n",
    "plt.ylim([-40,40])\n",
    "\n"
   ]
  },
  {
   "cell_type": "code",
   "execution_count": null,
   "metadata": {
    "collapsed": true
   },
   "outputs": [],
   "source": []
  },
  {
   "cell_type": "code",
   "execution_count": null,
   "metadata": {
    "collapsed": true
   },
   "outputs": [],
   "source": []
  },
  {
   "cell_type": "code",
   "execution_count": 139,
   "metadata": {},
   "outputs": [],
   "source": [
    "## TCAV Experiment 1"
   ]
  },
  {
   "cell_type": "code",
   "execution_count": null,
   "metadata": {
    "collapsed": true
   },
   "outputs": [],
   "source": [
    "## CAV loop\n",
    "source_dir = working_dir + '/concepts/'\n",
    "activation_dir =  working_dir + '/activations/'\n",
    "cav_dir = working_dir + '/cav_dir'\n",
    "\n",
    "target_class = 'zebra_50'\n",
    "class_1 = 'striped_sub_1'\n",
    "\n",
    "class_1_list = ['striped_sub_1']\n",
    "\n",
    "hparams = tf.contrib.training.HParams(model_type='linear', alpha=.1)\n",
    "\n",
    "bn_names = ['mixed0','mixed1','mixed2','mixed3','mixed4','mixed5','mixed6','mixed7','mixed8','mixed9','mixed10']\n",
    "bn_names = ['mixed8']\n",
    "\n",
    "tf.logging.set_verbosity(0)\n",
    "\n",
    "columns = ['target_class','bottleneck','class_1','class_idx','this_acc']\n",
    "#acc = pd.DataFrame(columns = columns)\n",
    "\n",
    "df = pickle.load(open('cav_dir/df.pkl', 'rb'))\n",
    "\n",
    "for class_1 in class_1_list:\n",
    "    for bottleneck in  bn_names:\n",
    "        for class_idx in range(50):\n",
    "            # check if in df already\n",
    "            if len(df[(df['target_class']==target_class) & \n",
    "                    (df['bottleneck']==bottleneck) & \n",
    "                    (df['class_1']==class_1) &\n",
    "                    (df['class_idx']==class_idx)]) == 0:\n",
    "                print(f'running {target_class}, {bottleneck}, {class_1}, {class_idx}')\n",
    "\n",
    "                concepts = [class_1, 'random500_' + str(class_idx)]\n",
    "                acts = act_generator.process_and_load_activations([bottleneck], concepts + [target_class])\n",
    "                cav_data = cav.get_or_train_cav(concepts,bottleneck,acts,cav_hparams=hparams,cav_dir=cav_dir)\n",
    "                this_cav = cav_data.cavs[0]\n",
    "\n",
    "                class_acts = acts[target_class][bottleneck]\n",
    "                this_acc = comp_tcav(target_class,this_cav,class_acts,bottleneck)\n",
    "\n",
    "                this_dict = {'target_class':target_class,\n",
    "                             'bottleneck':bottleneck,\n",
    "                             'class_1':class_1,\n",
    "                             'class_idx':class_idx,\n",
    "                             'this_acc':this_acc\n",
    "                            }\n",
    "                df = df.append([this_dict])\n",
    "            else:\n",
    "                print(f'already in df {target_class}, {bottleneck}, {class_1}, {class_idx}')\n",
    "            \n",
    "pickle.dump(df,open('cav_dir/df.pkl', 'wb'))\n",
    "print('### did write ###')"
   ]
  },
  {
   "cell_type": "code",
   "execution_count": null,
   "metadata": {
    "collapsed": true
   },
   "outputs": [],
   "source": []
  },
  {
   "cell_type": "code",
   "execution_count": null,
   "metadata": {
    "collapsed": true
   },
   "outputs": [],
   "source": []
  },
  {
   "cell_type": "code",
   "execution_count": null,
   "metadata": {
    "collapsed": true
   },
   "outputs": [],
   "source": []
  },
  {
   "cell_type": "code",
   "execution_count": null,
   "metadata": {
    "collapsed": true
   },
   "outputs": [],
   "source": []
  },
  {
   "cell_type": "code",
   "execution_count": null,
   "metadata": {
    "collapsed": true
   },
   "outputs": [],
   "source": [
    "## define functions\n",
    "def vector_norm(vec):\n",
    "    norm_const = math.sqrt(vec[0]*vec[0] + vec[1]*vec[1])\n",
    "    return vec / norm_const\n",
    "\n",
    "def vec_norm(vec):\n",
    "    return  vec / np.linalg.norm(vec)\n",
    "\n",
    "## CAV distance\n",
    "def euclidean_distance(a,b):\n",
    "    return np.linalg.norm(a-b)\n",
    "\n",
    "def cosine_similarity(v1,v2):\n",
    "    # compute cosine similarity of v1 to v2: (v1 dot v2)/{||v1||*||v2||)\n",
    "    sumxx, sumxy, sumyy = 0, 0, 0\n",
    "    for i in range(len(v1)):\n",
    "        x = v1[i]; y = v2[i]\n",
    "        sumxx += x*x\n",
    "        sumyy += y*y\n",
    "        sumxy += x*y\n",
    "    return sumxy / math.sqrt(sumxx*sumyy)"
   ]
  },
  {
   "cell_type": "code",
   "execution_count": null,
   "metadata": {
    "collapsed": true
   },
   "outputs": [],
   "source": []
  },
  {
   "cell_type": "code",
   "execution_count": null,
   "metadata": {
    "collapsed": true
   },
   "outputs": [],
   "source": []
  }
 ],
 "metadata": {
  "kernelspec": {
   "display_name": "Python 3",
   "language": "python",
   "name": "python3"
  },
  "language_info": {
   "codemirror_mode": {
    "name": "ipython",
    "version": 3
   },
   "file_extension": ".py",
   "mimetype": "text/x-python",
   "name": "python",
   "nbconvert_exporter": "python",
   "pygments_lexer": "ipython3",
   "version": "3.6.8"
  }
 },
 "nbformat": 4,
 "nbformat_minor": 2
}
