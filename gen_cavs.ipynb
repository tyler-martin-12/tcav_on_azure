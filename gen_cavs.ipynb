{
 "cells": [
  {
   "cell_type": "code",
   "execution_count": 27,
   "metadata": {},
   "outputs": [],
   "source": [
    "from keras.applications.inception_v3 import InceptionV3\n",
    "from keras.applications.inception_v3 import decode_predictions\n",
    "from keras.models import Model, load_model\n",
    "import keras.backend as K\n",
    "\n",
    "import model as tcav_model\n",
    "import tcav as tcav\n",
    "import utils as utils\n",
    "import activation_generator as act_gen\n",
    "import tensorflow as tf\n",
    "import utils_plot as utils_plot\n",
    "import cav as cav\n",
    "\n",
    "from sklearn.metrics.pairwise import cosine_similarity\n",
    "import numpy as np\n",
    "from numpy.linalg import norm\n",
    "\n",
    "import pickle\n",
    "\n",
    "from os import listdir\n",
    "from os.path import isfile, join\n",
    "import operator\n",
    "from PIL import Image\n",
    "from keras.preprocessing import image\n",
    "\n",
    "import os\n",
    "import math\n",
    "\n",
    "import PIL.Image\n",
    "from sklearn.metrics import pairwise\n",
    "import matplotlib.pyplot as plt\n",
    "from keras.applications.inception_v3 import preprocess_input\n",
    "\n",
    "from sklearn import linear_model\n",
    "from sklearn import metrics\n",
    "from sklearn.model_selection import train_test_split"
   ]
  },
  {
   "cell_type": "code",
   "execution_count": 2,
   "metadata": {},
   "outputs": [
    {
     "name": "stdout",
     "output_type": "stream",
     "text": [
      "WARNING:tensorflow:From /data/anaconda/envs/py35/lib/python3.5/site-packages/tensorflow/python/framework/op_def_library.py:263: colocate_with (from tensorflow.python.framework.ops) is deprecated and will be removed in a future version.\n",
      "Instructions for updating:\n",
      "Colocations handled automatically by placer.\n"
     ]
    },
    {
     "name": "stderr",
     "output_type": "stream",
     "text": [
      "/data/anaconda/envs/py35/lib/python3.5/site-packages/keras/engine/saving.py:292: UserWarning: No training configuration found in save file: the model was *not* compiled. Compile it manually.\n",
      "  warnings.warn('No training configuration found in save file: '\n"
     ]
    }
   ],
   "source": [
    "model = load_model('v3_model.h5')"
   ]
  },
  {
   "cell_type": "code",
   "execution_count": 3,
   "metadata": {},
   "outputs": [
    {
     "name": "stdout",
     "output_type": "stream",
     "text": [
      "WARNING:tensorflow:From /data/anaconda/envs/py35/lib/python3.5/site-packages/tensorflow/python/ops/math_ops.py:3066: to_int32 (from tensorflow.python.ops.math_ops) is deprecated and will be removed in a future version.\n",
      "Instructions for updating:\n",
      "Use tf.cast instead.\n"
     ]
    }
   ],
   "source": [
    "sess = K.get_session()\n",
    "\n",
    "endpoints_v3 = dict(\n",
    "    input=model.inputs[0].name,\n",
    "    input_tensor=model.inputs[0],\n",
    "    logit=model.outputs[0].name,\n",
    "    prediction=model.outputs[0].name,\n",
    "    prediction_tensor=model.outputs[0],)\n",
    "\n",
    "tf.logging.set_verbosity(0)\n",
    "\n",
    "working_dir = '/home/tyler/Desktop/tcav_on_azure'\n",
    "\n",
    "label_path = os.path.join(working_dir,'labels.txt')\n",
    "\n",
    "mymodel = tcav_model.KerasModelWrapper(sess, \n",
    "        label_path, [299, 299, 3], endpoints_v3, \n",
    "        'InceptionV3_public', (-1, 1))"
   ]
  },
  {
   "cell_type": "code",
   "execution_count": 18,
   "metadata": {},
   "outputs": [
    {
     "name": "stdout",
     "output_type": "stream",
     "text": [
      "['striped_sub_1', 'random500_3', 'zebra']\n"
     ]
    },
    {
     "name": "stderr",
     "output_type": "stream",
     "text": [
      "/data/anaconda/envs/py35/lib/python3.5/site-packages/sklearn/linear_model/stochastic_gradient.py:144: FutureWarning: max_iter and tol parameters have been added in SGDClassifier in 0.19. If both are left unset, they default to max_iter=5 and tol=None. If tol is not None, max_iter defaults to max_iter=1000. From 0.21, default max_iter will be 1000, and default tol will be 1e-3.\n",
      "  FutureWarning)\n"
     ]
    }
   ],
   "source": [
    "## CAV loop\n",
    "source_dir = working_dir + '/concepts/'\n",
    "activation_dir =  working_dir + '/activations/'\n",
    "\n",
    "target_class = 'zebra'\n",
    "concepts = ['striped_sub_1', 'random500_3']\n",
    "\n",
    "hparams = tf.contrib.training.HParams(model_type='linear', alpha=.1)\n",
    "act_generator = act_gen.ImageActivationGenerator(mymodel, source_dir, activation_dir, max_examples=50)\n",
    "\n",
    "bn_names = ['mixed0','mixed1','mixed2','mixed3','mixed4','mixed5','mixed6','mixed7','mixed8','mixed9','mixed10']\n",
    "bn_names = ['mixed9']\n",
    "\n",
    "for bottleneck in  bn_names:\n",
    "    acts = act_generator.process_and_load_activations([bottleneck], concepts + [target_class])\n",
    "    cav.get_or_train_cav(concepts,bottleneck,acts,cav_hparams=hparams,cav_dir='cavs')\n"
   ]
  },
  {
   "cell_type": "code",
   "execution_count": null,
   "metadata": {},
   "outputs": [],
   "source": [
    "#cav = None"
   ]
  },
  {
   "cell_type": "code",
   "execution_count": 19,
   "metadata": {},
   "outputs": [],
   "source": [
    "class_1 = 'striped_sub_1'\n",
    "class_2 = 'random500_3'\n",
    "\n",
    "layer = 'mixed9'\n",
    "lm_type = 'linear'\n",
    "#lm_type = 'logistic'\n",
    "cav_name = class_1 + '-' + class_2 + '-' + layer + '-' + lm_type + '-0.1'\n",
    "sub_path = 'cavs/' + cav_name \n",
    "\n",
    "# Load training/testing data\n",
    "path = os.path.join(working_dir,sub_path + '_test.pkl')\n",
    "with open(path, 'rb') as f:\n",
    "    data = pickle.load(f)\n",
    "    \n",
    "d = dict(data)\n",
    "x_train = d['x_train']\n",
    "x_test = d['x_test']\n",
    "y_train = d['y_train']\n",
    "y_test = d['y_test']\n",
    "y_pred = d['y_pred']\n",
    "\n",
    "path = os.path.join(working_dir,sub_path + '.pkl')\n",
    "\n",
    "with open(path, 'rb') as f:\n",
    "    cav_data = pickle.load(f)\n",
    "this_cav = cav_data['cavs'][0]"
   ]
  },
  {
   "cell_type": "code",
   "execution_count": null,
   "metadata": {},
   "outputs": [],
   "source": []
  },
  {
   "cell_type": "code",
   "execution_count": 54,
   "metadata": {},
   "outputs": [],
   "source": []
  },
  {
   "cell_type": "code",
   "execution_count": null,
   "metadata": {},
   "outputs": [],
   "source": []
  },
  {
   "cell_type": "code",
   "execution_count": 55,
   "metadata": {},
   "outputs": [],
   "source": [
    "pca_components = pickle.load(open('pca/pca_components_mixed9.pkl', 'rb'))"
   ]
  },
  {
   "cell_type": "code",
   "execution_count": 56,
   "metadata": {},
   "outputs": [],
   "source": [
    "# TRAIN\n",
    "x_train_embed_pca = np.dot(pca_components, x_train.T)\n",
    "color_train_pca = ['red' if y == 0 else 'blue' for y in y_train]\n",
    "\n",
    "# TEST\n",
    "x_test_embed_pca = np.dot(pca_components, x_test.T)\n",
    "\n",
    "light_blue, light_red = '#b3b8fb', '#f6889f'\n",
    "\n",
    "color_test_pca = [light_red if y == 0 else light_blue for y in y_test]\n"
   ]
  },
  {
   "cell_type": "code",
   "execution_count": 57,
   "metadata": {},
   "outputs": [
    {
     "data": {
      "image/png": "[encoded data removed]",
      "text/plain": [
       "<Figure size 360x360 with 1 Axes>"
      ]
     },
     "metadata": {},
     "output_type": "display_data"
    }
   ],
   "source": [
    "fig = plt.figure(figsize=[5,5])\n",
    "\n",
    "plt.scatter(x_train_embed_pca[0], x_train_embed_pca[1], color = color_train_pca)\n",
    "plt.scatter(x_test_embed_pca[0], x_test_embed_pca[1], color = color_test_pca) #, alpha = .6)\n",
    "\n",
    "circ = plt.Circle((-30, 30), radius=8, edgecolor='black', facecolor='None')\n",
    "ax = plt.gca()\n",
    "\n",
    "ax.add_patch(circ)\n",
    "\n",
    "cav_pca = np.dot(pca_components, this_cav.T)\n",
    "cav_norm = vector_norm(cav_pca)\n",
    "cav_norm *= 8\n",
    "#origin = [-30],[30]\n",
    "#plt.quiver(*origin, cav_norm[0], cav_norm[1], color='black',scale=100)\n",
    "\n",
    "arrow_start = [-30,30]\n",
    "\n",
    "my_arrow = plt.arrow(arrow_start[0], arrow_start[1], cav_norm[0], cav_norm[1],width=.4,\n",
    "                     length_includes_head=True,head_width=2,fc='k', ec=None)\n",
    "ax.add_patch(my_arrow)\n",
    "\n",
    "\n",
    "plt.xlim([-40,40])\n",
    "plt.ylim([-40,40])\n",
    "\n",
    "fig_path = 'figs/jul_9/pca_' + cav_name + '.png'\n",
    "\n",
    "path = os.path.join(working_dir,fig_path)\n",
    "#plt.savefig(path,dpi=200)\n"
   ]
  },
  {
   "cell_type": "code",
   "execution_count": 25,
   "metadata": {},
   "outputs": [],
   "source": [
    "#x_train"
   ]
  },
  {
   "cell_type": "code",
   "execution_count": 40,
   "metadata": {},
   "outputs": [],
   "source": [
    "lm = linear_model.SGDClassifier(alpha=.1)"
   ]
  },
  {
   "cell_type": "code",
   "execution_count": 41,
   "metadata": {},
   "outputs": [
    {
     "name": "stderr",
     "output_type": "stream",
     "text": [
      "/data/anaconda/envs/py35/lib/python3.5/site-packages/sklearn/linear_model/stochastic_gradient.py:144: FutureWarning: max_iter and tol parameters have been added in SGDClassifier in 0.19. If both are left unset, they default to max_iter=5 and tol=None. If tol is not None, max_iter defaults to max_iter=1000. From 0.21, default max_iter will be 1000, and default tol will be 1e-3.\n",
      "  FutureWarning)\n"
     ]
    },
    {
     "data": {
      "text/plain": [
       "SGDClassifier(alpha=0.1, average=False, class_weight=None,\n",
       "       early_stopping=False, epsilon=0.1, eta0=0.0, fit_intercept=True,\n",
       "       l1_ratio=0.15, learning_rate='optimal', loss='hinge', max_iter=None,\n",
       "       n_iter=None, n_iter_no_change=5, n_jobs=None, penalty='l2',\n",
       "       power_t=0.5, random_state=None, shuffle=True, tol=None,\n",
       "       validation_fraction=0.1, verbose=0, warm_start=False)"
      ]
     },
     "execution_count": 41,
     "metadata": {},
     "output_type": "execute_result"
    }
   ],
   "source": [
    "lm.fit(x_train,y_train)"
   ]
  },
  {
   "cell_type": "code",
   "execution_count": 42,
   "metadata": {},
   "outputs": [],
   "source": [
    "lm_2 = linear_model.SGDClassifier(alpha=.1)"
   ]
  },
  {
   "cell_type": "code",
   "execution_count": 43,
   "metadata": {},
   "outputs": [
    {
     "name": "stderr",
     "output_type": "stream",
     "text": [
      "/data/anaconda/envs/py35/lib/python3.5/site-packages/sklearn/linear_model/stochastic_gradient.py:144: FutureWarning: max_iter and tol parameters have been added in SGDClassifier in 0.19. If both are left unset, they default to max_iter=5 and tol=None. If tol is not None, max_iter defaults to max_iter=1000. From 0.21, default max_iter will be 1000, and default tol will be 1e-3.\n",
      "  FutureWarning)\n"
     ]
    },
    {
     "data": {
      "text/plain": [
       "SGDClassifier(alpha=0.1, average=False, class_weight=None,\n",
       "       early_stopping=False, epsilon=0.1, eta0=0.0, fit_intercept=True,\n",
       "       l1_ratio=0.15, learning_rate='optimal', loss='hinge', max_iter=None,\n",
       "       n_iter=None, n_iter_no_change=5, n_jobs=None, penalty='l2',\n",
       "       power_t=0.5, random_state=None, shuffle=True, tol=None,\n",
       "       validation_fraction=0.1, verbose=0, warm_start=False)"
      ]
     },
     "execution_count": 43,
     "metadata": {},
     "output_type": "execute_result"
    }
   ],
   "source": [
    "lm_2.fit(x_train,y_train)"
   ]
  },
  {
   "cell_type": "code",
   "execution_count": 46,
   "metadata": {},
   "outputs": [],
   "source": [
    "#lm_2.coef_[0][:10]"
   ]
  },
  {
   "cell_type": "code",
   "execution_count": 105,
   "metadata": {},
   "outputs": [],
   "source": [
    "import warnings\n",
    "warnings.filterwarnings(\"ignore\", category=DeprecationWarning)\n",
    "warnings.filterwarnings(\"ignore\", category=FutureWarning)"
   ]
  },
  {
   "cell_type": "code",
   "execution_count": 106,
   "metadata": {},
   "outputs": [],
   "source": [
    "this_cav = -lm.coef_[0]"
   ]
  },
  {
   "cell_type": "code",
   "execution_count": 153,
   "metadata": {},
   "outputs": [],
   "source": [
    "## get original CAV\n",
    "lm.fit(x_train,y_train)\n",
    "original_CAV = -lm.coef_[0]\n",
    "\n",
    "cavs = []\n",
    "\n",
    "## remove one point\n",
    "for idx, x_point in enumerate(x_train):\n",
    "    if y_train[idx]==0:\n",
    "        x_train_new = np.delete(x_train, idx, axis=0)\n",
    "        y_train_new = np.delete(y_train, idx, axis=0)\n",
    "        \n",
    "        new_lm = linear_model.SGDClassifier(alpha=.1)\n",
    "        new_lm.fit(x_train_new,y_train_new)\n",
    "        cav_params = -new_lm.coef_[0]\n",
    "        sim = euclidean_distance(vec_norm(cav_params),vec_norm(original_CAV))\n",
    "        cavs.append([idx,cav_params,sim])\n",
    "        \n",
    "        "
   ]
  },
  {
   "cell_type": "code",
   "execution_count": 209,
   "metadata": {},
   "outputs": [],
   "source": [
    "cavs_sims = np.array([a[2] for a in cavs])"
   ]
  },
  {
   "cell_type": "code",
   "execution_count": 211,
   "metadata": {},
   "outputs": [
    {
     "data": {
      "text/plain": [
       "(0.9172643831768572, 22)"
      ]
     },
     "execution_count": 211,
     "metadata": {},
     "output_type": "execute_result"
    }
   ],
   "source": []
  },
  {
   "cell_type": "code",
   "execution_count": 159,
   "metadata": {},
   "outputs": [],
   "source": [
    "#x_train.shape"
   ]
  },
  {
   "cell_type": "code",
   "execution_count": 163,
   "metadata": {},
   "outputs": [
    {
     "data": {
      "image/png": "[encoded data removed]",
      "text/plain": [
       "<Figure size 360x360 with 1 Axes>"
      ]
     },
     "metadata": {},
     "output_type": "display_data"
    }
   ],
   "source": [
    "## Plot orig\n",
    "this_cav = original_CAV\n",
    "x_train_embed_pca = np.dot(pca_components, x_train.T)\n",
    "color_train_pca = ['red' if y == 0 else 'blue' for y in y_train]\n",
    "\n",
    "fig = plt.figure(figsize=[5,5])\n",
    "plt.scatter(x_train_embed_pca[0], x_train_embed_pca[1], color = color_train_pca)\n",
    "\n",
    "circ = plt.Circle((-30, 30), radius=8, edgecolor='black', facecolor='None')\n",
    "ax = plt.gca()\n",
    "ax.add_patch(circ)\n",
    "\n",
    "cav_pca = np.dot(pca_components, this_cav.T)\n",
    "cav_norm = vector_norm(cav_pca) * 8\n",
    "\n",
    "arrow_start = [-30,30]\n",
    "\n",
    "my_arrow = plt.arrow(arrow_start[0], arrow_start[1], cav_norm[0], cav_norm[1],width=.4,\n",
    "                     length_includes_head=True,head_width=2,fc='k', ec=None)\n",
    "ax.add_patch(my_arrow)\n",
    "\n",
    "xlim = plt.xlim([-40,40])\n",
    "ylim = plt.ylim([-40,40])"
   ]
  },
  {
   "cell_type": "code",
   "execution_count": 164,
   "metadata": {},
   "outputs": [],
   "source": [
    "#cavs[22][1]"
   ]
  },
  {
   "cell_type": "code",
   "execution_count": 192,
   "metadata": {},
   "outputs": [
    {
     "data": {
      "text/plain": [
       "(2, 67)"
      ]
     },
     "execution_count": 192,
     "metadata": {},
     "output_type": "execute_result"
    }
   ],
   "source": [
    "x_train_embed_pca.shape"
   ]
  },
  {
   "cell_type": "code",
   "execution_count": 197,
   "metadata": {},
   "outputs": [
    {
     "data": {
      "text/plain": [
       "array([-7.428035 ,  2.7521267], dtype=float32)"
      ]
     },
     "execution_count": 197,
     "metadata": {},
     "output_type": "execute_result"
    }
   ],
   "source": [
    "x_train_embed_pca[:,6]"
   ]
  },
  {
   "cell_type": "code",
   "execution_count": 264,
   "metadata": {},
   "outputs": [],
   "source": [
    "#this_idx = cavs[15][0]"
   ]
  },
  {
   "cell_type": "code",
   "execution_count": 267,
   "metadata": {},
   "outputs": [
    {
     "data": {
      "image/png": "[encoded data removed]",
      "text/plain": [
       "<Figure size 360x360 with 1 Axes>"
      ]
     },
     "metadata": {},
     "output_type": "display_data"
    }
   ],
   "source": [
    "## Plot new\n",
    "idx = 1\n",
    "this_cav = cavs[idx][1]\n",
    "x_train_new = np.delete(x_train, idx, axis=0)\n",
    "x_rem = x_train[idx]\n",
    "y_train_new = np.delete(y_train, idx, axis=0)\n",
    "\n",
    "x_train_embed_pca = np.dot(pca_components, x_train_new.T)\n",
    "color_train_pca = ['red' if y == 0 else 'blue' for y in y_train_new]\n",
    "\n",
    "b = np.dot(pca_components, x_rem.T)\n",
    "a = np.delete(x_train_embed_pca, idx, axis=1)\n",
    "\n",
    "fig = plt.figure(figsize=[5,5])\n",
    "plt.scatter(x_train_embed_pca[0], x_train_embed_pca[1], color = color_train_pca)\n",
    "\n",
    "plt.scatter(b[0], b[1], color = 'black')\n",
    "\n",
    "\n",
    "circ = plt.Circle((-30, 30), radius=8, edgecolor='black', facecolor='None')\n",
    "ax = plt.gca()\n",
    "ax.add_patch(circ)\n",
    "\n",
    "cav_pca = np.dot(pca_components, this_cav.T)\n",
    "cav_norm = vector_norm(cav_pca) * 8\n",
    "arrow_start = [-30,30]\n",
    "\n",
    "my_arrow = plt.arrow(arrow_start[0], arrow_start[1], cav_norm[0], cav_norm[1],width=.4,\n",
    "                     length_includes_head=True,head_width=2,fc='k', ec=None)\n",
    "ax.add_patch(my_arrow)\n",
    "\n",
    "xlim = plt.xlim([-40,40])\n",
    "ylim = plt.ylim([-40,40])"
   ]
  },
  {
   "cell_type": "code",
   "execution_count": 268,
   "metadata": {},
   "outputs": [
    {
     "data": {
      "text/plain": [
       "37"
      ]
     },
     "execution_count": 268,
     "metadata": {},
     "output_type": "execute_result"
    }
   ],
   "source": [
    "cavs[15][0]"
   ]
  },
  {
   "cell_type": "code",
   "execution_count": 256,
   "metadata": {},
   "outputs": [
    {
     "data": {
      "text/plain": [
       "(2, 66)"
      ]
     },
     "execution_count": 256,
     "metadata": {},
     "output_type": "execute_result"
    }
   ],
   "source": [
    "x_train_embed_pca.shape"
   ]
  },
  {
   "cell_type": "code",
   "execution_count": 217,
   "metadata": {},
   "outputs": [
    {
     "data": {
      "text/plain": [
       "(0.9172643831768572, 0.9172643831768572)"
      ]
     },
     "execution_count": 217,
     "metadata": {},
     "output_type": "execute_result"
    }
   ],
   "source": [
    "np.min(cavs_sims),np.min(cavs_sims)"
   ]
  },
  {
   "cell_type": "code",
   "execution_count": 245,
   "metadata": {},
   "outputs": [
    {
     "data": {
      "text/plain": [
       "1.1136383804387373"
      ]
     },
     "execution_count": 245,
     "metadata": {},
     "output_type": "execute_result"
    }
   ],
   "source": [
    "cavs_sims[8]"
   ]
  },
  {
   "cell_type": "code",
   "execution_count": null,
   "metadata": {},
   "outputs": [],
   "source": []
  },
  {
   "cell_type": "code",
   "execution_count": null,
   "metadata": {},
   "outputs": [],
   "source": []
  },
  {
   "cell_type": "code",
   "execution_count": null,
   "metadata": {},
   "outputs": [],
   "source": []
  },
  {
   "cell_type": "code",
   "execution_count": 12,
   "metadata": {},
   "outputs": [],
   "source": [
    "## define functions\n",
    "def vector_norm(vec):\n",
    "    norm_const = math.sqrt(vec[0]*vec[0] + vec[1]*vec[1])\n",
    "    return vec / norm_const\n",
    "\n",
    "def vec_norm(vec):\n",
    "    return  vec / np.linalg.norm(vec)\n",
    "\n",
    "## CAV distance\n",
    "def euclidean_distance(a,b):\n",
    "    return np.linalg.norm(a-b)"
   ]
  },
  {
   "cell_type": "code",
   "execution_count": null,
   "metadata": {},
   "outputs": [],
   "source": []
  },
  {
   "cell_type": "code",
   "execution_count": null,
   "metadata": {},
   "outputs": [],
   "source": []
  }
 ],
 "metadata": {
  "kernelspec": {
   "display_name": "Python [default]",
   "language": "python",
   "name": "python3"
  },
  "language_info": {
   "codemirror_mode": {
    "name": "ipython",
    "version": 3
   },
   "file_extension": ".py",
   "mimetype": "text/x-python",
   "name": "python",
   "nbconvert_exporter": "python",
   "pygments_lexer": "ipython3",
   "version": "3.5.5"
  }
 },
 "nbformat": 4,
 "nbformat_minor": 2
}
