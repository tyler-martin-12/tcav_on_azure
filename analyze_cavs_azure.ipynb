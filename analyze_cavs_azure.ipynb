{
 "cells": [
  {
   "cell_type": "code",
   "execution_count": 40,
   "metadata": {},
   "outputs": [],
   "source": [
    "import pickle\n",
    "from sklearn import linear_model\n",
    "from sklearn.manifold import TSNE\n",
    "from sklearn.decomposition import PCA as pca\n",
    "\n",
    "import numpy as np\n",
    "import matplotlib.pyplot as plt\n",
    "%matplotlib inline\n",
    "\n",
    "import os\n",
    "\n",
    "import math\n"
   ]
  },
  {
   "cell_type": "markdown",
   "metadata": {},
   "source": [
    "## Load CAV"
   ]
  },
  {
   "cell_type": "code",
   "execution_count": 2,
   "metadata": {},
   "outputs": [
    {
     "name": "stderr",
     "output_type": "stream",
     "text": [
      "/data/anaconda/envs/py35/lib/python3.5/site-packages/h5py/__init__.py:36: FutureWarning: Conversion of the second argument of issubdtype from `float` to `np.floating` is deprecated. In future, it will be treated as `np.float64 == np.dtype(float).type`.\n",
      "  from ._conv import register_converters as _register_converters\n"
     ]
    }
   ],
   "source": [
    "working_dir = '/home/tyler/Desktop/tcav_on_azure'\n",
    "\n",
    "path = os.path.join(working_dir,'cavs/striped_sub_2-random500_0-mixed9-linear-0.1.pkl')\n",
    "\n",
    "with open(path, 'rb') as f:\n",
    "    data = pickle.load(f)"
   ]
  },
  {
   "cell_type": "code",
   "execution_count": 3,
   "metadata": {},
   "outputs": [
    {
     "data": {
      "text/plain": [
       "{'accuracies': {'overall': 1.0, 'random500_0': 1.0, 'striped_sub_2': 1.0},\n",
       " 'bottleneck': 'mixed9',\n",
       " 'cavs': [array([-0.02358413,  0.00203429, -0.062068  , ...,  0.        ,\n",
       "         -0.00832484, -0.05287119]),\n",
       "  array([ 0.02358413, -0.00203429,  0.062068  , ...,  0.        ,\n",
       "          0.00832484,  0.05287119])],\n",
       " 'concepts': ['striped_sub_2', 'random500_0'],\n",
       " 'hparams': HParams([('alpha', 0.1), ('model_type', 'linear')]),\n",
       " 'saved_path': '/home/tyler/Desktop/tcav_on_azure/cavs/striped_sub_2-random500_0-mixed9-linear-0.1.pkl'}"
      ]
     },
     "execution_count": 3,
     "metadata": {},
     "output_type": "execute_result"
    }
   ],
   "source": [
    "data"
   ]
  },
  {
   "cell_type": "code",
   "execution_count": 4,
   "metadata": {},
   "outputs": [],
   "source": [
    "d = dict(data)\n",
    "arr = d['cavs']"
   ]
  },
  {
   "cell_type": "code",
   "execution_count": 5,
   "metadata": {},
   "outputs": [],
   "source": [
    "#len(arr[0])"
   ]
  },
  {
   "cell_type": "code",
   "execution_count": 6,
   "metadata": {},
   "outputs": [
    {
     "data": {
      "text/plain": [
       "['striped_sub_2', 'random500_0']"
      ]
     },
     "execution_count": 6,
     "metadata": {},
     "output_type": "execute_result"
    }
   ],
   "source": [
    "d['concepts']"
   ]
  },
  {
   "cell_type": "code",
   "execution_count": 7,
   "metadata": {},
   "outputs": [],
   "source": [
    "x1 = arr[0]\n",
    "x2 = arr[1]"
   ]
  },
  {
   "cell_type": "code",
   "execution_count": 8,
   "metadata": {},
   "outputs": [
    {
     "data": {
      "text/plain": [
       "221952"
      ]
     },
     "execution_count": 8,
     "metadata": {},
     "output_type": "execute_result"
    }
   ],
   "source": [
    "17 * 17 * 768"
   ]
  },
  {
   "cell_type": "code",
   "execution_count": 9,
   "metadata": {},
   "outputs": [
    {
     "data": {
      "text/plain": [
       "131072"
      ]
     },
     "execution_count": 9,
     "metadata": {},
     "output_type": "execute_result"
    }
   ],
   "source": [
    "len(x2)"
   ]
  },
  {
   "cell_type": "code",
   "execution_count": 10,
   "metadata": {},
   "outputs": [
    {
     "data": {
      "text/plain": [
       "-0.002372300378627026"
      ]
     },
     "execution_count": 10,
     "metadata": {},
     "output_type": "execute_result"
    }
   ],
   "source": [
    "x1.mean()"
   ]
  },
  {
   "cell_type": "markdown",
   "metadata": {},
   "source": [
    "## Load x_train"
   ]
  },
  {
   "cell_type": "code",
   "execution_count": 91,
   "metadata": {},
   "outputs": [],
   "source": [
    "cav_name = 'striped_sub_2-random500_1-mixed9'\n",
    "sub_path = 'cavs/' + cav_name + '-linear-0.1'\n",
    "path = os.path.join(working_dir,sub_path + '_test.pkl')\n",
    "\n",
    "with open(path, 'rb') as f:\n",
    "    data = pickle.load(f)\n",
    "    \n",
    "d = dict(data)\n",
    "x_train = d['x_train']\n",
    "x_test = d['x_test']\n",
    "y_train = d['y_train']\n",
    "y_test = d['y_test']\n",
    "y_pred = d['y_pred']\n",
    "\n",
    "path = os.path.join(working_dir,sub_path + '.pkl')\n",
    "\n",
    "with open(path, 'rb') as f:\n",
    "    cav_data = pickle.load(f)\n",
    "this_cav = cav_data['cavs'][0]"
   ]
  },
  {
   "cell_type": "code",
   "execution_count": 92,
   "metadata": {},
   "outputs": [],
   "source": [
    "## TSNE\n",
    "t = TSNE(n_components=2, perplexity=30).fit(x_train)\n",
    "\n",
    "x_train_embed = TSNE(n_components=2, perplexity=50).fit_transform(x_train)\n",
    "\n",
    "x1_train = np.array([a[0] for a  in x_train_embed])\n",
    "x2_train = np.array([a[1] for a  in x_train_embed])\n",
    "\n",
    "color_train = ['red' if y == 0 else 'blue' for y in y_train]\n",
    "\n",
    "x_test_embed = TSNE(n_components=2).fit_transform(x_test)\n",
    "\n",
    "x1_test = np.array([a[0] for a  in x_test_embed])\n",
    "x2_test = np.array([a[1] for a  in x_test_embed])\n",
    "\n",
    "color_test = ['red' if y == 0 else 'blue' for y in y_test]"
   ]
  },
  {
   "cell_type": "code",
   "execution_count": 93,
   "metadata": {},
   "outputs": [
    {
     "data": {
      "image/png": "[encoded data removed]",
      "text/plain": [
       "<Figure size 432x288 with 1 Axes>"
      ]
     },
     "metadata": {},
     "output_type": "display_data"
    }
   ],
   "source": [
    "plt.scatter(x1_train, x2_train, color = color_train)\n",
    "#plt.scatter(x1_test, x2_test, color = color_test)\n",
    "\n",
    "#plt.legend(['blue'])\n",
    "#plt.legend(['red'])\n",
    "\n",
    "path = os.path.join(working_dir,'figs/tsne_striped_2_random_1_layer_9.png')\n"
   ]
  },
  {
   "cell_type": "code",
   "execution_count": 94,
   "metadata": {},
   "outputs": [],
   "source": [
    "## PCA\n",
    "#pca_instance = pca(n_components=2).fit(x_train)"
   ]
  },
  {
   "cell_type": "code",
   "execution_count": 95,
   "metadata": {},
   "outputs": [],
   "source": [
    "# TRAIN\n",
    "x_train_embed_pca = np.dot(pca_instance.components_, x_train.T)\n",
    "\n",
    "x1_train_pca = x_train_embed_pca[0]\n",
    "x2_train_pca = x_train_embed_pca[1]\n",
    "\n",
    "color_train_pca = ['red' if y == 0 else 'blue' for y in y_train]\n",
    "\n",
    "# TEST\n",
    "x_test_embed_pca = np.dot(pca_instance.components_, x_test.T)\n",
    "\n",
    "x1_test_pca = x_test_embed_pca[0]\n",
    "x2_test_pca = x_test_embed_pca[1]\n",
    "\n",
    "light_blue = '#b3b8fb'\n",
    "light_red = '#f6889f'\n",
    "\n",
    "color_test_pca = [light_red if y == 0 else light_blue for y in y_test]\n"
   ]
  },
  {
   "cell_type": "code",
   "execution_count": 96,
   "metadata": {},
   "outputs": [],
   "source": [
    "def vector_norm(vec):\n",
    "    norm_const = math.sqrt(vec[0]*vec[0] + vec[1]*vec[1])\n",
    "    return vec / norm_const"
   ]
  },
  {
   "cell_type": "code",
   "execution_count": 97,
   "metadata": {},
   "outputs": [
    {
     "data": {
      "image/png": "[encoded data removed]",
      "text/plain": [
       "<Figure size 360x360 with 1 Axes>"
      ]
     },
     "metadata": {},
     "output_type": "display_data"
    }
   ],
   "source": [
    "\n",
    "\n",
    "fig = plt.figure(figsize=[5,5])\n",
    "\n",
    "plt.scatter(x1_train_pca, x2_train_pca, color = color_train_pca)\n",
    "plt.scatter(x1_test_pca, x2_test_pca, color = color_test_pca) #, alpha = .6)\n",
    "\n",
    "\n",
    "circ = plt.Circle((-30, 30), radius=8, edgecolor='black', facecolor='None')\n",
    "ax = plt.gca()\n",
    "\n",
    "ax.add_patch(circ)\n",
    "\n",
    "cav_pca = np.dot(pca_instance.components_, this_cav.T)\n",
    "cav_norm = vector_norm(cav_pca)\n",
    "cav_norm *= 8\n",
    "#origin = [-30],[30]\n",
    "#plt.quiver(*origin, cav_norm[0], cav_norm[1], color='black',scale=100)\n",
    "\n",
    "arrow_start = [-30,30]\n",
    "\n",
    "my_arrow = plt.arrow(arrow_start[0], arrow_start[1], cav_norm[0], cav_norm[1],width=.4,\n",
    "                     length_includes_head=True,head_width=2,fc='k', ec=None)\n",
    "ax.add_patch(my_arrow)\n",
    "\n",
    "\n",
    "plt.xlim([-40,40])\n",
    "plt.ylim([-40,40])\n",
    "\n",
    "fig_path = 'figs/new_figs/pca_' + cav_name + '.png'\n",
    "\n",
    "path = os.path.join(working_dir,fig_path)\n",
    "plt.savefig(path,dpi=200)\n"
   ]
  },
  {
   "cell_type": "code",
   "execution_count": 19,
   "metadata": {},
   "outputs": [],
   "source": [
    "#plt.scatter(x1_train_pca, x2_train_pca, color = color_train_pca)"
   ]
  },
  {
   "cell_type": "code",
   "execution_count": null,
   "metadata": {},
   "outputs": [],
   "source": []
  },
  {
   "cell_type": "markdown",
   "metadata": {},
   "source": [
    "## CAV to PCA Space"
   ]
  },
  {
   "cell_type": "code",
   "execution_count": 73,
   "metadata": {},
   "outputs": [
    {
     "data": {
      "image/png": "[encoded data removed]",
      "text/plain": [
       "<Figure size 432x288 with 1 Axes>"
      ]
     },
     "metadata": {},
     "output_type": "display_data"
    }
   ],
   "source": [
    "\n",
    "\n",
    "subpath = 'striped_sub_1-random500_0-mixed1-linear'\n",
    "cav_data_path = 'cavs/' + subpath + '-0.1_test.pkl'\n",
    "\n",
    "path = os.path.join(working_dir, cav_data_path)\n",
    "\n",
    "with open(path, 'rb') as f:\n",
    "    data = pickle.load(f)\n",
    "    \n",
    "d = dict(data)\n",
    "x_train = d['x_train']\n",
    "x_test = d['x_test']\n",
    "y_train = d['y_train']\n",
    "y_test = d['y_test']\n",
    "y_pred = d['y_pred']\n",
    "\n",
    "cav_path = 'cavs/' + subpath + '-0.1.pkl'\n",
    "path = os.path.join(working_dir, cav_path)\n",
    "\n",
    "with open(path, 'rb') as f:\n",
    "    cav_data = pickle.load(f)\n",
    "this_cav = cav_data['cavs'][0]\n",
    "\n",
    "## PCA\n",
    "pca_instance = pca(n_components=2).fit(x_train)\n",
    "\n",
    "# TRAIN\n",
    "x_train_embed_pca = np.dot(pca_instance.components_, x_train.T)\n",
    "\n",
    "x1_train_pca = x_train_embed_pca[0]\n",
    "x2_train_pca = x_train_embed_pca[1]\n",
    "\n",
    "color_train_pca = ['red' if y == 0 else 'blue' for y in y_train]\n",
    "\n",
    "# TEST\n",
    "x_test_embed_pca = np.dot(pca_instance.components_, x_test.T)\n",
    "\n",
    "x1_test_pca = x_test_embed_pca[0]\n",
    "x2_test_pca = x_test_embed_pca[1]\n",
    "\n",
    "light_blue = '#b3b8fb'\n",
    "light_red = '#f6889f'\n",
    "\n",
    "color_test_pca = [light_red if y == 0 else light_blue for y in y_test]\n",
    "\n",
    "##\n",
    "\n",
    "plt.scatter(x1_train_pca, x2_train_pca, color = color_train_pca)\n",
    "plt.scatter(x1_test_pca, x2_test_pca, color = color_test_pca) #, alpha = .6)\n",
    "\n",
    "\n",
    "cav_pca = np.dot(pca_instance.components_, this_cav.T)\n",
    "origin = [0],[0]\n",
    "plt.quiver(*origin, cav_pca[0], cav_pca[1], color='black',scale=20)\n",
    "\n",
    "#plt.xlim([-40,40])\n",
    "#plt.ylim([-40,40])\n",
    "\n",
    "#plt.axis('off')\n",
    "\n",
    "fig_path = 'figs/' + subpath + '.png'\n",
    "\n",
    "path = os.path.join(working_dir,fig_path)\n",
    "plt.savefig(path,dpi=200)"
   ]
  },
  {
   "cell_type": "code",
   "execution_count": 62,
   "metadata": {},
   "outputs": [
    {
     "data": {
      "text/plain": [
       "(81920,)"
      ]
     },
     "execution_count": 62,
     "metadata": {},
     "output_type": "execute_result"
    }
   ],
   "source": [
    "this_cav.shape"
   ]
  },
  {
   "cell_type": "code",
   "execution_count": 33,
   "metadata": {},
   "outputs": [],
   "source": [
    "#cav_data"
   ]
  },
  {
   "cell_type": "code",
   "execution_count": null,
   "metadata": {},
   "outputs": [],
   "source": []
  },
  {
   "cell_type": "code",
   "execution_count": null,
   "metadata": {},
   "outputs": [],
   "source": [
    "\n"
   ]
  },
  {
   "cell_type": "code",
   "execution_count": null,
   "metadata": {},
   "outputs": [],
   "source": []
  },
  {
   "cell_type": "code",
   "execution_count": null,
   "metadata": {},
   "outputs": [],
   "source": []
  },
  {
   "cell_type": "code",
   "execution_count": null,
   "metadata": {},
   "outputs": [],
   "source": []
  },
  {
   "cell_type": "code",
   "execution_count": null,
   "metadata": {},
   "outputs": [],
   "source": []
  },
  {
   "cell_type": "code",
   "execution_count": null,
   "metadata": {},
   "outputs": [],
   "source": []
  },
  {
   "cell_type": "code",
   "execution_count": null,
   "metadata": {},
   "outputs": [],
   "source": []
  },
  {
   "cell_type": "code",
   "execution_count": null,
   "metadata": {},
   "outputs": [],
   "source": []
  },
  {
   "cell_type": "code",
   "execution_count": 175,
   "metadata": {},
   "outputs": [
    {
     "data": {
      "text/plain": [
       "'/home/tyler/Desktop/tcav_on_azure/cavs/striped_sub_2-random500_0-mixed9-linear-0.1_test.pkl'"
      ]
     },
     "execution_count": 175,
     "metadata": {},
     "output_type": "execute_result"
    }
   ],
   "source": [
    "path\n"
   ]
  },
  {
   "cell_type": "code",
   "execution_count": 176,
   "metadata": {},
   "outputs": [],
   "source": [
    "path = os.path.join(working_dir,'cavs/striped_sub_2-random500_0-mixed9-linear-0.1.pkl')\n",
    "\n",
    "with open(path, 'rb') as f:\n",
    "    data = pickle.load(f)\n",
    "this_cav = data['cavs'][1]\n"
   ]
  },
  {
   "cell_type": "code",
   "execution_count": 213,
   "metadata": {},
   "outputs": [],
   "source": []
  },
  {
   "cell_type": "code",
   "execution_count": 214,
   "metadata": {},
   "outputs": [
    {
     "data": {
      "text/plain": [
       "(131072,)"
      ]
     },
     "execution_count": 214,
     "metadata": {},
     "output_type": "execute_result"
    }
   ],
   "source": [
    "this_cav.shape"
   ]
  },
  {
   "cell_type": "code",
   "execution_count": 215,
   "metadata": {},
   "outputs": [],
   "source": [
    "#pca_instance.components_.shape"
   ]
  },
  {
   "cell_type": "code",
   "execution_count": 216,
   "metadata": {},
   "outputs": [],
   "source": [
    "cav_pca = np.dot(pca_instance.components_, this_cav.T)\n"
   ]
  },
  {
   "cell_type": "code",
   "execution_count": 217,
   "metadata": {},
   "outputs": [
    {
     "data": {
      "text/plain": [
       "array([2.34626385, 0.09866892])"
      ]
     },
     "execution_count": 217,
     "metadata": {},
     "output_type": "execute_result"
    }
   ],
   "source": [
    "cav_pca\n"
   ]
  },
  {
   "cell_type": "code",
   "execution_count": 219,
   "metadata": {},
   "outputs": [
    {
     "data": {
      "text/plain": [
       "<matplotlib.quiver.Quiver at 0x7f06314be0b8>"
      ]
     },
     "execution_count": 219,
     "metadata": {},
     "output_type": "execute_result"
    },
    {
     "data": {
      "image/png": "[encoded data removed]",
      "text/plain": [
       "<Figure size 432x288 with 1 Axes>"
      ]
     },
     "metadata": {},
     "output_type": "display_data"
    }
   ],
   "source": [
    "origin = [0],[0]\n",
    "plt.quiver(*origin, cav_pca[0], cav_pca[1], color='black')\n",
    "#plt.show()\n"
   ]
  },
  {
   "cell_type": "markdown",
   "metadata": {},
   "source": [
    "## Decision boundary"
   ]
  },
  {
   "cell_type": "code",
   "execution_count": 34,
   "metadata": {},
   "outputs": [],
   "source": [
    "X_Train_embedded = x_train_embed\n",
    "y_predicted = y_train"
   ]
  },
  {
   "cell_type": "code",
   "execution_count": 35,
   "metadata": {},
   "outputs": [],
   "source": [
    "from sklearn.neighbors import KNeighborsClassifier"
   ]
  },
  {
   "cell_type": "code",
   "execution_count": 122,
   "metadata": {},
   "outputs": [
    {
     "data": {
      "image/png": "[encoded data removed]",
      "text/plain": [
       "<Figure size 432x288 with 1 Axes>"
      ]
     },
     "metadata": {},
     "output_type": "display_data"
    }
   ],
   "source": [
    "resolution = 100 # 100x100 background pixels\n",
    "X2d_xmin, X2d_xmax = np.min(X_Train_embedded[:,0]), np.max(X_Train_embedded[:,0])\n",
    "X2d_ymin, X2d_ymax = np.min(X_Train_embedded[:,1]), np.max(X_Train_embedded[:,1])\n",
    "xx, yy = np.meshgrid(np.linspace(X2d_xmin, X2d_xmax, resolution), np.linspace(X2d_ymin, X2d_ymax, resolution))\n",
    "\n",
    "# approximate Voronoi tesselation on resolution x resolution grid using 1-NN\n",
    "background_model = KNeighborsClassifier(n_neighbors=1).fit(X_Train_embedded, y_predicted) \n",
    "voronoiBackground = background_model.predict(np.c_[xx.ravel(), yy.ravel()])\n",
    "voronoiBackground = voronoiBackground.reshape((resolution, resolution))\n",
    "\n",
    "#plot\n",
    "plt.contourf(xx, yy, voronoiBackground)\n",
    "plt.scatter(X_Train_embedded[:,0], X_Train_embedded[:,1], c=color_train)\n",
    "plt.show()"
   ]
  },
  {
   "cell_type": "code",
   "execution_count": null,
   "metadata": {},
   "outputs": [],
   "source": []
  },
  {
   "cell_type": "code",
   "execution_count": 74,
   "metadata": {},
   "outputs": [
    {
     "data": {
      "text/plain": [
       "(4, 2)"
      ]
     },
     "execution_count": 74,
     "metadata": {},
     "output_type": "execute_result"
    }
   ],
   "source": [
    "## TSNE example\n",
    "X = np.array([[0, 0, 0], [0, 1, 1], [1, 0, 1], [1, 1, 1]])\n",
    "X_embedded = TSNE(n_components=2).fit_transform(X)\n",
    "X_embedded.shape"
   ]
  },
  {
   "cell_type": "markdown",
   "metadata": {},
   "source": [
    "## Replicate lm"
   ]
  },
  {
   "cell_type": "code",
   "execution_count": null,
   "metadata": {},
   "outputs": [],
   "source": [
    "lm = linear_model.SGDClassifier(alpha=.1)\n",
    "lm.fit(x_train, y_train)"
   ]
  },
  {
   "cell_type": "code",
   "execution_count": null,
   "metadata": {},
   "outputs": [],
   "source": [
    "lm.predict(x_test)"
   ]
  },
  {
   "cell_type": "code",
   "execution_count": null,
   "metadata": {},
   "outputs": [],
   "source": [
    "y_pred"
   ]
  },
  {
   "cell_type": "code",
   "execution_count": null,
   "metadata": {},
   "outputs": [],
   "source": [
    "#lm.coef_.shape\n",
    "\n",
    "coef = lm.coef_"
   ]
  },
  {
   "cell_type": "code",
   "execution_count": null,
   "metadata": {},
   "outputs": [],
   "source": [
    "#bound = TSNE(n_components=2).fit_transform(coef)"
   ]
  },
  {
   "cell_type": "code",
   "execution_count": null,
   "metadata": {},
   "outputs": [],
   "source": [
    "coef"
   ]
  },
  {
   "cell_type": "markdown",
   "metadata": {},
   "source": [
    "## Decision Boundary"
   ]
  },
  {
   "cell_type": "code",
   "execution_count": null,
   "metadata": {},
   "outputs": [],
   "source": [
    "x = np.array([[-1,1],[-1,-1],[1,-1],[1,1]])\n",
    "y = np.array([0,0,1,1])"
   ]
  },
  {
   "cell_type": "code",
   "execution_count": null,
   "metadata": {},
   "outputs": [],
   "source": [
    "#y"
   ]
  },
  {
   "cell_type": "code",
   "execution_count": null,
   "metadata": {},
   "outputs": [],
   "source": [
    "lm = linear_model.SGDClassifier(alpha=.1)\n",
    "lm.fit(x, y)"
   ]
  },
  {
   "cell_type": "code",
   "execution_count": null,
   "metadata": {},
   "outputs": [],
   "source": [
    "#x[:, 0].min()"
   ]
  },
  {
   "cell_type": "code",
   "execution_count": null,
   "metadata": {},
   "outputs": [],
   "source": [
    "h = .1  # step size in the mesh\n",
    "# create a mesh to plot in\n",
    "x_min, x_max = x[:, 0].min() - 1, x[:, 0].max() + 1\n",
    "y_min, y_max = x[:, 1].min() - 1, x[:, 1].max() + 1\n",
    "xx, yy = np.meshgrid(np.arange(x_min, x_max, h),\n",
    "                     np.arange(y_min, y_max, h))\n",
    "\n",
    "\n",
    "# Plot the decision boundary. For that, we will assign a color to each\n",
    "# point in the mesh [x_min, m_max]x[y_min, y_max].\n",
    "z = lm.predict(np.c_[xx.ravel(), yy.ravel()])\n",
    "\n",
    "# Put the result into a color plot\n",
    "z = z.reshape(xx.shape)\n",
    "plt.contourf(xx, yy, z, cmap ='plasma')\n",
    "\n",
    "\n",
    "x1 = np.array([a[0] for a  in x])\n",
    "x2 = np.array([a[1] for a  in x])\n",
    "\n",
    "color = ['red' if y == 0 else 'blue' for y in y]\n",
    "\n",
    "plt.scatter(x1, x2, color = color)"
   ]
  },
  {
   "cell_type": "code",
   "execution_count": null,
   "metadata": {},
   "outputs": [],
   "source": [
    "z[0][0]"
   ]
  },
  {
   "cell_type": "code",
   "execution_count": null,
   "metadata": {},
   "outputs": [],
   "source": []
  }
 ],
 "metadata": {
  "kernelspec": {
   "display_name": "Python [default]",
   "language": "python",
   "name": "python3"
  },
  "language_info": {
   "codemirror_mode": {
    "name": "ipython",
    "version": 3
   },
   "file_extension": ".py",
   "mimetype": "text/x-python",
   "name": "python",
   "nbconvert_exporter": "python",
   "pygments_lexer": "ipython3",
   "version": "3.5.5"
  }
 },
 "nbformat": 4,
 "nbformat_minor": 2
}
