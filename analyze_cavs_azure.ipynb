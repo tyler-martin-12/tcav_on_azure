{
 "cells": [
  {
   "cell_type": "code",
   "execution_count": 11,
   "metadata": {},
   "outputs": [],
   "source": [
    "import pickle\n",
    "from sklearn import linear_model\n",
    "from sklearn.manifold import TSNE\n",
    "from sklearn.decomposition import PCA as pca\n",
    "\n",
    "import numpy as np\n",
    "import matplotlib.pyplot as plt\n",
    "%matplotlib inline\n",
    "\n",
    "import os\n",
    "import math\n",
    "import pickle\n",
    "\n",
    "working_dir = '/home/tyler/Desktop/tcav_on_azure'"
   ]
  },
  {
   "cell_type": "markdown",
   "metadata": {},
   "source": [
    "## Load CAV and training/testing data"
   ]
  },
  {
   "cell_type": "code",
   "execution_count": 76,
   "metadata": {},
   "outputs": [],
   "source": [
    "class_1 = 'striped_sub_1'\n",
    "#class_1 = 'striped_sub_2'\n",
    "#class_1 = 'random500_0'\n",
    "\n",
    "class_2 = 'random500_0'\n",
    "#class_2 = 'random500_1'\n",
    "#class_2 = 'noise_color'\n",
    "#class_2 = 'horse_sub_2'\n",
    "\n",
    "layer = 'mixed9'\n",
    "lm_type = 'linear'\n",
    "lm_type = 'logistic'\n",
    "cav_name = class_1 + '-' + class_2 + '-' + layer + '-' + lm_type + '-0.1'\n",
    "sub_path = 'cavs/' + cav_name \n",
    "\n",
    "# Load training/testing data\n",
    "path = os.path.join(working_dir,sub_path + '_test.pkl')\n",
    "with open(path, 'rb') as f:\n",
    "    data = pickle.load(f)\n",
    "    \n",
    "d = dict(data)\n",
    "x_train = d['x_train']\n",
    "x_test = d['x_test']\n",
    "y_train = d['y_train']\n",
    "y_test = d['y_test']\n",
    "y_pred = d['y_pred']\n",
    "\n",
    "path = os.path.join(working_dir,sub_path + '.pkl')\n",
    "\n",
    "with open(path, 'rb') as f:\n",
    "    cav_data = pickle.load(f)\n",
    "this_cav = cav_data['cavs'][0]"
   ]
  },
  {
   "cell_type": "code",
   "execution_count": 151,
   "metadata": {},
   "outputs": [],
   "source": [
    "## PCA\n",
    "#pca_instance = pca(n_components=2).fit(x_train)\n",
    "#pca_components = pca_instance.components_\n",
    "#pickle.dump(pca_components, open('pca/pca_components_mixed9.pkl','wb'))\n",
    "\n",
    "pca_components = pickle.load(open('pca/pca_components_mixed9.pkl', 'rb'))"
   ]
  },
  {
   "cell_type": "code",
   "execution_count": 78,
   "metadata": {},
   "outputs": [],
   "source": [
    "# TRAIN\n",
    "x_train_embed_pca = np.dot(pca_components, x_train.T)\n",
    "\n",
    "x1_train_pca = x_train_embed_pca[0]\n",
    "x2_train_pca = x_train_embed_pca[1]\n",
    "\n",
    "color_train_pca = ['red' if y == 0 else 'blue' for y in y_train]\n",
    "\n",
    "# TEST\n",
    "x_test_embed_pca = np.dot(pca_components, x_test.T)\n",
    "\n",
    "x1_test_pca = x_test_embed_pca[0]\n",
    "x2_test_pca = x_test_embed_pca[1]\n",
    "\n",
    "light_blue = '#b3b8fb'\n",
    "light_red = '#f6889f'\n",
    "\n",
    "color_test_pca = [light_red if y == 0 else light_blue for y in y_test]\n"
   ]
  },
  {
   "cell_type": "code",
   "execution_count": 79,
   "metadata": {},
   "outputs": [
    {
     "data": {
      "image/png": "[encoded data removed]",
      "text/plain": [
       "<Figure size 360x360 with 1 Axes>"
      ]
     },
     "metadata": {},
     "output_type": "display_data"
    }
   ],
   "source": [
    "fig = plt.figure(figsize=[5,5])\n",
    "\n",
    "plt.scatter(x1_train_pca, x2_train_pca, color = color_train_pca)\n",
    "plt.scatter(x1_test_pca, x2_test_pca, color = color_test_pca) #, alpha = .6)\n",
    "\n",
    "circ = plt.Circle((-30, 30), radius=8, edgecolor='black', facecolor='None')\n",
    "ax = plt.gca()\n",
    "\n",
    "ax.add_patch(circ)\n",
    "\n",
    "cav_pca = np.dot(pca_instance.components_, this_cav.T)\n",
    "cav_norm = vector_norm(cav_pca)\n",
    "cav_norm *= 8\n",
    "#origin = [-30],[30]\n",
    "#plt.quiver(*origin, cav_norm[0], cav_norm[1], color='black',scale=100)\n",
    "\n",
    "arrow_start = [-30,30]\n",
    "\n",
    "my_arrow = plt.arrow(arrow_start[0], arrow_start[1], cav_norm[0], cav_norm[1],width=.4,\n",
    "                     length_includes_head=True,head_width=2,fc='k', ec=None)\n",
    "ax.add_patch(my_arrow)\n",
    "\n",
    "\n",
    "plt.xlim([-40,40])\n",
    "plt.ylim([-40,40])\n",
    "\n",
    "fig_path = 'figs/jul_9/pca_' + cav_name + '.png'\n",
    "\n",
    "path = os.path.join(working_dir,fig_path)\n",
    "plt.savefig(path,dpi=200)\n"
   ]
  },
  {
   "cell_type": "code",
   "execution_count": 126,
   "metadata": {},
   "outputs": [],
   "source": [
    "## define functions\n",
    "def vector_norm(vec):\n",
    "    norm_const = math.sqrt(vec[0]*vec[0] + vec[1]*vec[1])\n",
    "    return vec / norm_const\n",
    "\n",
    "def vec_norm(vec):\n",
    "    return  vec / np.linalg.norm(vec)"
   ]
  },
  {
   "cell_type": "code",
   "execution_count": null,
   "metadata": {},
   "outputs": [],
   "source": []
  },
  {
   "cell_type": "code",
   "execution_count": 80,
   "metadata": {},
   "outputs": [],
   "source": [
    "## CAV distance\n",
    "def euclidean_distance(a,b):\n",
    "    return np.linalg.norm(a-b)\n",
    "\n"
   ]
  },
  {
   "cell_type": "code",
   "execution_count": 149,
   "metadata": {},
   "outputs": [
    {
     "data": {
      "text/plain": [
       "['striped_sub_1-random500_1-mixed9-linear-0.1',\n",
       " 'striped_sub_1-horse_sub_2-mixed9-linear-0.1',\n",
       " 'striped_sub_2-random500_1-mixed9-linear-0.1',\n",
       " 'striped_sub_1-horse_sub_1-mixed9-linear-0.1',\n",
       " 'striped_sub_1-random500_0-mixed9-linear-0.1',\n",
       " 'striped_sub_1-random500_0-mixed9-logistic-0.1',\n",
       " 'striped_sub_2-random500_0-mixed9-linear-0.1']"
      ]
     },
     "execution_count": 149,
     "metadata": {},
     "output_type": "execute_result"
    }
   ],
   "source": [
    "cav_list"
   ]
  },
  {
   "cell_type": "code",
   "execution_count": 150,
   "metadata": {},
   "outputs": [
    {
     "data": {
      "text/plain": [
       "1.327189633868637"
      ]
     },
     "execution_count": 150,
     "metadata": {},
     "output_type": "execute_result"
    }
   ],
   "source": [
    "euclidean_distance(cav_dict[cav_list[1]],cav_dict[cav_list[3]])"
   ]
  },
  {
   "cell_type": "code",
   "execution_count": null,
   "metadata": {},
   "outputs": [],
   "source": []
  },
  {
   "cell_type": "code",
   "execution_count": 119,
   "metadata": {},
   "outputs": [],
   "source": []
  },
  {
   "cell_type": "code",
   "execution_count": 148,
   "metadata": {},
   "outputs": [],
   "source": [
    "#cav_dict = {}\n",
    "\n",
    "class_1 = 'striped_sub_1'\n",
    "class_2 = 'horse_sub_2'\n",
    "\n",
    "layer = 'mixed9'\n",
    "lm_type = 'linear'\n",
    "\n",
    "cav_name = class_1 + '-' + class_2 + '-' + layer + '-' + lm_type + '-0.1'\n",
    "sub_path = 'cavs/' + cav_name \n",
    "\n",
    "path = os.path.join(working_dir,sub_path + '.pkl')\n",
    "\n",
    "cav_data = pickle.load(open(path, 'rb'))\n",
    "cav_dict[cav_name] = vec_norm(cav_data['cavs'][0])\n",
    "cav_list = list(cav_dict.keys())"
   ]
  },
  {
   "cell_type": "code",
   "execution_count": 84,
   "metadata": {},
   "outputs": [],
   "source": [
    "#sub_path"
   ]
  },
  {
   "cell_type": "code",
   "execution_count": null,
   "metadata": {},
   "outputs": [],
   "source": [
    "euclidean_distance()"
   ]
  },
  {
   "cell_type": "code",
   "execution_count": null,
   "metadata": {},
   "outputs": [],
   "source": []
  },
  {
   "cell_type": "markdown",
   "metadata": {},
   "source": [
    "## TCAV score"
   ]
  },
  {
   "cell_type": "code",
   "execution_count": null,
   "metadata": {},
   "outputs": [],
   "source": []
  },
  {
   "cell_type": "code",
   "execution_count": null,
   "metadata": {},
   "outputs": [],
   "source": []
  },
  {
   "cell_type": "code",
   "execution_count": null,
   "metadata": {},
   "outputs": [],
   "source": []
  },
  {
   "cell_type": "code",
   "execution_count": null,
   "metadata": {},
   "outputs": [],
   "source": []
  },
  {
   "cell_type": "code",
   "execution_count": null,
   "metadata": {},
   "outputs": [],
   "source": []
  },
  {
   "cell_type": "code",
   "execution_count": null,
   "metadata": {},
   "outputs": [],
   "source": []
  },
  {
   "cell_type": "code",
   "execution_count": null,
   "metadata": {},
   "outputs": [],
   "source": []
  },
  {
   "cell_type": "code",
   "execution_count": null,
   "metadata": {},
   "outputs": [],
   "source": []
  },
  {
   "cell_type": "code",
   "execution_count": null,
   "metadata": {},
   "outputs": [],
   "source": []
  },
  {
   "cell_type": "code",
   "execution_count": null,
   "metadata": {},
   "outputs": [],
   "source": []
  },
  {
   "cell_type": "code",
   "execution_count": null,
   "metadata": {},
   "outputs": [],
   "source": []
  },
  {
   "cell_type": "code",
   "execution_count": null,
   "metadata": {},
   "outputs": [],
   "source": []
  },
  {
   "cell_type": "code",
   "execution_count": null,
   "metadata": {},
   "outputs": [],
   "source": []
  },
  {
   "cell_type": "markdown",
   "metadata": {},
   "source": [
    "## UMAP"
   ]
  },
  {
   "cell_type": "code",
   "execution_count": 32,
   "metadata": {},
   "outputs": [],
   "source": [
    "## umap\n",
    "import umap"
   ]
  },
  {
   "cell_type": "code",
   "execution_count": 79,
   "metadata": {},
   "outputs": [],
   "source": [
    "#this_umap = umap.UMAP.fit((x_train,2))\n",
    "this_umap = umap.UMAP(n_neighbors=10, random_state=42).fit(x_train)\n",
    "\n",
    "x_train_umap = this_umap.transform(x_train)\n",
    "x1_train = [x[0] for x in x_train_embed_umap]\n",
    "x2_train = [x[1] for x in x_train_embed_umap]\n",
    "\n",
    "x_test_umap = this_umap.transform(x_test)\n",
    "x1_test = [x[0] for x in x_test_umap]\n",
    "x2_test = [x[1] for x in x_test_umap]"
   ]
  },
  {
   "cell_type": "code",
   "execution_count": 80,
   "metadata": {},
   "outputs": [
    {
     "data": {
      "text/plain": [
       "<matplotlib.collections.PathCollection at 0x7f8e50871d30>"
      ]
     },
     "execution_count": 80,
     "metadata": {},
     "output_type": "execute_result"
    },
    {
     "data": {
      "image/png": "[encoded data removed]",
      "text/plain": [
       "<Figure size 432x288 with 1 Axes>"
      ]
     },
     "metadata": {},
     "output_type": "display_data"
    }
   ],
   "source": [
    "plt.scatter(x1_train, x2_train, color = color_train_pca)\n",
    "plt.scatter(x1_test, x2_test, color = color_test_pca) #, alpha = .6)"
   ]
  },
  {
   "cell_type": "code",
   "execution_count": 70,
   "metadata": {},
   "outputs": [],
   "source": []
  },
  {
   "cell_type": "code",
   "execution_count": null,
   "metadata": {},
   "outputs": [],
   "source": []
  },
  {
   "cell_type": "code",
   "execution_count": null,
   "metadata": {},
   "outputs": [],
   "source": [
    "## TSNE\n",
    "t = TSNE(n_components=2, perplexity=30).fit(x_train)\n",
    "\n",
    "x_train_embed = TSNE(n_components=2, perplexity=50).fit_transform(x_train)\n",
    "\n",
    "x1_train = np.array([a[0] for a  in x_train_embed])\n",
    "x2_train = np.array([a[1] for a  in x_train_embed])\n",
    "\n",
    "color_train = ['red' if y == 0 else 'blue' for y in y_train]\n",
    "\n",
    "x_test_embed = TSNE(n_components=2).fit_transform(x_test)\n",
    "\n",
    "x1_test = np.array([a[0] for a  in x_test_embed])\n",
    "x2_test = np.array([a[1] for a  in x_test_embed])\n",
    "\n",
    "color_test = ['red' if y == 0 else 'blue' for y in y_test]\n",
    "\n",
    "plt.scatter(x1_train, x2_train, color = color_train)\n",
    "#plt.scatter(x1_test, x2_test, color = color_test)\n",
    "\n",
    "#plt.legend(['blue'])\n",
    "#plt.legend(['red'])\n",
    "\n",
    "path = os.path.join(working_dir,'figs/tsne_striped_2_random_1_layer_9.png')\n"
   ]
  },
  {
   "cell_type": "code",
   "execution_count": null,
   "metadata": {},
   "outputs": [],
   "source": [
    "## Load CAV\n",
    "working_dir = '/home/tyler/Desktop/tcav_on_azure'\n",
    "\n",
    "path = os.path.join(working_dir,'cavs/striped_sub_2-random500_0-mixed9-linear-0.1.pkl')\n",
    "\n",
    "with open(path, 'rb') as f:\n",
    "    data = pickle.load(f)\n",
    "    \n",
    "d = dict(data)\n",
    "arr = d['cavs']"
   ]
  },
  {
   "cell_type": "code",
   "execution_count": null,
   "metadata": {},
   "outputs": [],
   "source": []
  },
  {
   "cell_type": "code",
   "execution_count": null,
   "metadata": {},
   "outputs": [],
   "source": []
  },
  {
   "cell_type": "code",
   "execution_count": null,
   "metadata": {},
   "outputs": [],
   "source": []
  },
  {
   "cell_type": "markdown",
   "metadata": {},
   "source": [
    "## Decision boundary"
   ]
  },
  {
   "cell_type": "code",
   "execution_count": 34,
   "metadata": {},
   "outputs": [],
   "source": [
    "X_Train_embedded = x_train_embed\n",
    "y_predicted = y_train"
   ]
  },
  {
   "cell_type": "code",
   "execution_count": 35,
   "metadata": {},
   "outputs": [],
   "source": [
    "from sklearn.neighbors import KNeighborsClassifier"
   ]
  },
  {
   "cell_type": "code",
   "execution_count": 122,
   "metadata": {},
   "outputs": [
    {
     "data": {
      "image/png": "[encoded data removed]",
      "text/plain": [
       "<Figure size 432x288 with 1 Axes>"
      ]
     },
     "metadata": {},
     "output_type": "display_data"
    }
   ],
   "source": [
    "resolution = 100 # 100x100 background pixels\n",
    "X2d_xmin, X2d_xmax = np.min(X_Train_embedded[:,0]), np.max(X_Train_embedded[:,0])\n",
    "X2d_ymin, X2d_ymax = np.min(X_Train_embedded[:,1]), np.max(X_Train_embedded[:,1])\n",
    "xx, yy = np.meshgrid(np.linspace(X2d_xmin, X2d_xmax, resolution), np.linspace(X2d_ymin, X2d_ymax, resolution))\n",
    "\n",
    "# approximate Voronoi tesselation on resolution x resolution grid using 1-NN\n",
    "background_model = KNeighborsClassifier(n_neighbors=1).fit(X_Train_embedded, y_predicted) \n",
    "voronoiBackground = background_model.predict(np.c_[xx.ravel(), yy.ravel()])\n",
    "voronoiBackground = voronoiBackground.reshape((resolution, resolution))\n",
    "\n",
    "#plot\n",
    "plt.contourf(xx, yy, voronoiBackground)\n",
    "plt.scatter(X_Train_embedded[:,0], X_Train_embedded[:,1], c=color_train)\n",
    "plt.show()"
   ]
  },
  {
   "cell_type": "code",
   "execution_count": null,
   "metadata": {},
   "outputs": [],
   "source": []
  },
  {
   "cell_type": "code",
   "execution_count": 74,
   "metadata": {},
   "outputs": [
    {
     "data": {
      "text/plain": [
       "(4, 2)"
      ]
     },
     "execution_count": 74,
     "metadata": {},
     "output_type": "execute_result"
    }
   ],
   "source": [
    "## TSNE example\n",
    "X = np.array([[0, 0, 0], [0, 1, 1], [1, 0, 1], [1, 1, 1]])\n",
    "X_embedded = TSNE(n_components=2).fit_transform(X)\n",
    "X_embedded.shape"
   ]
  },
  {
   "cell_type": "markdown",
   "metadata": {},
   "source": [
    "## Replicate lm"
   ]
  },
  {
   "cell_type": "code",
   "execution_count": null,
   "metadata": {},
   "outputs": [],
   "source": [
    "lm = linear_model.SGDClassifier(alpha=.1)\n",
    "lm.fit(x_train, y_train)"
   ]
  },
  {
   "cell_type": "code",
   "execution_count": null,
   "metadata": {},
   "outputs": [],
   "source": [
    "lm.predict(x_test)"
   ]
  },
  {
   "cell_type": "code",
   "execution_count": null,
   "metadata": {},
   "outputs": [],
   "source": [
    "y_pred"
   ]
  },
  {
   "cell_type": "code",
   "execution_count": null,
   "metadata": {},
   "outputs": [],
   "source": [
    "#lm.coef_.shape\n",
    "\n",
    "coef = lm.coef_"
   ]
  },
  {
   "cell_type": "code",
   "execution_count": null,
   "metadata": {},
   "outputs": [],
   "source": [
    "#bound = TSNE(n_components=2).fit_transform(coef)"
   ]
  },
  {
   "cell_type": "code",
   "execution_count": null,
   "metadata": {},
   "outputs": [],
   "source": [
    "coef"
   ]
  },
  {
   "cell_type": "markdown",
   "metadata": {},
   "source": [
    "## Decision Boundary"
   ]
  },
  {
   "cell_type": "code",
   "execution_count": null,
   "metadata": {},
   "outputs": [],
   "source": [
    "x = np.array([[-1,1],[-1,-1],[1,-1],[1,1]])\n",
    "y = np.array([0,0,1,1])"
   ]
  },
  {
   "cell_type": "code",
   "execution_count": null,
   "metadata": {},
   "outputs": [],
   "source": [
    "#y"
   ]
  },
  {
   "cell_type": "code",
   "execution_count": null,
   "metadata": {},
   "outputs": [],
   "source": [
    "lm = linear_model.SGDClassifier(alpha=.1)\n",
    "lm.fit(x, y)"
   ]
  },
  {
   "cell_type": "code",
   "execution_count": null,
   "metadata": {},
   "outputs": [],
   "source": [
    "#x[:, 0].min()"
   ]
  },
  {
   "cell_type": "code",
   "execution_count": null,
   "metadata": {},
   "outputs": [],
   "source": [
    "h = .1  # step size in the mesh\n",
    "# create a mesh to plot in\n",
    "x_min, x_max = x[:, 0].min() - 1, x[:, 0].max() + 1\n",
    "y_min, y_max = x[:, 1].min() - 1, x[:, 1].max() + 1\n",
    "xx, yy = np.meshgrid(np.arange(x_min, x_max, h),\n",
    "                     np.arange(y_min, y_max, h))\n",
    "\n",
    "\n",
    "# Plot the decision boundary. For that, we will assign a color to each\n",
    "# point in the mesh [x_min, m_max]x[y_min, y_max].\n",
    "z = lm.predict(np.c_[xx.ravel(), yy.ravel()])\n",
    "\n",
    "# Put the result into a color plot\n",
    "z = z.reshape(xx.shape)\n",
    "plt.contourf(xx, yy, z, cmap ='plasma')\n",
    "\n",
    "\n",
    "x1 = np.array([a[0] for a  in x])\n",
    "x2 = np.array([a[1] for a  in x])\n",
    "\n",
    "color = ['red' if y == 0 else 'blue' for y in y]\n",
    "\n",
    "plt.scatter(x1, x2, color = color)"
   ]
  },
  {
   "cell_type": "code",
   "execution_count": null,
   "metadata": {},
   "outputs": [],
   "source": [
    "z[0][0]"
   ]
  },
  {
   "cell_type": "code",
   "execution_count": null,
   "metadata": {},
   "outputs": [],
   "source": []
  }
 ],
 "metadata": {
  "kernelspec": {
   "display_name": "Python [default]",
   "language": "python",
   "name": "python3"
  },
  "language_info": {
   "codemirror_mode": {
    "name": "ipython",
    "version": 3
   },
   "file_extension": ".py",
   "mimetype": "text/x-python",
   "name": "python",
   "nbconvert_exporter": "python",
   "pygments_lexer": "ipython3",
   "version": "3.5.5"
  }
 },
 "nbformat": 4,
 "nbformat_minor": 2
}
