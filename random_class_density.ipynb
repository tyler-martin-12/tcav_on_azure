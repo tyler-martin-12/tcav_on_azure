{
 "cells": [
  {
   "cell_type": "code",
   "execution_count": 2,
   "metadata": {},
   "outputs": [
    {
     "name": "stderr",
     "output_type": "stream",
     "text": [
      "Using TensorFlow backend.\n"
     ]
    }
   ],
   "source": [
    "import os\n",
    "os.environ['KERAS_BACKEND'] = 'tensorflow'\n",
    "from tensorflow import keras\n",
    "from keras.applications.inception_v3 import InceptionV3\n",
    "from keras.applications.inception_v3 import decode_predictions\n",
    "from keras.models import Model, load_model\n",
    "import keras.backend as K\n",
    "\n",
    "import model as tcav_model\n",
    "import tcav as tcav\n",
    "import utils as utils\n",
    "import activation_generator as act_gen\n",
    "import tensorflow as tf\n",
    "import utils_plot as utils_plot\n",
    "import cav as cav\n",
    "\n",
    "from sklearn.metrics.pairwise import cosine_similarity\n",
    "import numpy as np\n",
    "from numpy.linalg import norm\n",
    "\n",
    "import pickle\n",
    "\n",
    "from os import listdir\n",
    "from os.path import isfile, join\n",
    "import operator\n",
    "from PIL import Image\n",
    "from keras.preprocessing import image\n",
    "\n",
    "import os\n",
    "import math\n",
    "\n",
    "import PIL.Image\n",
    "from sklearn.metrics import pairwise\n",
    "import matplotlib.pyplot as plt\n",
    "from keras.applications.inception_v3 import preprocess_input\n",
    "\n",
    "from sklearn import linear_model\n",
    "from sklearn import metrics\n",
    "from sklearn.model_selection import train_test_split\n",
    "\n",
    "import warnings\n",
    "warnings.filterwarnings(\"ignore\", category=DeprecationWarning)\n",
    "warnings.filterwarnings(\"ignore\", category=FutureWarning)\n",
    "\n",
    "import pandas as pd\n",
    "from scipy import stats\n",
    "\n",
    "import tensorflow\n"
   ]
  },
  {
   "cell_type": "code",
   "execution_count": 3,
   "metadata": {},
   "outputs": [
    {
     "name": "stderr",
     "output_type": "stream",
     "text": [
      "/Users/tyler/anaconda3/lib/python3.6/site-packages/keras/engine/saving.py:292: UserWarning: No training configuration found in save file: the model was *not* compiled. Compile it manually.\n",
      "  warnings.warn('No training configuration found in save file: '\n"
     ]
    }
   ],
   "source": [
    "K.set_learning_phase(0)\n",
    "model = load_model('v3_model.h5')"
   ]
  },
  {
   "cell_type": "code",
   "execution_count": 4,
   "metadata": {},
   "outputs": [],
   "source": [
    "sess = K.get_session()\n",
    "\n",
    "endpoints_v3 = dict(\n",
    "    input=model.inputs[0].name,\n",
    "    input_tensor=model.inputs[0],\n",
    "    logit=model.outputs[0].name,\n",
    "    prediction=model.outputs[0].name,\n",
    "    prediction_tensor=model.outputs[0],)\n",
    "\n",
    "tf.logging.set_verbosity(0)\n",
    "\n",
    "working_dir = '/Users/tyler/Desktop/dissertation/programming/tcav_on_azure'\n",
    "\n",
    "label_path = os.path.join(working_dir,'labels.txt')\n",
    "\n",
    "mymodel = tcav_model.KerasModelWrapper(sess, \n",
    "        label_path, [299, 299, 3], endpoints_v3, \n",
    "        'InceptionV3_public', (-1, 1))"
   ]
  },
  {
   "cell_type": "code",
   "execution_count": 4,
   "metadata": {},
   "outputs": [],
   "source": [
    "## get activations for set"
   ]
  },
  {
   "cell_type": "code",
   "execution_count": 5,
   "metadata": {},
   "outputs": [],
   "source": []
  },
  {
   "cell_type": "code",
   "execution_count": 246,
   "metadata": {},
   "outputs": [],
   "source": [
    "source_dir = working_dir + '/concepts/'\n",
    "activation_dir =  working_dir + '/activations/'\n",
    "\n",
    "bottleneck = 'mixed9'\n",
    "concepts = 'random500_0'\n",
    "target_class = 'zebra'\n",
    "\n",
    "act_generator = act_gen.ImageActivationGenerator(mymodel, source_dir, activation_dir, max_examples=50)\n",
    "acts = act_generator.process_and_load_activations([bottleneck], [concepts] + [target_class])"
   ]
  },
  {
   "cell_type": "code",
   "execution_count": 15,
   "metadata": {},
   "outputs": [],
   "source": [
    "## comparing activations"
   ]
  },
  {
   "cell_type": "code",
   "execution_count": 33,
   "metadata": {},
   "outputs": [
    {
     "data": {
      "text/plain": [
       "array([0.        , 0.        , 1.9132142 , 0.51159245, 0.        ,\n",
       "       0.        , 0.        , 0.        , 0.        , 0.        ,\n",
       "       0.        , 0.        , 0.        , 0.        , 0.        ,\n",
       "       0.        , 0.        , 0.        , 0.71297634, 0.        ],\n",
       "      dtype=float32)"
      ]
     },
     "execution_count": 33,
     "metadata": {},
     "output_type": "execute_result"
    }
   ],
   "source": [
    "## from act gen\n",
    "xx = acts['noise_black']['mixed9'][0].reshape(-1)\n",
    "xx[:20]"
   ]
  },
  {
   "cell_type": "code",
   "execution_count": 45,
   "metadata": {},
   "outputs": [
    {
     "data": {
      "text/plain": [
       "(131072,)"
      ]
     },
     "execution_count": 45,
     "metadata": {},
     "output_type": "execute_result"
    }
   ],
   "source": [
    "xx.shape"
   ]
  },
  {
   "cell_type": "code",
   "execution_count": 17,
   "metadata": {},
   "outputs": [],
   "source": [
    "path = 'activations/images_used_noise_black.pkl'\n",
    "black_images = pickle.load(open(path, 'rb'))"
   ]
  },
  {
   "cell_type": "code",
   "execution_count": 18,
   "metadata": {},
   "outputs": [
    {
     "data": {
      "text/plain": [
       "['/Users/tyler/Desktop/dissertation/programming/tcav_on_azure/concepts/noise_black/img1.jpg',\n",
       " '/Users/tyler/Desktop/dissertation/programming/tcav_on_azure/concepts/noise_black/img10.jpg']"
      ]
     },
     "execution_count": 18,
     "metadata": {},
     "output_type": "execute_result"
    }
   ],
   "source": [
    "black_images"
   ]
  },
  {
   "cell_type": "code",
   "execution_count": 34,
   "metadata": {},
   "outputs": [],
   "source": [
    "#img_path = 'concepts/striped_sub_1/striped_0004.jpg'\n",
    "img_path = black_images[0]\n",
    "img = prep2(img_path)\n",
    "acts_orig = get_acts(np.expand_dims(img, axis=0))"
   ]
  },
  {
   "cell_type": "code",
   "execution_count": null,
   "metadata": {},
   "outputs": [],
   "source": [
    "acts_orig[:20]"
   ]
  },
  {
   "cell_type": "code",
   "execution_count": null,
   "metadata": {},
   "outputs": [],
   "source": []
  },
  {
   "cell_type": "code",
   "execution_count": 12,
   "metadata": {},
   "outputs": [],
   "source": [
    "concept = 'random500_0'\n",
    "concept_dir = os.path.join(working_dir,'concepts/'+concept)\n",
    "concept_image_list = files_from_dir(concept_dir)\n",
    "concept_image_list.sort()"
   ]
  },
  {
   "cell_type": "code",
   "execution_count": 254,
   "metadata": {},
   "outputs": [],
   "source": [
    "n = 131072\n",
    "\n",
    "activations = np.zeros((len(concept_image_list),n))\n",
    "for idx,image_path in enumerate(concept_image_list):\n",
    "    img = prep2(os.path.join(concept_dir,image_path))\n",
    "    acts_orig = get_acts(np.expand_dims(img, axis=0))\n",
    "    activations[idx] = acts_orig"
   ]
  },
  {
   "cell_type": "code",
   "execution_count": 255,
   "metadata": {},
   "outputs": [
    {
     "data": {
      "text/plain": [
       "(50, 131072)"
      ]
     },
     "execution_count": 255,
     "metadata": {},
     "output_type": "execute_result"
    }
   ],
   "source": [
    "activations.shape"
   ]
  },
  {
   "cell_type": "code",
   "execution_count": 9,
   "metadata": {},
   "outputs": [],
   "source": []
  },
  {
   "cell_type": "code",
   "execution_count": null,
   "metadata": {},
   "outputs": [],
   "source": []
  },
  {
   "cell_type": "code",
   "execution_count": 210,
   "metadata": {},
   "outputs": [
    {
     "data": {
      "image/png": "[encoded data removed]",
      "text/plain": [
       "<Figure size 360x360 with 1 Axes>"
      ]
     },
     "metadata": {
      "needs_background": "light"
     },
     "output_type": "display_data"
    }
   ],
   "source": [
    "light_blue, light_red = '#b3b8fb', '#f6889f'\n",
    "\n",
    "embed_pca = np.dot(pca_components, activations.T)\n",
    "\n",
    "fig = plt.figure(figsize=[5,5])\n",
    "\n",
    "plt.scatter(embed_pca[0], embed_pca[1], color = 'b')\n",
    "\n",
    "my_xlim = plt.xlim([-40,40])\n",
    "my_ylim = plt.ylim([-40,40])"
   ]
  },
  {
   "cell_type": "code",
   "execution_count": 215,
   "metadata": {},
   "outputs": [
    {
     "data": {
      "text/plain": [
       "'/Users/tyler/Desktop/dissertation/programming/tcav_on_azure/activations/acts_random500_0_mixed9'"
      ]
     },
     "execution_count": 215,
     "metadata": {},
     "output_type": "execute_result"
    }
   ],
   "source": [
    "to_load_path"
   ]
  },
  {
   "cell_type": "code",
   "execution_count": 313,
   "metadata": {},
   "outputs": [],
   "source": [
    "## load and plot activation\n",
    "concept = 'random500_7'\n",
    "layer = 'mixed9'\n",
    "\n",
    "to_load_path = os.path.join(working_dir,f'activations/acts_{concept}_{layer}')\n",
    "\n",
    "with open(to_load_path, 'rb') as f:\n",
    "    activations_raw = np.load(f)\n",
    "activations = activations_raw.reshape((activations_raw.shape[0], 131072))"
   ]
  },
  {
   "cell_type": "code",
   "execution_count": 316,
   "metadata": {},
   "outputs": [
    {
     "data": {
      "text/plain": [
       "1.3499350139167419"
      ]
     },
     "execution_count": 316,
     "metadata": {},
     "output_type": "execute_result"
    }
   ],
   "source": [
    "random_spreads[concept] - 52.736"
   ]
  },
  {
   "cell_type": "code",
   "execution_count": 315,
   "metadata": {},
   "outputs": [
    {
     "data": {
      "image/png": "[encoded data removed]",
      "text/plain": [
       "<Figure size 360x360 with 1 Axes>"
      ]
     },
     "metadata": {
      "needs_background": "light"
     },
     "output_type": "display_data"
    }
   ],
   "source": [
    "light_blue, light_red = '#b3b8fb', '#f6889f'\n",
    "\n",
    "embed_pca = np.dot(pca_components, activations.T)\n",
    "\n",
    "fig = plt.figure(figsize=[5,5])\n",
    "\n",
    "plt.scatter(embed_pca[0], embed_pca[1], color = 'b')\n",
    "\n",
    "my_xlim = plt.xlim([-40,40])\n",
    "my_ylim = plt.ylim([-40,40])"
   ]
  },
  {
   "cell_type": "code",
   "execution_count": 163,
   "metadata": {},
   "outputs": [],
   "source": [
    "## density measurement"
   ]
  },
  {
   "cell_type": "code",
   "execution_count": 285,
   "metadata": {},
   "outputs": [
    {
     "data": {
      "text/plain": [
       "53.09843844175339"
      ]
     },
     "execution_count": 285,
     "metadata": {},
     "output_type": "execute_result"
    }
   ],
   "source": [
    "find_spread(activations)"
   ]
  },
  {
   "cell_type": "code",
   "execution_count": null,
   "metadata": {},
   "outputs": [],
   "source": []
  },
  {
   "cell_type": "code",
   "execution_count": null,
   "metadata": {},
   "outputs": [],
   "source": []
  },
  {
   "cell_type": "code",
   "execution_count": 190,
   "metadata": {},
   "outputs": [
    {
     "name": "stdout",
     "output_type": "stream",
     "text": [
      "random500_0 already in dict\n",
      "random500_1 already in dict\n",
      "random500_2 already in dict\n",
      "random500_3 already in dict\n",
      "random500_4 already in dict\n",
      "random500_5 already in dict\n",
      "random500_6 already in dict\n",
      "random500_7 already in dict\n",
      "random500_8 already in dict\n",
      "random500_9 already in dict\n",
      "random500_10 already in dict\n",
      "random500_11 already in dict\n",
      "random500_12 already in dict\n",
      "random500_13 already in dict\n",
      "random500_14 already in dict\n",
      "did random500_15\n",
      "did random500_16\n",
      "did random500_17\n",
      "did random500_18\n",
      "did random500_19\n"
     ]
    }
   ],
   "source": [
    "## loop through some random classes\n",
    "random_spreads = pickle.load(open('random_spreads.pkl', 'rb'))\n",
    "\n",
    "for random_idx in range(20):\n",
    "    concept = 'random500_' + str(random_idx)\n",
    "    if concept not in random_spreads:\n",
    "        concept_dir = os.path.join(working_dir,'concepts/'+concept)\n",
    "        concept_image_list = files_from_dir(concept_dir)\n",
    "        concept_image_list.sort()\n",
    "\n",
    "        n = 131072\n",
    "        activations = np.zeros((len(concept_image_list),n))\n",
    "        for idx,image_path in enumerate(concept_image_list):\n",
    "            img = prep2(os.path.join(concept_dir,image_path))\n",
    "            acts_orig = get_acts(np.expand_dims(img, axis=0))\n",
    "            activations[idx] = acts_orig\n",
    "\n",
    "        spread = find_spread(activations)\n",
    "        random_spreads[concept] = spread\n",
    "        print(f'did {concept}')\n",
    "    else:\n",
    "        print(f'{concept} already in dict')\n",
    "pickle.dump(random_spreads,open('random_spreads.pkl', 'wb'))"
   ]
  },
  {
   "cell_type": "code",
   "execution_count": 288,
   "metadata": {},
   "outputs": [],
   "source": [
    "nums = np.array([num for key,num in list(random_spreads.items())])"
   ]
  },
  {
   "cell_type": "code",
   "execution_count": 292,
   "metadata": {},
   "outputs": [
    {
     "data": {
      "text/plain": [
       "52.73647674121937"
      ]
     },
     "execution_count": 292,
     "metadata": {},
     "output_type": "execute_result"
    }
   ],
   "source": [
    "nums.mean()"
   ]
  },
  {
   "cell_type": "code",
   "execution_count": 193,
   "metadata": {},
   "outputs": [
    {
     "data": {
      "text/plain": [
       "array([1.27019012, 0.5900664 , 0.23630781, 1.26083077, 1.45339113,\n",
       "       0.92814446, 1.3578987 , 2.40624947, 1.42983436, 1.41875215,\n",
       "       1.02947718, 0.        , 0.41647292, 0.69903042, 1.45437343,\n",
       "       1.86425961, 0.0984502 , 1.18320903, 1.26875642, 0.77012941])"
      ]
     },
     "execution_count": 193,
     "metadata": {},
     "output_type": "execute_result"
    }
   ],
   "source": [
    "nums - nums.min()"
   ]
  },
  {
   "cell_type": "code",
   "execution_count": 312,
   "metadata": {},
   "outputs": [
    {
     "data": {
      "text/plain": [
       "(7, 54.08593501391674)"
      ]
     },
     "execution_count": 312,
     "metadata": {},
     "output_type": "execute_result"
    }
   ],
   "source": [
    "nums.argmax(),nums.max()"
   ]
  },
  {
   "cell_type": "code",
   "execution_count": 194,
   "metadata": {},
   "outputs": [
    {
     "data": {
      "text/plain": [
       "(20,)"
      ]
     },
     "execution_count": 194,
     "metadata": {},
     "output_type": "execute_result"
    }
   ],
   "source": [
    "nums.shape"
   ]
  },
  {
   "cell_type": "code",
   "execution_count": null,
   "metadata": {},
   "outputs": [],
   "source": []
  },
  {
   "cell_type": "code",
   "execution_count": 199,
   "metadata": {},
   "outputs": [
    {
     "name": "stdout",
     "output_type": "stream",
     "text": [
      "did random500_0\n",
      "did random500_1\n",
      "did random500_2\n",
      "did random500_3\n",
      "did random500_4\n",
      "did random500_5\n",
      "did random500_6\n",
      "did random500_7\n",
      "did random500_8\n",
      "did random500_9\n",
      "did random500_10\n",
      "did random500_11\n",
      "did random500_12\n",
      "did random500_13\n",
      "did random500_14\n",
      "did random500_15\n",
      "did random500_16\n",
      "did random500_17\n",
      "did random500_18\n",
      "did random500_19\n"
     ]
    }
   ],
   "source": [
    "## loop through some random classes\n",
    "random_spreads_8 = {}#pickle.load(open('random_spreads.pkl', 'rb'))\n",
    "\n",
    "for random_idx in range(20):\n",
    "    concept = 'random500_' + str(random_idx)\n",
    "    if concept not in random_spreads_8:\n",
    "        concept_dir = os.path.join(working_dir,'concepts/'+concept)\n",
    "        concept_image_list = files_from_dir(concept_dir)\n",
    "        concept_image_list.sort()\n",
    "\n",
    "        n = 81920\n",
    "        activations = np.zeros((len(concept_image_list),n))\n",
    "        for idx,image_path in enumerate(concept_image_list):\n",
    "            img = prep2(os.path.join(concept_dir,image_path))\n",
    "            acts_orig = get_acts(np.expand_dims(img, axis=0))\n",
    "            activations[idx] = acts_orig\n",
    "\n",
    "        spread = find_spread(activations)\n",
    "        random_spreads_8[concept] = spread\n",
    "        print(f'did {concept}')\n",
    "    else:\n",
    "        print(f'{concept} already in dict')\n",
    "        \n",
    "pickle.dump(random_spreads_8,open('random_spreads_8.pkl', 'wb'))"
   ]
  },
  {
   "cell_type": "code",
   "execution_count": 200,
   "metadata": {},
   "outputs": [
    {
     "data": {
      "text/plain": [
       "{'random500_0': 44.07051621018231,\n",
       " 'random500_1': 43.7502458008406,\n",
       " 'random500_2': 43.53175545638695,\n",
       " 'random500_3': 43.57965343288536,\n",
       " 'random500_4': 43.6746302193161,\n",
       " 'random500_5': 43.85996110985862,\n",
       " 'random500_6': 42.75156035144748,\n",
       " 'random500_7': 44.93422508294089,\n",
       " 'random500_8': 44.260604353968084,\n",
       " 'random500_9': 44.25572438117097,\n",
       " 'random500_10': 43.41187580115229,\n",
       " 'random500_11': 43.25582216453428,\n",
       " 'random500_12': 43.564594107222135,\n",
       " 'random500_13': 43.59572252677634,\n",
       " 'random500_14': 44.474973132945394,\n",
       " 'random500_15': 43.89064643810843,\n",
       " 'random500_16': 42.867428282542626,\n",
       " 'random500_17': 43.841153807855406,\n",
       " 'random500_18': 43.75226858065455,\n",
       " 'random500_19': 42.87818403827258}"
      ]
     },
     "execution_count": 200,
     "metadata": {},
     "output_type": "execute_result"
    }
   ],
   "source": [
    "random_spreads_8"
   ]
  },
  {
   "cell_type": "code",
   "execution_count": null,
   "metadata": {},
   "outputs": [],
   "source": []
  },
  {
   "cell_type": "code",
   "execution_count": 157,
   "metadata": {},
   "outputs": [],
   "source": [
    "def find_spread(activations):\n",
    "    means = activations.mean(axis=0)\n",
    "    d = 0\n",
    "    for i in range(activations.shape[0]):\n",
    "        d += euclidean_distance(vec_norm(activations[i]),vec_norm(means))\n",
    "    return d\n",
    "\n"
   ]
  },
  {
   "cell_type": "code",
   "execution_count": 98,
   "metadata": {},
   "outputs": [],
   "source": [
    "#euclidean_distance"
   ]
  },
  {
   "cell_type": "code",
   "execution_count": 94,
   "metadata": {},
   "outputs": [
    {
     "data": {
      "text/plain": [
       "0.04355347506021248"
      ]
     },
     "execution_count": 94,
     "metadata": {},
     "output_type": "execute_result"
    }
   ],
   "source": [
    "black_activations.var()"
   ]
  },
  {
   "cell_type": "code",
   "execution_count": 86,
   "metadata": {},
   "outputs": [
    {
     "data": {
      "text/plain": [
       "0.05023052116018789"
      ]
     },
     "execution_count": 86,
     "metadata": {},
     "output_type": "execute_result"
    }
   ],
   "source": [
    "black_activations.mean()"
   ]
  },
  {
   "cell_type": "code",
   "execution_count": 87,
   "metadata": {},
   "outputs": [
    {
     "data": {
      "text/plain": [
       "0.04364542695071567"
      ]
     },
     "execution_count": 87,
     "metadata": {},
     "output_type": "execute_result"
    }
   ],
   "source": [
    "black_activations.var()"
   ]
  },
  {
   "cell_type": "code",
   "execution_count": 79,
   "metadata": {},
   "outputs": [
    {
     "data": {
      "text/plain": [
       "0.05079675302872261"
      ]
     },
     "execution_count": 79,
     "metadata": {},
     "output_type": "execute_result"
    }
   ],
   "source": [
    "black_activations.mean()"
   ]
  },
  {
   "cell_type": "code",
   "execution_count": 96,
   "metadata": {},
   "outputs": [
    {
     "data": {
      "text/plain": [
       "array([0.        , 0.        , 0.21405371, ..., 0.10952863, 0.        ,\n",
       "       0.09491275])"
      ]
     },
     "execution_count": 96,
     "metadata": {},
     "output_type": "execute_result"
    }
   ],
   "source": [
    "black_activations.var(axis=0)"
   ]
  },
  {
   "cell_type": "code",
   "execution_count": null,
   "metadata": {},
   "outputs": [],
   "source": []
  },
  {
   "cell_type": "code",
   "execution_count": null,
   "metadata": {},
   "outputs": [],
   "source": []
  },
  {
   "cell_type": "markdown",
   "metadata": {},
   "source": [
    "## Multimodal CAVs"
   ]
  },
  {
   "cell_type": "code",
   "execution_count": 13,
   "metadata": {},
   "outputs": [],
   "source": [
    "## loop through some random classes\n",
    "\n",
    "concept = 'striped_and_banded'\n",
    "\n",
    "concept_dir = os.path.join(working_dir,'concepts/'+concept)\n",
    "concept_image_list = files_from_dir_ext(concept_dir,'jpg')\n",
    "concept_image_list.sort()\n",
    "\n",
    "n = 131072\n",
    "activations = np.zeros((len(concept_image_list),n))\n",
    "for idx,image_path in enumerate(concept_image_list):\n",
    "    img = prep2(os.path.join(concept_dir,image_path))\n",
    "    acts_orig = get_acts(np.expand_dims(img, axis=0))\n",
    "    activations[idx] = acts_orig\n"
   ]
  },
  {
   "cell_type": "code",
   "execution_count": 28,
   "metadata": {},
   "outputs": [
    {
     "data": {
      "image/png": "[encoded data removed]",
      "text/plain": [
       "<Figure size 360x360 with 1 Axes>"
      ]
     },
     "metadata": {
      "needs_background": "light"
     },
     "output_type": "display_data"
    }
   ],
   "source": [
    "light_blue, light_red = '#b3b8fb', '#f6889f'\n",
    "fig = plt.figure(figsize=[5,5])\n",
    "\n",
    "# banded\n",
    "embed_pca_banded = np.dot(pca_components, activations[0:25].T)\n",
    "plt.scatter(embed_pca_banded[0], embed_pca_banded[1], color = 'b')\n",
    "\n",
    "# striped\n",
    "embed_pca_striped = np.dot(pca_components, activations[25:50].T)\n",
    "plt.scatter(embed_pca_striped[0], embed_pca_striped[1], color = 'r')\n",
    "\n",
    "my_xlim = plt.xlim([-40,40])\n",
    "my_ylim = plt.ylim([-40,40])"
   ]
  },
  {
   "cell_type": "code",
   "execution_count": 15,
   "metadata": {},
   "outputs": [
    {
     "data": {
      "text/plain": [
       "2"
      ]
     },
     "execution_count": 15,
     "metadata": {},
     "output_type": "execute_result"
    }
   ],
   "source": [
    "embed_pca_striped[1].argmax()"
   ]
  },
  {
   "cell_type": "code",
   "execution_count": 16,
   "metadata": {},
   "outputs": [
    {
     "data": {
      "text/plain": [
       "array([-14.73956614,  -4.68089033,  35.45693674,  -7.01838706,\n",
       "         5.58692645, -10.41397461,   3.32667131,   0.48909022,\n",
       "        -1.4295139 ,  -4.77962242, -14.13128925, -12.90866661,\n",
       "       -11.19964568, -17.38622936, -12.73294256,  -4.81586539,\n",
       "         1.58023997, -13.40796245,   3.5168312 ,  -4.87460727,\n",
       "        -1.35034587, -16.85075848,  -1.61089157,  -9.45907059,\n",
       "         0.54089213])"
      ]
     },
     "execution_count": 16,
     "metadata": {},
     "output_type": "execute_result"
    }
   ],
   "source": [
    "embed_pca_striped[1]"
   ]
  },
  {
   "cell_type": "code",
   "execution_count": 17,
   "metadata": {},
   "outputs": [
    {
     "data": {
      "image/png": "[encoded data removed]",
      "text/plain": [
       "<PIL.Image.Image image mode=RGB size=299x299 at 0x1A3D3BDEB8>"
      ]
     },
     "execution_count": 17,
     "metadata": {},
     "output_type": "execute_result"
    }
   ],
   "source": [
    "image_path = '28.jpg'\n",
    "this_path = os.path.join(concept_dir,image_path)\n",
    "test_img = image.load_img(this_path, target_size=(299, 299))\n",
    "test_img"
   ]
  },
  {
   "cell_type": "code",
   "execution_count": 18,
   "metadata": {},
   "outputs": [],
   "source": [
    "img = prep2(os.path.join(concept_dir,image_path))\n",
    "acts_orig = get_acts(np.expand_dims(img, axis=0))"
   ]
  },
  {
   "cell_type": "code",
   "execution_count": 19,
   "metadata": {},
   "outputs": [
    {
     "data": {
      "text/plain": [
       "array([[ 3.5623066],\n",
       "       [35.45694  ]], dtype=float32)"
      ]
     },
     "execution_count": 19,
     "metadata": {},
     "output_type": "execute_result"
    }
   ],
   "source": [
    "np.dot(pca_components, np.expand_dims(acts_orig,axis=0).T)"
   ]
  },
  {
   "cell_type": "code",
   "execution_count": 20,
   "metadata": {},
   "outputs": [
    {
     "data": {
      "text/plain": [
       "(131072,)"
      ]
     },
     "execution_count": 20,
     "metadata": {},
     "output_type": "execute_result"
    }
   ],
   "source": [
    "acts_orig.shape"
   ]
  },
  {
   "cell_type": "code",
   "execution_count": null,
   "metadata": {},
   "outputs": [],
   "source": []
  },
  {
   "cell_type": "markdown",
   "metadata": {},
   "source": [
    "## KNN clustering"
   ]
  },
  {
   "cell_type": "code",
   "execution_count": 91,
   "metadata": {},
   "outputs": [],
   "source": [
    "concept = 'striped_sub_1'\n",
    "\n",
    "concept_dir = os.path.join(working_dir,'concepts/'+concept)\n",
    "concept_image_list = files_from_dir_ext(concept_dir,'jpg')\n",
    "concept_image_list.sort()\n",
    "\n",
    "n = 131072\n",
    "activations = np.zeros((len(concept_image_list),n))\n",
    "for idx,image_path in enumerate(concept_image_list):\n",
    "    img = prep2(os.path.join(concept_dir,image_path))\n",
    "    acts_orig = get_acts(np.expand_dims(img, axis=0))\n",
    "    activations[idx] = acts_orig"
   ]
  },
  {
   "cell_type": "code",
   "execution_count": 92,
   "metadata": {},
   "outputs": [],
   "source": [
    "from sklearn.mixture import GaussianMixture"
   ]
  },
  {
   "cell_type": "code",
   "execution_count": 93,
   "metadata": {},
   "outputs": [],
   "source": [
    "gm = GaussianMixture(n_components=2)"
   ]
  },
  {
   "cell_type": "code",
   "execution_count": 94,
   "metadata": {},
   "outputs": [],
   "source": [
    "embed_pca = np.dot(pca_components, activations.T)"
   ]
  },
  {
   "cell_type": "code",
   "execution_count": 95,
   "metadata": {},
   "outputs": [
    {
     "data": {
      "text/plain": [
       "GaussianMixture(covariance_type='full', init_params='kmeans', max_iter=100,\n",
       "        means_init=None, n_components=2, n_init=1, precisions_init=None,\n",
       "        random_state=None, reg_covar=1e-06, tol=0.001, verbose=0,\n",
       "        verbose_interval=10, warm_start=False, weights_init=None)"
      ]
     },
     "execution_count": 95,
     "metadata": {},
     "output_type": "execute_result"
    }
   ],
   "source": [
    "gm.fit(embed_pca.T)"
   ]
  },
  {
   "cell_type": "code",
   "execution_count": 96,
   "metadata": {},
   "outputs": [
    {
     "data": {
      "text/plain": [
       "array([1])"
      ]
     },
     "execution_count": 96,
     "metadata": {},
     "output_type": "execute_result"
    }
   ],
   "source": [
    "gm.predict(np.array([[5,5]]))"
   ]
  },
  {
   "cell_type": "code",
   "execution_count": 97,
   "metadata": {},
   "outputs": [
    {
     "data": {
      "text/plain": [
       "array([ 23.13672204, -11.49642691])"
      ]
     },
     "execution_count": 97,
     "metadata": {},
     "output_type": "execute_result"
    }
   ],
   "source": [
    "gm.means_[0]"
   ]
  },
  {
   "cell_type": "code",
   "execution_count": 98,
   "metadata": {},
   "outputs": [
    {
     "data": {
      "image/png": "[encoded data removed]",
      "text/plain": [
       "<Figure size 432x288 with 1 Axes>"
      ]
     },
     "metadata": {
      "needs_background": "light"
     },
     "output_type": "display_data"
    }
   ],
   "source": [
    "plt.scatter(embed_pca[0], embed_pca[1], color = 'r')\n",
    "\n",
    "plt.scatter(gm.means_[0][0],gm.means_[0][1], color = 'b')\n",
    "plt.scatter(gm.means_[1][0],gm.means_[1][1], color = 'b')\n",
    "\n",
    "\n",
    "my_xlim = plt.xlim([-40,40])\n",
    "my_ylim = plt.ylim([-40,40])"
   ]
  },
  {
   "cell_type": "code",
   "execution_count": 100,
   "metadata": {},
   "outputs": [
    {
     "data": {
      "image/png": "[encoded data removed]",
      "text/plain": [
       "<Figure size 360x360 with 1 Axes>"
      ]
     },
     "metadata": {
      "needs_background": "light"
     },
     "output_type": "display_data"
    }
   ],
   "source": [
    "import numpy as np\n",
    "import matplotlib.pyplot as plt\n",
    "from matplotlib import cm\n",
    "from mpl_toolkits.mplot3d import Axes3D\n",
    "\n",
    "fig = plt.figure(figsize=[5,5])\n",
    "\n",
    "# Our 2-dimensional distribution will be over variables X and Y\n",
    "N = 60\n",
    "X = np.linspace(-40, 40, N)\n",
    "Y = np.linspace(-40, 40, N)\n",
    "X, Y = np.meshgrid(X, Y)\n",
    "\n",
    "# Mean vector and covariance matrix\n",
    "mu = np.array([0., 1.])\n",
    "Sigma = np.array([[ 1 , 0], [1,  1]])\n",
    "\n",
    "mu_1 = gm.means_[0]\n",
    "Sigma_1 = gm.covariances_[0]\n",
    "\n",
    "mu_2 = gm.means_[1]\n",
    "Sigma_2 = gm.covariances_[1]\n",
    "\n",
    "# Pack X and Y into a single 3-dimensional array\n",
    "pos = np.empty(X.shape + (2,))\n",
    "pos[:, :, 0] = X\n",
    "pos[:, :, 1] = Y\n",
    "\n",
    "Z1 = multivariate_gaussian(pos, mu_1, Sigma_1)\n",
    "Z2 = multivariate_gaussian(pos, mu_2, Sigma_2)\n",
    "\n",
    "\n",
    "ax = fig.gca()\n",
    "\n",
    "cset = ax.contourf(X, Y, Z2+Z1, cmap=cm.viridis, alpha = .4)\n",
    "\n",
    "my_xlim = plt.xlim([-40,40])\n",
    "my_ylim = plt.ylim([-40,40])\n",
    "\n",
    "plt.show()"
   ]
  },
  {
   "cell_type": "code",
   "execution_count": 67,
   "metadata": {},
   "outputs": [],
   "source": [
    "def multivariate_gaussian(pos, mu, Sigma):\n",
    "\n",
    "    n = mu.shape[0]\n",
    "    Sigma_det = np.linalg.det(Sigma)\n",
    "    Sigma_inv = np.linalg.inv(Sigma)\n",
    "    N = np.sqrt((2*np.pi)**n * Sigma_det)\n",
    "\n",
    "    fac = np.einsum('...k,kl,...l->...', pos-mu, Sigma_inv, pos-mu)\n",
    "\n",
    "    return np.exp(-fac / 2) / N"
   ]
  },
  {
   "cell_type": "code",
   "execution_count": null,
   "metadata": {},
   "outputs": [],
   "source": [
    "## resulting CAVS"
   ]
  },
  {
   "cell_type": "code",
   "execution_count": null,
   "metadata": {},
   "outputs": [],
   "source": [
    "## resulting TCAV"
   ]
  },
  {
   "cell_type": "code",
   "execution_count": 10,
   "metadata": {},
   "outputs": [],
   "source": [
    "layer_dict = dict([(layer.name, layer) for layer in model.layers])\n",
    "sess = K.get_session()\n",
    "\n",
    "layer_name = 'mixed9'\n",
    "\n",
    "these_acts = layer_dict[layer_name].output\n",
    "get_acts_func = K.function([model.input],[these_acts])\n",
    "\n",
    "def get_acts(input_img):\n",
    "    outs = get_acts_func([input_img])\n",
    "    acts_value = outs[0]\n",
    "    return acts_value.reshape(-1)\n",
    "\n",
    "def prep(path):\n",
    "    img_pic = image.load_img(path, target_size=(299, 299))\n",
    "    img = image.img_to_array(img_pic)\n",
    "    img = np.expand_dims(img, axis=0)\n",
    "    img = preprocess_input(img)\n",
    "    return img\n",
    "\n",
    "def prep2(filename):\n",
    "    shape=(299, 299)\n",
    "    img = np.array(PIL.Image.open(open(filename, 'rb')).convert('RGB').resize(shape, PIL.Image.BILINEAR))\n",
    "    # Normalize pixel values to between 0 and 1.\n",
    "    img = np.float32(img) / 255.0\n",
    "    if not (len(img.shape) == 3 and img.shape[2] == 3):\n",
    "        return None\n",
    "    else:\n",
    "        return img\n",
    "    \n",
    "def files_from_dir(a_dir):\n",
    "    onlyfiles = [f for f in os.listdir(a_dir) if os.path.isfile(os.path.join(a_dir, f))]\n",
    "    return onlyfiles\n",
    "\n",
    "def files_from_dir_ext(a_dir,ext):\n",
    "    onlyfiles = [f for f in os.listdir(a_dir) if os.path.isfile(os.path.join(a_dir, f))]\n",
    "    this_ext = [e for e in onlyfiles if ext in e]\n",
    "    return this_ext\n",
    "\n",
    "def euclidean_distance(a,b):\n",
    "    return np.linalg.norm(a-b)\n",
    "\n",
    "def vec_norm(vec):\n",
    "    return  vec / np.linalg.norm(vec)\n",
    "\n",
    "pca_components = pickle.load(open('pca/pca_components_mixed9.pkl', 'rb'))"
   ]
  },
  {
   "cell_type": "code",
   "execution_count": null,
   "metadata": {},
   "outputs": [],
   "source": []
  }
 ],
 "metadata": {
  "kernelspec": {
   "display_name": "Python 3",
   "language": "python",
   "name": "python3"
  },
  "language_info": {
   "codemirror_mode": {
    "name": "ipython",
    "version": 3
   },
   "file_extension": ".py",
   "mimetype": "text/x-python",
   "name": "python",
   "nbconvert_exporter": "python",
   "pygments_lexer": "ipython3",
   "version": "3.6.8"
  }
 },
 "nbformat": 4,
 "nbformat_minor": 2
}
