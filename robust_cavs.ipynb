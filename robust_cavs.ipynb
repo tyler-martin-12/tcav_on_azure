{
 "cells": [
  {
   "cell_type": "code",
   "execution_count": 115,
   "metadata": {},
   "outputs": [],
   "source": [
    "import os\n",
    "os.environ['KERAS_BACKEND'] = 'tensorflow'\n",
    "from tensorflow import keras\n",
    "from keras.applications.inception_v3 import InceptionV3\n",
    "from keras.applications.inception_v3 import decode_predictions\n",
    "from keras.models import Model, load_model\n",
    "import keras.backend as K\n",
    "\n",
    "import model as tcav_model\n",
    "import tcav as tcav\n",
    "import utils as utils\n",
    "import activation_generator as act_gen\n",
    "import tensorflow as tf\n",
    "import utils_plot as utils_plot\n",
    "import cav as cav\n",
    "\n",
    "from sklearn.metrics.pairwise import cosine_similarity\n",
    "import numpy as np\n",
    "from numpy.linalg import norm\n",
    "\n",
    "import pickle\n",
    "\n",
    "from os import listdir\n",
    "from os.path import isfile, join\n",
    "import operator\n",
    "from PIL import Image\n",
    "from keras.preprocessing import image\n",
    "\n",
    "import os\n",
    "import math\n",
    "\n",
    "import PIL.Image\n",
    "from sklearn.metrics import pairwise\n",
    "import matplotlib.pyplot as plt\n",
    "from keras.applications.inception_v3 import preprocess_input\n",
    "\n",
    "from sklearn import linear_model\n",
    "from sklearn import metrics\n",
    "from sklearn.model_selection import train_test_split\n",
    "from scipy.stats import multivariate_normal\n",
    "from sklearn.mixture import GaussianMixture\n",
    "\n",
    "import warnings\n",
    "warnings.filterwarnings(\"ignore\", category=DeprecationWarning)\n",
    "warnings.filterwarnings(\"ignore\", category=FutureWarning)\n",
    "\n",
    "import pandas as pd\n",
    "from scipy import stats\n",
    "\n",
    "import tensorflow\n"
   ]
  },
  {
   "cell_type": "code",
   "execution_count": 3,
   "metadata": {},
   "outputs": [
    {
     "name": "stderr",
     "output_type": "stream",
     "text": [
      "/Users/tyler/anaconda3/lib/python3.6/site-packages/keras/engine/saving.py:292: UserWarning: No training configuration found in save file: the model was *not* compiled. Compile it manually.\n",
      "  warnings.warn('No training configuration found in save file: '\n"
     ]
    }
   ],
   "source": [
    "K.set_learning_phase(0)\n",
    "model = load_model('v3_model.h5')"
   ]
  },
  {
   "cell_type": "code",
   "execution_count": 4,
   "metadata": {},
   "outputs": [],
   "source": [
    "sess = K.get_session()\n",
    "\n",
    "endpoints_v3 = dict(\n",
    "    input=model.inputs[0].name,\n",
    "    input_tensor=model.inputs[0],\n",
    "    logit=model.outputs[0].name,\n",
    "    prediction=model.outputs[0].name,\n",
    "    prediction_tensor=model.outputs[0],)\n",
    "\n",
    "tf.logging.set_verbosity(0)\n",
    "\n",
    "working_dir = '/Users/tyler/Desktop/dissertation/programming/tcav_on_azure'\n",
    "\n",
    "label_path = os.path.join(working_dir,'labels.txt')\n",
    "\n",
    "mymodel = tcav_model.KerasModelWrapper(sess, \n",
    "        label_path, [299, 299, 3], endpoints_v3, \n",
    "        'InceptionV3_public', (-1, 1))"
   ]
  },
  {
   "cell_type": "markdown",
   "metadata": {},
   "source": [
    "# Find best average model"
   ]
  },
  {
   "cell_type": "markdown",
   "metadata": {},
   "source": [
    "### gen CAV"
   ]
  },
  {
   "cell_type": "code",
   "execution_count": 116,
   "metadata": {},
   "outputs": [],
   "source": [
    "concepts = [class_1,class_2]\n",
    "bottleneck = layer\n",
    "hparams = tf.contrib.training.HParams(model_type='linear', alpha=.1)\n",
    "cav_dir = working_dir + '/cav_dir'\n",
    "target_class = 'zebra'\n",
    "source_dir = working_dir + '/concepts/'\n",
    "activation_dir =  working_dir + '/activations/'\n",
    "\n",
    "act_generator = act_gen.ImageActivationGenerator(mymodel, source_dir, activation_dir, max_examples=50)\n",
    "\n",
    "acts = act_generator.process_and_load_activations([bottleneck], concepts + [target_class])\n",
    "cav_data = cav.get_or_train_cav(concepts,bottleneck,acts,cav_hparams=hparams,cav_dir=cav_dir)\n",
    "this_cav = cav_data.cavs[0]"
   ]
  },
  {
   "cell_type": "code",
   "execution_count": 31,
   "metadata": {},
   "outputs": [
    {
     "data": {
      "text/plain": [
       "'striped_sub_1-random500_0-mixed9-linear-0.1'"
      ]
     },
     "execution_count": 31,
     "metadata": {},
     "output_type": "execute_result"
    }
   ],
   "source": [
    "cav_name"
   ]
  },
  {
   "cell_type": "markdown",
   "metadata": {},
   "source": [
    "### Load CAV"
   ]
  },
  {
   "cell_type": "code",
   "execution_count": 106,
   "metadata": {},
   "outputs": [],
   "source": [
    "class_1 = 'striped_sub_1'\n",
    "class_2 = 'random500_0'\n",
    "layer = 'mixed9'\n",
    "lm_type = 'linear'\n",
    "\n",
    "cav_name = class_1 + '-' + class_2 + '-' + layer + '-' + lm_type + '-0.1'\n",
    "sub_path = 'cav_dir/' + cav_name \n",
    "\n",
    "# Load training/testing data\n",
    "path = os.path.join(working_dir,sub_path + '_test.pkl')\n",
    "with open(path, 'rb') as f:\n",
    "    data = pickle.load(f)\n",
    "    \n",
    "d = dict(data)\n",
    "x_train = d['x_train']\n",
    "x_test = d['x_test']\n",
    "y_train = d['y_train']\n",
    "y_test = d['y_test']\n",
    "y_pred = d['y_pred']\n",
    "\n",
    "path = os.path.join(working_dir,sub_path + '.pkl')\n",
    "\n",
    "with open(path, 'rb') as f:\n",
    "    cav_data = pickle.load(f)\n",
    "original_CAV_from_data = cav_data['cavs'][0]\n",
    "original_CAV = original_CAV_from_data\n",
    "\n"
   ]
  },
  {
   "cell_type": "code",
   "execution_count": 57,
   "metadata": {},
   "outputs": [],
   "source": [
    "models_dict = {}"
   ]
  },
  {
   "cell_type": "code",
   "execution_count": 47,
   "metadata": {},
   "outputs": [],
   "source": [
    "#this_cav.shape"
   ]
  },
  {
   "cell_type": "code",
   "execution_count": 13,
   "metadata": {},
   "outputs": [],
   "source": [
    "lm = linear_model.SGDClassifier(alpha=.1)\n",
    "pca_components = pickle.load(open('pca/pca_components_mixed9.pkl', 'rb'))"
   ]
  },
  {
   "cell_type": "code",
   "execution_count": 52,
   "metadata": {},
   "outputs": [],
   "source": [
    "## get original CAV\n",
    "#lm.fit(x_train,y_train)\n",
    "#original_CAV = -lm.coef_[0]\n",
    "original_CAV = original_CAV_from_data\n",
    "\n",
    "cavs = []\n",
    "\n",
    "## remove one point\n",
    "for idx, x_point in enumerate(x_train):\n",
    "    if y_train[idx]==0:\n",
    "        x_train_new = np.delete(x_train, idx, axis=0)\n",
    "        y_train_new = np.delete(y_train, idx, axis=0)\n",
    "        \n",
    "        new_lm = linear_model.SGDClassifier(alpha=.1)\n",
    "        new_lm.fit(x_train_new,y_train_new)\n",
    "        cav_params = -new_lm.coef_[0]\n",
    "        sim = euclidean_distance(vec_norm(cav_params),vec_norm(original_CAV))\n",
    "        cosine_sim = cosine_similarity(cav_params,original_CAV)\n",
    "        cavs.append([idx,cav_params,sim,cosine_sim,x_point])\n",
    "        \n",
    "cavs_sims = np.array([a[2] for a in cavs])\n",
    "cos_sims = np.array([a[3] for a in cavs]) "
   ]
  },
  {
   "cell_type": "code",
   "execution_count": 178,
   "metadata": {},
   "outputs": [
    {
     "data": {
      "image/png": "[encoded data removed]",
      "text/plain": [
       "<Figure size 360x360 with 1 Axes>"
      ]
     },
     "metadata": {
      "needs_background": "light"
     },
     "output_type": "display_data"
    }
   ],
   "source": [
    "## Plot new\n",
    "idx = 1\n",
    "this_cav = cavs[idx][1]\n",
    "x_point = cavs[idx][0]\n",
    "x_train_new = np.delete(x_train, x_point, axis=0)\n",
    "x_rem = x_train[x_point]\n",
    "y_train_new = np.delete(y_train, x_point, axis=0)\n",
    "\n",
    "x_train_embed_pca = np.dot(pca_components, x_train_new.T)\n",
    "color_train_pca = ['red' if y == 0 else 'blue' for y in y_train_new]\n",
    "\n",
    "b = np.dot(pca_components, x_rem.T)\n",
    "#a = np.delete(x_train_embed_pca, x_point, axis=1)\n",
    "\n",
    "fig = plt.figure(figsize=[5,5])\n",
    "xlim = plt.xlim([-40,40])\n",
    "ylim = plt.ylim([-40,40])\n",
    "plt.scatter(x_train_embed_pca[0], x_train_embed_pca[1], color = color_train_pca)\n",
    "\n",
    "plt.scatter(b[0], b[1], color = 'black')\n",
    "\n",
    "circ = plt.Circle((-30, 30), radius=8, edgecolor='black', facecolor='None')\n",
    "ax = plt.gca()\n",
    "ax.add_patch(circ)\n",
    "arrow_start = [-30,30]\n",
    "\n",
    "# new cav is dark\n",
    "cav_pca = np.dot(pca_components, this_cav.T)\n",
    "cav_norm = vec_norm(cav_pca) * 8\n",
    "my_arrow = plt.arrow(arrow_start[0], arrow_start[1], cav_norm[0], cav_norm[1],width=.4,\n",
    "                     length_includes_head=True,head_width=2,fc='k', ec=None, alpha = .8)\n",
    "a0 = ax.add_patch(my_arrow)\n",
    "\n",
    "# orig is transparent\n",
    "cav_pca_1 = np.dot(pca_components, original_CAV.T)\n",
    "cav_norm_1 = vec_norm(cav_pca_1) * 8\n",
    "my_arrow_1 = plt.arrow(arrow_start[0], arrow_start[1], cav_norm_1[0], cav_norm_1[1],width=.4,\n",
    "                     length_includes_head=True,head_width=2,fc='k', ec=None, alpha = .1)\n",
    "a1 = ax.add_patch(my_arrow_1)\n",
    "\n"
   ]
  },
  {
   "cell_type": "code",
   "execution_count": 107,
   "metadata": {},
   "outputs": [],
   "source": [
    "x = d['x']\n",
    "y = d['y']"
   ]
  },
  {
   "cell_type": "code",
   "execution_count": 137,
   "metadata": {},
   "outputs": [],
   "source": [
    "x_train, x_test, y_train, y_test = train_test_split(x, y, test_size=0.33, stratify=y, random_state = 11)"
   ]
  },
  {
   "cell_type": "code",
   "execution_count": 138,
   "metadata": {},
   "outputs": [
    {
     "data": {
      "text/plain": [
       "(67, 131072)"
      ]
     },
     "execution_count": 138,
     "metadata": {},
     "output_type": "execute_result"
    }
   ],
   "source": [
    "x_train.shape"
   ]
  },
  {
   "cell_type": "code",
   "execution_count": 145,
   "metadata": {},
   "outputs": [],
   "source": [
    "## Find TCAV score"
   ]
  },
  {
   "cell_type": "code",
   "execution_count": 228,
   "metadata": {},
   "outputs": [],
   "source": [
    "class_acts = acts[target_class][bottleneck]"
   ]
  },
  {
   "cell_type": "code",
   "execution_count": 298,
   "metadata": {},
   "outputs": [],
   "source": [
    "models_dict['n_10_30'] = []\n",
    "lm = linear_model.SGDClassifier(alpha=.1)\n",
    "\n",
    "num_model = 10\n",
    "num_runs = 30\n",
    "\n",
    "for i in range(num_model):\n",
    "    these_c = np.zeros((num_runs,131072))\n",
    "    for j in range(num_runs):\n",
    "        x_train, x_test, y_train, y_test = train_test_split(x, y, test_size=0.33, stratify=y)\n",
    "        lm.fit(x_train,y_train)\n",
    "        these_c[j] = lm.coef_\n",
    "    lm.coef_ = np.expand_dims(these_c.mean(axis = 0),axis = 0)\n",
    "    y_pred = lm.predict(x_test)\n",
    "    accuracy = metrics.accuracy_score(y_pred, y_test)\n",
    "    models_dict['n_10_30'].append([-lm.coef_,accuracy])"
   ]
  },
  {
   "cell_type": "code",
   "execution_count": 299,
   "metadata": {},
   "outputs": [
    {
     "name": "stdout",
     "output_type": "stream",
     "text": [
      "5.15 1.0 0.74\n",
      "5.02 1.0 0.78\n",
      "5.14 1.0 0.62\n",
      "4.9 1.0 0.66\n",
      "5.29 1.0 0.64\n",
      "5.2 1.0 0.62\n",
      "5.25 1.0 0.64\n",
      "5.06 1.0 0.68\n",
      "5.06 1.0 0.82\n",
      "5.14 1.0 0.62\n"
     ]
    }
   ],
   "source": [
    "for coef,acc in models_dict['n_10_30']:\n",
    "    d = round(euclidean_distance(coef,original_CAV),2)\n",
    "    \n",
    "    score = comp_tcav(target_class,coef.reshape(-1),class_acts,bottleneck)\n",
    "    print(d,acc,score)"
   ]
  },
  {
   "cell_type": "code",
   "execution_count": 300,
   "metadata": {},
   "outputs": [
    {
     "data": {
      "text/plain": [
       "1.0"
      ]
     },
     "execution_count": 300,
     "metadata": {},
     "output_type": "execute_result"
    }
   ],
   "source": [
    "comp_tcav(target_class,original_CAV,class_acts,bottleneck)"
   ]
  },
  {
   "cell_type": "code",
   "execution_count": 295,
   "metadata": {},
   "outputs": [],
   "source": []
  },
  {
   "cell_type": "code",
   "execution_count": 296,
   "metadata": {},
   "outputs": [],
   "source": [
    "## split = 0\n",
    "models_dict['no_test'] = []\n",
    "lm = linear_model.SGDClassifier(alpha=.1)\n",
    "\n",
    "num_model = 10\n",
    "num_runs = 1\n",
    "\n",
    "for i in range(num_model):\n",
    "    these_c = np.zeros((num_runs,131072))\n",
    "    for j in range(num_runs):\n",
    "        #x_train, x_test, y_train, y_test = train_test_split(x, y, test_size=0.01, stratify=y)\n",
    "        x_train, y_train = x, y\n",
    "        lm.fit(x_train,y_train)\n",
    "        these_c[j] = lm.coef_\n",
    "    lm.coef_ = np.expand_dims(these_c.mean(axis = 0),axis = 0)\n",
    "    y_pred = lm.predict(x_test)\n",
    "    #accuracy = metrics.accuracy_score(y_pred, y_test)\n",
    "    accuracy = None\n",
    "    models_dict['no_test'].append([-lm.coef_,accuracy])"
   ]
  },
  {
   "cell_type": "code",
   "execution_count": 297,
   "metadata": {},
   "outputs": [
    {
     "name": "stdout",
     "output_type": "stream",
     "text": [
      "5.78 None 0.82\n",
      "5.51 None 0.52\n",
      "6.56 None 0.08\n",
      "5.26 None 0.38\n",
      "6.19 None 0.58\n",
      "6.21 None 0.86\n",
      "5.83 None 0.94\n",
      "6.03 None 0.68\n",
      "5.75 None 0.98\n",
      "5.34 None 0.68\n"
     ]
    }
   ],
   "source": [
    "for coef,acc in models_dict['no_test']:\n",
    "    d = round(euclidean_distance(coef,original_CAV),2)\n",
    "    \n",
    "    score = comp_tcav(target_class,coef.reshape(-1),class_acts,bottleneck)\n",
    "    print(d,acc,score)"
   ]
  },
  {
   "cell_type": "code",
   "execution_count": null,
   "metadata": {},
   "outputs": [],
   "source": []
  },
  {
   "cell_type": "code",
   "execution_count": 301,
   "metadata": {},
   "outputs": [],
   "source": [
    "models_dict['n_10_1'] = []\n",
    "lm = linear_model.SGDClassifier(alpha=.1)\n",
    "\n",
    "num_model = 10\n",
    "num_runs = 1\n",
    "\n",
    "for i in range(num_model):\n",
    "    these_c = np.zeros((num_runs,131072))\n",
    "    for j in range(num_runs):\n",
    "        x_train, x_test, y_train, y_test = train_test_split(x, y, test_size=0.33, stratify=y)\n",
    "        lm.fit(x_train,y_train)\n",
    "        these_c[j] = lm.coef_\n",
    "    lm.coef_ = np.expand_dims(these_c.mean(axis = 0),axis = 0)\n",
    "    y_pred = lm.predict(x_test)\n",
    "    accuracy = metrics.accuracy_score(y_pred, y_test)\n",
    "    models_dict['n_10_1'].append([-lm.coef_,accuracy])"
   ]
  },
  {
   "cell_type": "code",
   "execution_count": 302,
   "metadata": {},
   "outputs": [
    {
     "name": "stdout",
     "output_type": "stream",
     "text": [
      "5.93 0.9696969696969697 0.88\n",
      "7.33 1.0 0.16\n",
      "6.4 1.0 0.7\n",
      "6.6 1.0 0.66\n",
      "6.13 0.9696969696969697 0.76\n",
      "6.35 0.8787878787878788 0.84\n",
      "6.33 1.0 0.8\n",
      "7.72 0.9090909090909091 0.34\n",
      "6.25 1.0 0.9\n",
      "6.98 1.0 0.26\n"
     ]
    }
   ],
   "source": [
    "for coef,acc in models_dict['n_10_1']:\n",
    "    d = round(euclidean_distance(coef,original_CAV),2)\n",
    "    score = comp_tcav(target_class,coef.reshape(-1),class_acts,bottleneck)\n",
    "    print(d,acc,score)"
   ]
  },
  {
   "cell_type": "code",
   "execution_count": null,
   "metadata": {},
   "outputs": [],
   "source": []
  },
  {
   "cell_type": "code",
   "execution_count": 310,
   "metadata": {},
   "outputs": [],
   "source": [
    "models_dict['n_10_1_seed'] = []\n",
    "lm = linear_model.SGDClassifier(alpha=.1)\n",
    "\n",
    "num_model = 10\n",
    "num_runs = 1\n",
    "\n",
    "for i in range(num_model):\n",
    "    these_c = np.zeros((num_runs,131072))\n",
    "    for j in range(num_runs):\n",
    "        x_train, x_test, y_train, y_test = train_test_split(x, y, test_size=0.33, stratify=y, random_state = 1)\n",
    "        lm.fit(x_train,y_train)\n",
    "        these_c[j] = lm.coef_\n",
    "    lm.coef_ = np.expand_dims(these_c.mean(axis = 0),axis = 0)\n",
    "    y_pred = lm.predict(x_test)\n",
    "    accuracy = metrics.accuracy_score(y_pred, y_test)\n",
    "    models_dict['n_10_1_seed'].append([-lm.coef_,accuracy])"
   ]
  },
  {
   "cell_type": "code",
   "execution_count": 311,
   "metadata": {},
   "outputs": [
    {
     "name": "stdout",
     "output_type": "stream",
     "text": [
      "6.95 0.9696969696969697 0.84\n",
      "6.62 0.9696969696969697 0.56\n",
      "6.86 0.9696969696969697 0.66\n",
      "6.37 0.9696969696969697 0.74\n",
      "6.03 0.9393939393939394 0.96\n",
      "6.4 0.9696969696969697 0.58\n",
      "6.69 1.0 0.22\n",
      "6.13 0.9696969696969697 0.66\n",
      "6.14 0.9696969696969697 0.52\n",
      "6.5 0.9696969696969697 0.66\n"
     ]
    }
   ],
   "source": [
    "for coef,acc in models_dict['n_10_1_seed']:\n",
    "    d = round(euclidean_distance(coef,original_CAV),2)\n",
    "    score = comp_tcav(target_class,coef.reshape(-1),class_acts,bottleneck)\n",
    "    print(d,acc,score)"
   ]
  },
  {
   "cell_type": "code",
   "execution_count": null,
   "metadata": {},
   "outputs": [],
   "source": []
  },
  {
   "cell_type": "code",
   "execution_count": 303,
   "metadata": {},
   "outputs": [],
   "source": [
    "## center of mass for CAV\n",
    "models_dict['center_of_mass'] = []\n",
    "lm = linear_model.SGDClassifier(alpha=.1)\n",
    "\n",
    "num_model = 10\n",
    "num_runs = 1\n",
    "\n",
    "for i in range(num_model):\n",
    "    these_c = np.zeros((num_runs,131072))\n",
    "    for j in range(num_runs):\n",
    "        x_train, x_test, y_train, y_test = train_test_split(x, y, test_size=0.33, stratify=y)\n",
    "        \n",
    "        x_train_p_list,x_train_n_list = [],[]\n",
    "        for idx,a in enumerate(x_train):\n",
    "            if y_train[idx] == 0:\n",
    "                x_train_p_list.append(a)\n",
    "            else:\n",
    "                x_train_n_list.append(a)\n",
    "        x_train_p,x_train_n = np.array(x_train_p_list),np.array(x_train_n_list)\n",
    "        \n",
    "        p_avg = x_train_p.mean(axis=0,keepdims=True)\n",
    "        n_avg = x_train_n.mean(axis=0,keepdims=True)\n",
    "        \n",
    "        cav_by_mass = -(p_avg - n_avg).reshape(-1)\n",
    "        #x_train, y_train = x, y\n",
    "        #lm.fit(x_train,y_train)\n",
    "        these_c[j] = cav_by_mass\n",
    "    lm.coef_ = np.expand_dims(these_c.mean(axis = 0),axis = 0)\n",
    "    #y_pred = lm.predict(x_test)\n",
    "    #accuracy = metrics.accuracy_score(y_pred, y_test)\n",
    "    accuracy = None\n",
    "    models_dict['center_of_mass'].append([-lm.coef_,accuracy])"
   ]
  },
  {
   "cell_type": "code",
   "execution_count": 304,
   "metadata": {},
   "outputs": [
    {
     "name": "stdout",
     "output_type": "stream",
     "text": [
      "35.06 None 0.68\n",
      "34.61 None 0.5\n",
      "35.36 None 0.52\n",
      "35.56 None 0.66\n",
      "33.36 None 0.58\n",
      "36.46 None 0.56\n",
      "34.71 None 0.56\n",
      "34.97 None 0.62\n",
      "35.81 None 0.64\n",
      "34.72 None 0.54\n"
     ]
    }
   ],
   "source": [
    "for coef,acc in models_dict['center_of_mass']:\n",
    "    d = round(euclidean_distance(coef,original_CAV),2)\n",
    "    score = comp_tcav(target_class,coef.reshape(-1),class_acts,bottleneck)\n",
    "    print(d,acc,score)"
   ]
  },
  {
   "cell_type": "code",
   "execution_count": null,
   "metadata": {},
   "outputs": [],
   "source": []
  },
  {
   "cell_type": "code",
   "execution_count": 322,
   "metadata": {},
   "outputs": [
    {
     "data": {
      "text/plain": [
       "dict_keys(['no_test', 'n_10_30', 'n_10_1', 'center_of_mass', 'n_10_1_seed'])"
      ]
     },
     "execution_count": 322,
     "metadata": {},
     "output_type": "execute_result"
    }
   ],
   "source": [
    "models_dict.keys()"
   ]
  },
  {
   "cell_type": "code",
   "execution_count": null,
   "metadata": {},
   "outputs": [],
   "source": []
  },
  {
   "cell_type": "code",
   "execution_count": 323,
   "metadata": {},
   "outputs": [],
   "source": [
    "list_of_cavs = models_dict['n_10_1']\n",
    "#list_of_cavs = models_dict['n_10_1_seed']\n",
    "\n",
    "list_of_cavs = models_dict['n_10_30']\n",
    "#list_of_cavs = models_dict['no_test']\n",
    "#list_of_cavs = models_dict['center_of_mass']"
   ]
  },
  {
   "cell_type": "code",
   "execution_count": 327,
   "metadata": {},
   "outputs": [
    {
     "data": {
      "image/png": "[encoded data removed]",
      "text/plain": [
       "<Figure size 360x360 with 1 Axes>"
      ]
     },
     "metadata": {
      "needs_background": "light"
     },
     "output_type": "display_data"
    }
   ],
   "source": [
    "## Plot CAVs in loop\n",
    "list_of_cavs = models_dict['n_10_30']\n",
    "\n",
    "fig = plt.figure(figsize=[5,5])\n",
    "xlim = plt.xlim([-12,12])\n",
    "ylim = plt.ylim([-12,12])\n",
    "\n",
    "radius = 10\n",
    "circ = plt.Circle((0,0), radius=radius, edgecolor='black', facecolor='None')\n",
    "ax = plt.gca()\n",
    "ax.add_patch(circ)\n",
    "arrow_start = [0,0]\n",
    "\n",
    "# new cav is transparent, blue\n",
    "for this_cav,acc in list_of_cavs:\n",
    "    cav_pca = np.dot(pca_components, this_cav.reshape(-1).T)\n",
    "    cav_norm = vec_norm(cav_pca) * radius\n",
    "    my_arrow = plt.arrow(arrow_start[0], arrow_start[1], cav_norm[0], cav_norm[1],width=.4,\n",
    "                         length_includes_head=True,head_width=2,fc='b', ec=None, alpha = .1)\n",
    "    a0 = ax.add_patch(my_arrow)\n",
    "\n",
    "# orig is dark\n",
    "cav_pca_1 = np.dot(pca_components, original_CAV.T)\n",
    "cav_norm_1 = vec_norm(cav_pca_1) * radius\n",
    "my_arrow_1 = plt.arrow(arrow_start[0], arrow_start[1], cav_norm_1[0], cav_norm_1[1],width=.4,\n",
    "                     length_includes_head=True,head_width=2,fc='k', ec=None, alpha = .8)\n",
    "a1 = ax.add_patch(my_arrow_1)"
   ]
  },
  {
   "cell_type": "code",
   "execution_count": null,
   "metadata": {},
   "outputs": [],
   "source": []
  },
  {
   "cell_type": "code",
   "execution_count": null,
   "metadata": {},
   "outputs": [],
   "source": []
  },
  {
   "cell_type": "code",
   "execution_count": null,
   "metadata": {},
   "outputs": [],
   "source": []
  },
  {
   "cell_type": "code",
   "execution_count": null,
   "metadata": {},
   "outputs": [],
   "source": [
    "acts_orig_array = np.zeros((len(img_paths),131072))\n",
    "acts_new_array = np.zeros((len(img_paths),131072))\n",
    "\n",
    "for i,img_path in enumerate(img_paths):\n",
    "    img = prep(img_path)\n",
    "    \n",
    "    acts_orig = get_acts(img)\n",
    "    acts_orig_array[i] = acts_orig\n",
    "\n",
    "    #acts_final_raw = gradient_ascent_using_acts(acts_orig.reshape(1,8,8,2048),iterations=iterations,step=step,max_loss=max_loss)\n",
    "    #acts_final = acts_final_raw.reshape(-1)\n",
    "    #acts_new_array[i] = acts_final\n",
    "\n",
    "    img, acts_list = gradient_ascent(img,iterations=iterations,step=step,max_loss=max_loss)\n",
    "    acts_new_array[i] = get_acts(img)"
   ]
  },
  {
   "cell_type": "code",
   "execution_count": null,
   "metadata": {},
   "outputs": [],
   "source": []
  },
  {
   "cell_type": "code",
   "execution_count": null,
   "metadata": {},
   "outputs": [],
   "source": []
  },
  {
   "cell_type": "code",
   "execution_count": null,
   "metadata": {},
   "outputs": [],
   "source": []
  },
  {
   "cell_type": "markdown",
   "metadata": {},
   "source": [
    "## Peak to Peak"
   ]
  },
  {
   "cell_type": "code",
   "execution_count": 12,
   "metadata": {},
   "outputs": [],
   "source": [
    "concept = 'striped_sub_1'\n",
    "\n",
    "concept_dir = os.path.join(working_dir,'concepts/'+concept)\n",
    "concept_image_list = files_from_dir_ext(concept_dir,'jpg')\n",
    "concept_image_list.sort()\n",
    "\n",
    "n = 131072\n",
    "activations = np.zeros((len(concept_image_list),n))\n",
    "for idx,image_path in enumerate(concept_image_list):\n",
    "    img = prep2(os.path.join(concept_dir,image_path))\n",
    "    acts_orig = get_acts(np.expand_dims(img, axis=0))\n",
    "    activations[idx] = acts_orig\n",
    "\n",
    "concept = 'random500_0'\n",
    "concept_dir = os.path.join(working_dir,'concepts/'+concept)\n",
    "random_image_list = files_from_dir_ext(concept_dir,'JPEG')\n",
    "random_image_list.sort()\n",
    "\n",
    "n = 131072\n",
    "acts_ran = np.zeros((len(random_image_list),n))\n",
    "for idx,image_path in enumerate(random_image_list):\n",
    "    img = prep2(os.path.join(concept_dir,image_path))\n",
    "    acts_orig = get_acts(np.expand_dims(img, axis=0))\n",
    "    acts_ran[idx] = acts_orig"
   ]
  },
  {
   "cell_type": "code",
   "execution_count": 13,
   "metadata": {},
   "outputs": [],
   "source": [
    "#random_image_list"
   ]
  },
  {
   "cell_type": "code",
   "execution_count": 14,
   "metadata": {},
   "outputs": [
    {
     "data": {
      "image/png": "[encoded data removed]",
      "text/plain": [
       "<Figure size 360x360 with 1 Axes>"
      ]
     },
     "metadata": {
      "needs_background": "light"
     },
     "output_type": "display_data"
    }
   ],
   "source": [
    "light_blue, light_red = '#b3b8fb', '#f6889f'\n",
    "fig = plt.figure(figsize=[5,5])\n",
    "\n",
    "# concept\n",
    "embed_pca_con = np.dot(pca_components, activations.T)\n",
    "plt.scatter(embed_pca_con[0], embed_pca_con[1], color = 'r')\n",
    "\n",
    "# random\n",
    "embed_pca_ran = np.dot(pca_components, acts_ran.T)\n",
    "plt.scatter(embed_pca_ran[0], embed_pca_ran[1], color = 'b')\n",
    "\n",
    "my_xlim = plt.xlim([-40,40])\n",
    "my_ylim = plt.ylim([-40,40])"
   ]
  },
  {
   "cell_type": "code",
   "execution_count": 15,
   "metadata": {},
   "outputs": [
    {
     "data": {
      "text/plain": [
       "(2, 50)"
      ]
     },
     "execution_count": 15,
     "metadata": {},
     "output_type": "execute_result"
    }
   ],
   "source": [
    "embed_pca_con.shape"
   ]
  },
  {
   "cell_type": "code",
   "execution_count": 16,
   "metadata": {},
   "outputs": [
    {
     "data": {
      "text/plain": [
       "GaussianMixture(covariance_type='full', init_params='kmeans', max_iter=100,\n",
       "        means_init=None, n_components=1, n_init=1, precisions_init=None,\n",
       "        random_state=None, reg_covar=1e-06, tol=0.001, verbose=0,\n",
       "        verbose_interval=10, warm_start=False, weights_init=None)"
      ]
     },
     "execution_count": 16,
     "metadata": {},
     "output_type": "execute_result"
    }
   ],
   "source": [
    "gm_con = GaussianMixture(n_components=1)\n",
    "gm_ran = GaussianMixture(n_components=1)\n",
    "\n",
    "gm_con.fit(embed_pca_con.T)\n",
    "gm_ran.fit(embed_pca_ran.T)"
   ]
  },
  {
   "cell_type": "code",
   "execution_count": null,
   "metadata": {},
   "outputs": [],
   "source": []
  },
  {
   "cell_type": "code",
   "execution_count": 101,
   "metadata": {},
   "outputs": [
    {
     "data": {
      "image/png": "[encoded data removed]",
      "text/plain": [
       "<Figure size 360x360 with 1 Axes>"
      ]
     },
     "metadata": {
      "needs_background": "light"
     },
     "output_type": "display_data"
    }
   ],
   "source": [
    "from matplotlib import cm\n",
    "\n",
    "fig = plt.figure(figsize=[5,5])\n",
    "\n",
    "N = 60\n",
    "X = np.linspace(-40, 40, N)\n",
    "Y = np.linspace(-40, 40, N)\n",
    "X, Y = np.meshgrid(X, Y)\n",
    "\n",
    "mu_1 = np.mean(embed_pca_con.T, axis=0)\n",
    "Sigma_1 = np.cov(embed_pca_con.T, rowvar=0)\n",
    "\n",
    "mu_2 = np.mean(embed_pca_ran.T, axis=0)\n",
    "Sigma_2 = np.cov(embed_pca_ran.T, rowvar=0)\n",
    "\n",
    "pos = np.empty(X.shape + (2,))\n",
    "pos[:, :, 0] = X\n",
    "pos[:, :, 1] = Y\n",
    "\n",
    "F1 = multivariate_normal(mu_1, Sigma_1)\n",
    "Z1 = F1.pdf(pos)\n",
    "\n",
    "F2 = multivariate_normal(mu_2, Sigma_2)\n",
    "Z2 = F2.pdf(pos)\n",
    "\n",
    "ax = fig.gca()\n",
    "\n",
    "cset = ax.contourf(X, Y, Z1, cmap=cm.viridis, alpha = .2)\n",
    "cset = ax.contourf(X, Y, Z2, cmap=cm.viridis, alpha = .2)\n",
    "\n",
    "plt.scatter(embed_pca_ran[0], embed_pca_ran[1], color = 'b', alpha = .1)\n",
    "plt.scatter(embed_pca_con[0], embed_pca_con[1], color = 'r', alpha = .1)\n",
    "\n",
    "\n",
    "cav = mu_1 - mu_2\n",
    "arrow_start = mu_2\n",
    "#my_arrow = plt.arrow(arrow_start[0], arrow_start[1], cav[0], cav[1],width=.4,length_includes_head=True,head_width=2,fc='k', ec=None, alpha = .4)\n",
    "#a1 = ax.add_patch(my_arrow)\n",
    "\n",
    "\n",
    "MU_1 = np.mean(activations, axis=0)\n",
    "MU_2 = np.mean(acts_ran, axis=0)\n",
    "\n",
    "MU_1_pca = np.dot(pca_components, MU_1.reshape(-1).T)\n",
    "MU_2_pca = np.dot(pca_components, MU_2.reshape(-1).T)\n",
    "\n",
    "cav = MU_1_pca - MU_2_pca\n",
    "\n",
    "arrow_start = MU_2_pca\n",
    "#my_arrow = plt.arrow(arrow_start[0], arrow_start[1], cav[0], cav[1],width=.4,length_includes_head=True,head_width=2,fc='k', ec=None, alpha = .4)\n",
    "#a1 = ax.add_patch(my_arrow)\n",
    "\n",
    "\n",
    "L1_p = np.linalg.norm(activations.T,1,axis = 1) / activations.shape[0]\n",
    "L1_n = np.linalg.norm(acts_ran.T,1,axis = 1) / acts_ran.shape[0]\n",
    "L1_cav = L1_p - L1_n\n",
    "\n",
    "arrow_start = np.dot(pca_components, L1_n)\n",
    "cav = np.dot(pca_components, L1_cav.reshape(-1).T)\n",
    "my_arrow = plt.arrow(arrow_start[0], arrow_start[1], cav[0], cav[1],width=.4,length_includes_head=True,head_width=2,fc='k', ec=None, alpha = .4)\n",
    "a1 = ax.add_patch(my_arrow)\n",
    "\n",
    "my_xlim = plt.xlim([-40,40])\n",
    "my_ylim = plt.ylim([-40,40])\n",
    "\n",
    "plt.show()"
   ]
  },
  {
   "cell_type": "code",
   "execution_count": 51,
   "metadata": {},
   "outputs": [],
   "source": [
    "activations.mean()\n",
    "\n",
    "MU_1 = np.mean(activations, axis=0)\n",
    "MU_2 = np.mean(acts_ran, axis=0)\n",
    "\n",
    "real_cav = MU_1 - MU_2\n",
    "\n",
    "MU_1_pca = np.dot(pca_components, MU_1.reshape(-1).T)\n",
    "MU_2_pca = np.dot(pca_components, MU_2.reshape(-1).T)"
   ]
  },
  {
   "cell_type": "code",
   "execution_count": 52,
   "metadata": {},
   "outputs": [],
   "source": [
    "cav_pca = np.dot(pca_components, real_cav.reshape(-1).T)\n",
    "cav_norm = vec_norm(cav_pca)"
   ]
  },
  {
   "cell_type": "code",
   "execution_count": 53,
   "metadata": {},
   "outputs": [
    {
     "data": {
      "text/plain": [
       "array([3.13590103e+01, 3.50234488e-03])"
      ]
     },
     "execution_count": 53,
     "metadata": {},
     "output_type": "execute_result"
    }
   ],
   "source": [
    "cav_pca"
   ]
  },
  {
   "cell_type": "code",
   "execution_count": 42,
   "metadata": {},
   "outputs": [],
   "source": [
    "MU_1_pca = np.dot(pca_components, MU_1.reshape(-1).T)\n",
    "MU_2_pca = np.dot(pca_components, MU_2.reshape(-1).T)"
   ]
  },
  {
   "cell_type": "code",
   "execution_count": 33,
   "metadata": {},
   "outputs": [],
   "source": [
    "#real_cav.shape"
   ]
  },
  {
   "cell_type": "code",
   "execution_count": null,
   "metadata": {},
   "outputs": [],
   "source": []
  },
  {
   "cell_type": "code",
   "execution_count": null,
   "metadata": {},
   "outputs": [],
   "source": []
  },
  {
   "cell_type": "code",
   "execution_count": 20,
   "metadata": {},
   "outputs": [
    {
     "data": {
      "text/plain": [
       "GaussianMixture(covariance_type='full', init_params='kmeans', max_iter=100,\n",
       "        means_init=None, n_components=1, n_init=1, precisions_init=None,\n",
       "        random_state=None, reg_covar=1e-06, tol=0.001, verbose=0,\n",
       "        verbose_interval=10, warm_start=False, weights_init=None)"
      ]
     },
     "execution_count": 20,
     "metadata": {},
     "output_type": "execute_result"
    }
   ],
   "source": [
    "gm_con = GaussianMixture(n_components=1)\n",
    "gm_ran = GaussianMixture(n_components=1)\n",
    "\n",
    "#gm_con.fit(activations)\n",
    "gm_ran.fit(embed_pca_ran.T)"
   ]
  },
  {
   "cell_type": "code",
   "execution_count": 22,
   "metadata": {},
   "outputs": [
    {
     "data": {
      "text/plain": [
       "(2, 50)"
      ]
     },
     "execution_count": 22,
     "metadata": {},
     "output_type": "execute_result"
    }
   ],
   "source": [
    "embed_pca_ran.shape"
   ]
  },
  {
   "cell_type": "markdown",
   "metadata": {},
   "source": [
    "# L1"
   ]
  },
  {
   "cell_type": "code",
   "execution_count": 66,
   "metadata": {},
   "outputs": [],
   "source": [
    "a = np.array([[5,6,7,8],\n",
    "            [1,2,3,4]])"
   ]
  },
  {
   "cell_type": "code",
   "execution_count": 100,
   "metadata": {},
   "outputs": [
    {
     "data": {
      "text/plain": [
       "array([6.5, 2.5])"
      ]
     },
     "execution_count": 100,
     "metadata": {},
     "output_type": "execute_result"
    }
   ],
   "source": [
    "np.linalg.norm(a,1,axis = 1) / a.shape[1]"
   ]
  },
  {
   "cell_type": "code",
   "execution_count": 76,
   "metadata": {},
   "outputs": [
    {
     "data": {
      "text/plain": [
       "(2, 4)"
      ]
     },
     "execution_count": 76,
     "metadata": {},
     "output_type": "execute_result"
    }
   ],
   "source": [
    "a.shape"
   ]
  },
  {
   "cell_type": "code",
   "execution_count": 102,
   "metadata": {},
   "outputs": [],
   "source": [
    "## Find CAV\n"
   ]
  },
  {
   "cell_type": "code",
   "execution_count": 121,
   "metadata": {},
   "outputs": [],
   "source": [
    "def get_L1(act_for_L1):\n",
    "    return np.linalg.norm(act_for_L1.T,1,axis = 1) / act_for_L1.shape[1]"
   ]
  },
  {
   "cell_type": "code",
   "execution_count": 84,
   "metadata": {},
   "outputs": [],
   "source": [
    "L1_p = np.linalg.norm(activations.T,1,axis = 1) / a.shape[1]\n",
    "L1_n = np.linalg.norm(acts_ran.T,1,axis = 1) / a.shape[1]\n",
    "L1_cav = L1_p - L1_n"
   ]
  },
  {
   "cell_type": "code",
   "execution_count": 104,
   "metadata": {},
   "outputs": [],
   "source": [
    "models_dict = {}"
   ]
  },
  {
   "cell_type": "code",
   "execution_count": null,
   "metadata": {},
   "outputs": [],
   "source": []
  },
  {
   "cell_type": "code",
   "execution_count": 130,
   "metadata": {},
   "outputs": [],
   "source": [
    "models_dict['L1_10'] = []\n",
    "lm = linear_model.SGDClassifier(alpha=.1)\n",
    "\n",
    "num_model = 10\n",
    "num_runs = 1\n",
    "\n",
    "for i in range(num_model):\n",
    "    these_c = np.zeros((num_runs,131072))\n",
    "    for j in range(num_runs):\n",
    "        x_train, x_test, y_train, y_test = train_test_split(x, y, test_size=0.33, stratify=y)\n",
    "        \n",
    "        x_train_p_list,x_train_n_list = [],[]\n",
    "        for idx,a in enumerate(x_train):\n",
    "            if y_train[idx] == 0:\n",
    "                x_train_p_list.append(a)\n",
    "            else:\n",
    "                x_train_n_list.append(a)\n",
    "        x_train_p,x_train_n = np.array(x_train_p_list),np.array(x_train_n_list)\n",
    "        these_c[j] = get_L1(x_train_p) - get_L1(x_train_n)\n",
    "        \n",
    "    lm.coef_ = np.expand_dims(these_c.mean(axis = 0),axis = 0)\n",
    "    accuracy = None\n",
    "    models_dict['L1_10'].append([lm.coef_,accuracy])"
   ]
  },
  {
   "cell_type": "code",
   "execution_count": 131,
   "metadata": {},
   "outputs": [
    {
     "name": "stdout",
     "output_type": "stream",
     "text": [
      "6.01 None 0.68\n",
      "6.01 None 0.54\n",
      "6.01 None 0.68\n",
      "6.01 None 0.76\n",
      "6.01 None 0.46\n",
      "6.01 None 0.64\n",
      "6.01 None 0.74\n",
      "6.01 None 0.56\n",
      "6.01 None 0.6\n",
      "6.01 None 0.68\n"
     ]
    }
   ],
   "source": [
    "target_class\n",
    "for coef,acc in models_dict['L1_10']:\n",
    "    d = round(euclidean_distance(coef,original_CAV),2)\n",
    "    score = comp_tcav(target_class,coef.reshape(-1),class_acts,bottleneck)\n",
    "    print(d,acc,score)"
   ]
  },
  {
   "cell_type": "code",
   "execution_count": 118,
   "metadata": {},
   "outputs": [],
   "source": [
    "concepts = [class_1,class_2]\n",
    "bottleneck = layer\n",
    "hparams = tf.contrib.training.HParams(model_type='linear', alpha=.1)\n",
    "cav_dir = working_dir + '/cav_dir'\n",
    "target_class = 'zebra'\n",
    "acts = act_generator.process_and_load_activations([bottleneck], concepts + [target_class])\n",
    "class_acts = acts[target_class][bottleneck]"
   ]
  },
  {
   "cell_type": "code",
   "execution_count": 134,
   "metadata": {},
   "outputs": [
    {
     "data": {
      "text/plain": [
       "dict_keys(['n_10_1_seed', 'L1_10'])"
      ]
     },
     "execution_count": 134,
     "metadata": {},
     "output_type": "execute_result"
    }
   ],
   "source": [
    "models_dict.keys()"
   ]
  },
  {
   "cell_type": "code",
   "execution_count": 137,
   "metadata": {},
   "outputs": [
    {
     "data": {
      "image/png": "[encoded data removed]",
      "text/plain": [
       "<Figure size 360x360 with 1 Axes>"
      ]
     },
     "metadata": {
      "needs_background": "light"
     },
     "output_type": "display_data"
    }
   ],
   "source": [
    "## Plot CAVs in loop\n",
    "list_of_cavs = models_dict['n_10_1_seed']\n",
    "\n",
    "fig = plt.figure(figsize=[5,5])\n",
    "xlim = plt.xlim([-12,12])\n",
    "ylim = plt.ylim([-12,12])\n",
    "\n",
    "radius = 10\n",
    "circ = plt.Circle((0,0), radius=radius, edgecolor='black', facecolor='None')\n",
    "ax = plt.gca()\n",
    "ax.add_patch(circ)\n",
    "arrow_start = [0,0]\n",
    "\n",
    "# new cav is transparent, blue\n",
    "for this_cav,acc in list_of_cavs:\n",
    "    cav_pca = np.dot(pca_components, this_cav.reshape(-1).T)\n",
    "    cav_norm = vec_norm(cav_pca) * radius\n",
    "    my_arrow = plt.arrow(arrow_start[0], arrow_start[1], cav_norm[0], cav_norm[1],width=.4,\n",
    "                         length_includes_head=True,head_width=2,fc='b', ec=None, alpha = .1)\n",
    "    a0 = ax.add_patch(my_arrow)\n",
    "\n",
    "# orig is dark\n",
    "cav_pca_1 = np.dot(pca_components, original_CAV.T)\n",
    "cav_norm_1 = vec_norm(cav_pca_1) * radius\n",
    "my_arrow_1 = plt.arrow(arrow_start[0], arrow_start[1], cav_norm_1[0], cav_norm_1[1],width=.4,\n",
    "                     length_includes_head=True,head_width=2,fc='k', ec=None, alpha = .8)\n",
    "a1 = ax.add_patch(my_arrow_1)"
   ]
  },
  {
   "cell_type": "code",
   "execution_count": null,
   "metadata": {},
   "outputs": [],
   "source": []
  },
  {
   "cell_type": "markdown",
   "metadata": {},
   "source": [
    "## Test L1 on Mixed9"
   ]
  },
  {
   "cell_type": "code",
   "execution_count": 138,
   "metadata": {},
   "outputs": [],
   "source": [
    "concept = 'striped_sub_1'\n",
    "\n",
    "concept_dir = os.path.join(working_dir,'concepts/'+concept)\n",
    "concept_image_list = files_from_dir_ext(concept_dir,'jpg')\n",
    "concept_image_list.sort()\n",
    "\n",
    "n = 131072\n",
    "activations = np.zeros((len(concept_image_list),n))\n",
    "for idx,image_path in enumerate(concept_image_list):\n",
    "    img = prep2(os.path.join(concept_dir,image_path))\n",
    "    acts_orig = get_acts(np.expand_dims(img, axis=0))\n",
    "    activations[idx] = acts_orig\n",
    "\n",
    "concept = 'random500_0'\n",
    "concept_dir = os.path.join(working_dir,'concepts/'+concept)\n",
    "random_image_list = files_from_dir_ext(concept_dir,'JPEG')\n",
    "random_image_list.sort()\n",
    "\n",
    "n = 131072\n",
    "acts_ran = np.zeros((len(random_image_list),n))\n",
    "for idx,image_path in enumerate(random_image_list):\n",
    "    img = prep2(os.path.join(concept_dir,image_path))\n",
    "    acts_orig = get_acts(np.expand_dims(img, axis=0))\n",
    "    acts_ran[idx] = acts_orig\n",
    "    \n",
    "## save acts"
   ]
  },
  {
   "cell_type": "code",
   "execution_count": 140,
   "metadata": {},
   "outputs": [
    {
     "data": {
      "text/plain": [
       "(50, 131072)"
      ]
     },
     "execution_count": 140,
     "metadata": {},
     "output_type": "execute_result"
    }
   ],
   "source": [
    "acts_ran.shape"
   ]
  },
  {
   "cell_type": "code",
   "execution_count": 154,
   "metadata": {},
   "outputs": [],
   "source": [
    "x = np.concatenate((activations,acts_ran))\n",
    "y = np.concatenate((np.zeros(50),np.ones(50)))\n",
    "\n",
    "#x_train, x_test, y_train, y_test = train_test_split(x, y, test_size=0.33, stratify=y)"
   ]
  },
  {
   "cell_type": "code",
   "execution_count": 157,
   "metadata": {},
   "outputs": [],
   "source": [
    "#model_test = {}\n",
    "results = {}"
   ]
  },
  {
   "cell_type": "code",
   "execution_count": 170,
   "metadata": {},
   "outputs": [],
   "source": [
    "model_test['L1'] = []\n",
    "model_test['std'] = []\n",
    "\n",
    "lm = linear_model.SGDClassifier(alpha=.1)\n",
    "\n",
    "num_model = 100\n",
    "num_runs = 1\n",
    "\n",
    "for i in range(num_model):\n",
    "    these_c = np.zeros((num_runs,131072))\n",
    "    for j in range(num_runs):\n",
    "        x_train, x_test, y_train, y_test = train_test_split(x, y, test_size=0.33, stratify=y)\n",
    "        \n",
    "        x_train_p_list,x_train_n_list = [],[]\n",
    "        for idx,a in enumerate(x_train):\n",
    "            if y_train[idx] == 0:\n",
    "                x_train_p_list.append(a)\n",
    "            else:\n",
    "                x_train_n_list.append(a)\n",
    "        x_train_p,x_train_n = np.array(x_train_p_list),np.array(x_train_n_list)\n",
    "        these_c[j] = get_L1(x_train_p) - get_L1(x_train_n)\n",
    "        \n",
    "    lm.coef_ = np.expand_dims(these_c.mean(axis = 0),axis = 0)\n",
    "    accuracy = None\n",
    "    model_test['L1'].append([lm.coef_,accuracy])\n",
    "\n",
    "for i in range(num_model):\n",
    "    these_c = np.zeros((num_runs,131072))\n",
    "    for j in range(num_runs):\n",
    "        x_train, x_test, y_train, y_test = train_test_split(x, y, test_size=0.33, stratify=y)\n",
    "        lm.fit(x_train,y_train)\n",
    "        these_c[j] = lm.coef_\n",
    "    lm.coef_ = np.expand_dims(these_c.mean(axis = 0),axis = 0)\n",
    "    y_pred = lm.predict(x_test)\n",
    "    accuracy = metrics.accuracy_score(y_pred, y_test)\n",
    "    model_test['std'].append([-lm.coef_,accuracy])"
   ]
  },
  {
   "cell_type": "code",
   "execution_count": 171,
   "metadata": {},
   "outputs": [],
   "source": [
    "results['L1'] = []\n",
    "for coef,acc in model_test['L1']:\n",
    "    score = comp_tcav(target_class,coef.reshape(-1),class_acts,bottleneck)\n",
    "    results['L1'].append(score)\n",
    "\n",
    "results['std'] = []\n",
    "for coef,acc in model_test['std']:\n",
    "    score = comp_tcav(target_class,coef.reshape(-1),class_acts,bottleneck)\n",
    "    results['std'].append(score)"
   ]
  },
  {
   "cell_type": "code",
   "execution_count": 172,
   "metadata": {},
   "outputs": [
    {
     "data": {
      "text/plain": [
       "(0.5972000000000001, 0.011088159999999998)"
      ]
     },
     "execution_count": 172,
     "metadata": {},
     "output_type": "execute_result"
    }
   ],
   "source": [
    "np.array(results['L1']).mean(),np.array(results['L1']).var()"
   ]
  },
  {
   "cell_type": "code",
   "execution_count": 173,
   "metadata": {},
   "outputs": [
    {
     "data": {
      "text/plain": [
       "(0.616, 0.06337599999999999)"
      ]
     },
     "execution_count": 173,
     "metadata": {},
     "output_type": "execute_result"
    }
   ],
   "source": [
    "np.array(results['std']).mean(),np.array(results['std']).var()"
   ]
  },
  {
   "cell_type": "code",
   "execution_count": null,
   "metadata": {},
   "outputs": [],
   "source": []
  },
  {
   "cell_type": "code",
   "execution_count": null,
   "metadata": {},
   "outputs": [],
   "source": []
  },
  {
   "cell_type": "code",
   "execution_count": 180,
   "metadata": {},
   "outputs": [
    {
     "data": {
      "image/png": "[encoded data removed]",
      "text/plain": [
       "<Figure size 432x288 with 1 Axes>"
      ]
     },
     "metadata": {
      "needs_background": "light"
     },
     "output_type": "display_data"
    }
   ],
   "source": [
    "mu = .597\n",
    "variance = .011\n",
    "sigma = math.sqrt(variance)\n",
    "x = np.linspace(0,1, 100)\n",
    "plt.plot(x, stats.norm.pdf(x, mu, sigma))\n",
    "\n",
    "mu = .616\n",
    "variance = .063\n",
    "sigma = math.sqrt(variance)\n",
    "x = np.linspace(0,1, 100)\n",
    "plt.plot(x, stats.norm.pdf(x, mu, sigma))\n",
    "\n",
    "plt.show()"
   ]
  },
  {
   "cell_type": "code",
   "execution_count": 178,
   "metadata": {},
   "outputs": [],
   "source": [
    "#results['std']"
   ]
  },
  {
   "cell_type": "code",
   "execution_count": null,
   "metadata": {},
   "outputs": [],
   "source": []
  },
  {
   "cell_type": "code",
   "execution_count": null,
   "metadata": {},
   "outputs": [],
   "source": []
  },
  {
   "cell_type": "markdown",
   "metadata": {},
   "source": [
    "## Recover Hyperplane"
   ]
  },
  {
   "cell_type": "code",
   "execution_count": 290,
   "metadata": {},
   "outputs": [],
   "source": [
    "c1 = model_test['std'][1][0]\n",
    "c2 = model_test['L1'][1][0]"
   ]
  },
  {
   "cell_type": "code",
   "execution_count": 291,
   "metadata": {},
   "outputs": [
    {
     "data": {
      "text/plain": [
       "(1, 131072)"
      ]
     },
     "execution_count": 291,
     "metadata": {},
     "output_type": "execute_result"
    }
   ],
   "source": [
    "c2.shape"
   ]
  },
  {
   "cell_type": "code",
   "execution_count": 292,
   "metadata": {},
   "outputs": [],
   "source": [
    "lm.coef_ = -c2\n",
    "lm.intercept_ = np.array([0])\n",
    "#lm.coef_ = -c1"
   ]
  },
  {
   "cell_type": "code",
   "execution_count": null,
   "metadata": {},
   "outputs": [],
   "source": []
  },
  {
   "cell_type": "code",
   "execution_count": 298,
   "metadata": {},
   "outputs": [
    {
     "data": {
      "text/plain": [
       "array([-0.19500707])"
      ]
     },
     "execution_count": 298,
     "metadata": {},
     "output_type": "execute_result"
    }
   ],
   "source": [
    "np.dot(lm.coef_,x_test[0])"
   ]
  },
  {
   "cell_type": "code",
   "execution_count": 293,
   "metadata": {},
   "outputs": [
    {
     "name": "stdout",
     "output_type": "stream",
     "text": [
      "1.0\n"
     ]
    }
   ],
   "source": [
    "y_pred = lm.predict(x_test)\n",
    "accuracy = metrics.accuracy_score(y_pred, y_test)\n",
    "print(accuracy)"
   ]
  },
  {
   "cell_type": "code",
   "execution_count": 294,
   "metadata": {},
   "outputs": [
    {
     "data": {
      "text/plain": [
       "array([-0.19500707, -0.12821534, -0.25378711, -0.25886894,  0.00983741,\n",
       "       -0.02909258, -0.20908766, -0.23388604,  0.11092905,  0.24280813,\n",
       "        0.21533899, -0.24325414, -0.09137111, -0.13284176, -0.24964479,\n",
       "        0.15732819, -0.08463953,  0.18991081,  0.19528924, -0.02891493,\n",
       "        0.26921717,  0.15779016,  0.11785557, -0.19380926,  0.19532396,\n",
       "        0.16532376,  0.08595873, -0.03514877,  0.13964887,  0.24997353,\n",
       "        0.20864605, -0.12107742, -0.21411183])"
      ]
     },
     "execution_count": 294,
     "metadata": {},
     "output_type": "execute_result"
    }
   ],
   "source": [
    "lm.decision_function(x_test)"
   ]
  },
  {
   "cell_type": "code",
   "execution_count": 295,
   "metadata": {},
   "outputs": [
    {
     "data": {
      "text/plain": [
       "array([0])"
      ]
     },
     "execution_count": 295,
     "metadata": {},
     "output_type": "execute_result"
    }
   ],
   "source": [
    "lm.intercept_"
   ]
  },
  {
   "cell_type": "code",
   "execution_count": null,
   "metadata": {},
   "outputs": [],
   "source": []
  },
  {
   "cell_type": "code",
   "execution_count": null,
   "metadata": {},
   "outputs": [],
   "source": []
  },
  {
   "cell_type": "markdown",
   "metadata": {},
   "source": [
    "## Toy Example"
   ]
  },
  {
   "cell_type": "code",
   "execution_count": 377,
   "metadata": {},
   "outputs": [],
   "source": [
    "mu_1 = np.array([-2,-2])\n",
    "sigma_1 = np.array([[3,2],[2,3]])\n",
    "\n",
    "mu_2 = np.array([2,2])\n",
    "sigma_2 = np.array([[3,-2],[-2,3]])"
   ]
  },
  {
   "cell_type": "code",
   "execution_count": 385,
   "metadata": {},
   "outputs": [],
   "source": [
    "n = 50\n",
    "g1 = multivariate_normal(mu_1, sigma_1)\n",
    "z1 = g1.rvs(n)\n",
    "g2 = multivariate_normal(mu_2, sigma_2)\n",
    "z2 = g2.rvs(n)"
   ]
  },
  {
   "cell_type": "code",
   "execution_count": 422,
   "metadata": {},
   "outputs": [],
   "source": [
    "x = np.concatenate((z1,z2))\n",
    "y = np.concatenate((np.zeros(n),np.ones(n)))\n",
    "lm = linear_model.SGDClassifier(alpha=.1)\n",
    "lm.fit(x,y)\n",
    "this_cav = lm.coef_[0]"
   ]
  },
  {
   "cell_type": "code",
   "execution_count": 423,
   "metadata": {},
   "outputs": [
    {
     "data": {
      "text/plain": [
       "array([0.58144212, 0.76711404])"
      ]
     },
     "execution_count": 423,
     "metadata": {},
     "output_type": "execute_result"
    }
   ],
   "source": [
    "this_cav"
   ]
  },
  {
   "cell_type": "code",
   "execution_count": 421,
   "metadata": {},
   "outputs": [
    {
     "data": {
      "image/png": "[encoded data removed]",
      "text/plain": [
       "<Figure size 360x360 with 1 Axes>"
      ]
     },
     "metadata": {
      "needs_background": "light"
     },
     "output_type": "display_data"
    }
   ],
   "source": [
    "light_blue, light_red = '#b3b8fb', '#f6889f'\n",
    "fig = plt.figure(figsize=[5,5])\n",
    "\n",
    "# class 1\n",
    "plt.scatter(z1[:,0], z1[:,1], color = 'r')\n",
    "\n",
    "# class 2\n",
    "plt.scatter(z2[:,0], z2[:,1], color = 'b')\n",
    "\n",
    "ax = plt.gca()\n",
    "radius = 2.5\n",
    "circ = plt.Circle((-7,7), radius=radius, edgecolor='black', facecolor='None')\n",
    "ax.add_patch(circ)\n",
    "\n",
    "arrow_start = [-7,7]\n",
    "cav_norm = vec_norm(this_cav) * radius\n",
    "my_arrow = plt.arrow(arrow_start[0], arrow_start[1], cav_norm[0], cav_norm[1],width=.05,\n",
    "                         length_includes_head=True,head_width=.4,fc='k', ec=None, alpha = 1)\n",
    "a0 = ax.add_patch(my_arrow)\n",
    "\n",
    "my_xlim = plt.xlim([-10,10])\n",
    "my_ylim = plt.ylim([-10,10])"
   ]
  },
  {
   "cell_type": "code",
   "execution_count": 430,
   "metadata": {},
   "outputs": [],
   "source": [
    "## lots of CAVs\n",
    "this_list = []\n",
    "for i in range(50):\n",
    "    n = 50\n",
    "    g1 = multivariate_normal(mu_1, sigma_1)\n",
    "    z1 = g1.rvs(n)\n",
    "    g2 = multivariate_normal(mu_2, sigma_2)\n",
    "    z2 = g2.rvs(n)\n",
    "\n",
    "    x = np.concatenate((z1,z2))\n",
    "    y = np.concatenate((np.zeros(n),np.ones(n)))\n",
    "    lm = linear_model.SGDClassifier(alpha=.1)\n",
    "    lm.fit(x,y)\n",
    "    this_cav = lm.coef_[0]\n",
    "    this_list.append(this_cav)"
   ]
  },
  {
   "cell_type": "code",
   "execution_count": 431,
   "metadata": {},
   "outputs": [
    {
     "data": {
      "image/png": "[encoded data removed]",
      "text/plain": [
       "<Figure size 360x360 with 1 Axes>"
      ]
     },
     "metadata": {
      "needs_background": "light"
     },
     "output_type": "display_data"
    }
   ],
   "source": [
    "## Plot CAVs in loop\n",
    "list_of_cavs = this_list\n",
    "\n",
    "fig = plt.figure(figsize=[5,5])\n",
    "xlim = plt.xlim([-12,12])\n",
    "ylim = plt.ylim([-12,12])\n",
    "\n",
    "radius = 10\n",
    "circ = plt.Circle((0,0), radius=radius, edgecolor='black', facecolor='None')\n",
    "ax = plt.gca()\n",
    "ax.add_patch(circ)\n",
    "arrow_start = [0,0]\n",
    "\n",
    "# new cav is transparent, blue\n",
    "for this_cav in list_of_cavs:\n",
    "    cav_norm = vec_norm(this_cav) * radius\n",
    "    my_arrow = plt.arrow(arrow_start[0], arrow_start[1], cav_norm[0], cav_norm[1],width=.4,\n",
    "                         length_includes_head=True,head_width=2,fc='b', ec=None, alpha = .05)\n",
    "    a0 = ax.add_patch(my_arrow)\n"
   ]
  },
  {
   "cell_type": "code",
   "execution_count": null,
   "metadata": {},
   "outputs": [],
   "source": []
  },
  {
   "cell_type": "code",
   "execution_count": null,
   "metadata": {},
   "outputs": [],
   "source": []
  },
  {
   "cell_type": "code",
   "execution_count": null,
   "metadata": {},
   "outputs": [],
   "source": []
  },
  {
   "cell_type": "code",
   "execution_count": null,
   "metadata": {},
   "outputs": [],
   "source": []
  },
  {
   "cell_type": "code",
   "execution_count": 297,
   "metadata": {},
   "outputs": [],
   "source": [
    "#explained_variance_ratio_"
   ]
  },
  {
   "cell_type": "code",
   "execution_count": 7,
   "metadata": {},
   "outputs": [],
   "source": [
    "def comp_tcav(target_class,cav,class_acts,bottleneck_name):\n",
    "    count = 0\n",
    "    class_id = mymodel.label_to_id(target_class)\n",
    "\n",
    "    for i in range(len(class_acts)):\n",
    "        act = np.expand_dims(class_acts[i], 0)\n",
    "        if get_dir(act, class_id,cav,bottleneck_name):\n",
    "            count += 1\n",
    "    return float(count) / float(len(class_acts))\n",
    "\n",
    "def get_dir(acts, class_id, this_cav, bottleneck_name):\n",
    "    grads = sess.run(mymodel.bottlenecks_gradients[bottleneck_name], \n",
    "                 {mymodel.bottlenecks_tensors[bottleneck_name]: acts,\n",
    "                 mymodel.y_input: [class_id]})\n",
    "                     \n",
    "    grad = np.reshape(grads, -1)\n",
    "    dot_prod = np.dot(grad, this_cav)\n",
    "\n",
    "    return dot_prod < 0"
   ]
  },
  {
   "cell_type": "code",
   "execution_count": 11,
   "metadata": {},
   "outputs": [],
   "source": [
    "## define functions\n",
    "pca_components = pickle.load(open('pca/pca_components_mixed9.pkl', 'rb'))\n",
    "\n",
    "\n",
    "def vector_norm(vec):\n",
    "    norm_const = math.sqrt(vec[0]*vec[0] + vec[1]*vec[1])\n",
    "    return vec / norm_const\n",
    "\n",
    "def vec_norm(vec):\n",
    "    return  vec / np.linalg.norm(vec)\n",
    "\n",
    "## CAV distance\n",
    "def euclidean_distance(a,b):\n",
    "    return np.linalg.norm(a-b)\n",
    "\n",
    "def cosine_similarity(v1,v2):\n",
    "    # compute cosine similarity of v1 to v2: (v1 dot v2)/{||v1||*||v2||)\n",
    "    sumxx, sumxy, sumyy = 0, 0, 0\n",
    "    for i in range(len(v1)):\n",
    "        x = v1[i]; y = v2[i]\n",
    "        sumxx += x*x\n",
    "        sumyy += y*y\n",
    "        sumxy += x*y\n",
    "    return sumxy / math.sqrt(sumxx*sumyy)\n",
    "\n",
    "def files_from_dir(a_dir):\n",
    "    onlyfiles = [f for f in os.listdir(a_dir) if os.path.isfile(os.path.join(a_dir, f))]\n",
    "    return onlyfiles\n",
    "\n",
    "def files_from_dir_ext(a_dir,ext):\n",
    "    onlyfiles = [f for f in os.listdir(a_dir) if os.path.isfile(os.path.join(a_dir, f))]\n",
    "    this_ext = [e for e in onlyfiles if ext in e]\n",
    "    return this_ext\n",
    "\n",
    "def prep2(filename):\n",
    "    shape=(299, 299)\n",
    "    img = np.array(PIL.Image.open(open(filename, 'rb')).convert('RGB').resize(shape, PIL.Image.BILINEAR))\n",
    "    # Normalize pixel values to between 0 and 1.\n",
    "    img = np.float32(img) / 255.0\n",
    "    if not (len(img.shape) == 3 and img.shape[2] == 3):\n",
    "        return None\n",
    "    else:\n",
    "        return img\n",
    "    \n",
    "layer_dict = dict([(layer.name, layer) for layer in model.layers])\n",
    "sess = K.get_session()\n",
    "\n",
    "layer_name = 'mixed9'\n",
    "\n",
    "these_acts = layer_dict[layer_name].output\n",
    "get_acts_func = K.function([model.input],[these_acts])\n",
    "\n",
    "def get_acts(input_img):\n",
    "    outs = get_acts_func([input_img])\n",
    "    acts_value = outs[0]\n",
    "    return acts_value.reshape(-1)"
   ]
  },
  {
   "cell_type": "code",
   "execution_count": null,
   "metadata": {},
   "outputs": [],
   "source": []
  }
 ],
 "metadata": {
  "kernelspec": {
   "display_name": "Python 3",
   "language": "python",
   "name": "python3"
  },
  "language_info": {
   "codemirror_mode": {
    "name": "ipython",
    "version": 3
   },
   "file_extension": ".py",
   "mimetype": "text/x-python",
   "name": "python",
   "nbconvert_exporter": "python",
   "pygments_lexer": "ipython3",
   "version": "3.6.8"
  }
 },
 "nbformat": 4,
 "nbformat_minor": 2
}
