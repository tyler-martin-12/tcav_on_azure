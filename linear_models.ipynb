{
 "cells": [
  {
   "cell_type": "code",
   "execution_count": 23,
   "metadata": {},
   "outputs": [],
   "source": [
    "from sklearn.metrics.pairwise import cosine_similarity\n",
    "import numpy as np\n",
    "from numpy.linalg import norm\n",
    "\n",
    "import pickle\n",
    "\n",
    "from os import listdir\n",
    "from os.path import isfile, join\n",
    "import operator\n",
    "from PIL import Image\n",
    "from keras.preprocessing import image\n",
    "\n",
    "import os\n",
    "import math\n",
    "\n",
    "import PIL.Image\n",
    "from sklearn.metrics import pairwise\n",
    "import matplotlib.pyplot as plt\n",
    "\n",
    "from sklearn import linear_model\n",
    "from sklearn import metrics\n",
    "from sklearn.model_selection import train_test_split\n",
    "from scipy.stats import multivariate_normal\n",
    "from sklearn.mixture import GaussianMixture\n",
    "\n",
    "import warnings\n",
    "warnings.filterwarnings(\"ignore\", category=DeprecationWarning)\n",
    "warnings.filterwarnings(\"ignore\", category=FutureWarning)\n",
    "\n",
    "import pandas as pd\n",
    "from scipy import stats\n",
    "\n",
    "from sklearn.svm import SVC"
   ]
  },
  {
   "cell_type": "markdown",
   "metadata": {},
   "source": [
    "## Generate Data"
   ]
  },
  {
   "cell_type": "code",
   "execution_count": 24,
   "metadata": {},
   "outputs": [],
   "source": [
    "mu_1 = np.array([-4,-4])\n",
    "sigma_1 = np.array([[3,1],[1,3]])\n",
    "\n",
    "mu_2 = np.array([3,3])\n",
    "sigma_2 = np.array([[3,2],[2,3]])\n",
    "\n",
    "n = 50\n",
    "g1 = multivariate_normal(mu_1, sigma_1)\n",
    "z1 = g1.rvs(n)\n",
    "g2 = multivariate_normal(mu_2, sigma_2)\n",
    "z2 = g2.rvs(n)"
   ]
  },
  {
   "cell_type": "code",
   "execution_count": 271,
   "metadata": {},
   "outputs": [],
   "source": [
    "x = np.concatenate((z1,z2))\n",
    "y = np.concatenate((np.zeros(n),np.ones(n)))\n",
    "#training = (x,y)\n",
    "#pickle.dump(training,open('training.pkl','wb'))\n",
    "x,y = pickle.load(open('training.pkl','rb'))"
   ]
  },
  {
   "cell_type": "code",
   "execution_count": 272,
   "metadata": {},
   "outputs": [],
   "source": [
    "svc = SVC(kernel = 'linear')\n",
    "\n",
    "lm = linear_model.SGDClassifier(alpha=.1,random_state=1)\n",
    "#lm = SVC(kernel = 'linear')"
   ]
  },
  {
   "cell_type": "markdown",
   "metadata": {},
   "source": [
    "## Use SVC"
   ]
  },
  {
   "cell_type": "code",
   "execution_count": 273,
   "metadata": {},
   "outputs": [],
   "source": [
    "lm = SVC(kernel = 'linear')"
   ]
  },
  {
   "cell_type": "code",
   "execution_count": 274,
   "metadata": {},
   "outputs": [
    {
     "data": {
      "image/png": "[encoded data removed]",
      "text/plain": [
       "<Figure size 360x360 with 1 Axes>"
      ]
     },
     "metadata": {},
     "output_type": "display_data"
    }
   ],
   "source": [
    "x_train, x_test, y_train, y_test = train_test_split(x, y, test_size=0.33, stratify=y, random_state=3)\n",
    "lm.fit(x_train,y_train)\n",
    "this_cav = lm.coef_[0]\n",
    "\n",
    "light_blue, light_red = '#b3b8fb', '#f6889f'\n",
    "fig = plt.figure(figsize=[5,5])\n",
    "\n",
    "# train\n",
    "color_train = ['red' if y == 1 else 'blue' for y in y_train]\n",
    "plt.scatter(x_train[:,0], x_train[:,1], color = color_train,alpha=.7,linewidths=0,s=50)\n",
    "\n",
    "ax = plt.gca()\n",
    "radius = 1.5\n",
    "circ = plt.Circle((-6,6), radius=radius, edgecolor='black', facecolor='white',zorder=4,alpha=.8)\n",
    "ax.add_patch(circ)\n",
    "\n",
    "arrow_start = [-6,6]\n",
    "cav_norm = vec_norm(this_cav) * radius\n",
    "my_arrow = plt.arrow(arrow_start[0], arrow_start[1], cav_norm[0], cav_norm[1],width=.05,length_includes_head=True,head_width=.4,fc='k', ec=None, alpha = 1,zorder=5)\n",
    "a0 = ax.add_patch(my_arrow)\n",
    "\n",
    "c0,c1 = lm.coef_[0]\n",
    "b = lm.intercept_\n",
    "x_ = np.linspace(-10,10,100)\n",
    "y_ = (-c0/c1)*x_-b/c1\n",
    "plt.plot(x_, y_, 'k')\n",
    "\n",
    "my_xlim = plt.xlim([-8,8])\n",
    "my_ylim = plt.ylim([-8,8])\n",
    "\n",
    "_,_ = plt.xticks([], []),plt.yticks([], [])\n",
    "plt.savefig('new_figs/svm_0.png',dpi=200)"
   ]
  },
  {
   "cell_type": "code",
   "execution_count": 208,
   "metadata": {},
   "outputs": [
    {
     "data": {
      "image/png": "[encoded data removed]",
      "text/plain": [
       "<Figure size 360x360 with 1 Axes>"
      ]
     },
     "metadata": {},
     "output_type": "display_data"
    }
   ],
   "source": [
    "x_train, x_test, y_train, y_test = train_test_split(x, y, test_size=0.33, stratify=y, random_state=3)\n",
    "lm.fit(x_train,y_train)\n",
    "this_cav = lm.coef_[0]\n",
    "\n",
    "light_blue, light_red = '#b3b8fb', '#f6889f'\n",
    "fig = plt.figure(figsize=[5,5])\n",
    "\n",
    "# train\n",
    "color_train = ['red' if y == 1 else 'blue' for y in y_train]\n",
    "plt.scatter(x_train[:,0], x_train[:,1], color = color_train, alpha = .1,linewidths=0,s=50)\n",
    "\n",
    "for s in lm.support_:\n",
    "    if y_train[s]==1:\n",
    "        this_color = 'red'\n",
    "    else:\n",
    "        this_color = 'blue'\n",
    "    plt.scatter(x_train[s,0], x_train[s,1], color = this_color, alpha = .7,linewidths=0,s=50)\n",
    "\n",
    "\n",
    "ax = plt.gca()\n",
    "radius = 1.5\n",
    "circ = plt.Circle((-6,6), radius=radius, edgecolor='black', facecolor='white',zorder=4,alpha=.8)\n",
    "ax.add_patch(circ)\n",
    "\n",
    "arrow_start = [-6,6]\n",
    "cav_norm = vec_norm(this_cav) * radius\n",
    "my_arrow = plt.arrow(arrow_start[0], arrow_start[1], cav_norm[0], cav_norm[1],width=.05,length_includes_head=True,head_width=.4,fc='k', ec=None, alpha = 1,zorder=5)\n",
    "a0 = ax.add_patch(my_arrow)\n",
    "\n",
    "c0,c1 = lm.coef_[0]\n",
    "b = lm.intercept_\n",
    "x_ = np.linspace(-10,10,100)\n",
    "y_ = (-c0/c1)*x_-b/c1\n",
    "plt.plot(x_, y_, 'k')\n",
    "\n",
    "my_xlim = plt.xlim([-8,8])\n",
    "my_ylim = plt.ylim([-8,8])\n",
    "\n",
    "_,_ = plt.xticks([], []),plt.yticks([], [])\n",
    "plt.savefig('new_figs/svm_1.png',dpi=200)\n"
   ]
  },
  {
   "cell_type": "code",
   "execution_count": 209,
   "metadata": {},
   "outputs": [],
   "source": [
    "toy_cavs = []\n",
    "original_CAV = this_cav\n",
    "\n",
    "for idx, x_point in enumerate(x_train):\n",
    "    if y_train[idx]==1:\n",
    "        x_train_new = np.delete(x_train, idx, axis=0)\n",
    "        y_train_new = np.delete(y_train, idx, axis=0)\n",
    "        \n",
    "        new_lm = SVC(kernel = 'linear')        \n",
    "        new_lm.fit(x_train_new,y_train_new)\n",
    "        cav_params = new_lm.coef_[0]\n",
    "        \n",
    "        sim = euclidean_distance(vec_norm(cav_params),vec_norm(original_CAV))\n",
    "        cosine_sim = cosine_similarity(cav_params,original_CAV)\n",
    "        toy_cavs.append([idx,new_lm,sim,cosine_sim,x_point])\n",
    "        \n",
    "cavs_sims = np.array([a[2] for a in toy_cavs])\n",
    "cos_sims = np.array([a[3] for a in toy_cavs]) "
   ]
  },
  {
   "cell_type": "code",
   "execution_count": 210,
   "metadata": {},
   "outputs": [
    {
     "data": {
      "text/plain": [
       "array([1.        , 1.        , 1.        , 1.        , 1.        ,\n",
       "       1.        , 1.        , 1.        , 1.        , 1.        ,\n",
       "       1.        , 1.        , 1.        , 1.        , 1.        ,\n",
       "       1.        , 1.        , 1.        , 1.        , 1.        ,\n",
       "       1.        , 1.        , 0.99617042, 1.        , 1.        ,\n",
       "       1.        , 1.        , 1.        , 1.        , 1.        ,\n",
       "       0.95056326, 1.        , 1.        , 1.        ])"
      ]
     },
     "execution_count": 210,
     "metadata": {},
     "output_type": "execute_result"
    }
   ],
   "source": [
    "cos_sims"
   ]
  },
  {
   "cell_type": "code",
   "execution_count": 211,
   "metadata": {},
   "outputs": [
    {
     "data": {
      "text/plain": [
       "30"
      ]
     },
     "execution_count": 211,
     "metadata": {},
     "output_type": "execute_result"
    }
   ],
   "source": [
    "cos_sims.argmin()"
   ]
  },
  {
   "cell_type": "code",
   "execution_count": 303,
   "metadata": {},
   "outputs": [
    {
     "data": {
      "image/png": "[encoded data removed]",
      "text/plain": [
       "<Figure size 360x360 with 1 Axes>"
      ]
     },
     "metadata": {},
     "output_type": "display_data"
    }
   ],
   "source": [
    "i = 30\n",
    "lm = toy_cavs[i][1]\n",
    "\n",
    "idx = toy_cavs[i][0]\n",
    "this_cav = lm.coef_[0]\n",
    "\n",
    "x_train_new = np.delete(x_train, idx, axis=0)\n",
    "y_train_new = np.delete(y_train, idx, axis=0)\n",
    "\n",
    "light_blue, light_red = '#b3b8fb', '#f6889f'\n",
    "fig = plt.figure(figsize=[5,5])\n",
    "\n",
    "# train\n",
    "color_train = ['red' if y == 1 else 'blue' for y in y_train_new]\n",
    "plt.scatter(x_train_new[:,0], x_train_new[:,1], color = color_train, alpha = .1,linewidths=0,s=50)\n",
    "\n",
    "plt.scatter(x_train[idx,0], x_train[idx,1], color = 'k', alpha = 1, marker='x')\n",
    "\n",
    "for s in this_svm.support_:\n",
    "    if y_train_new[s]==1:\n",
    "        this_color = 'red'\n",
    "    else:\n",
    "        this_color = 'blue'\n",
    "    plt.scatter(x_train_new[s,0], x_train_new[s,1], color = this_color, alpha = .7,linewidths=0,s=50)\n",
    "\n",
    "ax = plt.gca()\n",
    "radius = 1.5\n",
    "circ = plt.Circle((-6,6), radius=radius, edgecolor='black', facecolor='white',zorder=4,alpha=.8)\n",
    "ax.add_patch(circ)\n",
    "\n",
    "\n",
    "arrow_start = [-6,6]\n",
    "cav_norm = vec_norm(this_cav) * radius\n",
    "my_arrow = plt.arrow(arrow_start[0], arrow_start[1], cav_norm[0], cav_norm[1],width=.05,length_includes_head=True,head_width=.4,fc='k', ec=None, alpha = 1,zorder=5)\n",
    "a0 = ax.add_patch(my_arrow)\n",
    "\n",
    "c0,c1 = lm.coef_[0]\n",
    "b = lm.intercept_\n",
    "x_ = np.linspace(-10,10,100)\n",
    "y_ = (-c0/c1)*x_-b/c1\n",
    "plt.plot(x_, y_, 'k')\n",
    "\n",
    "my_xlim = plt.xlim([-8,8])\n",
    "my_ylim = plt.ylim([-8,8])\n",
    "\n",
    "_,_ = plt.xticks([], []),plt.yticks([], [])\n",
    "plt.savefig('new_figs/svm_2.png',dpi=200)"
   ]
  },
  {
   "cell_type": "code",
   "execution_count": null,
   "metadata": {},
   "outputs": [],
   "source": []
  },
  {
   "cell_type": "code",
   "execution_count": null,
   "metadata": {},
   "outputs": [],
   "source": []
  },
  {
   "cell_type": "markdown",
   "metadata": {},
   "source": [
    "## Use SGD"
   ]
  },
  {
   "cell_type": "code",
   "execution_count": 181,
   "metadata": {},
   "outputs": [],
   "source": [
    "lm = linear_model.SGDClassifier(alpha=.1,random_state=1)"
   ]
  },
  {
   "cell_type": "code",
   "execution_count": 248,
   "metadata": {},
   "outputs": [
    {
     "data": {
      "image/png": "[encoded data removed]",
      "text/plain": [
       "<Figure size 360x360 with 1 Axes>"
      ]
     },
     "metadata": {},
     "output_type": "display_data"
    }
   ],
   "source": [
    "x_train, x_test, y_train, y_test = train_test_split(x, y, test_size=0.33, stratify=y, random_state=3)\n",
    "lm.fit(x_train,y_train)\n",
    "this_cav = lm.coef_[0]\n",
    "\n",
    "light_blue, light_red = '#b3b8fb', '#f6889f'\n",
    "fig = plt.figure(figsize=[5,5])\n",
    "\n",
    "# train\n",
    "color_train = ['red' if y == 1 else 'blue' for y in y_train]\n",
    "plt.scatter(x_train[:,0], x_train[:,1], color = color_train, alpha = .7,linewidths=0,s=50)\n",
    "\n",
    "ax = plt.gca()\n",
    "radius = 1.5\n",
    "circ = plt.Circle((-6,6), radius=radius, edgecolor='black', facecolor='white',zorder=4,alpha=.8)\n",
    "ax.add_patch(circ)\n",
    "\n",
    "arrow_start = [-6,6]\n",
    "cav_norm = vec_norm(this_cav) * radius\n",
    "my_arrow = plt.arrow(arrow_start[0], arrow_start[1], cav_norm[0], cav_norm[1],width=.05,length_includes_head=True,head_width=.4,fc='k', ec=None, alpha = 1,zorder=5)\n",
    "a0 = ax.add_patch(my_arrow)\n",
    "\n",
    "c0,c1 = lm.coef_[0]\n",
    "b = lm.intercept_\n",
    "x_ = np.linspace(-10,10,100)\n",
    "y_ = (-c0/c1)*x_-b/c1\n",
    "plt.plot(x_, y_, 'k')\n",
    "\n",
    "my_xlim = plt.xlim([-8,8])\n",
    "my_ylim = plt.ylim([-8,8])\n",
    "\n",
    "_,_ = plt.xticks([], []),plt.yticks([], [])\n",
    "plt.savefig('new_figs/sgd_0.png',dpi=200)"
   ]
  },
  {
   "cell_type": "code",
   "execution_count": 249,
   "metadata": {},
   "outputs": [],
   "source": [
    "toy_cavs = []\n",
    "original_CAV = this_cav\n",
    "\n",
    "for idx, x_point in enumerate(x_train):\n",
    "    if y_train[idx]==1:\n",
    "        x_train_new = np.delete(x_train, idx, axis=0)\n",
    "        y_train_new = np.delete(y_train, idx, axis=0)\n",
    "        \n",
    "        new_lm = linear_model.SGDClassifier(alpha=.1,random_state=1)        \n",
    "        new_lm.fit(x_train_new,y_train_new)\n",
    "        cav_params = new_lm.coef_[0]\n",
    "        \n",
    "        sim = euclidean_distance(vec_norm(cav_params),vec_norm(original_CAV))\n",
    "        cosine_sim = cosine_similarity(cav_params,original_CAV)\n",
    "        toy_cavs.append([idx,new_lm,sim,cosine_sim,x_point])\n",
    "        \n",
    "cavs_sims = np.array([a[2] for a in toy_cavs])\n",
    "cos_sims = np.array([a[3] for a in toy_cavs]) "
   ]
  },
  {
   "cell_type": "code",
   "execution_count": 250,
   "metadata": {},
   "outputs": [
    {
     "data": {
      "text/plain": [
       "array([0.99491835, 0.99491835, 0.99491835, 0.99491835, 0.99491835,\n",
       "       0.99491835, 0.99491835, 0.99491835, 0.99491835, 0.9958763 ,\n",
       "       0.99930574, 0.99930574, 0.99930574, 0.99930574, 0.99930574,\n",
       "       0.99930574, 0.99930574, 0.99930574, 0.99930574, 0.99930574,\n",
       "       0.99930574, 0.99930574, 0.99972349, 0.98764422, 0.98764422,\n",
       "       0.98764422, 0.99157135, 0.99157135, 0.99157135, 0.85823822,\n",
       "       0.97761777, 0.99869482, 0.99869482, 0.99869482])"
      ]
     },
     "execution_count": 250,
     "metadata": {},
     "output_type": "execute_result"
    }
   ],
   "source": [
    "cos_sims"
   ]
  },
  {
   "cell_type": "code",
   "execution_count": 251,
   "metadata": {},
   "outputs": [
    {
     "data": {
      "text/plain": [
       "29"
      ]
     },
     "execution_count": 251,
     "metadata": {},
     "output_type": "execute_result"
    }
   ],
   "source": [
    "cos_sims.argmin()"
   ]
  },
  {
   "cell_type": "code",
   "execution_count": null,
   "metadata": {},
   "outputs": [],
   "source": []
  },
  {
   "cell_type": "code",
   "execution_count": 252,
   "metadata": {},
   "outputs": [
    {
     "data": {
      "image/png": "[encoded data removed]",
      "text/plain": [
       "<Figure size 360x360 with 1 Axes>"
      ]
     },
     "metadata": {},
     "output_type": "display_data"
    }
   ],
   "source": [
    "i = 29\n",
    "this_lm = toy_cavs[i][1]\n",
    "\n",
    "idx = toy_cavs[i][0]\n",
    "this_cav = this_lm.coef_[0]\n",
    "\n",
    "x_train_new = np.delete(x_train, idx, axis=0)\n",
    "y_train_new = np.delete(y_train, idx, axis=0)\n",
    "\n",
    "light_blue, light_red = '#b3b8fb', '#f6889f'\n",
    "fig = plt.figure(figsize=[5,5])\n",
    "\n",
    "# train\n",
    "color_train = ['red' if y == 1 else 'blue' for y in y_train_new]\n",
    "plt.scatter(x_train_new[:,0], x_train_new[:,1], color = color_train, alpha = .7,linewidths=0,s=50)\n",
    "\n",
    "plt.scatter(x_train[idx,0], x_train[idx,1], color = 'k', alpha = 1, marker='x')\n",
    "\n",
    "ax = plt.gca()\n",
    "radius = 1.5\n",
    "circ = plt.Circle((-6,6), radius=radius, edgecolor='black', facecolor='white',zorder=4,alpha=.8)\n",
    "ax.add_patch(circ)\n",
    "\n",
    "arrow_start = [-6,6]\n",
    "cav_norm = vec_norm(this_cav) * radius\n",
    "my_arrow = plt.arrow(arrow_start[0], arrow_start[1], cav_norm[0], cav_norm[1],width=.05,length_includes_head=True,head_width=.4,fc='k', ec=None, alpha = 1,zorder=5)\n",
    "a0 = ax.add_patch(my_arrow)\n",
    "\n",
    "c0,c1 = this_lm.coef_[0]\n",
    "b = this_lm.intercept_\n",
    "x_ = np.linspace(-10,10,100)\n",
    "y_ = (-c0/c1)*x_-b/c1\n",
    "plt.plot(x_, y_, 'k')\n",
    "\n",
    "my_xlim = plt.xlim([-8,8])\n",
    "my_ylim = plt.ylim([-8,8])\n",
    "\n",
    "_,_ = plt.xticks([], []),plt.yticks([], [])\n",
    "plt.savefig('new_figs/sgd_1.png',dpi=200)"
   ]
  },
  {
   "cell_type": "code",
   "execution_count": null,
   "metadata": {},
   "outputs": [],
   "source": []
  },
  {
   "cell_type": "code",
   "execution_count": null,
   "metadata": {},
   "outputs": [],
   "source": []
  },
  {
   "cell_type": "code",
   "execution_count": null,
   "metadata": {},
   "outputs": [],
   "source": []
  },
  {
   "cell_type": "code",
   "execution_count": 253,
   "metadata": {},
   "outputs": [],
   "source": [
    "toy_cavs = []\n",
    "original_CAV = this_cav\n",
    "\n",
    "for idx in range(100):  \n",
    "    new_lm = linear_model.SGDClassifier(alpha=.1,random_state=idx)        \n",
    "    new_lm.fit(x_train_new,y_train_new)\n",
    "    cav_params = new_lm.coef_[0]\n",
    "\n",
    "    sim = euclidean_distance(vec_norm(cav_params),vec_norm(original_CAV))\n",
    "    cosine_sim = cosine_similarity(cav_params,original_CAV)\n",
    "    toy_cavs.append([idx,new_lm,sim,cosine_sim,x_point])\n",
    "        \n",
    "cavs_sims = np.array([a[2] for a in toy_cavs])\n",
    "cos_sims = np.array([a[3] for a in toy_cavs]) "
   ]
  },
  {
   "cell_type": "code",
   "execution_count": 254,
   "metadata": {},
   "outputs": [
    {
     "data": {
      "text/plain": [
       "50"
      ]
     },
     "execution_count": 254,
     "metadata": {},
     "output_type": "execute_result"
    }
   ],
   "source": [
    "cos_sims.argmin()"
   ]
  },
  {
   "cell_type": "code",
   "execution_count": 255,
   "metadata": {},
   "outputs": [
    {
     "data": {
      "text/plain": [
       "array([[0.69314482, 0.42973178]])"
      ]
     },
     "execution_count": 255,
     "metadata": {},
     "output_type": "execute_result"
    }
   ],
   "source": [
    "toy_cavs[33][1].coef_"
   ]
  },
  {
   "cell_type": "code",
   "execution_count": 232,
   "metadata": {},
   "outputs": [],
   "source": [
    "#cos_sims"
   ]
  },
  {
   "cell_type": "code",
   "execution_count": 258,
   "metadata": {},
   "outputs": [
    {
     "data": {
      "image/png": "[encoded data removed]",
      "text/plain": [
       "<Figure size 360x360 with 1 Axes>"
      ]
     },
     "metadata": {},
     "output_type": "display_data"
    }
   ],
   "source": [
    "idx = 50\n",
    "lm = toy_cavs[idx][1]\n",
    "this_cav = toy_cavs[idx][1].coef_[0]\n",
    "\n",
    "\n",
    "light_blue, light_red = '#b3b8fb', '#f6889f'\n",
    "fig = plt.figure(figsize=[5,5])\n",
    "\n",
    "# train\n",
    "color_train = ['red' if y == 1 else 'blue' for y in y_train]\n",
    "plt.scatter(x_train[:,0], x_train[:,1], color = color_train, alpha = .7,linewidths=0,s=50)\n",
    "\n",
    "ax = plt.gca()\n",
    "radius = 1.5\n",
    "circ = plt.Circle((-6,6), radius=radius, edgecolor='black', facecolor='white',zorder=4,alpha=.8)\n",
    "ax.add_patch(circ)\n",
    "\n",
    "arrow_start = [-6,6]\n",
    "cav_norm = vec_norm(this_cav) * radius\n",
    "my_arrow = plt.arrow(arrow_start[0], arrow_start[1], cav_norm[0], cav_norm[1],width=.05,length_includes_head=True,head_width=.4,fc='k', ec=None, alpha = 1,zorder=5)\n",
    "a0 = ax.add_patch(my_arrow)\n",
    "\n",
    "c0,c1 = lm.coef_[0]\n",
    "b = lm.intercept_\n",
    "x_ = np.linspace(-10,10,100)\n",
    "y_ = (-c0/c1)*x_-b/c1\n",
    "plt.plot(x_, y_, 'k')\n",
    "\n",
    "\n",
    "xx = np.linspace(-8,8, 10)\n",
    "yy = np.linspace(-8,8, 10)\n",
    "X1, X2 = np.meshgrid(xx, yy)\n",
    "Z = np.empty(X1.shape)\n",
    "for (i, j), val in np.ndenumerate(X1):\n",
    "    x1 = val\n",
    "    x2 = X2[i, j]\n",
    "    p = lm.decision_function([[x1, x2]])\n",
    "    Z[i, j] = p[0]\n",
    "levels = [-1.0, 0.0, 1.0]\n",
    "linestyles = ['dashed', 'solid', 'dashed']\n",
    "colors = 'k'\n",
    "plt.contour(X1, X2, Z, levels, colors=colors, linestyles=linestyles)\n",
    "\n",
    "my_xlim = plt.xlim([-8,8])\n",
    "my_ylim = plt.ylim([-8,8])\n",
    "\n",
    "_,_ = plt.xticks([], []),plt.yticks([], [])\n",
    "plt.savefig('new_figs/sgd_2.png',dpi=200)"
   ]
  },
  {
   "cell_type": "code",
   "execution_count": null,
   "metadata": {},
   "outputs": [],
   "source": []
  },
  {
   "cell_type": "code",
   "execution_count": null,
   "metadata": {},
   "outputs": [],
   "source": []
  },
  {
   "cell_type": "code",
   "execution_count": 220,
   "metadata": {},
   "outputs": [],
   "source": [
    "## Use Center of Mass"
   ]
  },
  {
   "cell_type": "code",
   "execution_count": 221,
   "metadata": {},
   "outputs": [
    {
     "data": {
      "image/png": "[encoded data removed]",
      "text/plain": [
       "<Figure size 360x360 with 1 Axes>"
      ]
     },
     "metadata": {},
     "output_type": "display_data"
    }
   ],
   "source": [
    "x_train, x_test, y_train, y_test = train_test_split(x, y, test_size=0.33, stratify=y, random_state=3)\n",
    "\n",
    "x_train_p_list,x_train_n_list =[],[]\n",
    "for idx,a in enumerate(x_train):\n",
    "    if y_train[idx] == 1:\n",
    "        x_train_p_list.append(a)\n",
    "    else:\n",
    "        x_train_n_list.append(a)\n",
    "\n",
    "x_train_p, x_train_n = np.array(x_train_p_list),np.array(x_train_n_list)\n",
    "\n",
    "mu_p = (x_train_p).mean(axis=0)\n",
    "mu_n = (x_train_n).mean(axis=0)\n",
    "\n",
    "this_cav =  mu_p - mu_n\n",
    "\n",
    "light_blue, light_red = '#b3b8fb', '#f6889f'\n",
    "fig = plt.figure(figsize=[5,5])\n",
    "\n",
    "# train\n",
    "color_train = ['red' if y == 1 else 'blue' for y in y_train]\n",
    "plt.scatter(x_train[:,0], x_train[:,1], color = color_train, alpha = .7,linewidths=0,s=50)\n",
    "\n",
    "ax = plt.gca()\n",
    "radius = 1.5\n",
    "circ = plt.Circle((-6,6), radius=radius, edgecolor='black', facecolor='white',zorder=4,alpha=.8)\n",
    "ax.add_patch(circ)\n",
    "\n",
    "arrow_start = [-6,6]\n",
    "cav_norm = vec_norm(this_cav) * radius\n",
    "my_arrow = plt.arrow(arrow_start[0], arrow_start[1], cav_norm[0], cav_norm[1],width=.05,length_includes_head=True,head_width=.4,fc='k', ec=None, alpha = 1,zorder=5)\n",
    "a0 = ax.add_patch(my_arrow)\n",
    "\n",
    "c0,c1 = this_cav[0],this_cav[1]\n",
    "b = -.5 * (np.dot(mu_p,mu_p.T) - np.dot(mu_n,mu_n.T))\n",
    "x_ = np.linspace(-10,10,100)\n",
    "y_ = (-c0/c1)*x_-b/c1\n",
    "plt.plot(x_, y_, 'k')\n",
    "\n",
    "my_xlim = plt.xlim([-8,8])\n",
    "my_ylim = plt.ylim([-8,8])\n",
    "\n",
    "_,_ = plt.xticks([], []),plt.yticks([], [])\n",
    "plt.savefig('new_figs/L1_1.png',dpi=200)"
   ]
  },
  {
   "cell_type": "code",
   "execution_count": 222,
   "metadata": {},
   "outputs": [
    {
     "data": {
      "text/plain": [
       "(67, 2)"
      ]
     },
     "execution_count": 222,
     "metadata": {},
     "output_type": "execute_result"
    }
   ],
   "source": [
    "x_train.shape"
   ]
  },
  {
   "cell_type": "code",
   "execution_count": 223,
   "metadata": {},
   "outputs": [],
   "source": [
    "toy_cavs = []\n",
    "original_CAV = this_cav\n",
    "\n",
    "for idx, x_point in enumerate(x_train):\n",
    "    if y_train[idx]==1:\n",
    "        x_train_new = np.delete(x_train, idx, axis=0)\n",
    "        y_train_new = np.delete(y_train, idx, axis=0)\n",
    "        \n",
    "        x_train_p_list,x_train_n_list =[],[]\n",
    "        for idx,a in enumerate(x_train_new):\n",
    "            if y_train_new[idx] == 1:\n",
    "                x_train_p_list.append(a)\n",
    "            else:\n",
    "                x_train_n_list.append(a)\n",
    "\n",
    "        x_train_p, x_train_n = np.array(x_train_p_list),np.array(x_train_n_list)\n",
    "\n",
    "        mu_p = (x_train_p).mean(axis=0)\n",
    "        mu_n = (x_train_n).mean(axis=0)\n",
    "\n",
    "        cav_params =  mu_p - mu_n\n",
    "                        \n",
    "        sim = euclidean_distance(vec_norm(cav_params),vec_norm(original_CAV))\n",
    "        cosine_sim = cosine_similarity(cav_params,original_CAV)\n",
    "        toy_cavs.append([idx,cav_params,sim,cosine_sim,x_point])\n",
    "        \n",
    "cavs_sims = np.array([a[2] for a in toy_cavs])\n",
    "cos_sims = np.array([a[3] for a in toy_cavs]) "
   ]
  },
  {
   "cell_type": "code",
   "execution_count": 224,
   "metadata": {},
   "outputs": [
    {
     "data": {
      "text/plain": [
       "array([0.99999826, 0.99999976, 0.99999784, 1.        , 0.9999969 ,\n",
       "       0.99999131, 0.99999071, 0.99998589, 0.99999951, 0.99999981,\n",
       "       0.99999331, 0.9999993 , 0.99999799, 0.9999946 , 0.99999745,\n",
       "       0.99999901, 0.99996915, 0.999993  , 0.99999862, 0.99999926,\n",
       "       0.999996  , 0.99999974, 0.99999834, 0.9999999 , 0.99999981,\n",
       "       0.99999903, 0.9999992 , 0.99999977, 0.99999315, 0.99997776,\n",
       "       0.99999817, 0.99999823, 0.9999975 , 0.9999998 ])"
      ]
     },
     "execution_count": 224,
     "metadata": {},
     "output_type": "execute_result"
    }
   ],
   "source": [
    "cos_sims"
   ]
  },
  {
   "cell_type": "code",
   "execution_count": 225,
   "metadata": {},
   "outputs": [
    {
     "data": {
      "text/plain": [
       "16"
      ]
     },
     "execution_count": 225,
     "metadata": {},
     "output_type": "execute_result"
    }
   ],
   "source": [
    "cos_sims.argmin()"
   ]
  },
  {
   "cell_type": "code",
   "execution_count": 226,
   "metadata": {},
   "outputs": [
    {
     "data": {
      "text/plain": [
       "SGDClassifier(alpha=0.1, average=False, class_weight=None,\n",
       "       early_stopping=False, epsilon=0.1, eta0=0.0, fit_intercept=True,\n",
       "       l1_ratio=0.15, learning_rate='optimal', loss='hinge', max_iter=None,\n",
       "       n_iter=None, n_iter_no_change=5, n_jobs=None, penalty='l2',\n",
       "       power_t=0.5, random_state=1, shuffle=True, tol=None,\n",
       "       validation_fraction=0.1, verbose=0, warm_start=False)"
      ]
     },
     "execution_count": 226,
     "metadata": {},
     "output_type": "execute_result"
    }
   ],
   "source": [
    "this_lm"
   ]
  },
  {
   "cell_type": "code",
   "execution_count": 228,
   "metadata": {},
   "outputs": [
    {
     "data": {
      "image/png": "[encoded data removed]",
      "text/plain": [
       "<Figure size 360x360 with 1 Axes>"
      ]
     },
     "metadata": {},
     "output_type": "display_data"
    }
   ],
   "source": [
    "i = 16\n",
    "this_lm = toy_cavs[i][1]\n",
    "\n",
    "idx = toy_cavs[i][0]\n",
    "this_cav = this_lm\n",
    "\n",
    "x_train_new = np.delete(x_train, idx, axis=0)\n",
    "y_train_new = np.delete(y_train, idx, axis=0)\n",
    "\n",
    "light_blue, light_red = '#b3b8fb', '#f6889f'\n",
    "fig = plt.figure(figsize=[5,5])\n",
    "\n",
    "# train\n",
    "color_train = ['red' if y == 1 else 'blue' for y in y_train_new]\n",
    "plt.scatter(x_train_new[:,0], x_train_new[:,1], color = color_train, alpha = .7,linewidths=0,s=50)\n",
    "\n",
    "plt.scatter(x_train[idx,0], x_train[idx,1], color = 'k', alpha = 1, marker='x')\n",
    "\n",
    "ax = plt.gca()\n",
    "radius = 1.5\n",
    "circ = plt.Circle((-6,6), radius=radius, edgecolor='black', facecolor='white',zorder=4,alpha=.8)\n",
    "ax.add_patch(circ)\n",
    "\n",
    "arrow_start = [-6,6]\n",
    "cav_norm = vec_norm(this_cav) * radius\n",
    "my_arrow = plt.arrow(arrow_start[0], arrow_start[1], cav_norm[0], cav_norm[1],width=.05,length_includes_head=True,head_width=.4,fc='k', ec=None, alpha = 1,zorder=5)\n",
    "a0 = ax.add_patch(my_arrow)\n",
    "\n",
    "c0,c1 = this_cav[0],this_cav[1]\n",
    "b = -.5 * (np.dot(mu_p,mu_p.T) - np.dot(mu_n,mu_n.T))\n",
    "x_ = np.linspace(-10,10,100)\n",
    "y_ = (-c0/c1)*x_-b/c1\n",
    "plt.plot(x_, y_, 'k')\n",
    "\n",
    "my_xlim = plt.xlim([-8,8])\n",
    "my_ylim = plt.ylim([-8,8])\n",
    "\n",
    "_,_ = plt.xticks([], []),plt.yticks([], [])\n",
    "plt.savefig('new_figs/L1_0.png',dpi=200)"
   ]
  },
  {
   "cell_type": "markdown",
   "metadata": {},
   "source": [
    "## Show Mean"
   ]
  },
  {
   "cell_type": "code",
   "execution_count": 261,
   "metadata": {},
   "outputs": [
    {
     "data": {
      "text/plain": [
       "array([2.96552379, 3.053528  ])"
      ]
     },
     "execution_count": 261,
     "metadata": {},
     "output_type": "execute_result"
    }
   ],
   "source": [
    "mu_p"
   ]
  },
  {
   "cell_type": "code",
   "execution_count": 270,
   "metadata": {},
   "outputs": [
    {
     "data": {
      "image/png": "[encoded data removed]",
      "text/plain": [
       "<Figure size 360x360 with 1 Axes>"
      ]
     },
     "metadata": {},
     "output_type": "display_data"
    }
   ],
   "source": [
    "x_train, x_test, y_train, y_test = train_test_split(x, y, test_size=0.33, stratify=y, random_state=3)\n",
    "\n",
    "x_train_p_list,x_train_n_list =[],[]\n",
    "for idx,a in enumerate(x_train):\n",
    "    if y_train[idx] == 1:\n",
    "        x_train_p_list.append(a)\n",
    "    else:\n",
    "        x_train_n_list.append(a)\n",
    "\n",
    "x_train_p, x_train_n = np.array(x_train_p_list),np.array(x_train_n_list)\n",
    "\n",
    "mu_p = (x_train_p).mean(axis=0)\n",
    "mu_n = (x_train_n).mean(axis=0)\n",
    "\n",
    "this_cav =  mu_p - mu_n\n",
    "\n",
    "light_blue, light_red = '#b3b8fb', '#f6889f'\n",
    "fig = plt.figure(figsize=[5,5])\n",
    "\n",
    "# train\n",
    "color_train = ['red' if y == 1 else 'blue' for y in y_train]\n",
    "plt.scatter(x_train[:,0], x_train[:,1], color = color_train, alpha = .1,linewidths=0,s=50)\n",
    "\n",
    "\n",
    "plt.scatter(mu_p[0], mu_p[1], color = 'white', alpha = .7,linewidths=2,s=50,edgecolor='k')\n",
    "plt.scatter(mu_n[0], mu_n[1], color = 'white', alpha = .7,linewidths=2,s=50,edgecolor='k')\n",
    "\n",
    "\n",
    "ax = plt.gca()\n",
    "radius = 1.5\n",
    "circ = plt.Circle((-6,6), radius=radius, edgecolor='black', facecolor='white',zorder=4,alpha=.8)\n",
    "ax.add_patch(circ)\n",
    "\n",
    "arrow_start = [-6,6]\n",
    "cav_norm = vec_norm(this_cav) * radius\n",
    "my_arrow = plt.arrow(arrow_start[0], arrow_start[1], cav_norm[0], cav_norm[1],width=.05,length_includes_head=True,head_width=.4,fc='k', ec=None, alpha = 1,zorder=5)\n",
    "a0 = ax.add_patch(my_arrow)\n",
    "\n",
    "\n",
    "my_arrow = plt.arrow(mu_n[0], mu_n[1], this_cav[0], this_cav[1],width=.05,length_includes_head=True,head_width=.4,fc='k', ec=None, alpha = 1,zorder=5)\n",
    "a0 = ax.add_patch(my_arrow)\n",
    "\n",
    "c0,c1 = this_cav[0],this_cav[1]\n",
    "b = -.5 * (np.dot(mu_p,mu_p.T) - np.dot(mu_n,mu_n.T))\n",
    "x_ = np.linspace(-10,10,100)\n",
    "y_ = (-c0/c1)*x_-b/c1\n",
    "plt.plot(x_, y_, 'k',alpha=.1)\n",
    "\n",
    "my_xlim = plt.xlim([-8,8])\n",
    "my_ylim = plt.ylim([-8,8])\n",
    "\n",
    "_,_ = plt.xticks([], []),plt.yticks([], [])\n",
    "plt.savefig('new_figs/L1_2.png',dpi=200)"
   ]
  },
  {
   "cell_type": "code",
   "execution_count": null,
   "metadata": {},
   "outputs": [],
   "source": []
  },
  {
   "cell_type": "markdown",
   "metadata": {},
   "source": [
    "## Logistic"
   ]
  },
  {
   "cell_type": "code",
   "execution_count": 285,
   "metadata": {},
   "outputs": [],
   "source": [
    "lm = linear_model.LogisticRegression()"
   ]
  },
  {
   "cell_type": "code",
   "execution_count": 292,
   "metadata": {},
   "outputs": [
    {
     "data": {
      "image/png": "[encoded data removed]",
      "text/plain": [
       "<Figure size 360x360 with 1 Axes>"
      ]
     },
     "metadata": {},
     "output_type": "display_data"
    }
   ],
   "source": [
    "x_train, x_test, y_train, y_test = train_test_split(x, y, test_size=0.33, stratify=y, random_state=3)\n",
    "lm.fit(x_train,y_train)\n",
    "this_cav = lm.coef_[0]\n",
    "\n",
    "light_blue, light_red = '#b3b8fb', '#f6889f'\n",
    "fig = plt.figure(figsize=[5,5])\n",
    "\n",
    "# train\n",
    "color_train = ['red' if y == 1 else 'blue' for y in y_train]\n",
    "plt.scatter(x_train[:,0], x_train[:,1], color = color_train,alpha=.7,linewidths=0,s=50)\n",
    "\n",
    "ax = plt.gca()\n",
    "radius = 1.5\n",
    "circ = plt.Circle((-6,6), radius=radius, edgecolor='black', facecolor='white',zorder=4,alpha=.8)\n",
    "ax.add_patch(circ)\n",
    "\n",
    "arrow_start = [-6,6]\n",
    "cav_norm = vec_norm(this_cav) * radius\n",
    "my_arrow = plt.arrow(arrow_start[0], arrow_start[1], cav_norm[0], cav_norm[1],width=.05,length_includes_head=True,head_width=.4,fc='k', ec=None, alpha = 1,zorder=5)\n",
    "a0 = ax.add_patch(my_arrow)\n",
    "\n",
    "c0,c1 = lm.coef_[0]\n",
    "b = lm.intercept_\n",
    "x_ = np.linspace(-10,10,100)\n",
    "y_ = (-c0/c1)*x_-b/c1\n",
    "plt.plot(x_, y_, 'k')\n",
    "\n",
    "my_xlim = plt.xlim([-8,8])\n",
    "my_ylim = plt.ylim([-8,8])\n",
    "\n",
    "_,_ = plt.xticks([], []),plt.yticks([], [])\n",
    "plt.savefig('new_figs/svm_0.png',dpi=200)"
   ]
  },
  {
   "cell_type": "code",
   "execution_count": 296,
   "metadata": {},
   "outputs": [
    {
     "data": {
      "text/plain": [
       "array([1.33225111, 0.42899329])"
      ]
     },
     "execution_count": 296,
     "metadata": {},
     "output_type": "execute_result"
    }
   ],
   "source": [
    "lm.coef_[0]"
   ]
  },
  {
   "cell_type": "code",
   "execution_count": 293,
   "metadata": {},
   "outputs": [
    {
     "data": {
      "text/plain": [
       "array([1.33225111, 0.42899329])"
      ]
     },
     "execution_count": 293,
     "metadata": {},
     "output_type": "execute_result"
    }
   ],
   "source": [
    "this_cav"
   ]
  },
  {
   "cell_type": "code",
   "execution_count": 297,
   "metadata": {},
   "outputs": [],
   "source": [
    "\n",
    "\n",
    "toy_cavs = []\n",
    "original_CAV = this_cav\n",
    "\n",
    "for idx, x_point in enumerate(x_train):\n",
    "    if y_train[idx]==1:\n",
    "        x_train_new = np.delete(x_train, idx, axis=0)\n",
    "        y_train_new = np.delete(y_train, idx, axis=0)\n",
    "        \n",
    "        new_lm = linear_model.LogisticRegression()       \n",
    "        new_lm.fit(x_train_new,y_train_new)\n",
    "        cav_params = new_lm.coef_[0]\n",
    "        \n",
    "        sim = euclidean_distance(vec_norm(cav_params),vec_norm(original_CAV))\n",
    "        cosine_sim = cosine_similarity(cav_params,original_CAV)\n",
    "        toy_cavs.append([idx,new_lm,sim,cosine_sim,x_point])\n",
    "        \n",
    "cavs_sims = np.array([a[2] for a in toy_cavs])\n",
    "cos_sims = np.array([a[3] for a in toy_cavs]) "
   ]
  },
  {
   "cell_type": "code",
   "execution_count": 298,
   "metadata": {},
   "outputs": [
    {
     "data": {
      "text/plain": [
       "array([1.        , 0.99999999, 1.        , 0.99999989, 1.        ,\n",
       "       0.99998055, 0.99999929, 1.        , 1.        , 0.99971991,\n",
       "       0.99988112, 1.        , 0.99999328, 0.99999982, 1.        ,\n",
       "       0.99999891, 1.        , 1.        , 0.99999988, 0.99999999,\n",
       "       0.99999973, 1.        , 0.99780839, 0.99999997, 0.99999999,\n",
       "       0.99999956, 1.        , 0.99999889, 0.99999423, 0.95881671,\n",
       "       0.99751343, 0.99999999, 0.99998795, 1.        ])"
      ]
     },
     "execution_count": 298,
     "metadata": {},
     "output_type": "execute_result"
    }
   ],
   "source": [
    "cos_sims"
   ]
  },
  {
   "cell_type": "code",
   "execution_count": 299,
   "metadata": {},
   "outputs": [
    {
     "data": {
      "text/plain": [
       "29"
      ]
     },
     "execution_count": 299,
     "metadata": {},
     "output_type": "execute_result"
    }
   ],
   "source": [
    "cos_sims.argmin()"
   ]
  },
  {
   "cell_type": "code",
   "execution_count": 301,
   "metadata": {},
   "outputs": [
    {
     "data": {
      "image/png": "[encoded data removed]",
      "text/plain": [
       "<Figure size 360x360 with 1 Axes>"
      ]
     },
     "metadata": {},
     "output_type": "display_data"
    }
   ],
   "source": [
    "i = 29\n",
    "lm = toy_cavs[i][1]\n",
    "\n",
    "idx = toy_cavs[i][0]\n",
    "this_cav = lm.coef_[0]\n",
    "\n",
    "x_train_new = np.delete(x_train, idx, axis=0)\n",
    "y_train_new = np.delete(y_train, idx, axis=0)\n",
    "\n",
    "light_blue, light_red = '#b3b8fb', '#f6889f'\n",
    "fig = plt.figure(figsize=[5,5])\n",
    "\n",
    "# train\n",
    "color_train = ['red' if y == 1 else 'blue' for y in y_train_new]\n",
    "plt.scatter(x_train_new[:,0], x_train_new[:,1], color = color_train, alpha = .7,linewidths=0,s=50)\n",
    "\n",
    "plt.scatter(x_train[idx,0], x_train[idx,1], color = 'k', alpha = 1, marker='x')\n",
    "\n",
    "\n",
    "ax = plt.gca()\n",
    "radius = 1.5\n",
    "circ = plt.Circle((-6,6), radius=radius, edgecolor='black', facecolor='white',zorder=4,alpha=.8)\n",
    "ax.add_patch(circ)\n",
    "\n",
    "arrow_start = [-6,6]\n",
    "cav_norm = vec_norm(this_cav) * radius\n",
    "my_arrow = plt.arrow(arrow_start[0], arrow_start[1], cav_norm[0], cav_norm[1],width=.05,length_includes_head=True,head_width=.4,fc='k', ec=None, alpha = 1,zorder=5)\n",
    "a0 = ax.add_patch(my_arrow)\n",
    "\n",
    "c0,c1 = lm.coef_[0]\n",
    "b = lm.intercept_\n",
    "x_ = np.linspace(-10,10,100)\n",
    "y_ = (-c0/c1)*x_-b/c1\n",
    "plt.plot(x_, y_, 'k')\n",
    "\n",
    "my_xlim = plt.xlim([-8,8])\n",
    "my_ylim = plt.ylim([-8,8])\n",
    "\n",
    "_,_ = plt.xticks([], []),plt.yticks([], [])\n",
    "plt.savefig('new_figs/svm_2.png',dpi=200)"
   ]
  },
  {
   "cell_type": "code",
   "execution_count": null,
   "metadata": {},
   "outputs": [],
   "source": []
  },
  {
   "cell_type": "code",
   "execution_count": null,
   "metadata": {},
   "outputs": [],
   "source": []
  },
  {
   "cell_type": "code",
   "execution_count": null,
   "metadata": {},
   "outputs": [],
   "source": []
  },
  {
   "cell_type": "code",
   "execution_count": null,
   "metadata": {},
   "outputs": [],
   "source": []
  },
  {
   "cell_type": "code",
   "execution_count": 30,
   "metadata": {},
   "outputs": [],
   "source": [
    "def vector_norm(vec):\n",
    "    norm_const = math.sqrt(vec[0]*vec[0] + vec[1]*vec[1])\n",
    "    return vec / norm_const\n",
    "\n",
    "def vec_norm(vec):\n",
    "    return  vec / np.linalg.norm(vec)\n",
    "\n",
    "## CAV distance\n",
    "def euclidean_distance(a,b):\n",
    "    return np.linalg.norm(a-b)\n",
    "\n",
    "def cosine_similarity(v1,v2):\n",
    "    # compute cosine similarity of v1 to v2: (v1 dot v2)/{||v1||*||v2||)\n",
    "    sumxx, sumxy, sumyy = 0, 0, 0\n",
    "    for i in range(len(v1)):\n",
    "        x = v1[i]; y = v2[i]\n",
    "        sumxx += x*x\n",
    "        sumyy += y*y\n",
    "        sumxy += x*y\n",
    "    return sumxy / math.sqrt(sumxx*sumyy)"
   ]
  },
  {
   "cell_type": "code",
   "execution_count": null,
   "metadata": {},
   "outputs": [],
   "source": []
  }
 ],
 "metadata": {
  "kernelspec": {
   "display_name": "Python 3",
   "language": "python",
   "name": "python3"
  },
  "language_info": {
   "codemirror_mode": {
    "name": "ipython",
    "version": 3
   },
   "file_extension": ".py",
   "mimetype": "text/x-python",
   "name": "python",
   "nbconvert_exporter": "python",
   "pygments_lexer": "ipython3",
   "version": "3.6.8"
  }
 },
 "nbformat": 4,
 "nbformat_minor": 2
}
