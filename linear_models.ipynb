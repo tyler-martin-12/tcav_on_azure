{
 "cells": [
  {
   "cell_type": "code",
   "execution_count": 1,
   "metadata": {},
   "outputs": [
    {
     "name": "stderr",
     "output_type": "stream",
     "text": [
      "Using Theano backend.\n"
     ]
    }
   ],
   "source": [
    "from sklearn.metrics.pairwise import cosine_similarity\n",
    "import numpy as np\n",
    "from numpy.linalg import norm\n",
    "\n",
    "import pickle\n",
    "\n",
    "from os import listdir\n",
    "from os.path import isfile, join\n",
    "import operator\n",
    "from PIL import Image\n",
    "from keras.preprocessing import image\n",
    "\n",
    "import os\n",
    "import math\n",
    "\n",
    "import PIL.Image\n",
    "from sklearn.metrics import pairwise\n",
    "import matplotlib.pyplot as plt\n",
    "\n",
    "from sklearn import linear_model\n",
    "from sklearn import metrics\n",
    "from sklearn.model_selection import train_test_split\n",
    "from scipy.stats import multivariate_normal\n",
    "from sklearn.mixture import GaussianMixture\n",
    "\n",
    "import warnings\n",
    "warnings.filterwarnings(\"ignore\", category=DeprecationWarning)\n",
    "warnings.filterwarnings(\"ignore\", category=FutureWarning)\n",
    "\n",
    "import pandas as pd\n",
    "from scipy import stats\n",
    "\n",
    "from sklearn.svm import SVC"
   ]
  },
  {
   "cell_type": "markdown",
   "metadata": {},
   "source": [
    "## Generate Data"
   ]
  },
  {
   "cell_type": "code",
   "execution_count": 4,
   "metadata": {},
   "outputs": [],
   "source": [
    "mu_1 = np.array([-4,-4])\n",
    "sigma_1 = np.array([[3,1],[1,3]])\n",
    "\n",
    "mu_2 = np.array([3,3])\n",
    "sigma_2 = np.array([[3,2],[2,3]])\n",
    "\n",
    "n = 50\n",
    "g1 = multivariate_normal(mu_1, sigma_1)\n",
    "z1 = g1.rvs(n)\n",
    "g2 = multivariate_normal(mu_2, sigma_2)\n",
    "z2 = g2.rvs(n)"
   ]
  },
  {
   "cell_type": "code",
   "execution_count": 5,
   "metadata": {},
   "outputs": [],
   "source": [
    "x = np.concatenate((z1,z2))\n",
    "y = np.concatenate((np.zeros(n),np.ones(n)))\n",
    "#training = (x,y)\n",
    "#pickle.dump(training,open('training.pkl','wb'))\n",
    "x,y = pickle.load(open('training.pkl','rb'))"
   ]
  },
  {
   "cell_type": "code",
   "execution_count": 6,
   "metadata": {},
   "outputs": [],
   "source": [
    "svc = SVC(kernel = 'linear')\n",
    "\n",
    "lm = linear_model.SGDClassifier(alpha=.1,random_state=1)\n",
    "#lm = SVC(kernel = 'linear')"
   ]
  },
  {
   "cell_type": "markdown",
   "metadata": {},
   "source": [
    "## Use SVC"
   ]
  },
  {
   "cell_type": "code",
   "execution_count": 7,
   "metadata": {},
   "outputs": [],
   "source": [
    "lm = SVC(kernel = 'linear')"
   ]
  },
  {
   "cell_type": "code",
   "execution_count": 16,
   "metadata": {},
   "outputs": [],
   "source": [
    "n = 100\n",
    "cavs_list = np.empty((n,2))\n",
    "coef_list = np.empty((n))\n",
    "\n",
    "for i in range(n):\n",
    "    lm = linear_model.SGDClassifier(alpha=0.1,random_state=i)\n",
    "    lm.fit(x_train,y_train)\n",
    "    this_cav = lm.coef_[0]\n",
    "    cavs_list[i] = this_cav\n",
    "    b = lm.intercept_\n",
    "    coef_list[i] = b"
   ]
  },
  {
   "cell_type": "code",
   "execution_count": 44,
   "metadata": {},
   "outputs": [],
   "source": [
    "cav_seeds = np.empty((100,2))\n",
    "int_ = np.empty((100,1))\n",
    "\n",
    "for seed in range(100):\n",
    "    lm = linear_model.SGDClassifier(alpha=.1,random_state=seed)\n",
    "    lm.fit(x_train, y_train)\n",
    "    cav_seeds[seed] =  -lm.coef_[0]\n",
    "    int_[seed] = lm.intercept_\n",
    "cav_params = cav_seeds.mean(axis=0)\n",
    "int_param = int_.mean(axis=0)"
   ]
  },
  {
   "cell_type": "code",
   "execution_count": 46,
   "metadata": {},
   "outputs": [],
   "source": [
    "#int_[5]"
   ]
  },
  {
   "cell_type": "code",
   "execution_count": 47,
   "metadata": {},
   "outputs": [],
   "source": [
    "#int_param"
   ]
  },
  {
   "cell_type": "code",
   "execution_count": null,
   "metadata": {},
   "outputs": [],
   "source": []
  },
  {
   "cell_type": "code",
   "execution_count": 79,
   "metadata": {},
   "outputs": [
    {
     "data": {
      "image/png": "[encoded data removed]",
      "text/plain": [
       "<Figure size 360x360 with 1 Axes>"
      ]
     },
     "metadata": {},
     "output_type": "display_data"
    }
   ],
   "source": [
    "#lm = linear_model.SGDClassifier(alpha=0.1,random_state=1,max_iter=100000, tol=0.001)\n",
    "lm = SVC(kernel = 'linear',random_state=3,C=.1)\n",
    "x_train, x_test, y_train, y_test = train_test_split(x, y, test_size=0.33, stratify=y, random_state=3)\n",
    "lm.fit(x_train,y_train)\n",
    "this_cav = lm.coef_[0]\n",
    "\n",
    "#this_cav = -cav_params\n",
    "\n",
    "light_blue, light_red = '#b3b8fb', '#f6889f'\n",
    "fig = plt.figure(figsize=[5,5])\n",
    "\n",
    "# train\n",
    "color_train = ['red' if y == 1 else 'blue' for y in y_train]\n",
    "plt.scatter(x_train[:,0], x_train[:,1], color = color_train,alpha=.7,linewidths=0,s=50)\n",
    "\n",
    "ax = plt.gca()\n",
    "radius = 1.5\n",
    "circ = plt.Circle((-6,6), radius=radius, edgecolor='black', facecolor='white',zorder=4,alpha=.8)\n",
    "ax.add_patch(circ)\n",
    "\n",
    "arrow_start = [-6,6]\n",
    "cav_norm = vec_norm(this_cav) * radius\n",
    "my_arrow = plt.arrow(arrow_start[0], arrow_start[1], cav_norm[0], cav_norm[1],width=.05,length_includes_head=True,head_width=.4,fc='k', ec=None, alpha = 1,zorder=5)\n",
    "a0 = ax.add_patch(my_arrow)\n",
    "\n",
    "c0,c1 = cav_params\n",
    "b = -int_param\n",
    "x_ = np.linspace(-10,10,100)\n",
    "y_ = (-c0/c1)*x_-b/c1\n",
    "plt.plot(x_, y_, 'k')\n",
    "\n",
    "#for i in range(n):\n",
    "#    c0,c1 = cav_seeds[i]\n",
    "#    b = -int_[i]\n",
    "#    x_ = np.linspace(-10,10,100)\n",
    "#    y_ = (-c0/c1)*x_-b/c1\n",
    "#    plt.plot(x_, y_, 'k',alpha=.05)\n",
    "    \n",
    "#c0,c1 = svm_coef_0\n",
    "#b = svm_coef_1\n",
    "#x_ = np.linspace(-10,10,100)\n",
    "#y_ = (-c0/c1)*x_-b/c1\n",
    "#plt.plot(x_, y_, 'r',alpha=1)\n",
    "\n",
    "my_xlim = plt.xlim([-8,8])\n",
    "my_ylim = plt.ylim([-8,8])\n",
    "\n",
    "_,_ = plt.xticks([], []),plt.yticks([], [])\n",
    "plt.savefig('new_figs/svm_0.png',dpi=200)"
   ]
  },
  {
   "cell_type": "code",
   "execution_count": 80,
   "metadata": {},
   "outputs": [
    {
     "name": "stdout",
     "output_type": "stream",
     "text": [
      "1.0\n"
     ]
    }
   ],
   "source": [
    "preds = lm.predict(x_train)\n",
    "acc = metrics.accuracy_score(y_train,preds)\n",
    "print(acc)"
   ]
  },
  {
   "cell_type": "code",
   "execution_count": 81,
   "metadata": {},
   "outputs": [
    {
     "data": {
      "text/plain": [
       "array([1.])"
      ]
     },
     "execution_count": 81,
     "metadata": {},
     "output_type": "execute_result"
    }
   ],
   "source": [
    "lm.predict(np.array([[0,0]]))"
   ]
  },
  {
   "cell_type": "code",
   "execution_count": 82,
   "metadata": {},
   "outputs": [],
   "source": [
    "svm_coef_0 = lm.coef_[0]\n",
    "svm_coef_1 = lm.intercept_"
   ]
  },
  {
   "cell_type": "code",
   "execution_count": 83,
   "metadata": {},
   "outputs": [
    {
     "data": {
      "text/plain": [
       "array([[0.54181789, 0.25880178]])"
      ]
     },
     "execution_count": 83,
     "metadata": {},
     "output_type": "execute_result"
    }
   ],
   "source": [
    "lm.coef_"
   ]
  },
  {
   "cell_type": "code",
   "execution_count": 84,
   "metadata": {},
   "outputs": [
    {
     "data": {
      "text/plain": [
       "array([[0.54181789, 0.25880178]])"
      ]
     },
     "execution_count": 84,
     "metadata": {},
     "output_type": "execute_result"
    }
   ],
   "source": [
    "lm.coef_"
   ]
  },
  {
   "cell_type": "code",
   "execution_count": null,
   "metadata": {},
   "outputs": [],
   "source": []
  },
  {
   "cell_type": "code",
   "execution_count": null,
   "metadata": {},
   "outputs": [],
   "source": []
  },
  {
   "cell_type": "code",
   "execution_count": 85,
   "metadata": {},
   "outputs": [
    {
     "data": {
      "image/png": "[encoded data removed]",
      "text/plain": [
       "<Figure size 360x360 with 1 Axes>"
      ]
     },
     "metadata": {},
     "output_type": "display_data"
    }
   ],
   "source": [
    "x_train, x_test, y_train, y_test = train_test_split(x, y, test_size=0.33, stratify=y, random_state=3)\n",
    "lm.fit(x_train,y_train)\n",
    "this_cav = lm.coef_[0]\n",
    "\n",
    "light_blue, light_red = '#b3b8fb', '#f6889f'\n",
    "fig = plt.figure(figsize=[5,5])\n",
    "\n",
    "# train\n",
    "color_train = ['red' if y == 1 else 'blue' for y in y_train]\n",
    "plt.scatter(x_train[:,0], x_train[:,1], color = color_train, alpha = .1,linewidths=0,s=50)\n",
    "\n",
    "for s in lm.support_:\n",
    "    if y_train[s]==1:\n",
    "        this_color = 'red'\n",
    "    else:\n",
    "        this_color = 'blue'\n",
    "    plt.scatter(x_train[s,0], x_train[s,1], color = this_color, alpha = .7,linewidths=0,s=50)\n",
    "\n",
    "\n",
    "ax = plt.gca()\n",
    "radius = 1.5\n",
    "circ = plt.Circle((-6,6), radius=radius, edgecolor='black', facecolor='white',zorder=4,alpha=.8)\n",
    "ax.add_patch(circ)\n",
    "\n",
    "arrow_start = [-6,6]\n",
    "cav_norm = vec_norm(this_cav) * radius\n",
    "my_arrow = plt.arrow(arrow_start[0], arrow_start[1], cav_norm[0], cav_norm[1],width=.05,length_includes_head=True,head_width=.4,fc='k', ec=None, alpha = 1,zorder=5)\n",
    "a0 = ax.add_patch(my_arrow)\n",
    "\n",
    "c0,c1 = lm.coef_[0]\n",
    "b = lm.intercept_\n",
    "x_ = np.linspace(-10,10,100)\n",
    "y_ = (-c0/c1)*x_-b/c1\n",
    "plt.plot(x_, y_, 'k')\n",
    "\n",
    "my_xlim = plt.xlim([-8,8])\n",
    "my_ylim = plt.ylim([-8,8])\n",
    "\n",
    "_,_ = plt.xticks([], []),plt.yticks([], [])\n",
    "plt.savefig('new_figs/svm_1.png',dpi=200)\n"
   ]
  },
  {
   "cell_type": "code",
   "execution_count": 86,
   "metadata": {},
   "outputs": [],
   "source": [
    "toy_cavs = []\n",
    "original_CAV = this_cav\n",
    "\n",
    "for idx, x_point in enumerate(x_train):\n",
    "    if y_train[idx]==1:\n",
    "        x_train_new = np.delete(x_train, idx, axis=0)\n",
    "        y_train_new = np.delete(y_train, idx, axis=0)\n",
    "        \n",
    "        new_lm = SVC(kernel = 'linear')        \n",
    "        new_lm.fit(x_train_new,y_train_new)\n",
    "        cav_params = new_lm.coef_[0]\n",
    "        \n",
    "        sim = euclidean_distance(vec_norm(cav_params),vec_norm(original_CAV))\n",
    "        cosine_sim = cosine_similarity(cav_params,original_CAV)\n",
    "        toy_cavs.append([idx,new_lm,sim,cosine_sim,x_point])\n",
    "        \n",
    "cavs_sims = np.array([a[2] for a in toy_cavs])\n",
    "cos_sims = np.array([a[3] for a in toy_cavs]) "
   ]
  },
  {
   "cell_type": "code",
   "execution_count": 87,
   "metadata": {},
   "outputs": [
    {
     "data": {
      "text/plain": [
       "array([0.91114571, 0.91114571, 0.91114571, 0.91114571, 0.91114571,\n",
       "       0.91114571, 0.91114571, 0.91114571, 0.91114571, 0.91114571,\n",
       "       0.91114571, 0.91114571, 0.91114571, 0.91114571, 0.91114571,\n",
       "       0.91114571, 0.91114571, 0.91114571, 0.91114571, 0.91114571,\n",
       "       0.91114571, 0.91114571, 0.87162671, 0.91114571, 0.91114571,\n",
       "       0.91114571, 0.91114571, 0.91114571, 0.91114571, 0.91114571,\n",
       "       0.99406658, 0.91114571, 0.91114571, 0.91114571])"
      ]
     },
     "execution_count": 87,
     "metadata": {},
     "output_type": "execute_result"
    }
   ],
   "source": [
    "cos_sims"
   ]
  },
  {
   "cell_type": "code",
   "execution_count": 88,
   "metadata": {},
   "outputs": [
    {
     "data": {
      "text/plain": [
       "22"
      ]
     },
     "execution_count": 88,
     "metadata": {},
     "output_type": "execute_result"
    }
   ],
   "source": [
    "cos_sims.argmin()"
   ]
  },
  {
   "cell_type": "code",
   "execution_count": 89,
   "metadata": {},
   "outputs": [
    {
     "ename": "NameError",
     "evalue": "name 'this_svm' is not defined",
     "output_type": "error",
     "traceback": [
      "\u001b[0;31m---------------------------------------------------------------------------\u001b[0m",
      "\u001b[0;31mNameError\u001b[0m                                 Traceback (most recent call last)",
      "\u001b[0;32m<ipython-input-89-dc253fe52579>\u001b[0m in \u001b[0;36m<module>\u001b[0;34m\u001b[0m\n\u001b[1;32m     17\u001b[0m \u001b[0mplt\u001b[0m\u001b[0;34m.\u001b[0m\u001b[0mscatter\u001b[0m\u001b[0;34m(\u001b[0m\u001b[0mx_train\u001b[0m\u001b[0;34m[\u001b[0m\u001b[0midx\u001b[0m\u001b[0;34m,\u001b[0m\u001b[0;36m0\u001b[0m\u001b[0;34m]\u001b[0m\u001b[0;34m,\u001b[0m \u001b[0mx_train\u001b[0m\u001b[0;34m[\u001b[0m\u001b[0midx\u001b[0m\u001b[0;34m,\u001b[0m\u001b[0;36m1\u001b[0m\u001b[0;34m]\u001b[0m\u001b[0;34m,\u001b[0m \u001b[0mcolor\u001b[0m \u001b[0;34m=\u001b[0m \u001b[0;34m'k'\u001b[0m\u001b[0;34m,\u001b[0m \u001b[0malpha\u001b[0m \u001b[0;34m=\u001b[0m \u001b[0;36m1\u001b[0m\u001b[0;34m,\u001b[0m \u001b[0mmarker\u001b[0m\u001b[0;34m=\u001b[0m\u001b[0;34m'x'\u001b[0m\u001b[0;34m)\u001b[0m\u001b[0;34m\u001b[0m\u001b[0;34m\u001b[0m\u001b[0m\n\u001b[1;32m     18\u001b[0m \u001b[0;34m\u001b[0m\u001b[0m\n\u001b[0;32m---> 19\u001b[0;31m \u001b[0;32mfor\u001b[0m \u001b[0ms\u001b[0m \u001b[0;32min\u001b[0m \u001b[0mthis_svm\u001b[0m\u001b[0;34m.\u001b[0m\u001b[0msupport_\u001b[0m\u001b[0;34m:\u001b[0m\u001b[0;34m\u001b[0m\u001b[0;34m\u001b[0m\u001b[0m\n\u001b[0m\u001b[1;32m     20\u001b[0m     \u001b[0;32mif\u001b[0m \u001b[0my_train_new\u001b[0m\u001b[0;34m[\u001b[0m\u001b[0ms\u001b[0m\u001b[0;34m]\u001b[0m\u001b[0;34m==\u001b[0m\u001b[0;36m1\u001b[0m\u001b[0;34m:\u001b[0m\u001b[0;34m\u001b[0m\u001b[0;34m\u001b[0m\u001b[0m\n\u001b[1;32m     21\u001b[0m         \u001b[0mthis_color\u001b[0m \u001b[0;34m=\u001b[0m \u001b[0;34m'red'\u001b[0m\u001b[0;34m\u001b[0m\u001b[0;34m\u001b[0m\u001b[0m\n",
      "\u001b[0;31mNameError\u001b[0m: name 'this_svm' is not defined"
     ]
    },
    {
     "data": {
      "image/png": "[encoded data removed]",
      "text/plain": [
       "<Figure size 360x360 with 1 Axes>"
      ]
     },
     "metadata": {
      "needs_background": "light"
     },
     "output_type": "display_data"
    }
   ],
   "source": [
    "i = 30\n",
    "lm = toy_cavs[i][1]\n",
    "\n",
    "idx = toy_cavs[i][0]\n",
    "this_cav = lm.coef_[0]\n",
    "\n",
    "x_train_new = np.delete(x_train, idx, axis=0)\n",
    "y_train_new = np.delete(y_train, idx, axis=0)\n",
    "\n",
    "light_blue, light_red = '#b3b8fb', '#f6889f'\n",
    "fig = plt.figure(figsize=[5,5])\n",
    "\n",
    "# train\n",
    "color_train = ['red' if y == 1 else 'blue' for y in y_train_new]\n",
    "plt.scatter(x_train_new[:,0], x_train_new[:,1], color = color_train, alpha = .1,linewidths=0,s=50)\n",
    "\n",
    "plt.scatter(x_train[idx,0], x_train[idx,1], color = 'k', alpha = 1, marker='x')\n",
    "\n",
    "for s in this_svm.support_:\n",
    "    if y_train_new[s]==1:\n",
    "        this_color = 'red'\n",
    "    else:\n",
    "        this_color = 'blue'\n",
    "    plt.scatter(x_train_new[s,0], x_train_new[s,1], color = this_color, alpha = .7,linewidths=0,s=50)\n",
    "\n",
    "ax = plt.gca()\n",
    "radius = 1.5\n",
    "circ = plt.Circle((-6,6), radius=radius, edgecolor='black', facecolor='white',zorder=4,alpha=.8)\n",
    "ax.add_patch(circ)\n",
    "\n",
    "\n",
    "arrow_start = [-6,6]\n",
    "cav_norm = vec_norm(this_cav) * radius\n",
    "my_arrow = plt.arrow(arrow_start[0], arrow_start[1], cav_norm[0], cav_norm[1],width=.05,length_includes_head=True,head_width=.4,fc='k', ec=None, alpha = 1,zorder=5)\n",
    "a0 = ax.add_patch(my_arrow)\n",
    "\n",
    "c0,c1 = lm.coef_[0]\n",
    "b = lm.intercept_\n",
    "x_ = np.linspace(-10,10,100)\n",
    "y_ = (-c0/c1)*x_-b/c1\n",
    "plt.plot(x_, y_, 'k')\n",
    "\n",
    "my_xlim = plt.xlim([-8,8])\n",
    "my_ylim = plt.ylim([-8,8])\n",
    "\n",
    "_,_ = plt.xticks([], []),plt.yticks([], [])\n",
    "plt.savefig('new_figs/svm_2.png',dpi=200)"
   ]
  },
  {
   "cell_type": "code",
   "execution_count": null,
   "metadata": {},
   "outputs": [],
   "source": []
  },
  {
   "cell_type": "code",
   "execution_count": null,
   "metadata": {},
   "outputs": [],
   "source": []
  },
  {
   "cell_type": "markdown",
   "metadata": {},
   "source": [
    "## Use SGD"
   ]
  },
  {
   "cell_type": "code",
   "execution_count": 181,
   "metadata": {},
   "outputs": [],
   "source": [
    "lm = linear_model.SGDClassifier(alpha=.1,random_state=1)"
   ]
  },
  {
   "cell_type": "code",
   "execution_count": 248,
   "metadata": {},
   "outputs": [
    {
     "data": {
      "image/png": "[encoded data removed]",
      "text/plain": [
       "<Figure size 360x360 with 1 Axes>"
      ]
     },
     "metadata": {},
     "output_type": "display_data"
    }
   ],
   "source": [
    "x_train, x_test, y_train, y_test = train_test_split(x, y, test_size=0.33, stratify=y, random_state=3)\n",
    "lm.fit(x_train,y_train)\n",
    "this_cav = lm.coef_[0]\n",
    "\n",
    "light_blue, light_red = '#b3b8fb', '#f6889f'\n",
    "fig = plt.figure(figsize=[5,5])\n",
    "\n",
    "# train\n",
    "color_train = ['red' if y == 1 else 'blue' for y in y_train]\n",
    "plt.scatter(x_train[:,0], x_train[:,1], color = color_train, alpha = .7,linewidths=0,s=50)\n",
    "\n",
    "ax = plt.gca()\n",
    "radius = 1.5\n",
    "circ = plt.Circle((-6,6), radius=radius, edgecolor='black', facecolor='white',zorder=4,alpha=.8)\n",
    "ax.add_patch(circ)\n",
    "\n",
    "arrow_start = [-6,6]\n",
    "cav_norm = vec_norm(this_cav) * radius\n",
    "my_arrow = plt.arrow(arrow_start[0], arrow_start[1], cav_norm[0], cav_norm[1],width=.05,length_includes_head=True,head_width=.4,fc='k', ec=None, alpha = 1,zorder=5)\n",
    "a0 = ax.add_patch(my_arrow)\n",
    "\n",
    "c0,c1 = lm.coef_[0]\n",
    "b = lm.intercept_\n",
    "x_ = np.linspace(-10,10,100)\n",
    "y_ = (-c0/c1)*x_-b/c1\n",
    "plt.plot(x_, y_, 'k')\n",
    "\n",
    "my_xlim = plt.xlim([-8,8])\n",
    "my_ylim = plt.ylim([-8,8])\n",
    "\n",
    "_,_ = plt.xticks([], []),plt.yticks([], [])\n",
    "plt.savefig('new_figs/sgd_0.png',dpi=200)"
   ]
  },
  {
   "cell_type": "code",
   "execution_count": 249,
   "metadata": {},
   "outputs": [],
   "source": [
    "toy_cavs = []\n",
    "original_CAV = this_cav\n",
    "\n",
    "for idx, x_point in enumerate(x_train):\n",
    "    if y_train[idx]==1:\n",
    "        x_train_new = np.delete(x_train, idx, axis=0)\n",
    "        y_train_new = np.delete(y_train, idx, axis=0)\n",
    "        \n",
    "        new_lm = linear_model.SGDClassifier(alpha=.1,random_state=1)        \n",
    "        new_lm.fit(x_train_new,y_train_new)\n",
    "        cav_params = new_lm.coef_[0]\n",
    "        \n",
    "        sim = euclidean_distance(vec_norm(cav_params),vec_norm(original_CAV))\n",
    "        cosine_sim = cosine_similarity(cav_params,original_CAV)\n",
    "        toy_cavs.append([idx,new_lm,sim,cosine_sim,x_point])\n",
    "        \n",
    "cavs_sims = np.array([a[2] for a in toy_cavs])\n",
    "cos_sims = np.array([a[3] for a in toy_cavs]) "
   ]
  },
  {
   "cell_type": "code",
   "execution_count": 250,
   "metadata": {},
   "outputs": [
    {
     "data": {
      "text/plain": [
       "array([0.99491835, 0.99491835, 0.99491835, 0.99491835, 0.99491835,\n",
       "       0.99491835, 0.99491835, 0.99491835, 0.99491835, 0.9958763 ,\n",
       "       0.99930574, 0.99930574, 0.99930574, 0.99930574, 0.99930574,\n",
       "       0.99930574, 0.99930574, 0.99930574, 0.99930574, 0.99930574,\n",
       "       0.99930574, 0.99930574, 0.99972349, 0.98764422, 0.98764422,\n",
       "       0.98764422, 0.99157135, 0.99157135, 0.99157135, 0.85823822,\n",
       "       0.97761777, 0.99869482, 0.99869482, 0.99869482])"
      ]
     },
     "execution_count": 250,
     "metadata": {},
     "output_type": "execute_result"
    }
   ],
   "source": [
    "cos_sims"
   ]
  },
  {
   "cell_type": "code",
   "execution_count": 251,
   "metadata": {},
   "outputs": [
    {
     "data": {
      "text/plain": [
       "29"
      ]
     },
     "execution_count": 251,
     "metadata": {},
     "output_type": "execute_result"
    }
   ],
   "source": [
    "cos_sims.argmin()"
   ]
  },
  {
   "cell_type": "code",
   "execution_count": null,
   "metadata": {},
   "outputs": [],
   "source": []
  },
  {
   "cell_type": "code",
   "execution_count": 252,
   "metadata": {},
   "outputs": [
    {
     "data": {
      "image/png": "[encoded data removed]",
      "text/plain": [
       "<Figure size 360x360 with 1 Axes>"
      ]
     },
     "metadata": {},
     "output_type": "display_data"
    }
   ],
   "source": [
    "i = 29\n",
    "this_lm = toy_cavs[i][1]\n",
    "\n",
    "idx = toy_cavs[i][0]\n",
    "this_cav = this_lm.coef_[0]\n",
    "\n",
    "x_train_new = np.delete(x_train, idx, axis=0)\n",
    "y_train_new = np.delete(y_train, idx, axis=0)\n",
    "\n",
    "light_blue, light_red = '#b3b8fb', '#f6889f'\n",
    "fig = plt.figure(figsize=[5,5])\n",
    "\n",
    "# train\n",
    "color_train = ['red' if y == 1 else 'blue' for y in y_train_new]\n",
    "plt.scatter(x_train_new[:,0], x_train_new[:,1], color = color_train, alpha = .7,linewidths=0,s=50)\n",
    "\n",
    "plt.scatter(x_train[idx,0], x_train[idx,1], color = 'k', alpha = 1, marker='x')\n",
    "\n",
    "ax = plt.gca()\n",
    "radius = 1.5\n",
    "circ = plt.Circle((-6,6), radius=radius, edgecolor='black', facecolor='white',zorder=4,alpha=.8)\n",
    "ax.add_patch(circ)\n",
    "\n",
    "arrow_start = [-6,6]\n",
    "cav_norm = vec_norm(this_cav) * radius\n",
    "my_arrow = plt.arrow(arrow_start[0], arrow_start[1], cav_norm[0], cav_norm[1],width=.05,length_includes_head=True,head_width=.4,fc='k', ec=None, alpha = 1,zorder=5)\n",
    "a0 = ax.add_patch(my_arrow)\n",
    "\n",
    "c0,c1 = this_lm.coef_[0]\n",
    "b = this_lm.intercept_\n",
    "x_ = np.linspace(-10,10,100)\n",
    "y_ = (-c0/c1)*x_-b/c1\n",
    "plt.plot(x_, y_, 'k')\n",
    "\n",
    "my_xlim = plt.xlim([-8,8])\n",
    "my_ylim = plt.ylim([-8,8])\n",
    "\n",
    "_,_ = plt.xticks([], []),plt.yticks([], [])\n",
    "plt.savefig('new_figs/sgd_1.png',dpi=200)"
   ]
  },
  {
   "cell_type": "code",
   "execution_count": null,
   "metadata": {},
   "outputs": [],
   "source": []
  },
  {
   "cell_type": "code",
   "execution_count": null,
   "metadata": {},
   "outputs": [],
   "source": []
  },
  {
   "cell_type": "code",
   "execution_count": null,
   "metadata": {},
   "outputs": [],
   "source": []
  },
  {
   "cell_type": "code",
   "execution_count": 253,
   "metadata": {},
   "outputs": [],
   "source": [
    "toy_cavs = []\n",
    "original_CAV = this_cav\n",
    "\n",
    "for idx in range(100):  \n",
    "    new_lm = linear_model.SGDClassifier(alpha=.1,random_state=idx)        \n",
    "    new_lm.fit(x_train_new,y_train_new)\n",
    "    cav_params = new_lm.coef_[0]\n",
    "\n",
    "    sim = euclidean_distance(vec_norm(cav_params),vec_norm(original_CAV))\n",
    "    cosine_sim = cosine_similarity(cav_params,original_CAV)\n",
    "    toy_cavs.append([idx,new_lm,sim,cosine_sim,x_point])\n",
    "        \n",
    "cavs_sims = np.array([a[2] for a in toy_cavs])\n",
    "cos_sims = np.array([a[3] for a in toy_cavs]) "
   ]
  },
  {
   "cell_type": "code",
   "execution_count": 254,
   "metadata": {},
   "outputs": [
    {
     "data": {
      "text/plain": [
       "50"
      ]
     },
     "execution_count": 254,
     "metadata": {},
     "output_type": "execute_result"
    }
   ],
   "source": [
    "cos_sims.argmin()"
   ]
  },
  {
   "cell_type": "code",
   "execution_count": 255,
   "metadata": {},
   "outputs": [
    {
     "data": {
      "text/plain": [
       "array([[0.69314482, 0.42973178]])"
      ]
     },
     "execution_count": 255,
     "metadata": {},
     "output_type": "execute_result"
    }
   ],
   "source": [
    "toy_cavs[33][1].coef_"
   ]
  },
  {
   "cell_type": "code",
   "execution_count": 232,
   "metadata": {},
   "outputs": [],
   "source": [
    "#cos_sims"
   ]
  },
  {
   "cell_type": "code",
   "execution_count": 258,
   "metadata": {},
   "outputs": [
    {
     "data": {
      "image/png": "[encoded data removed]",
      "text/plain": [
       "<Figure size 360x360 with 1 Axes>"
      ]
     },
     "metadata": {},
     "output_type": "display_data"
    }
   ],
   "source": [
    "idx = 50\n",
    "lm = toy_cavs[idx][1]\n",
    "this_cav = toy_cavs[idx][1].coef_[0]\n",
    "\n",
    "\n",
    "light_blue, light_red = '#b3b8fb', '#f6889f'\n",
    "fig = plt.figure(figsize=[5,5])\n",
    "\n",
    "# train\n",
    "color_train = ['red' if y == 1 else 'blue' for y in y_train]\n",
    "plt.scatter(x_train[:,0], x_train[:,1], color = color_train, alpha = .7,linewidths=0,s=50)\n",
    "\n",
    "ax = plt.gca()\n",
    "radius = 1.5\n",
    "circ = plt.Circle((-6,6), radius=radius, edgecolor='black', facecolor='white',zorder=4,alpha=.8)\n",
    "ax.add_patch(circ)\n",
    "\n",
    "arrow_start = [-6,6]\n",
    "cav_norm = vec_norm(this_cav) * radius\n",
    "my_arrow = plt.arrow(arrow_start[0], arrow_start[1], cav_norm[0], cav_norm[1],width=.05,length_includes_head=True,head_width=.4,fc='k', ec=None, alpha = 1,zorder=5)\n",
    "a0 = ax.add_patch(my_arrow)\n",
    "\n",
    "c0,c1 = lm.coef_[0]\n",
    "b = lm.intercept_\n",
    "x_ = np.linspace(-10,10,100)\n",
    "y_ = (-c0/c1)*x_-b/c1\n",
    "plt.plot(x_, y_, 'k')\n",
    "\n",
    "\n",
    "xx = np.linspace(-8,8, 10)\n",
    "yy = np.linspace(-8,8, 10)\n",
    "X1, X2 = np.meshgrid(xx, yy)\n",
    "Z = np.empty(X1.shape)\n",
    "for (i, j), val in np.ndenumerate(X1):\n",
    "    x1 = val\n",
    "    x2 = X2[i, j]\n",
    "    p = lm.decision_function([[x1, x2]])\n",
    "    Z[i, j] = p[0]\n",
    "levels = [-1.0, 0.0, 1.0]\n",
    "linestyles = ['dashed', 'solid', 'dashed']\n",
    "colors = 'k'\n",
    "plt.contour(X1, X2, Z, levels, colors=colors, linestyles=linestyles)\n",
    "\n",
    "my_xlim = plt.xlim([-8,8])\n",
    "my_ylim = plt.ylim([-8,8])\n",
    "\n",
    "_,_ = plt.xticks([], []),plt.yticks([], [])\n",
    "plt.savefig('new_figs/sgd_2.png',dpi=200)"
   ]
  },
  {
   "cell_type": "code",
   "execution_count": null,
   "metadata": {},
   "outputs": [],
   "source": []
  },
  {
   "cell_type": "code",
   "execution_count": null,
   "metadata": {},
   "outputs": [],
   "source": []
  },
  {
   "cell_type": "code",
   "execution_count": 220,
   "metadata": {},
   "outputs": [],
   "source": [
    "## Use Center of Mass"
   ]
  },
  {
   "cell_type": "code",
   "execution_count": 489,
   "metadata": {},
   "outputs": [
    {
     "data": {
      "image/png": "[encoded data removed]",
      "text/plain": [
       "<Figure size 360x360 with 1 Axes>"
      ]
     },
     "metadata": {},
     "output_type": "display_data"
    }
   ],
   "source": [
    "x_train, x_test, y_train, y_test = train_test_split(x, y, test_size=0.33, stratify=y, random_state=3)\n",
    "\n",
    "x_train_p_list,x_train_n_list =[],[]\n",
    "for idx,a in enumerate(x_train):\n",
    "    if y_train[idx] == 1:\n",
    "        x_train_p_list.append(a)\n",
    "    else:\n",
    "        x_train_n_list.append(a)\n",
    "\n",
    "x_train_p, x_train_n = np.array(x_train_p_list),np.array(x_train_n_list)\n",
    "\n",
    "mu_p = (x_train_p).mean(axis=0)\n",
    "mu_n = (x_train_n).mean(axis=0)\n",
    "\n",
    "mu_orig = mu_p\n",
    "\n",
    "this_cav =  mu_p - mu_n\n",
    "\n",
    "light_blue, light_red = '#b3b8fb', '#f6889f'\n",
    "fig = plt.figure(figsize=[5,5])\n",
    "\n",
    "# train\n",
    "color_train = ['red' if y == 1 else 'blue' for y in y_train]\n",
    "plt.scatter(x_train[:,0], x_train[:,1], color = color_train, alpha = .7,linewidths=0,s=50)\n",
    "\n",
    "ax = plt.gca()\n",
    "radius = 1.5\n",
    "circ = plt.Circle((-6,6), radius=radius, edgecolor='black', facecolor='white',zorder=4,alpha=.8)\n",
    "ax.add_patch(circ)\n",
    "\n",
    "arrow_start = [-6,6]\n",
    "cav_norm = vec_norm(this_cav) * radius\n",
    "my_arrow = plt.arrow(arrow_start[0], arrow_start[1], cav_norm[0], cav_norm[1],width=.05,length_includes_head=True,head_width=.4,fc='k', ec=None, alpha = 1,zorder=5)\n",
    "a0 = ax.add_patch(my_arrow)\n",
    "\n",
    "c0,c1 = this_cav[0],this_cav[1]\n",
    "b = -.5 * (np.dot(mu_p,mu_p.T) - np.dot(mu_n,mu_n.T))\n",
    "x_ = np.linspace(-10,10,100)\n",
    "y_ = (-c0/c1)*x_-b/c1\n",
    "plt.plot(x_, y_, 'k')\n",
    "\n",
    "my_xlim = plt.xlim([-8,8])\n",
    "my_ylim = plt.ylim([-8,8])\n",
    "\n",
    "_,_ = plt.xticks([], []),plt.yticks([], [])\n",
    "plt.savefig('new_figs/L1_1.png',dpi=200)"
   ]
  },
  {
   "cell_type": "code",
   "execution_count": 472,
   "metadata": {},
   "outputs": [
    {
     "data": {
      "text/plain": [
       "(67, 2)"
      ]
     },
     "execution_count": 472,
     "metadata": {},
     "output_type": "execute_result"
    }
   ],
   "source": [
    "x_train.shape"
   ]
  },
  {
   "cell_type": "code",
   "execution_count": null,
   "metadata": {},
   "outputs": [],
   "source": [
    "cav_seeds = np.empty((100,2))\n",
    "int_ = np.empty((100,1))\n",
    "\n",
    "for seed in range(100):\n",
    "    lm = linear_model.SGDClassifier(alpha=.1,random_state=seed)\n",
    "    lm.fit(x_train, y_train)\n",
    "    cav_seeds[seed] =  -lm.coef_[0]\n",
    "    int_[seed] = lm.intercept_\n",
    "cav_params = cav_seeds.mean(axis=0)\n",
    "int_param = int_.mean(axis=0)"
   ]
  },
  {
   "cell_type": "code",
   "execution_count": null,
   "metadata": {},
   "outputs": [],
   "source": []
  },
  {
   "cell_type": "code",
   "execution_count": 491,
   "metadata": {},
   "outputs": [],
   "source": [
    "toy_cavs = []\n",
    "original_CAV = this_cav\n",
    "\n",
    "for idx, x_point in enumerate(x_train):\n",
    "    if y_train[idx]==1:\n",
    "        x_train_new = np.delete(x_train, idx, axis=0)\n",
    "        y_train_new = np.delete(y_train, idx, axis=0)\n",
    "        \n",
    "        x_train_p_list,x_train_n_list =[],[]\n",
    "        for idx_2,a in enumerate(x_train_new):\n",
    "            if y_train_new[idx_2] == 1:\n",
    "                x_train_p_list.append(a)\n",
    "            else:\n",
    "                x_train_n_list.append(a)\n",
    "\n",
    "        x_train_p, x_train_n = np.array(x_train_p_list),np.array(x_train_n_list)\n",
    "\n",
    "        mu_p = (x_train_p).mean(axis=0)\n",
    "        mu_n = (x_train_n).mean(axis=0)\n",
    "\n",
    "        cav_params =  mu_p - mu_n\n",
    "                        \n",
    "        sim = euclidean_distance(vec_norm(cav_params),vec_norm(original_CAV))\n",
    "        cosine_sim = cosine_similarity(cav_params,original_CAV)\n",
    "        dist = euclidean_distance(mu_p,x_point)\n",
    "        toy_cavs.append([idx,cav_params,sim,cosine_sim,x_point,dist])\n",
    "        \n",
    "cavs_sims = np.array([a[2] for a in toy_cavs])\n",
    "cos_sims = np.array([a[3] for a in toy_cavs]) \n",
    "dist = np.array([a[5] for a in toy_cavs]) "
   ]
  },
  {
   "cell_type": "code",
   "execution_count": 492,
   "metadata": {},
   "outputs": [
    {
     "data": {
      "text/plain": [
       "array([0.65100579, 0.28468247, 4.3413406 , 0.63262743, 3.88367368,\n",
       "       1.62514317, 1.62096435, 5.3253434 , 2.85065834, 3.88903303,\n",
       "       2.12937744, 2.25435808, 2.83122819, 1.48286107, 1.37538418,\n",
       "       0.82596562, 2.82024051, 3.13292462, 0.6986103 , 1.37530676,\n",
       "       1.11475729, 1.50965053, 4.08407821, 0.40731814, 0.39097509,\n",
       "       2.33569534, 2.10549345, 1.1345869 , 1.3375743 , 5.96966954,\n",
       "       5.42647029, 0.73142867, 1.52538834, 2.27690452])"
      ]
     },
     "execution_count": 492,
     "metadata": {},
     "output_type": "execute_result"
    }
   ],
   "source": [
    "dist"
   ]
  },
  {
   "cell_type": "code",
   "execution_count": 495,
   "metadata": {},
   "outputs": [
    {
     "data": {
      "text/plain": [
       "29"
      ]
     },
     "execution_count": 495,
     "metadata": {},
     "output_type": "execute_result"
    }
   ],
   "source": [
    "dist.argmax()"
   ]
  },
  {
   "cell_type": "code",
   "execution_count": 496,
   "metadata": {},
   "outputs": [
    {
     "data": {
      "text/plain": [
       "(array([ 7, 16, 29]),)"
      ]
     },
     "execution_count": 496,
     "metadata": {},
     "output_type": "execute_result"
    }
   ],
   "source": [
    "np.where(cos_sims<.99999)"
   ]
  },
  {
   "cell_type": "code",
   "execution_count": 497,
   "metadata": {},
   "outputs": [
    {
     "data": {
      "text/plain": [
       "array([7.0456903 , 7.21709997])"
      ]
     },
     "execution_count": 497,
     "metadata": {},
     "output_type": "execute_result"
    }
   ],
   "source": [
    "this_lm"
   ]
  },
  {
   "cell_type": "code",
   "execution_count": 498,
   "metadata": {},
   "outputs": [
    {
     "data": {
      "image/png": "[encoded data removed]",
      "text/plain": [
       "<Figure size 360x360 with 1 Axes>"
      ]
     },
     "metadata": {},
     "output_type": "display_data"
    }
   ],
   "source": [
    "i = 29\n",
    "this_lm = toy_cavs[i][1]\n",
    "\n",
    "idx = toy_cavs[i][0]\n",
    "this_cav = this_lm\n",
    "\n",
    "x_train_new = np.delete(x_train, idx, axis=0)\n",
    "y_train_new = np.delete(y_train, idx, axis=0)\n",
    "\n",
    "light_blue, light_red = '#b3b8fb', '#f6889f'\n",
    "fig = plt.figure(figsize=[5,5])\n",
    "\n",
    "# train\n",
    "color_train = ['red' if y == 1 else 'blue' for y in y_train_new]\n",
    "plt.scatter(x_train_new[:,0], x_train_new[:,1], color = color_train, alpha = .7,linewidths=0,s=50)\n",
    "\n",
    "plt.scatter(x_train[idx,0], x_train[idx,1], color = 'k', alpha = 1, marker='x')\n",
    "\n",
    "ax = plt.gca()\n",
    "radius = 1.5\n",
    "circ = plt.Circle((-6,6), radius=radius, edgecolor='black', facecolor='white',zorder=4,alpha=.8)\n",
    "ax.add_patch(circ)\n",
    "\n",
    "arrow_start = [-6,6]\n",
    "cav_norm = vec_norm(this_cav) * radius\n",
    "my_arrow = plt.arrow(arrow_start[0], arrow_start[1], cav_norm[0], cav_norm[1],width=.05,length_includes_head=True,head_width=.4,fc='k', ec=None, alpha = 1,zorder=5)\n",
    "a0 = ax.add_patch(my_arrow)\n",
    "\n",
    "c0,c1 = this_cav[0],this_cav[1]\n",
    "b = -.5 * (np.dot(mu_p,mu_p.T) - np.dot(mu_n,mu_n.T))\n",
    "x_ = np.linspace(-10,10,100)\n",
    "y_ = (-c0/c1)*x_-b/c1\n",
    "plt.plot(x_, y_, 'k')\n",
    "\n",
    "my_xlim = plt.xlim([-8,8])\n",
    "my_ylim = plt.ylim([-8,8])\n",
    "\n",
    "_,_ = plt.xticks([], []),plt.yticks([], [])\n",
    "plt.savefig('new_figs/mean_updated.png',dpi=200)"
   ]
  },
  {
   "cell_type": "markdown",
   "metadata": {},
   "source": [
    "## Show Mean"
   ]
  },
  {
   "cell_type": "code",
   "execution_count": 261,
   "metadata": {},
   "outputs": [
    {
     "data": {
      "text/plain": [
       "array([2.96552379, 3.053528  ])"
      ]
     },
     "execution_count": 261,
     "metadata": {},
     "output_type": "execute_result"
    }
   ],
   "source": [
    "mu_p"
   ]
  },
  {
   "cell_type": "code",
   "execution_count": 270,
   "metadata": {},
   "outputs": [
    {
     "data": {
      "image/png": "[encoded data removed]",
      "text/plain": [
       "<Figure size 360x360 with 1 Axes>"
      ]
     },
     "metadata": {},
     "output_type": "display_data"
    }
   ],
   "source": [
    "x_train, x_test, y_train, y_test = train_test_split(x, y, test_size=0.33, stratify=y, random_state=3)\n",
    "\n",
    "x_train_p_list,x_train_n_list =[],[]\n",
    "for idx,a in enumerate(x_train):\n",
    "    if y_train[idx] == 1:\n",
    "        x_train_p_list.append(a)\n",
    "    else:\n",
    "        x_train_n_list.append(a)\n",
    "\n",
    "x_train_p, x_train_n = np.array(x_train_p_list),np.array(x_train_n_list)\n",
    "\n",
    "mu_p = (x_train_p).mean(axis=0)\n",
    "mu_n = (x_train_n).mean(axis=0)\n",
    "\n",
    "this_cav =  mu_p - mu_n\n",
    "\n",
    "light_blue, light_red = '#b3b8fb', '#f6889f'\n",
    "fig = plt.figure(figsize=[5,5])\n",
    "\n",
    "# train\n",
    "color_train = ['red' if y == 1 else 'blue' for y in y_train]\n",
    "plt.scatter(x_train[:,0], x_train[:,1], color = color_train, alpha = .1,linewidths=0,s=50)\n",
    "\n",
    "\n",
    "plt.scatter(mu_p[0], mu_p[1], color = 'white', alpha = .7,linewidths=2,s=50,edgecolor='k')\n",
    "plt.scatter(mu_n[0], mu_n[1], color = 'white', alpha = .7,linewidths=2,s=50,edgecolor='k')\n",
    "\n",
    "\n",
    "ax = plt.gca()\n",
    "radius = 1.5\n",
    "circ = plt.Circle((-6,6), radius=radius, edgecolor='black', facecolor='white',zorder=4,alpha=.8)\n",
    "ax.add_patch(circ)\n",
    "\n",
    "arrow_start = [-6,6]\n",
    "cav_norm = vec_norm(this_cav) * radius\n",
    "my_arrow = plt.arrow(arrow_start[0], arrow_start[1], cav_norm[0], cav_norm[1],width=.05,length_includes_head=True,head_width=.4,fc='k', ec=None, alpha = 1,zorder=5)\n",
    "a0 = ax.add_patch(my_arrow)\n",
    "\n",
    "\n",
    "my_arrow = plt.arrow(mu_n[0], mu_n[1], this_cav[0], this_cav[1],width=.05,length_includes_head=True,head_width=.4,fc='k', ec=None, alpha = 1,zorder=5)\n",
    "a0 = ax.add_patch(my_arrow)\n",
    "\n",
    "c0,c1 = this_cav[0],this_cav[1]\n",
    "b = -.5 * (np.dot(mu_p,mu_p.T) - np.dot(mu_n,mu_n.T))\n",
    "x_ = np.linspace(-10,10,100)\n",
    "y_ = (-c0/c1)*x_-b/c1\n",
    "plt.plot(x_, y_, 'k',alpha=.1)\n",
    "\n",
    "my_xlim = plt.xlim([-8,8])\n",
    "my_ylim = plt.ylim([-8,8])\n",
    "\n",
    "_,_ = plt.xticks([], []),plt.yticks([], [])\n",
    "plt.savefig('new_figs/L1_2.png',dpi=200)"
   ]
  },
  {
   "cell_type": "code",
   "execution_count": null,
   "metadata": {},
   "outputs": [],
   "source": []
  },
  {
   "cell_type": "markdown",
   "metadata": {},
   "source": [
    "## Logistic"
   ]
  },
  {
   "cell_type": "code",
   "execution_count": 285,
   "metadata": {},
   "outputs": [],
   "source": [
    "lm = linear_model.LogisticRegression()"
   ]
  },
  {
   "cell_type": "code",
   "execution_count": 292,
   "metadata": {},
   "outputs": [
    {
     "data": {
      "image/png": "[encoded data removed]",
      "text/plain": [
       "<Figure size 360x360 with 1 Axes>"
      ]
     },
     "metadata": {},
     "output_type": "display_data"
    }
   ],
   "source": [
    "x_train, x_test, y_train, y_test = train_test_split(x, y, test_size=0.33, stratify=y, random_state=3)\n",
    "lm.fit(x_train,y_train)\n",
    "this_cav = lm.coef_[0]\n",
    "\n",
    "light_blue, light_red = '#b3b8fb', '#f6889f'\n",
    "fig = plt.figure(figsize=[5,5])\n",
    "\n",
    "# train\n",
    "color_train = ['red' if y == 1 else 'blue' for y in y_train]\n",
    "plt.scatter(x_train[:,0], x_train[:,1], color = color_train,alpha=.7,linewidths=0,s=50)\n",
    "\n",
    "ax = plt.gca()\n",
    "radius = 1.5\n",
    "circ = plt.Circle((-6,6), radius=radius, edgecolor='black', facecolor='white',zorder=4,alpha=.8)\n",
    "ax.add_patch(circ)\n",
    "\n",
    "arrow_start = [-6,6]\n",
    "cav_norm = vec_norm(this_cav) * radius\n",
    "my_arrow = plt.arrow(arrow_start[0], arrow_start[1], cav_norm[0], cav_norm[1],width=.05,length_includes_head=True,head_width=.4,fc='k', ec=None, alpha = 1,zorder=5)\n",
    "a0 = ax.add_patch(my_arrow)\n",
    "\n",
    "c0,c1 = lm.coef_[0]\n",
    "b = lm.intercept_\n",
    "x_ = np.linspace(-10,10,100)\n",
    "y_ = (-c0/c1)*x_-b/c1\n",
    "plt.plot(x_, y_, 'k')\n",
    "\n",
    "my_xlim = plt.xlim([-8,8])\n",
    "my_ylim = plt.ylim([-8,8])\n",
    "\n",
    "_,_ = plt.xticks([], []),plt.yticks([], [])\n",
    "plt.savefig('new_figs/svm_0.png',dpi=200)"
   ]
  },
  {
   "cell_type": "code",
   "execution_count": 296,
   "metadata": {},
   "outputs": [
    {
     "data": {
      "text/plain": [
       "array([1.33225111, 0.42899329])"
      ]
     },
     "execution_count": 296,
     "metadata": {},
     "output_type": "execute_result"
    }
   ],
   "source": [
    "lm.coef_[0]"
   ]
  },
  {
   "cell_type": "code",
   "execution_count": 293,
   "metadata": {},
   "outputs": [
    {
     "data": {
      "text/plain": [
       "array([1.33225111, 0.42899329])"
      ]
     },
     "execution_count": 293,
     "metadata": {},
     "output_type": "execute_result"
    }
   ],
   "source": [
    "this_cav"
   ]
  },
  {
   "cell_type": "code",
   "execution_count": null,
   "metadata": {},
   "outputs": [],
   "source": [
    "cav_seeds = np.empty((100,2))\n",
    "int_ = np.empty((100,1))\n",
    "\n",
    "for seed in range(100):\n",
    "    lm = linear_model.SGDClassifier(alpha=.1,random_state=seed)\n",
    "    lm.fit(x_train, y_train)\n",
    "    cav_seeds[seed] =  -lm.coef_[0]\n",
    "    int_[seed] = lm.intercept_\n",
    "cav_params = cav_seeds.mean(axis=0)\n",
    "int_param = int_.mean(axis=0)"
   ]
  },
  {
   "cell_type": "code",
   "execution_count": 58,
   "metadata": {},
   "outputs": [],
   "source": [
    "original_CAV = cav_params"
   ]
  },
  {
   "cell_type": "code",
   "execution_count": 61,
   "metadata": {},
   "outputs": [],
   "source": [
    "\n",
    "\n",
    "toy_cavs = []\n",
    "#original_CAV = cav_params\n",
    "\n",
    "for idx, x_point in enumerate(x_train):\n",
    "    if y_train[idx]==1:\n",
    "        x_train_new = np.delete(x_train, idx, axis=0)\n",
    "        y_train_new = np.delete(y_train, idx, axis=0)\n",
    "        \n",
    "        #new_lm = linear_model.LogisticRegression()       \n",
    "        #new_lm.fit(x_train_new,y_train_new)\n",
    "        #cav_params = new_lm.coef_[0]\n",
    "        \n",
    "        cav_seeds = np.empty((100,2))\n",
    "        int_ = np.empty((100,1))\n",
    "\n",
    "        for seed in range(100):\n",
    "            lm = linear_model.SGDClassifier(alpha=.1,random_state=seed)\n",
    "            lm.fit(x_train_new, y_train_new)\n",
    "            cav_seeds[seed] =  -lm.coef_[0]\n",
    "            int_[seed] = lm.intercept_\n",
    "        cav_params = cav_seeds.mean(axis=0)\n",
    "        \n",
    "        sim = euclidean_distance(vec_norm(cav_params),vec_norm(original_CAV))\n",
    "        cosine_sim = cosine_similarity(cav_params,original_CAV)\n",
    "        toy_cavs.append([idx,lm,sim,cosine_sim,x_point])\n",
    "        \n",
    "cavs_sims = np.array([a[2] for a in toy_cavs])\n",
    "cos_sims = np.array([a[3] for a in toy_cavs]) "
   ]
  },
  {
   "cell_type": "code",
   "execution_count": 62,
   "metadata": {},
   "outputs": [
    {
     "data": {
      "text/plain": [
       "array([0.99974426, 0.99977879, 0.99968264, 0.99962187, 0.99955687,\n",
       "       0.99969909, 0.99969473, 0.9996934 , 0.99972632, 0.99990765,\n",
       "       0.9999965 , 0.99984021, 0.99900608, 0.9994752 , 0.99944726,\n",
       "       0.99957135, 0.99983707, 0.99983707, 0.99991232, 0.99990654,\n",
       "       0.99998015, 0.99999413, 0.99967365, 0.99998839, 0.99998837,\n",
       "       0.99996997, 0.99998005, 0.99996977, 0.99998372, 0.97285431,\n",
       "       0.99977362, 0.99999789, 0.99997851, 0.99998001])"
      ]
     },
     "execution_count": 62,
     "metadata": {},
     "output_type": "execute_result"
    }
   ],
   "source": [
    "cos_sims"
   ]
  },
  {
   "cell_type": "code",
   "execution_count": 63,
   "metadata": {},
   "outputs": [
    {
     "data": {
      "text/plain": [
       "29"
      ]
     },
     "execution_count": 63,
     "metadata": {},
     "output_type": "execute_result"
    }
   ],
   "source": [
    "cos_sims.argmin()"
   ]
  },
  {
   "cell_type": "code",
   "execution_count": 64,
   "metadata": {},
   "outputs": [
    {
     "data": {
      "image/png": "[encoded data removed]",
      "text/plain": [
       "<Figure size 360x360 with 1 Axes>"
      ]
     },
     "metadata": {},
     "output_type": "display_data"
    }
   ],
   "source": [
    "i = 29\n",
    "lm = toy_cavs[i][1]\n",
    "\n",
    "idx = toy_cavs[i][0]\n",
    "this_cav = lm.coef_[0]\n",
    "\n",
    "x_train_new = np.delete(x_train, idx, axis=0)\n",
    "y_train_new = np.delete(y_train, idx, axis=0)\n",
    "\n",
    "light_blue, light_red = '#b3b8fb', '#f6889f'\n",
    "fig = plt.figure(figsize=[5,5])\n",
    "\n",
    "# train\n",
    "color_train = ['red' if y == 1 else 'blue' for y in y_train_new]\n",
    "plt.scatter(x_train_new[:,0], x_train_new[:,1], color = color_train, alpha = .7,linewidths=0,s=50)\n",
    "\n",
    "plt.scatter(x_train[idx,0], x_train[idx,1], color = 'k', alpha = 1, marker='x')\n",
    "\n",
    "\n",
    "ax = plt.gca()\n",
    "radius = 1.5\n",
    "circ = plt.Circle((-6,6), radius=radius, edgecolor='black', facecolor='white',zorder=4,alpha=.8)\n",
    "ax.add_patch(circ)\n",
    "\n",
    "arrow_start = [-6,6]\n",
    "cav_norm = vec_norm(this_cav) * radius\n",
    "my_arrow = plt.arrow(arrow_start[0], arrow_start[1], cav_norm[0], cav_norm[1],width=.05,length_includes_head=True,head_width=.4,fc='k', ec=None, alpha = 1,zorder=5)\n",
    "a0 = ax.add_patch(my_arrow)\n",
    "\n",
    "c0,c1 = lm.coef_[0]\n",
    "b = lm.intercept_\n",
    "x_ = np.linspace(-10,10,100)\n",
    "y_ = (-c0/c1)*x_-b/c1\n",
    "plt.plot(x_, y_, 'k')\n",
    "\n",
    "my_xlim = plt.xlim([-8,8])\n",
    "my_ylim = plt.ylim([-8,8])\n",
    "\n",
    "_,_ = plt.xticks([], []),plt.yticks([], [])\n",
    "plt.savefig('new_figs/svm_2.png',dpi=200)"
   ]
  },
  {
   "cell_type": "code",
   "execution_count": null,
   "metadata": {},
   "outputs": [],
   "source": []
  },
  {
   "cell_type": "code",
   "execution_count": null,
   "metadata": {},
   "outputs": [],
   "source": []
  },
  {
   "cell_type": "code",
   "execution_count": null,
   "metadata": {},
   "outputs": [],
   "source": []
  },
  {
   "cell_type": "code",
   "execution_count": null,
   "metadata": {},
   "outputs": [],
   "source": []
  },
  {
   "cell_type": "code",
   "execution_count": 11,
   "metadata": {},
   "outputs": [],
   "source": [
    "def vector_norm(vec):\n",
    "    norm_const = math.sqrt(vec[0]*vec[0] + vec[1]*vec[1])\n",
    "    return vec / norm_const\n",
    "\n",
    "def vec_norm(vec):\n",
    "    return  vec / np.linalg.norm(vec)\n",
    "\n",
    "## CAV distance\n",
    "def euclidean_distance(a,b):\n",
    "    return np.linalg.norm(a-b)\n",
    "\n",
    "def cosine_similarity(v1,v2):\n",
    "    # compute cosine similarity of v1 to v2: (v1 dot v2)/{||v1||*||v2||)\n",
    "    sumxx, sumxy, sumyy = 0, 0, 0\n",
    "    for i in range(len(v1)):\n",
    "        x = v1[i]; y = v2[i]\n",
    "        sumxx += x*x\n",
    "        sumyy += y*y\n",
    "        sumxy += x*y\n",
    "    return sumxy / math.sqrt(sumxx*sumyy)"
   ]
  },
  {
   "cell_type": "code",
   "execution_count": null,
   "metadata": {},
   "outputs": [],
   "source": []
  }
 ],
 "metadata": {
  "kernelspec": {
   "display_name": "Python 3",
   "language": "python",
   "name": "python3"
  },
  "language_info": {
   "codemirror_mode": {
    "name": "ipython",
    "version": 3
   },
   "file_extension": ".py",
   "mimetype": "text/x-python",
   "name": "python",
   "nbconvert_exporter": "python",
   "pygments_lexer": "ipython3",
   "version": "3.6.8"
  }
 },
 "nbformat": 4,
 "nbformat_minor": 2
}
