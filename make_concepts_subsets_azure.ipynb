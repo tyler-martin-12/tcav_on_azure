{
 "cells": [
  {
   "cell_type": "code",
   "execution_count": 5,
   "metadata": {
    "collapsed": true
   },
   "outputs": [],
   "source": [
    "import os\n",
    "import numpy as np\n",
    "from shutil import copyfile"
   ]
  },
  {
   "cell_type": "markdown",
   "metadata": {},
   "source": [
    "## copy over all concept images\n",
    "cp -r '/home/tyler/Desktop/data/images/dtd/images/dotted' .\n"
   ]
  },
  {
   "cell_type": "code",
   "execution_count": 24,
   "metadata": {
    "collapsed": true
   },
   "outputs": [],
   "source": [
    "def files_from_dir(a_dir):\n",
    "    onlyfiles = [f for f in os.listdir(a_dir) if os.path.isfile(os.path.join(a_dir, f))]\n",
    "    return onlyfiles"
   ]
  },
  {
   "cell_type": "code",
   "execution_count": 35,
   "metadata": {
    "collapsed": true
   },
   "outputs": [],
   "source": [
    "working_dir = '/home/tam/Desktop/tcav_on_azure/concepts/'\n",
    "concept = 'grid'\n",
    "concept_dir = working_dir + concept\n"
   ]
  },
  {
   "cell_type": "code",
   "execution_count": 36,
   "metadata": {},
   "outputs": [
    {
     "data": {
      "text/plain": [
       "120"
      ]
     },
     "execution_count": 36,
     "metadata": {},
     "output_type": "execute_result"
    }
   ],
   "source": [
    "img_list = files_from_dir(concept_dir)\n",
    "img_list.sort()\n",
    "len(img_list)"
   ]
  },
  {
   "cell_type": "code",
   "execution_count": 37,
   "metadata": {
    "collapsed": true
   },
   "outputs": [],
   "source": [
    "# truncate list\n",
    "img_list = img_list[:100]\n",
    "\n",
    "np.random.shuffle(img_list)\n",
    "\n",
    "subset_1_files = img_list[:50]\n",
    "subset_2_files = img_list[50:]"
   ]
  },
  {
   "cell_type": "code",
   "execution_count": 38,
   "metadata": {
    "collapsed": true
   },
   "outputs": [],
   "source": [
    "path_1 = os.path.join(working_dir, concept + '_sub_1')\n",
    "path_2 = os.path.join(working_dir, concept + '_sub_2')\n",
    "\n",
    "if not os.path.isdir(path_1):\n",
    "    os.mkdir(path_1)\n",
    "\n",
    "if not os.path.isdir(path_2):\n",
    "    os.mkdir(path_2)"
   ]
  },
  {
   "cell_type": "code",
   "execution_count": 39,
   "metadata": {
    "collapsed": true
   },
   "outputs": [],
   "source": [
    "dst_dir = path_1\n",
    "for img_name in subset_1_files:\n",
    "    src = os.path.join(concept_dir,img_name)\n",
    "    dst = os.path.join(dst_dir,img_name)\n",
    "    copyfile(src, dst)\n",
    "\n",
    "dst_dir = path_2\n",
    "for img_name in subset_2_files:\n",
    "    src = os.path.join(concept_dir,img_name)\n",
    "    dst = os.path.join(dst_dir,img_name)\n",
    "    copyfile(src, dst)"
   ]
  },
  {
   "cell_type": "code",
   "execution_count": null,
   "metadata": {
    "collapsed": true
   },
   "outputs": [],
   "source": []
  },
  {
   "cell_type": "code",
   "execution_count": null,
   "metadata": {
    "collapsed": true
   },
   "outputs": [],
   "source": []
  }
 ],
 "metadata": {
  "kernelspec": {
   "display_name": "Python 3",
   "language": "python",
   "name": "python3"
  },
  "language_info": {
   "codemirror_mode": {
    "name": "ipython",
    "version": 3
   },
   "file_extension": ".py",
   "mimetype": "text/x-python",
   "name": "python",
   "nbconvert_exporter": "python",
   "pygments_lexer": "ipython3",
   "version": "3.5.2"
  }
 },
 "nbformat": 4,
 "nbformat_minor": 2
}
